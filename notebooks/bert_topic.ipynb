{
 "cells": [
  {
   "cell_type": "markdown",
   "metadata": {},
   "source": [
    "**About BERTopic**\n",
    "\n",
    "BERTopic was initially introduced in this [paper](https://doi.org/10.48550/arXiv.2203.05794).\n",
    "\n",
    "BERTopic extends the idea of approaching topic modelling as a clustering task by using pre-trained transformer-based language models to embed each document.\n",
    "\n",
    "More specifically, BERTopic generates document embedding with *pre-trained transformer-based language models*, clusters these embeddings using *UMAP* for dimensionality reduction and *HDBSCAN* to generate the clusters, and finally, generates topic representations with a *class-based TF-IDF* procedure.\n",
    "\n",
    "**Running BERTopic on a GPU**\n",
    "\n",
    "*BERTopic* offers GPU support by using the *cuml* package. However, this package can only be installed using the RAPIDS framework that requires itself an install through *conda* or *Docker*.\n",
    "Please check the \"Can I use the GPU to speed up the model?\" section from the [BERTopic FAQ](https://maartengr.github.io/BERTopic/faq.html#how-can-i-run-bertopic-without-an-internet-connection) if you are interested in running the code below on your GPU."
   ]
  },
  {
   "cell_type": "code",
   "execution_count": 11,
   "metadata": {},
   "outputs": [],
   "source": [
    "from pathlib import Path\n",
    "\n",
    "import joblib\n",
    "import matplotlib.pyplot as plt\n",
    "from bertopic import BERTopic\n",
    "\n",
    "from tripadvisor_hotel_reviews_topic_modeling.bert_topic import BERTopicLabel\n",
    "from tripadvisor_hotel_reviews_topic_modeling.data_processing import get_data"
   ]
  },
  {
   "cell_type": "code",
   "execution_count": 2,
   "metadata": {},
   "outputs": [],
   "source": [
    "DATA_DIR = Path().resolve().parent.joinpath(\"data\")"
   ]
  },
  {
   "cell_type": "code",
   "execution_count": 3,
   "metadata": {},
   "outputs": [],
   "source": [
    "df = get_data(\n",
    "    dataset=\"andrewmvd/trip-advisor-hotel-reviews\",\n",
    "    filename=\"tripadvisor_hotel_reviews.csv\",\n",
    ")"
   ]
  },
  {
   "cell_type": "code",
   "execution_count": 4,
   "metadata": {},
   "outputs": [],
   "source": [
    "df.columns = df.columns.str.lower()"
   ]
  },
  {
   "cell_type": "code",
   "execution_count": 5,
   "metadata": {},
   "outputs": [],
   "source": [
    "label_dict = {1: \"negative\", 2: \"negative\", 3: \"neutral\", 4: \"positive\", 5: \"positive\"}\n",
    "df[\"label\"] = df[\"rating\"].map(label_dict)"
   ]
  },
  {
   "cell_type": "markdown",
   "metadata": {},
   "source": [
    "# 1. Data Exploration"
   ]
  },
  {
   "cell_type": "code",
   "execution_count": 6,
   "metadata": {},
   "outputs": [
    {
     "data": {
      "text/html": [
       "<div>\n",
       "<style scoped>\n",
       "    .dataframe tbody tr th:only-of-type {\n",
       "        vertical-align: middle;\n",
       "    }\n",
       "\n",
       "    .dataframe tbody tr th {\n",
       "        vertical-align: top;\n",
       "    }\n",
       "\n",
       "    .dataframe thead th {\n",
       "        text-align: right;\n",
       "    }\n",
       "</style>\n",
       "<table border=\"1\" class=\"dataframe\">\n",
       "  <thead>\n",
       "    <tr style=\"text-align: right;\">\n",
       "      <th></th>\n",
       "      <th>review</th>\n",
       "      <th>rating</th>\n",
       "      <th>label</th>\n",
       "    </tr>\n",
       "  </thead>\n",
       "  <tbody>\n",
       "    <tr>\n",
       "      <th>0</th>\n",
       "      <td>nice hotel expensive parking got good deal sta...</td>\n",
       "      <td>4</td>\n",
       "      <td>positive</td>\n",
       "    </tr>\n",
       "    <tr>\n",
       "      <th>1</th>\n",
       "      <td>ok nothing special charge diamond member hilto...</td>\n",
       "      <td>2</td>\n",
       "      <td>negative</td>\n",
       "    </tr>\n",
       "    <tr>\n",
       "      <th>2</th>\n",
       "      <td>nice rooms not 4* experience hotel monaco seat...</td>\n",
       "      <td>3</td>\n",
       "      <td>neutral</td>\n",
       "    </tr>\n",
       "    <tr>\n",
       "      <th>3</th>\n",
       "      <td>unique, great stay, wonderful time hotel monac...</td>\n",
       "      <td>5</td>\n",
       "      <td>positive</td>\n",
       "    </tr>\n",
       "    <tr>\n",
       "      <th>4</th>\n",
       "      <td>great stay great stay, went seahawk game aweso...</td>\n",
       "      <td>5</td>\n",
       "      <td>positive</td>\n",
       "    </tr>\n",
       "  </tbody>\n",
       "</table>\n",
       "</div>"
      ],
      "text/plain": [
       "                                              review  rating     label\n",
       "0  nice hotel expensive parking got good deal sta...       4  positive\n",
       "1  ok nothing special charge diamond member hilto...       2  negative\n",
       "2  nice rooms not 4* experience hotel monaco seat...       3   neutral\n",
       "3  unique, great stay, wonderful time hotel monac...       5  positive\n",
       "4  great stay great stay, went seahawk game aweso...       5  positive"
      ]
     },
     "execution_count": 6,
     "metadata": {},
     "output_type": "execute_result"
    }
   ],
   "source": [
    "df.head()"
   ]
  },
  {
   "cell_type": "markdown",
   "metadata": {},
   "source": [
    "## 1.1. Rating Distribution"
   ]
  },
  {
   "cell_type": "code",
   "execution_count": 7,
   "metadata": {},
   "outputs": [
    {
     "data": {
      "image/png": "[encoded data removed]",
      "text/plain": [
       "<Figure size 432x288 with 1 Axes>"
      ]
     },
     "metadata": {
      "needs_background": "light"
     },
     "output_type": "display_data"
    }
   ],
   "source": [
    "df[\"rating\"].value_counts(ascending=True).plot.barh()\n",
    "plt.title(\"Frequency of Ratings\")\n",
    "plt.show()"
   ]
  },
  {
   "cell_type": "markdown",
   "metadata": {},
   "source": [
    "## 1.2. Reviews Length"
   ]
  },
  {
   "cell_type": "code",
   "execution_count": 8,
   "metadata": {},
   "outputs": [
    {
     "data": {
      "image/png": "[encoded data removed]",
      "text/plain": [
       "<Figure size 432x288 with 1 Axes>"
      ]
     },
     "metadata": {
      "needs_background": "light"
     },
     "output_type": "display_data"
    }
   ],
   "source": [
    "df[\"words_per_review\"] = df[\"review\"].str.split().apply(len)\n",
    "df.boxplot(\"words_per_review\", by=\"rating\", grid=False, showfliers=False, color=\"black\")\n",
    "plt.suptitle(\"\")\n",
    "plt.xlabel(\"\")\n",
    "plt.show()"
   ]
  },
  {
   "cell_type": "markdown",
   "metadata": {},
   "source": [
    "For each rating most reviews are around 75-80 words long. "
   ]
  },
  {
   "cell_type": "markdown",
   "metadata": {},
   "source": [
    "# 2. BERTopic"
   ]
  },
  {
   "cell_type": "code",
   "execution_count": 9,
   "metadata": {},
   "outputs": [
    {
     "name": "stderr",
     "output_type": "stream",
     "text": [
      "Batches: 100%|██████████| 472/472 [13:30<00:00,  1.72s/it] \n",
      "2022-07-01 19:45:45,551 - BERTopic - Transformed documents to Embeddings\n",
      "OMP: Info #276: omp_set_nested routine deprecated, please use omp_set_max_active_levels instead.\n",
      "2022-07-01 19:46:12,981 - BERTopic - Reduced dimensionality\n",
      "2022-07-01 19:46:20,402 - BERTopic - Clustered reduced embeddings\n",
      "Batches: 100%|██████████| 101/101 [02:53<00:00,  1.72s/it]\n",
      "2022-07-01 19:49:28,353 - BERTopic - Transformed documents to Embeddings\n",
      "2022-07-01 19:49:43,184 - BERTopic - Reduced dimensionality\n",
      "2022-07-01 19:49:43,594 - BERTopic - Clustered reduced embeddings\n"
     ]
    }
   ],
   "source": [
    "topic_model = BERTopic(language=\"english\", calculate_probabilities=True, verbose=True)\n",
    "\n",
    "# for label in df[\"label\"].unique():\n",
    "for label in [\"positive\", \"negative\"]:\n",
    "    df_label = df.loc[df[\"label\"] == label, \"review\"]\n",
    "    df_label = df_label.reset_index(drop=True)\n",
    "    topics_label, probs_label = topic_model.fit_transform(df_label)\n",
    "    joblib.dump(topic_model, DATA_DIR.joinpath(f\"./topic_model_{label}.pkl\"))\n",
    "    joblib.dump(topics_label, DATA_DIR.joinpath(f\"./topics_label_{label}.pkl\"))\n",
    "    joblib.dump(probs_label, DATA_DIR.joinpath(f\"./probs_label_{label}.pkl\"))"
   ]
  },
  {
   "cell_type": "markdown",
   "metadata": {},
   "source": [
    "## 2.1. Getting the topics for negative reviews"
   ]
  },
  {
   "cell_type": "markdown",
   "metadata": {},
   "source": [
    "Not that in the following, topic -1 groups all the \"outliers\", the reviews that couldn't be assigned to a cluster.\n",
    "\n",
    "The *BERTopicLabel* object also generates the topic model, topic labels and probs object from the seraliased file to avoid having to retrain each time the kernel gets restarted."
   ]
  },
  {
   "cell_type": "code",
   "execution_count": 12,
   "metadata": {},
   "outputs": [
    {
     "ename": "FileNotFoundError",
     "evalue": "[Errno 2] No such file or directory: '/Users/anita.clementrvu.co.uk/github/data/topic_model_negative.pkl'",
     "output_type": "error",
     "traceback": [
      "\u001b[0;31m---------------------------------------------------------------------------\u001b[0m",
      "\u001b[0;31mFileNotFoundError\u001b[0m                         Traceback (most recent call last)",
      "\u001b[1;32m/Users/anita.clementrvu.co.uk/github/tripadvisor-hotel-reviews-topic-modeling/notebooks/bert_topic.ipynb Cell 18'\u001b[0m in \u001b[0;36m<cell line: 1>\u001b[0;34m()\u001b[0m\n\u001b[0;32m----> <a href='vscode-notebook-cell:/Users/anita.clementrvu.co.uk/github/tripadvisor-hotel-reviews-topic-modeling/notebooks/bert_topic.ipynb#ch0000017?line=0'>1</a>\u001b[0m bert_topic_label \u001b[39m=\u001b[39m BERTopicLabel(label\u001b[39m=\u001b[39;49m\u001b[39m\"\u001b[39;49m\u001b[39mnegative\u001b[39;49m\u001b[39m\"\u001b[39;49m, data\u001b[39m=\u001b[39;49mdf)\n",
      "File \u001b[0;32m~/github/tripadvisor-hotel-reviews-topic-modeling/src/tripadvisor_hotel_reviews_topic_modeling/bert_topic.py:38\u001b[0m, in \u001b[0;36mBERTopicLabel.__init__\u001b[0;34m(self, label, data, *args, **kwargs)\u001b[0m\n\u001b[1;32m     33\u001b[0m \u001b[39mself\u001b[39m\u001b[39m.\u001b[39mlabel \u001b[39m=\u001b[39m label\n\u001b[1;32m     34\u001b[0m \u001b[39mself\u001b[39m\u001b[39m.\u001b[39mreview_label \u001b[39m=\u001b[39m \u001b[39mself\u001b[39m\u001b[39m.\u001b[39mdata\u001b[39m.\u001b[39mloc[\n\u001b[1;32m     35\u001b[0m     \u001b[39mself\u001b[39m\u001b[39m.\u001b[39mdata[\u001b[39m\"\u001b[39m\u001b[39mlabel\u001b[39m\u001b[39m\"\u001b[39m] \u001b[39m==\u001b[39m \u001b[39mself\u001b[39m\u001b[39m.\u001b[39mlabel, \u001b[39m\"\u001b[39m\u001b[39mreview\u001b[39m\u001b[39m\"\u001b[39m\n\u001b[1;32m     36\u001b[0m ]\u001b[39m.\u001b[39mreset_index(drop\u001b[39m=\u001b[39m\u001b[39mTrue\u001b[39;00m)\n\u001b[0;32m---> 38\u001b[0m \u001b[39mself\u001b[39m\u001b[39m.\u001b[39mmodel \u001b[39m=\u001b[39m load_object(\u001b[39mf\u001b[39;49m\u001b[39m\"\u001b[39;49m\u001b[39m{\u001b[39;49;00mDATA_DIR\u001b[39m}\u001b[39;49;00m\u001b[39m/topic_model_\u001b[39;49m\u001b[39m{\u001b[39;49;00m\u001b[39mself\u001b[39;49m\u001b[39m.\u001b[39;49mlabel\u001b[39m}\u001b[39;49;00m\u001b[39m.pkl\u001b[39;49m\u001b[39m\"\u001b[39;49m)\n\u001b[1;32m     39\u001b[0m \u001b[39mself\u001b[39m\u001b[39m.\u001b[39mtopics \u001b[39m=\u001b[39m load_object(\u001b[39mf\u001b[39m\u001b[39m\"\u001b[39m\u001b[39m{\u001b[39;00mDATA_DIR\u001b[39m}\u001b[39;00m\u001b[39m/topics_label_\u001b[39m\u001b[39m{\u001b[39;00m\u001b[39mself\u001b[39m\u001b[39m.\u001b[39mlabel\u001b[39m}\u001b[39;00m\u001b[39m.pkl\u001b[39m\u001b[39m\"\u001b[39m)\n\u001b[1;32m     40\u001b[0m \u001b[39mself\u001b[39m\u001b[39m.\u001b[39mprobs \u001b[39m=\u001b[39m load_object(\u001b[39mf\u001b[39m\u001b[39m\"\u001b[39m\u001b[39m{\u001b[39;00mDATA_DIR\u001b[39m}\u001b[39;00m\u001b[39m/probs_label_\u001b[39m\u001b[39m{\u001b[39;00m\u001b[39mself\u001b[39m\u001b[39m.\u001b[39mlabel\u001b[39m}\u001b[39;00m\u001b[39m.pkl\u001b[39m\u001b[39m\"\u001b[39m)\n",
      "File \u001b[0;32m~/github/tripadvisor-hotel-reviews-topic-modeling/src/tripadvisor_hotel_reviews_topic_modeling/utils/file_handler.py:19\u001b[0m, in \u001b[0;36mload_object\u001b[0;34m(file_path)\u001b[0m\n\u001b[1;32m      9\u001b[0m \u001b[39mdef\u001b[39;00m \u001b[39mload_object\u001b[39m(file_path: Union[\u001b[39mstr\u001b[39m, \u001b[39mbytes\u001b[39m, \u001b[39m\"\u001b[39m\u001b[39mPathLike[str]\u001b[39m\u001b[39m\"\u001b[39m]) \u001b[39m-\u001b[39m\u001b[39m>\u001b[39m Any:\n\u001b[1;32m     10\u001b[0m     \u001b[39m\"\"\"Deserialise a Python object.\u001b[39;00m\n\u001b[1;32m     11\u001b[0m \n\u001b[1;32m     12\u001b[0m \u001b[39m    Args:\u001b[39;00m\n\u001b[0;32m   (...)\u001b[0m\n\u001b[1;32m     17\u001b[0m \u001b[39m        A Python object.\u001b[39;00m\n\u001b[1;32m     18\u001b[0m \u001b[39m    \"\"\"\u001b[39;00m\n\u001b[0;32m---> 19\u001b[0m     \u001b[39mreturn\u001b[39;00m joblib\u001b[39m.\u001b[39;49mload(file_path)\n",
      "File \u001b[0;32m~/Library/Caches/pypoetry/virtualenvs/tripadvisor-hotel-reviews-topic-modeling-VksP-CQw-py3.9/lib/python3.9/site-packages/joblib/numpy_pickle.py:579\u001b[0m, in \u001b[0;36mload\u001b[0;34m(filename, mmap_mode)\u001b[0m\n\u001b[1;32m    577\u001b[0m         obj \u001b[39m=\u001b[39m _unpickle(fobj)\n\u001b[1;32m    578\u001b[0m \u001b[39melse\u001b[39;00m:\n\u001b[0;32m--> 579\u001b[0m     \u001b[39mwith\u001b[39;00m \u001b[39mopen\u001b[39;49m(filename, \u001b[39m'\u001b[39;49m\u001b[39mrb\u001b[39;49m\u001b[39m'\u001b[39;49m) \u001b[39mas\u001b[39;00m f:\n\u001b[1;32m    580\u001b[0m         \u001b[39mwith\u001b[39;00m _read_fileobject(f, filename, mmap_mode) \u001b[39mas\u001b[39;00m fobj:\n\u001b[1;32m    581\u001b[0m             \u001b[39mif\u001b[39;00m \u001b[39misinstance\u001b[39m(fobj, \u001b[39mstr\u001b[39m):\n\u001b[1;32m    582\u001b[0m                 \u001b[39m# if the returned file object is a string, this means we\u001b[39;00m\n\u001b[1;32m    583\u001b[0m                 \u001b[39m# try to load a pickle file generated with an version of\u001b[39;00m\n\u001b[1;32m    584\u001b[0m                 \u001b[39m# Joblib so we load it with joblib compatibility function.\u001b[39;00m\n",
      "\u001b[0;31mFileNotFoundError\u001b[0m: [Errno 2] No such file or directory: '/Users/anita.clementrvu.co.uk/github/data/topic_model_negative.pkl'"
     ]
    }
   ],
   "source": [
    "bert_topic_label = BERTopicLabel(label=\"negative\", data=df)"
   ]
  },
  {
   "cell_type": "code",
   "execution_count": null,
   "metadata": {},
   "outputs": [],
   "source": [
    "bert_topic_label.get_number_topic()"
   ]
  },
  {
   "cell_type": "code",
   "execution_count": null,
   "metadata": {},
   "outputs": [],
   "source": [
    "bert_topic_label.get_topn_topic_info(n_topic=10)"
   ]
  },
  {
   "cell_type": "code",
   "execution_count": null,
   "metadata": {},
   "outputs": [],
   "source": [
    "bert_topic_label.get_dendrogram()"
   ]
  },
  {
   "cell_type": "markdown",
   "metadata": {},
   "source": [
    "From the dendrogram above, we could group our topics into 12 main topics (the 2 green ones, the 3 red ones, the 3 light blue ones, the 2 brown ones and the 2 yellow ones)."
   ]
  },
  {
   "cell_type": "code",
   "execution_count": null,
   "metadata": {},
   "outputs": [],
   "source": [
    "bert_topic_label.reduce_topic_number(n_topic=12)"
   ]
  },
  {
   "cell_type": "markdown",
   "metadata": {},
   "source": [
    "We can now get the top 5 words for each topic to try to understand better what each topic is about! "
   ]
  },
  {
   "cell_type": "code",
   "execution_count": null,
   "metadata": {},
   "outputs": [],
   "source": [
    "bert_topic_label.get_barchart_top5words_by_topic()"
   ]
  },
  {
   "cell_type": "markdown",
   "metadata": {},
   "source": [
    "It seems that a lot of reviews were clustered by location (Amsterdam, Barcelona, etc.). \n",
    "\n",
    "We can try to give a name to each topic although it is not always clear from the top 5 words what it is really about. Looking at few examples from each topic could help.\n",
    "- Topic 0: Room & Location\n",
    "- Topic 1: Food & Beach\n",
    "- Topic 2: San Juan & Room \n",
    "- Topic 3: Amsterdam & Room & Location\n",
    "- Topic 4: Noise & Room\n",
    "- Topic 5: Barcelona & Room\n",
    "- Topic 6: Westin Seattle & Room\n",
    "- Topic 7: Singapore & Hong Kong & Room\n",
    "- Topic 8: Room & Disappointment\n",
    "- Topic 9: Dirt & Smell & Room & Bathroom & Shower\n",
    "- Topic 10: Food & Service\n",
    "- Topic 11: Price & Booking"
   ]
  },
  {
   "cell_type": "code",
   "execution_count": null,
   "metadata": {},
   "outputs": [
    {
     "data": {
      "text/plain": [
       "PosixPath('/Users/anita.clementrvu.co.uk/github/tripadvisor-hotel-reviews-topic-modeling/data/topic_model_ok.pkl')"
      ]
     },
     "metadata": {},
     "output_type": "display_data"
    }
   ],
   "source": [
    "negative_reviews_predicted_topic = bert_topic_label.get_topic_review()"
   ]
  },
  {
   "cell_type": "code",
   "execution_count": null,
   "metadata": {},
   "outputs": [],
   "source": [
    "bert_topic_label.get_sample_reviews_for_topic(\n",
    "    topic_review_df=negative_reviews_predicted_topic, topic_nb=11, nb_reviews=3\n",
    ")"
   ]
  },
  {
   "cell_type": "markdown",
   "metadata": {},
   "source": [
    "## 2.2. Getting the topics for positive reviews"
   ]
  },
  {
   "cell_type": "code",
   "execution_count": null,
   "metadata": {},
   "outputs": [],
   "source": [
    "bert_topic_label = BERTopicLabel(label=\"positive\", data=df)"
   ]
  },
  {
   "cell_type": "code",
   "execution_count": null,
   "metadata": {},
   "outputs": [],
   "source": [
    "bert_topic_label.get_number_topic()"
   ]
  },
  {
   "cell_type": "code",
   "execution_count": null,
   "metadata": {},
   "outputs": [],
   "source": [
    "bert_topic_label.get_topn_topic_info(n_topic=10)"
   ]
  },
  {
   "cell_type": "code",
   "execution_count": null,
   "metadata": {},
   "outputs": [],
   "source": [
    "bert_topic_label.get_dendrogram()"
   ]
  },
  {
   "cell_type": "code",
   "execution_count": null,
   "metadata": {},
   "outputs": [],
   "source": [
    "bert_topic_label.reduce_topic_number(n_topic=13)"
   ]
  },
  {
   "cell_type": "code",
   "execution_count": null,
   "metadata": {},
   "outputs": [],
   "source": [
    "bert_topic_label.get_barchart_top5words_by_topic()"
   ]
  },
  {
   "cell_type": "markdown",
   "metadata": {},
   "source": [
    "As for the negative reviews it seems that a lot of reviews were clustered by location (Barcelona, Paris, etc.). \n",
    "\n",
    "We can try to give a name to each topic although it is not always clear from the top 5 words what it is really about. Looking at few examples from each topic could help.\n",
    "- Topic 0: Beach & Food\n",
    "- Topic 1: Barcelona & Ramblas & Food\n",
    "- Topic 2: Paris & Metro & Staff\n",
    "- Topic 3: Florence & Breakfast\n",
    "- Topic 4: NYC\n",
    "- Topic 5: Amsterdam & Location\n",
    "- Topic 6: New Orleans\n",
    "- Topic 7: Location & Staff\n",
    "- Topic 8: Seattle downtown\n",
    "- Topic 9: San Francisco & Location\n",
    "- Topic 10: Sydney & Harbour\n",
    "- Topic 11: London & Tube & Breakfast\n",
    "- Topic 12: Waikiki & Beach view"
   ]
  },
  {
   "cell_type": "code",
   "execution_count": null,
   "metadata": {},
   "outputs": [],
   "source": [
    "positive_reviews_predicted_topic = bert_topic_label.get_topic_review()"
   ]
  },
  {
   "cell_type": "code",
   "execution_count": null,
   "metadata": {},
   "outputs": [],
   "source": [
    "bert_topic_label.get_sample_reviews_for_topic(\n",
    "    topic_review_df=positive_reviews_predicted_topic, topic_nb=0, nb_reviews=3\n",
    ")"
   ]
  }
 ],
 "metadata": {
  "kernelspec": {
   "display_name": "Python 3.9.12 ('tripadvisor-hotel-reviews-topic-modeling-VksP-CQw-py3.9')",
   "language": "python",
   "name": "python3"
  },
  "language_info": {
   "codemirror_mode": {
    "name": "ipython",
    "version": 3
   },
   "file_extension": ".py",
   "mimetype": "text/x-python",
   "name": "python",
   "nbconvert_exporter": "python",
   "pygments_lexer": "ipython3",
   "version": "3.9.12"
  },
  "orig_nbformat": 4,
  "vscode": {
   "interpreter": {
    "hash": "26cbd5b9630dcde87e7501177eba94c03da3ad7c83ad604e21e2e408d400f1e6"
   }
  }
 },
 "nbformat": 4,
 "nbformat_minor": 2
}
