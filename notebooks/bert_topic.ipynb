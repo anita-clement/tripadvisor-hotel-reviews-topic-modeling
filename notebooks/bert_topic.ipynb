{
 "cells": [
  {
   "cell_type": "markdown",
   "metadata": {},
   "source": [
    "**About BERTopic**\n",
    "\n",
    "BERTopic was initially introduced in this [paper](https://doi.org/10.48550/arXiv.2203.05794).\n",
    "\n",
    "BERTopic extends the idea of approaching topic modelling as a clustering task by using pre-trained transformer-based language models to embed each document.\n",
    "\n",
    "More specifically, BERTopic generates document embedding with *pre-trained transformer-based language models*, clusters these embeddings using *UMAP* for dimensionality reduction and *HDBSCAN* to generate the clusters, and finally, generates topic representations with a *class-based TF-IDF* procedure.\n",
    "\n",
    "**Running BERTopic on a GPU**\n",
    "\n",
    "*BERTopic* offers GPU support by using the *cuml* package. However, this package can only be installed using the RAPIDS framework that requires itself an install through *conda* or *Docker*.\n",
    "Please check the \"Can I use the GPU to speed up the model?\" section from the [BERTopic FAQ](https://maartengr.github.io/BERTopic/faq.html#how-can-i-run-bertopic-without-an-internet-connection) if you are interested in running the code below on your GPU."
   ]
  },
  {
   "cell_type": "code",
   "execution_count": 1,
   "metadata": {},
   "outputs": [
    {
     "name": "stderr",
     "output_type": "stream",
     "text": [
      "/Users/anita.clementrvu.co.uk/Library/Caches/pypoetry/virtualenvs/tripadvisor-hotel-reviews-topic-modeling-VksP-CQw-py3.9/lib/python3.9/site-packages/tqdm/auto.py:22: TqdmWarning: IProgress not found. Please update jupyter and ipywidgets. See https://ipywidgets.readthedocs.io/en/stable/user_install.html\n",
      "  from .autonotebook import tqdm as notebook_tqdm\n"
     ]
    }
   ],
   "source": [
    "from pathlib import Path\n",
    "\n",
    "import joblib\n",
    "import matplotlib.pyplot as plt\n",
    "from bertopic import BERTopic\n",
    "\n",
    "from tripadvisor_hotel_reviews_topic_modeling.bert_topic import BERTopicLabel\n",
    "from tripadvisor_hotel_reviews_topic_modeling.data_processing import get_data"
   ]
  },
  {
   "cell_type": "code",
   "execution_count": 2,
   "metadata": {},
   "outputs": [],
   "source": [
    "DATA_DIR = Path().resolve().parent.joinpath(\"data\")"
   ]
  },
  {
   "cell_type": "code",
   "execution_count": 3,
   "metadata": {},
   "outputs": [],
   "source": [
    "df = get_data(\n",
    "    dataset=\"andrewmvd/trip-advisor-hotel-reviews\",\n",
    "    filename=\"tripadvisor_hotel_reviews.csv\",\n",
    ")"
   ]
  },
  {
   "cell_type": "code",
   "execution_count": 4,
   "metadata": {},
   "outputs": [],
   "source": [
    "df.columns = df.columns.str.lower()"
   ]
  },
  {
   "cell_type": "code",
   "execution_count": 5,
   "metadata": {},
   "outputs": [],
   "source": [
    "label_dict = {1: \"negative\", 2: \"negative\", 3: \"neutral\", 4: \"positive\", 5: \"positive\"}\n",
    "df[\"label\"] = df[\"rating\"].map(label_dict)"
   ]
  },
  {
   "cell_type": "markdown",
   "metadata": {},
   "source": [
    "# 1. Data Exploration"
   ]
  },
  {
   "cell_type": "code",
   "execution_count": 6,
   "metadata": {},
   "outputs": [
    {
     "data": {
      "text/html": [
       "<div>\n",
       "<style scoped>\n",
       "    .dataframe tbody tr th:only-of-type {\n",
       "        vertical-align: middle;\n",
       "    }\n",
       "\n",
       "    .dataframe tbody tr th {\n",
       "        vertical-align: top;\n",
       "    }\n",
       "\n",
       "    .dataframe thead th {\n",
       "        text-align: right;\n",
       "    }\n",
       "</style>\n",
       "<table border=\"1\" class=\"dataframe\">\n",
       "  <thead>\n",
       "    <tr style=\"text-align: right;\">\n",
       "      <th></th>\n",
       "      <th>review</th>\n",
       "      <th>rating</th>\n",
       "      <th>label</th>\n",
       "    </tr>\n",
       "  </thead>\n",
       "  <tbody>\n",
       "    <tr>\n",
       "      <th>0</th>\n",
       "      <td>nice hotel expensive parking got good deal sta...</td>\n",
       "      <td>4</td>\n",
       "      <td>positive</td>\n",
       "    </tr>\n",
       "    <tr>\n",
       "      <th>1</th>\n",
       "      <td>ok nothing special charge diamond member hilto...</td>\n",
       "      <td>2</td>\n",
       "      <td>negative</td>\n",
       "    </tr>\n",
       "    <tr>\n",
       "      <th>2</th>\n",
       "      <td>nice rooms not 4* experience hotel monaco seat...</td>\n",
       "      <td>3</td>\n",
       "      <td>neutral</td>\n",
       "    </tr>\n",
       "    <tr>\n",
       "      <th>3</th>\n",
       "      <td>unique, great stay, wonderful time hotel monac...</td>\n",
       "      <td>5</td>\n",
       "      <td>positive</td>\n",
       "    </tr>\n",
       "    <tr>\n",
       "      <th>4</th>\n",
       "      <td>great stay great stay, went seahawk game aweso...</td>\n",
       "      <td>5</td>\n",
       "      <td>positive</td>\n",
       "    </tr>\n",
       "  </tbody>\n",
       "</table>\n",
       "</div>"
      ],
      "text/plain": [
       "                                              review  rating     label\n",
       "0  nice hotel expensive parking got good deal sta...       4  positive\n",
       "1  ok nothing special charge diamond member hilto...       2  negative\n",
       "2  nice rooms not 4* experience hotel monaco seat...       3   neutral\n",
       "3  unique, great stay, wonderful time hotel monac...       5  positive\n",
       "4  great stay great stay, went seahawk game aweso...       5  positive"
      ]
     },
     "execution_count": 6,
     "metadata": {},
     "output_type": "execute_result"
    }
   ],
   "source": [
    "df.head()"
   ]
  },
  {
   "cell_type": "markdown",
   "metadata": {},
   "source": [
    "## 1.1. Rating Distribution"
   ]
  },
  {
   "cell_type": "code",
   "execution_count": 7,
   "metadata": {},
   "outputs": [
    {
     "data": {
      "image/png": "[encoded data removed]",
      "text/plain": [
       "<Figure size 432x288 with 1 Axes>"
      ]
     },
     "metadata": {
      "needs_background": "light"
     },
     "output_type": "display_data"
    }
   ],
   "source": [
    "df[\"rating\"].value_counts(ascending=True).plot.barh()\n",
    "plt.title(\"Frequency of Ratings\")\n",
    "plt.show()"
   ]
  },
  {
   "cell_type": "markdown",
   "metadata": {},
   "source": [
    "## 1.2. Reviews Length"
   ]
  },
  {
   "cell_type": "code",
   "execution_count": 8,
   "metadata": {},
   "outputs": [
    {
     "data": {
      "image/png": "[encoded data removed]",
      "text/plain": [
       "<Figure size 432x288 with 1 Axes>"
      ]
     },
     "metadata": {
      "needs_background": "light"
     },
     "output_type": "display_data"
    }
   ],
   "source": [
    "df[\"words_per_review\"] = df[\"review\"].str.split().apply(len)\n",
    "df.boxplot(\"words_per_review\", by=\"rating\", grid=False, showfliers=False, color=\"black\")\n",
    "plt.suptitle(\"\")\n",
    "plt.xlabel(\"\")\n",
    "plt.show()"
   ]
  },
  {
   "cell_type": "markdown",
   "metadata": {},
   "source": [
    "For each rating most reviews are around 75-80 words long. "
   ]
  },
  {
   "cell_type": "markdown",
   "metadata": {},
   "source": [
    "# 2. BERTopic"
   ]
  },
  {
   "cell_type": "code",
   "execution_count": 9,
   "metadata": {},
   "outputs": [
    {
     "name": "stderr",
     "output_type": "stream",
     "text": [
      "Batches: 100%|██████████| 472/472 [13:30<00:00,  1.72s/it] \n",
      "2022-07-01 19:45:45,551 - BERTopic - Transformed documents to Embeddings\n",
      "OMP: Info #276: omp_set_nested routine deprecated, please use omp_set_max_active_levels instead.\n",
      "2022-07-01 19:46:12,981 - BERTopic - Reduced dimensionality\n",
      "2022-07-01 19:46:20,402 - BERTopic - Clustered reduced embeddings\n",
      "Batches: 100%|██████████| 101/101 [02:53<00:00,  1.72s/it]\n",
      "2022-07-01 19:49:28,353 - BERTopic - Transformed documents to Embeddings\n",
      "2022-07-01 19:49:43,184 - BERTopic - Reduced dimensionality\n",
      "2022-07-01 19:49:43,594 - BERTopic - Clustered reduced embeddings\n"
     ]
    }
   ],
   "source": [
    "topic_model = BERTopic(language=\"english\", calculate_probabilities=True, verbose=True)\n",
    "\n",
    "# for label in df[\"label\"].unique():\n",
    "for label in [\"positive\", \"negative\"]:\n",
    "    df_label = df.loc[df[\"label\"] == label, \"review\"]\n",
    "    df_label = df_label.reset_index(drop=True)\n",
    "    topics_label, probs_label = topic_model.fit_transform(df_label)\n",
    "    joblib.dump(topic_model, DATA_DIR.joinpath(f\"./topic_model_{label}.pkl\"))\n",
    "    joblib.dump(topics_label, DATA_DIR.joinpath(f\"./topics_label_{label}.pkl\"))\n",
    "    joblib.dump(probs_label, DATA_DIR.joinpath(f\"./probs_label_{label}.pkl\"))"
   ]
  },
  {
   "cell_type": "markdown",
   "metadata": {},
   "source": [
    "## 2.1. Getting the topics for negative reviews"
   ]
  },
  {
   "cell_type": "markdown",
   "metadata": {},
   "source": [
    "Not that in the following, topic -1 groups all the \"outliers\", the reviews that couldn't be assigned to a cluster.\n",
    "\n",
    "The *BERTopicLabel* object also generates the topic model, topic labels and probs object from the seraliased file to avoid having to retrain each time the kernel gets restarted."
   ]
  },
  {
   "cell_type": "code",
   "execution_count": 9,
   "metadata": {},
   "outputs": [],
   "source": [
    "bert_topic_label = BERTopicLabel(label=\"negative\", data=df)"
   ]
  },
  {
   "cell_type": "code",
   "execution_count": 10,
   "metadata": {},
   "outputs": [
    {
     "data": {
      "text/plain": [
       "'The total number of topics for the negative reviews is\\n        42 for a total number of 3214 reviews.'"
      ]
     },
     "execution_count": 10,
     "metadata": {},
     "output_type": "execute_result"
    }
   ],
   "source": [
    "bert_topic_label.get_number_topic()"
   ]
  },
  {
   "cell_type": "code",
   "execution_count": 11,
   "metadata": {},
   "outputs": [
    {
     "data": {
      "text/html": [
       "<div>\n",
       "<style scoped>\n",
       "    .dataframe tbody tr th:only-of-type {\n",
       "        vertical-align: middle;\n",
       "    }\n",
       "\n",
       "    .dataframe tbody tr th {\n",
       "        vertical-align: top;\n",
       "    }\n",
       "\n",
       "    .dataframe thead th {\n",
       "        text-align: right;\n",
       "    }\n",
       "</style>\n",
       "<table border=\"1\" class=\"dataframe\">\n",
       "  <thead>\n",
       "    <tr style=\"text-align: right;\">\n",
       "      <th></th>\n",
       "      <th>Topic</th>\n",
       "      <th>Count</th>\n",
       "      <th>Name</th>\n",
       "    </tr>\n",
       "  </thead>\n",
       "  <tbody>\n",
       "    <tr>\n",
       "      <th>0</th>\n",
       "      <td>-1</td>\n",
       "      <td>1490</td>\n",
       "      <td>-1_room_not_hotel_no</td>\n",
       "    </tr>\n",
       "    <tr>\n",
       "      <th>1</th>\n",
       "      <td>0</td>\n",
       "      <td>288</td>\n",
       "      <td>0_resort_punta_cana_not</td>\n",
       "    </tr>\n",
       "    <tr>\n",
       "      <th>2</th>\n",
       "      <td>1</td>\n",
       "      <td>131</td>\n",
       "      <td>1_hotel_rooms_room_small</td>\n",
       "    </tr>\n",
       "    <tr>\n",
       "      <th>3</th>\n",
       "      <td>2</td>\n",
       "      <td>102</td>\n",
       "      <td>2_juan_san_hotel_puerto</td>\n",
       "    </tr>\n",
       "    <tr>\n",
       "      <th>4</th>\n",
       "      <td>3</td>\n",
       "      <td>92</td>\n",
       "      <td>3_amsterdam_room_hotel_location</td>\n",
       "    </tr>\n",
       "    <tr>\n",
       "      <th>5</th>\n",
       "      <td>4</td>\n",
       "      <td>79</td>\n",
       "      <td>4_noise_noisy_hotel_street</td>\n",
       "    </tr>\n",
       "    <tr>\n",
       "      <th>6</th>\n",
       "      <td>5</td>\n",
       "      <td>78</td>\n",
       "      <td>5_barcelona_hotel_room_not</td>\n",
       "    </tr>\n",
       "    <tr>\n",
       "      <th>7</th>\n",
       "      <td>6</td>\n",
       "      <td>63</td>\n",
       "      <td>6_seattle_westin_hotel_room</td>\n",
       "    </tr>\n",
       "    <tr>\n",
       "      <th>8</th>\n",
       "      <td>7</td>\n",
       "      <td>56</td>\n",
       "      <td>7_food_service_not_resort</td>\n",
       "    </tr>\n",
       "    <tr>\n",
       "      <th>9</th>\n",
       "      <td>8</td>\n",
       "      <td>51</td>\n",
       "      <td>8_disappointed_hotel_disappointing_not</td>\n",
       "    </tr>\n",
       "  </tbody>\n",
       "</table>\n",
       "</div>"
      ],
      "text/plain": [
       "   Topic  Count                                    Name\n",
       "0     -1   1490                    -1_room_not_hotel_no\n",
       "1      0    288                 0_resort_punta_cana_not\n",
       "2      1    131                1_hotel_rooms_room_small\n",
       "3      2    102                 2_juan_san_hotel_puerto\n",
       "4      3     92         3_amsterdam_room_hotel_location\n",
       "5      4     79              4_noise_noisy_hotel_street\n",
       "6      5     78              5_barcelona_hotel_room_not\n",
       "7      6     63             6_seattle_westin_hotel_room\n",
       "8      7     56               7_food_service_not_resort\n",
       "9      8     51  8_disappointed_hotel_disappointing_not"
      ]
     },
     "execution_count": 11,
     "metadata": {},
     "output_type": "execute_result"
    }
   ],
   "source": [
    "bert_topic_label.get_topn_topic_info(n_topic=10)"
   ]
  },
  {
   "cell_type": "code",
   "execution_count": 13,
   "metadata": {},
   "outputs": [
    {
     "data": {
      "image/svg+xml": "<svg class=\"main-svg\" xmlns=\"http://www.w3.org/2000/svg\" xmlns:xlink=\"http://www.w3.org/1999/xlink\" width=\"1000\" height=\"815\" style=\"\" viewBox=\"0 0 1000 815\"><rect x=\"0\" y=\"0\" width=\"1000\" height=\"815\" style=\"fill: rgb(255, 255, 255); fill-opacity: 1;\"/><defs id=\"defs-246e38\"><g class=\"clips\"><clipPath id=\"clip246e38xyplot\" class=\"plotclip\"><rect width=\"698\" height=\"635\"/></clipPath><clipPath class=\"axesclip\" id=\"clip246e38x\"><rect x=\"222\" y=\"0\" width=\"698\" height=\"815\"/></clipPath><clipPath class=\"axesclip\" id=\"clip246e38y\"><rect x=\"0\" y=\"100\" width=\"1000\" height=\"635\"/></clipPath><clipPath class=\"axesclip\" id=\"clip246e38xy\"><rect x=\"222\" y=\"100\" width=\"698\" height=\"635\"/></clipPath></g><g class=\"gradients\"/><g class=\"patterns\"/></defs><g class=\"bglayer\"><rect class=\"bg\" x=\"222\" y=\"100\" width=\"698\" height=\"635\" style=\"fill: rgb(236, 239, 241); fill-opacity: 1; stroke-width: 0;\"/></g><g class=\"layer-below\"><g class=\"imagelayer\"/><g class=\"shapelayer\"/></g><g class=\"cartesianlayer\"><g class=\"subplot xy\"><g class=\"layer-subplot\"><g class=\"shapelayer\"/><g class=\"imagelayer\"/></g><g class=\"minor-gridlayer\"><g class=\"x\"/><g class=\"y\"/></g><g class=\"gridlayer\"><g class=\"x\"/><g class=\"y\"/></g><g class=\"zerolinelayer\"/><path class=\"xlines-below\"/><path class=\"ylines-below\"/><g class=\"overlines-below\"/><g class=\"xaxislayer-below\"/><g class=\"yaxislayer-below\"/><g class=\"overaxes-below\"/><g class=\"plot\" transform=\"translate(222,100)\" clip-path=\"url(#clip246e38xyplot)\"><g class=\"scatterlayer mlayer\"><g class=\"trace scatter traced5fe78\" style=\"stroke-miterlimit: 2; opacity: 1;\"><g class=\"fills\"/><g class=\"errorbars\"/><g class=\"lines\"><path class=\"js-line\" d=\"M0,23.23L105.63,23.23L105.63,38.72L0,38.72\" style=\"vector-effect: non-scaling-stroke; fill: none; stroke: rgb(61, 153, 112); stroke-opacity: 1; stroke-width: 2px; opacity: 1;\"/></g><g class=\"points\"/><g class=\"text\"/></g><g class=\"trace scatter trace1377e7\" style=\"stroke-miterlimit: 2; opacity: 1;\"><g class=\"fills\"/><g class=\"errorbars\"/><g class=\"lines\"><path class=\"js-line\" d=\"M0,7.74L172.23,7.74L172.23,30.98L105.63,30.98\" style=\"vector-effect: non-scaling-stroke; fill: none; stroke: rgb(61, 153, 112); stroke-opacity: 1; stroke-width: 2px; opacity: 1;\"/></g><g class=\"points\"/><g class=\"text\"/></g><g class=\"trace scatter trace5480f8\" style=\"stroke-miterlimit: 2; opacity: 1;\"><g class=\"fills\"/><g class=\"errorbars\"/><g class=\"lines\"><path class=\"js-line\" d=\"M0,85.18L105.15,85.18L105.15,100.67L0,100.67\" style=\"vector-effect: non-scaling-stroke; fill: none; stroke: rgb(61, 153, 112); stroke-opacity: 1; stroke-width: 2px; opacity: 1;\"/></g><g class=\"points\"/><g class=\"text\"/></g><g class=\"trace scatter trace94ba02\" style=\"stroke-miterlimit: 2; opacity: 1;\"><g class=\"fills\"/><g class=\"errorbars\"/><g class=\"lines\"><path class=\"js-line\" d=\"M0,69.7L111.1,69.7L111.1,92.93L105.15,92.93\" style=\"vector-effect: non-scaling-stroke; fill: none; stroke: rgb(61, 153, 112); stroke-opacity: 1; stroke-width: 2px; opacity: 1;\"/></g><g class=\"points\"/><g class=\"text\"/></g><g class=\"trace scatter trace2c80e4\" style=\"stroke-miterlimit: 2; opacity: 1;\"><g class=\"fills\"/><g class=\"errorbars\"/><g class=\"lines\"><path class=\"js-line\" d=\"M0,54.21L119.83,54.21L119.83,81.31L111.1,81.31\" style=\"vector-effect: non-scaling-stroke; fill: none; stroke: rgb(61, 153, 112); stroke-opacity: 1; stroke-width: 2px; opacity: 1;\"/></g><g class=\"points\"/><g class=\"text\"/></g><g class=\"trace scatter trace71a76f\" style=\"stroke-miterlimit: 2; opacity: 1;\"><g class=\"fills\"/><g class=\"errorbars\"/><g class=\"lines\"><path class=\"js-line\" d=\"M0,131.65L98.18,131.65L98.18,147.13L0,147.13\" style=\"vector-effect: non-scaling-stroke; fill: none; stroke: rgb(61, 153, 112); stroke-opacity: 1; stroke-width: 2px; opacity: 1;\"/></g><g class=\"points\"/><g class=\"text\"/></g><g class=\"trace scatter trace6f025b\" style=\"stroke-miterlimit: 2; opacity: 1;\"><g class=\"fills\"/><g class=\"errorbars\"/><g class=\"lines\"><path class=\"js-line\" d=\"M0,116.16L134.06,116.16L134.06,139.39L98.18,139.39\" style=\"vector-effect: non-scaling-stroke; fill: none; stroke: rgb(61, 153, 112); stroke-opacity: 1; stroke-width: 2px; opacity: 1;\"/></g><g class=\"points\"/><g class=\"text\"/></g><g class=\"trace scatter tracee739f8\" style=\"stroke-miterlimit: 2; opacity: 1;\"><g class=\"fills\"/><g class=\"errorbars\"/><g class=\"lines\"><path class=\"js-line\" d=\"M119.83,67.76L172.83,67.76L172.83,127.77L134.06,127.77\" style=\"vector-effect: non-scaling-stroke; fill: none; stroke: rgb(61, 153, 112); stroke-opacity: 1; stroke-width: 2px; opacity: 1;\"/></g><g class=\"points\"/><g class=\"text\"/></g><g class=\"trace scatter trace990af6\" style=\"stroke-miterlimit: 2; opacity: 1;\"><g class=\"fills\"/><g class=\"errorbars\"/><g class=\"lines\"><path class=\"js-line\" d=\"M172.23,19.36L262.92,19.36L262.92,97.77L172.83,97.77\" style=\"vector-effect: non-scaling-stroke; fill: none; stroke: rgb(61, 153, 112); stroke-opacity: 1; stroke-width: 2px; opacity: 1;\"/></g><g class=\"points\"/><g class=\"text\"/></g><g class=\"trace scatter trace3f5cc5\" style=\"stroke-miterlimit: 2; opacity: 1;\"><g class=\"fills\"/><g class=\"errorbars\"/><g class=\"lines\"><path class=\"js-line\" d=\"M0,162.62L106.03,162.62L106.03,178.11L0,178.11\" style=\"vector-effect: non-scaling-stroke; fill: none; stroke: rgb(255, 65, 54); stroke-opacity: 1; stroke-width: 2px; opacity: 1;\"/></g><g class=\"points\"/><g class=\"text\"/></g><g class=\"trace scatter trace4f17d3\" style=\"stroke-miterlimit: 2; opacity: 1;\"><g class=\"fills\"/><g class=\"errorbars\"/><g class=\"lines\"><path class=\"js-line\" d=\"M0,193.6L129.76,193.6L129.76,209.09L0,209.09\" style=\"vector-effect: non-scaling-stroke; fill: none; stroke: rgb(255, 65, 54); stroke-opacity: 1; stroke-width: 2px; opacity: 1;\"/></g><g class=\"points\"/><g class=\"text\"/></g><g class=\"trace scatter trace8c5248\" style=\"stroke-miterlimit: 2; opacity: 1;\"><g class=\"fills\"/><g class=\"errorbars\"/><g class=\"lines\"><path class=\"js-line\" d=\"M106.03,170.37L168.71,170.37L168.71,201.34L129.76,201.34\" style=\"vector-effect: non-scaling-stroke; fill: none; stroke: rgb(255, 65, 54); stroke-opacity: 1; stroke-width: 2px; opacity: 1;\"/></g><g class=\"points\"/><g class=\"text\"/></g><g class=\"trace scatter trace3ef34b\" style=\"stroke-miterlimit: 2; opacity: 1;\"><g class=\"fills\"/><g class=\"errorbars\"/><g class=\"lines\"><path class=\"js-line\" d=\"M0,255.55L75.81,255.55L75.81,271.04L0,271.04\" style=\"vector-effect: non-scaling-stroke; fill: none; stroke: rgb(255, 65, 54); stroke-opacity: 1; stroke-width: 2px; opacity: 1;\"/></g><g class=\"points\"/><g class=\"text\"/></g><g class=\"trace scatter trace61a843\" style=\"stroke-miterlimit: 2; opacity: 1;\"><g class=\"fills\"/><g class=\"errorbars\"/><g class=\"lines\"><path class=\"js-line\" d=\"M0,240.06L91.99,240.06L91.99,263.29L75.81,263.29\" style=\"vector-effect: non-scaling-stroke; fill: none; stroke: rgb(255, 65, 54); stroke-opacity: 1; stroke-width: 2px; opacity: 1;\"/></g><g class=\"points\"/><g class=\"text\"/></g><g class=\"trace scatter trace688999\" style=\"stroke-miterlimit: 2; opacity: 1;\"><g class=\"fills\"/><g class=\"errorbars\"/><g class=\"lines\"><path class=\"js-line\" d=\"M0,224.57L124.17,224.57L124.17,251.68L91.99,251.68\" style=\"vector-effect: non-scaling-stroke; fill: none; stroke: rgb(255, 65, 54); stroke-opacity: 1; stroke-width: 2px; opacity: 1;\"/></g><g class=\"points\"/><g class=\"text\"/></g><g class=\"trace scatter trace3bfc48\" style=\"stroke-miterlimit: 2; opacity: 1;\"><g class=\"fills\"/><g class=\"errorbars\"/><g class=\"lines\"><path class=\"js-line\" d=\"M0,302.01L120.61,302.01L120.61,317.5L0,317.5\" style=\"vector-effect: non-scaling-stroke; fill: none; stroke: rgb(255, 65, 54); stroke-opacity: 1; stroke-width: 2px; opacity: 1;\"/></g><g class=\"points\"/><g class=\"text\"/></g><g class=\"trace scatter trace41a8e4\" style=\"stroke-miterlimit: 2; opacity: 1;\"><g class=\"fills\"/><g class=\"errorbars\"/><g class=\"lines\"><path class=\"js-line\" d=\"M0,286.52L170.4,286.52L170.4,309.76L120.61,309.76\" style=\"vector-effect: non-scaling-stroke; fill: none; stroke: rgb(255, 65, 54); stroke-opacity: 1; stroke-width: 2px; opacity: 1;\"/></g><g class=\"points\"/><g class=\"text\"/></g><g class=\"trace scatter tracec20e0f\" style=\"stroke-miterlimit: 2; opacity: 1;\"><g class=\"fills\"/><g class=\"errorbars\"/><g class=\"lines\"><path class=\"js-line\" d=\"M124.17,238.13L194.46,238.13L194.46,298.14L170.4,298.14\" style=\"vector-effect: non-scaling-stroke; fill: none; stroke: rgb(255, 65, 54); stroke-opacity: 1; stroke-width: 2px; opacity: 1;\"/></g><g class=\"points\"/><g class=\"text\"/></g><g class=\"trace scatter tracecc556e\" style=\"stroke-miterlimit: 2; opacity: 1;\"><g class=\"fills\"/><g class=\"errorbars\"/><g class=\"lines\"><path class=\"js-line\" d=\"M168.71,185.85L270.69,185.85L270.69,268.13L194.46,268.13\" style=\"vector-effect: non-scaling-stroke; fill: none; stroke: rgb(255, 65, 54); stroke-opacity: 1; stroke-width: 2px; opacity: 1;\"/></g><g class=\"points\"/><g class=\"text\"/></g><g class=\"trace scatter tracefd581a\" style=\"stroke-miterlimit: 2; opacity: 1;\"><g class=\"fills\"/><g class=\"errorbars\"/><g class=\"lines\"><path class=\"js-line\" d=\"M262.92,58.56L475.52,58.56L475.52,226.99L270.69,226.99\" style=\"vector-effect: non-scaling-stroke; fill: none; stroke: rgb(0, 116, 217); stroke-opacity: 1; stroke-width: 2px; opacity: 1;\"/></g><g class=\"points\"/><g class=\"text\"/></g><g class=\"trace scatter trace44d91d\" style=\"stroke-miterlimit: 2; opacity: 1;\"><g class=\"fills\"/><g class=\"errorbars\"/><g class=\"lines\"><path class=\"js-line\" d=\"M0,332.99L70.08,332.99L70.08,348.48L0,348.48\" style=\"vector-effect: non-scaling-stroke; fill: none; stroke: rgb(35, 205, 205); stroke-opacity: 1; stroke-width: 2px; opacity: 1;\"/></g><g class=\"points\"/><g class=\"text\"/></g><g class=\"trace scatter tracefe6af2\" style=\"stroke-miterlimit: 2; opacity: 1;\"><g class=\"fills\"/><g class=\"errorbars\"/><g class=\"lines\"><path class=\"js-line\" d=\"M0,363.96L75.87,363.96L75.87,379.45L0,379.45\" style=\"vector-effect: non-scaling-stroke; fill: none; stroke: rgb(35, 205, 205); stroke-opacity: 1; stroke-width: 2px; opacity: 1;\"/></g><g class=\"points\"/><g class=\"text\"/></g><g class=\"trace scatter tracea88932\" style=\"stroke-miterlimit: 2; opacity: 1;\"><g class=\"fills\"/><g class=\"errorbars\"/><g class=\"lines\"><path class=\"js-line\" d=\"M70.08,340.73L116.04,340.73L116.04,371.71L75.87,371.71\" style=\"vector-effect: non-scaling-stroke; fill: none; stroke: rgb(35, 205, 205); stroke-opacity: 1; stroke-width: 2px; opacity: 1;\"/></g><g class=\"points\"/><g class=\"text\"/></g><g class=\"trace scatter trace1d9bde\" style=\"stroke-miterlimit: 2; opacity: 1;\"><g class=\"fills\"/><g class=\"errorbars\"/><g class=\"lines\"><path class=\"js-line\" d=\"M0,425.91L104.98,425.91L104.98,441.4L0,441.4\" style=\"vector-effect: non-scaling-stroke; fill: none; stroke: rgb(133, 20, 75); stroke-opacity: 1; stroke-width: 2px; opacity: 1;\"/></g><g class=\"points\"/><g class=\"text\"/></g><g class=\"trace scatter trace8a55d0\" style=\"stroke-miterlimit: 2; opacity: 1;\"><g class=\"fills\"/><g class=\"errorbars\"/><g class=\"lines\"><path class=\"js-line\" d=\"M0,410.43L131.71,410.43L131.71,433.66L104.98,433.66\" style=\"vector-effect: non-scaling-stroke; fill: none; stroke: rgb(133, 20, 75); stroke-opacity: 1; stroke-width: 2px; opacity: 1;\"/></g><g class=\"points\"/><g class=\"text\"/></g><g class=\"trace scatter trace8da27f\" style=\"stroke-miterlimit: 2; opacity: 1;\"><g class=\"fills\"/><g class=\"errorbars\"/><g class=\"lines\"><path class=\"js-line\" d=\"M0,394.94L158.42,394.94L158.42,422.04L131.71,422.04\" style=\"vector-effect: non-scaling-stroke; fill: none; stroke: rgb(133, 20, 75); stroke-opacity: 1; stroke-width: 2px; opacity: 1;\"/></g><g class=\"points\"/><g class=\"text\"/></g><g class=\"trace scatter tracef2faf4\" style=\"stroke-miterlimit: 2; opacity: 1;\"><g class=\"fills\"/><g class=\"errorbars\"/><g class=\"lines\"><path class=\"js-line\" d=\"M116.04,356.22L362.35,356.22L362.35,408.49L158.42,408.49\" style=\"vector-effect: non-scaling-stroke; fill: none; stroke: rgb(0, 116, 217); stroke-opacity: 1; stroke-width: 2px; opacity: 1;\"/></g><g class=\"points\"/><g class=\"text\"/></g><g class=\"trace scatter traced11392\" style=\"stroke-miterlimit: 2; opacity: 1;\"><g class=\"fills\"/><g class=\"errorbars\"/><g class=\"lines\"><path class=\"js-line\" d=\"M0,472.38L183.13,472.38L183.13,487.87L0,487.87\" style=\"vector-effect: non-scaling-stroke; fill: none; stroke: rgb(255, 220, 0); stroke-opacity: 1; stroke-width: 2px; opacity: 1;\"/></g><g class=\"points\"/><g class=\"text\"/></g><g class=\"trace scatter trace4b13c3\" style=\"stroke-miterlimit: 2; opacity: 1;\"><g class=\"fills\"/><g class=\"errorbars\"/><g class=\"lines\"><path class=\"js-line\" d=\"M0,456.89L204.12,456.89L204.12,480.12L183.13,480.12\" style=\"vector-effect: non-scaling-stroke; fill: none; stroke: rgb(255, 220, 0); stroke-opacity: 1; stroke-width: 2px; opacity: 1;\"/></g><g class=\"points\"/><g class=\"text\"/></g><g class=\"trace scatter trace9aba4d\" style=\"stroke-miterlimit: 2; opacity: 1;\"><g class=\"fills\"/><g class=\"errorbars\"/><g class=\"lines\"><path class=\"js-line\" d=\"M0,549.82L87.13,549.82L87.13,565.3L0,565.3\" style=\"vector-effect: non-scaling-stroke; fill: none; stroke: rgb(40, 35, 35); stroke-opacity: 1; stroke-width: 2px; opacity: 1;\"/></g><g class=\"points\"/><g class=\"text\"/></g><g class=\"trace scatter tracee3e439\" style=\"stroke-miterlimit: 2; opacity: 1;\"><g class=\"fills\"/><g class=\"errorbars\"/><g class=\"lines\"><path class=\"js-line\" d=\"M0,534.33L170.78,534.33L170.78,557.56L87.13,557.56\" style=\"vector-effect: non-scaling-stroke; fill: none; stroke: rgb(40, 35, 35); stroke-opacity: 1; stroke-width: 2px; opacity: 1;\"/></g><g class=\"points\"/><g class=\"text\"/></g><g class=\"trace scatter tracefb011a\" style=\"stroke-miterlimit: 2; opacity: 1;\"><g class=\"fills\"/><g class=\"errorbars\"/><g class=\"lines\"><path class=\"js-line\" d=\"M0,518.84L173.2,518.84L173.2,545.95L170.78,545.95\" style=\"vector-effect: non-scaling-stroke; fill: none; stroke: rgb(40, 35, 35); stroke-opacity: 1; stroke-width: 2px; opacity: 1;\"/></g><g class=\"points\"/><g class=\"text\"/></g><g class=\"trace scatter trace6330db\" style=\"stroke-miterlimit: 2; opacity: 1;\"><g class=\"fills\"/><g class=\"errorbars\"/><g class=\"lines\"><path class=\"js-line\" d=\"M0,503.35L211.13,503.35L211.13,532.39L173.2,532.39\" style=\"vector-effect: non-scaling-stroke; fill: none; stroke: rgb(40, 35, 35); stroke-opacity: 1; stroke-width: 2px; opacity: 1;\"/></g><g class=\"points\"/><g class=\"text\"/></g><g class=\"trace scatter tracef5ab6d\" style=\"stroke-miterlimit: 2; opacity: 1;\"><g class=\"fills\"/><g class=\"errorbars\"/><g class=\"lines\"><path class=\"js-line\" d=\"M0,580.79L161.88,580.79L161.88,596.28L0,596.28\" style=\"vector-effect: non-scaling-stroke; fill: none; stroke: rgb(40, 35, 35); stroke-opacity: 1; stroke-width: 2px; opacity: 1;\"/></g><g class=\"points\"/><g class=\"text\"/></g><g class=\"trace scatter trace0b85ab\" style=\"stroke-miterlimit: 2; opacity: 1;\"><g class=\"fills\"/><g class=\"errorbars\"/><g class=\"lines\"><path class=\"js-line\" d=\"M0,611.77L202.05,611.77L202.05,627.26L0,627.26\" style=\"vector-effect: non-scaling-stroke; fill: none; stroke: rgb(40, 35, 35); stroke-opacity: 1; stroke-width: 2px; opacity: 1;\"/></g><g class=\"points\"/><g class=\"text\"/></g><g class=\"trace scatter tracea7b8e6\" style=\"stroke-miterlimit: 2; opacity: 1;\"><g class=\"fills\"/><g class=\"errorbars\"/><g class=\"lines\"><path class=\"js-line\" d=\"M161.88,588.54L230.73,588.54L230.73,619.51L202.05,619.51\" style=\"vector-effect: non-scaling-stroke; fill: none; stroke: rgb(40, 35, 35); stroke-opacity: 1; stroke-width: 2px; opacity: 1;\"/></g><g class=\"points\"/><g class=\"text\"/></g><g class=\"trace scatter traceecdd66\" style=\"stroke-miterlimit: 2; opacity: 1;\"><g class=\"fills\"/><g class=\"errorbars\"/><g class=\"lines\"><path class=\"js-line\" d=\"M211.13,517.87L307.48,517.87L307.48,604.02L230.73,604.02\" style=\"vector-effect: non-scaling-stroke; fill: none; stroke: rgb(40, 35, 35); stroke-opacity: 1; stroke-width: 2px; opacity: 1;\"/></g><g class=\"points\"/><g class=\"text\"/></g><g class=\"trace scatter trace8e5f57\" style=\"stroke-miterlimit: 2; opacity: 1;\"><g class=\"fills\"/><g class=\"errorbars\"/><g class=\"lines\"><path class=\"js-line\" d=\"M204.12,468.51L487,468.51L487,560.95L307.48,560.95\" style=\"vector-effect: non-scaling-stroke; fill: none; stroke: rgb(0, 116, 217); stroke-opacity: 1; stroke-width: 2px; opacity: 1;\"/></g><g class=\"points\"/><g class=\"text\"/></g><g class=\"trace scatter trace806af3\" style=\"stroke-miterlimit: 2; opacity: 1;\"><g class=\"fills\"/><g class=\"errorbars\"/><g class=\"lines\"><path class=\"js-line\" d=\"M362.35,382.36L552.19,382.36L552.19,514.73L487,514.73\" style=\"vector-effect: non-scaling-stroke; fill: none; stroke: rgb(0, 116, 217); stroke-opacity: 1; stroke-width: 2px; opacity: 1;\"/></g><g class=\"points\"/><g class=\"text\"/></g><g class=\"trace scatter trace5ad439\" style=\"stroke-miterlimit: 2; opacity: 1;\"><g class=\"fills\"/><g class=\"errorbars\"/><g class=\"lines\"><path class=\"js-line\" d=\"M475.52,142.78L698,142.78L698,448.54L552.19,448.54\" style=\"vector-effect: non-scaling-stroke; fill: none; stroke: rgb(0, 116, 217); stroke-opacity: 1; stroke-width: 2px; opacity: 1;\"/></g><g class=\"points\"/><g class=\"text\"/></g></g></g><g class=\"overplot\"/><path class=\"xlines-above crisp\" d=\"M221,735.5H921M221,99.5H921\" style=\"fill: none; stroke-width: 1px; stroke: rgb(235, 240, 248); stroke-opacity: 1;\"/><path class=\"ylines-above crisp\" d=\"M221.5,100V735M920.5,100V735\" style=\"fill: none; stroke-width: 1px; stroke: rgb(235, 240, 248); stroke-opacity: 1;\"/><g class=\"overlines-above\"/><g class=\"xaxislayer-above\"><path class=\"xtick ticks crisp\" d=\"M0,736v5M0,99v-5\" transform=\"translate(222,0)\" style=\"stroke: rgb(68, 68, 68); stroke-opacity: 1; stroke-width: 1px;\"/><path class=\"xtick ticks crisp\" d=\"M0,736v5M0,99v-5\" transform=\"translate(398.16999999999996,0)\" style=\"stroke: rgb(68, 68, 68); stroke-opacity: 1; stroke-width: 1px;\"/><path class=\"xtick ticks crisp\" d=\"M0,736v5M0,99v-5\" transform=\"translate(574.3399999999999,0)\" style=\"stroke: rgb(68, 68, 68); stroke-opacity: 1; stroke-width: 1px;\"/><path class=\"xtick ticks crisp\" d=\"M0,736v5M0,99v-5\" transform=\"translate(750.52,0)\" style=\"stroke: rgb(68, 68, 68); stroke-opacity: 1; stroke-width: 1px;\"/><g class=\"xtick\"><text text-anchor=\"middle\" x=\"0\" y=\"755.4\" transform=\"translate(222,0)\" style=\"font-family: 'Open Sans', verdana, arial, sans-serif; font-size: 12px; fill: rgb(42, 63, 95); fill-opacity: 1; white-space: pre; opacity: 1;\">0</text></g><g class=\"xtick\"><text text-anchor=\"middle\" x=\"0\" y=\"755.4\" style=\"font-family: 'Open Sans', verdana, arial, sans-serif; font-size: 12px; fill: rgb(42, 63, 95); fill-opacity: 1; white-space: pre; opacity: 1;\" transform=\"translate(398.16999999999996,0)\">0.5</text></g><g class=\"xtick\"><text text-anchor=\"middle\" x=\"0\" y=\"755.4\" style=\"font-family: 'Open Sans', verdana, arial, sans-serif; font-size: 12px; fill: rgb(42, 63, 95); fill-opacity: 1; white-space: pre; opacity: 1;\" transform=\"translate(574.3399999999999,0)\">1</text></g><g class=\"xtick\"><text text-anchor=\"middle\" x=\"0\" y=\"755.4\" style=\"font-family: 'Open Sans', verdana, arial, sans-serif; font-size: 12px; fill: rgb(42, 63, 95); fill-opacity: 1; white-space: pre; opacity: 1;\" transform=\"translate(750.52,0)\">1.5</text></g></g><g class=\"yaxislayer-above\"><path class=\"ytick ticks crisp\" d=\"M221,0h-5M921,0h5\" transform=\"translate(0,107.74)\" style=\"stroke: rgb(68, 68, 68); stroke-opacity: 1; stroke-width: 1px;\"/><path class=\"ytick ticks crisp\" d=\"M221,0h-5M921,0h5\" transform=\"translate(0,123.23)\" style=\"stroke: rgb(68, 68, 68); stroke-opacity: 1; stroke-width: 1px;\"/><path class=\"ytick ticks crisp\" d=\"M221,0h-5M921,0h5\" transform=\"translate(0,138.72)\" style=\"stroke: rgb(68, 68, 68); stroke-opacity: 1; stroke-width: 1px;\"/><path class=\"ytick ticks crisp\" d=\"M221,0h-5M921,0h5\" transform=\"translate(0,154.21)\" style=\"stroke: rgb(68, 68, 68); stroke-opacity: 1; stroke-width: 1px;\"/><path class=\"ytick ticks crisp\" d=\"M221,0h-5M921,0h5\" transform=\"translate(0,169.7)\" style=\"stroke: rgb(68, 68, 68); stroke-opacity: 1; stroke-width: 1px;\"/><path class=\"ytick ticks crisp\" d=\"M221,0h-5M921,0h5\" transform=\"translate(0,185.18)\" style=\"stroke: rgb(68, 68, 68); stroke-opacity: 1; stroke-width: 1px;\"/><path class=\"ytick ticks crisp\" d=\"M221,0h-5M921,0h5\" transform=\"translate(0,200.67000000000002)\" style=\"stroke: rgb(68, 68, 68); stroke-opacity: 1; stroke-width: 1px;\"/><path class=\"ytick ticks crisp\" d=\"M221,0h-5M921,0h5\" transform=\"translate(0,216.16)\" style=\"stroke: rgb(68, 68, 68); stroke-opacity: 1; stroke-width: 1px;\"/><path class=\"ytick ticks crisp\" d=\"M221,0h-5M921,0h5\" transform=\"translate(0,231.65)\" style=\"stroke: rgb(68, 68, 68); stroke-opacity: 1; stroke-width: 1px;\"/><path class=\"ytick ticks crisp\" d=\"M221,0h-5M921,0h5\" transform=\"translate(0,247.13)\" style=\"stroke: rgb(68, 68, 68); stroke-opacity: 1; stroke-width: 1px;\"/><path class=\"ytick ticks crisp\" d=\"M221,0h-5M921,0h5\" transform=\"translate(0,262.62)\" style=\"stroke: rgb(68, 68, 68); stroke-opacity: 1; stroke-width: 1px;\"/><path class=\"ytick ticks crisp\" d=\"M221,0h-5M921,0h5\" transform=\"translate(0,278.11)\" style=\"stroke: rgb(68, 68, 68); stroke-opacity: 1; stroke-width: 1px;\"/><path class=\"ytick ticks crisp\" d=\"M221,0h-5M921,0h5\" transform=\"translate(0,293.6)\" style=\"stroke: rgb(68, 68, 68); stroke-opacity: 1; stroke-width: 1px;\"/><path class=\"ytick ticks crisp\" d=\"M221,0h-5M921,0h5\" transform=\"translate(0,309.09000000000003)\" style=\"stroke: rgb(68, 68, 68); stroke-opacity: 1; stroke-width: 1px;\"/><path class=\"ytick ticks crisp\" d=\"M221,0h-5M921,0h5\" transform=\"translate(0,324.57)\" style=\"stroke: rgb(68, 68, 68); stroke-opacity: 1; stroke-width: 1px;\"/><path class=\"ytick ticks crisp\" d=\"M221,0h-5M921,0h5\" transform=\"translate(0,340.06)\" style=\"stroke: rgb(68, 68, 68); stroke-opacity: 1; stroke-width: 1px;\"/><path class=\"ytick ticks crisp\" d=\"M221,0h-5M921,0h5\" transform=\"translate(0,355.55)\" style=\"stroke: rgb(68, 68, 68); stroke-opacity: 1; stroke-width: 1px;\"/><path class=\"ytick ticks crisp\" d=\"M221,0h-5M921,0h5\" transform=\"translate(0,371.04)\" style=\"stroke: rgb(68, 68, 68); stroke-opacity: 1; stroke-width: 1px;\"/><path class=\"ytick ticks crisp\" d=\"M221,0h-5M921,0h5\" transform=\"translate(0,386.52)\" style=\"stroke: rgb(68, 68, 68); stroke-opacity: 1; stroke-width: 1px;\"/><path class=\"ytick ticks crisp\" d=\"M221,0h-5M921,0h5\" transform=\"translate(0,402.01)\" style=\"stroke: rgb(68, 68, 68); stroke-opacity: 1; stroke-width: 1px;\"/><path class=\"ytick ticks crisp\" d=\"M221,0h-5M921,0h5\" transform=\"translate(0,417.5)\" style=\"stroke: rgb(68, 68, 68); stroke-opacity: 1; stroke-width: 1px;\"/><path class=\"ytick ticks crisp\" d=\"M221,0h-5M921,0h5\" transform=\"translate(0,432.99)\" style=\"stroke: rgb(68, 68, 68); stroke-opacity: 1; stroke-width: 1px;\"/><path class=\"ytick ticks crisp\" d=\"M221,0h-5M921,0h5\" transform=\"translate(0,448.48)\" style=\"stroke: rgb(68, 68, 68); stroke-opacity: 1; stroke-width: 1px;\"/><path class=\"ytick ticks crisp\" d=\"M221,0h-5M921,0h5\" transform=\"translate(0,463.96)\" style=\"stroke: rgb(68, 68, 68); stroke-opacity: 1; stroke-width: 1px;\"/><path class=\"ytick ticks crisp\" d=\"M221,0h-5M921,0h5\" transform=\"translate(0,479.45)\" style=\"stroke: rgb(68, 68, 68); stroke-opacity: 1; stroke-width: 1px;\"/><path class=\"ytick ticks crisp\" d=\"M221,0h-5M921,0h5\" transform=\"translate(0,494.94)\" style=\"stroke: rgb(68, 68, 68); stroke-opacity: 1; stroke-width: 1px;\"/><path class=\"ytick ticks crisp\" d=\"M221,0h-5M921,0h5\" transform=\"translate(0,510.43)\" style=\"stroke: rgb(68, 68, 68); stroke-opacity: 1; stroke-width: 1px;\"/><path class=\"ytick ticks crisp\" d=\"M221,0h-5M921,0h5\" transform=\"translate(0,525.9100000000001)\" style=\"stroke: rgb(68, 68, 68); stroke-opacity: 1; stroke-width: 1px;\"/><path class=\"ytick ticks crisp\" d=\"M221,0h-5M921,0h5\" transform=\"translate(0,541.4)\" style=\"stroke: rgb(68, 68, 68); stroke-opacity: 1; stroke-width: 1px;\"/><path class=\"ytick ticks crisp\" d=\"M221,0h-5M921,0h5\" transform=\"translate(0,556.89)\" style=\"stroke: rgb(68, 68, 68); stroke-opacity: 1; stroke-width: 1px;\"/><path class=\"ytick ticks crisp\" d=\"M221,0h-5M921,0h5\" transform=\"translate(0,572.38)\" style=\"stroke: rgb(68, 68, 68); stroke-opacity: 1; stroke-width: 1px;\"/><path class=\"ytick ticks crisp\" d=\"M221,0h-5M921,0h5\" transform=\"translate(0,587.87)\" style=\"stroke: rgb(68, 68, 68); stroke-opacity: 1; stroke-width: 1px;\"/><path class=\"ytick ticks crisp\" d=\"M221,0h-5M921,0h5\" transform=\"translate(0,603.35)\" style=\"stroke: rgb(68, 68, 68); stroke-opacity: 1; stroke-width: 1px;\"/><path class=\"ytick ticks crisp\" d=\"M221,0h-5M921,0h5\" transform=\"translate(0,618.84)\" style=\"stroke: rgb(68, 68, 68); stroke-opacity: 1; stroke-width: 1px;\"/><path class=\"ytick ticks crisp\" d=\"M221,0h-5M921,0h5\" transform=\"translate(0,634.33)\" style=\"stroke: rgb(68, 68, 68); stroke-opacity: 1; stroke-width: 1px;\"/><path class=\"ytick ticks crisp\" d=\"M221,0h-5M921,0h5\" transform=\"translate(0,649.82)\" style=\"stroke: rgb(68, 68, 68); stroke-opacity: 1; stroke-width: 1px;\"/><path class=\"ytick ticks crisp\" d=\"M221,0h-5M921,0h5\" transform=\"translate(0,665.3)\" style=\"stroke: rgb(68, 68, 68); stroke-opacity: 1; stroke-width: 1px;\"/><path class=\"ytick ticks crisp\" d=\"M221,0h-5M921,0h5\" transform=\"translate(0,680.79)\" style=\"stroke: rgb(68, 68, 68); stroke-opacity: 1; stroke-width: 1px;\"/><path class=\"ytick ticks crisp\" d=\"M221,0h-5M921,0h5\" transform=\"translate(0,696.28)\" style=\"stroke: rgb(68, 68, 68); stroke-opacity: 1; stroke-width: 1px;\"/><path class=\"ytick ticks crisp\" d=\"M221,0h-5M921,0h5\" transform=\"translate(0,711.77)\" style=\"stroke: rgb(68, 68, 68); stroke-opacity: 1; stroke-width: 1px;\"/><path class=\"ytick ticks crisp\" d=\"M221,0h-5M921,0h5\" transform=\"translate(0,727.26)\" style=\"stroke: rgb(68, 68, 68); stroke-opacity: 1; stroke-width: 1px;\"/><g class=\"ytick\"><text text-anchor=\"end\" x=\"213.6\" y=\"4.199999999999999\" transform=\"translate(0,107.74)\" style=\"font-family: 'Open Sans', verdana, arial, sans-serif; font-size: 12px; fill: rgb(42, 63, 95); fill-opacity: 1; white-space: pre; opacity: 1;\">11_bali_pool_hotel</text></g><g class=\"ytick\"><text text-anchor=\"end\" x=\"213.6\" y=\"4.199999999999999\" style=\"font-family: 'Open Sans', verdana, arial, sans-serif; font-size: 12px; fill: rgb(42, 63, 95); fill-opacity: 1; white-space: pre; opacity: 1;\" transform=\"translate(0,123.23)\">18_singapore_hotel_room</text></g><g class=\"ytick\"><text text-anchor=\"end\" x=\"213.6\" y=\"4.199999999999999\" style=\"font-family: 'Open Sans', verdana, arial, sans-serif; font-size: 12px; fill: rgb(42, 63, 95); fill-opacity: 1; white-space: pre; opacity: 1;\" transform=\"translate(0,138.72)\">33_beijing_china_forbidden</text></g><g class=\"ytick\"><text text-anchor=\"end\" x=\"213.6\" y=\"4.199999999999999\" style=\"font-family: 'Open Sans', verdana, arial, sans-serif; font-size: 12px; fill: rgb(42, 63, 95); fill-opacity: 1; white-space: pre; opacity: 1;\" transform=\"translate(0,154.21)\">34_berlin_breakfast_hotel</text></g><g class=\"ytick\"><text text-anchor=\"end\" x=\"213.6\" y=\"4.199999999999999\" style=\"font-family: 'Open Sans', verdana, arial, sans-serif; font-size: 12px; fill: rgb(42, 63, 95); fill-opacity: 1; white-space: pre; opacity: 1;\" transform=\"translate(0,169.7)\">15_florence_hotel_room</text></g><g class=\"ytick\"><text text-anchor=\"end\" x=\"213.6\" y=\"4.199999999999999\" style=\"font-family: 'Open Sans', verdana, arial, sans-serif; font-size: 12px; fill: rgb(42, 63, 95); fill-opacity: 1; white-space: pre; opacity: 1;\" transform=\"translate(0,185.18)\">3_amsterdam_room_hotel</text></g><g class=\"ytick\"><text text-anchor=\"end\" x=\"213.6\" y=\"4.199999999999999\" style=\"font-family: 'Open Sans', verdana, arial, sans-serif; font-size: 12px; fill: rgb(42, 63, 95); fill-opacity: 1; white-space: pre; opacity: 1;\" transform=\"translate(0,200.67000000000002)\">6_seattle_westin_hotel</text></g><g class=\"ytick\"><text text-anchor=\"end\" x=\"213.6\" y=\"4.199999999999999\" style=\"font-family: 'Open Sans', verdana, arial, sans-serif; font-size: 12px; fill: rgb(42, 63, 95); fill-opacity: 1; white-space: pre; opacity: 1;\" transform=\"translate(0,216.16)\">19_beach_miami_south</text></g><g class=\"ytick\"><text text-anchor=\"end\" x=\"213.6\" y=\"4.199999999999999\" style=\"font-family: 'Open Sans', verdana, arial, sans-serif; font-size: 12px; fill: rgb(42, 63, 95); fill-opacity: 1; white-space: pre; opacity: 1;\" transform=\"translate(0,231.65)\">5_barcelona_hotel_room</text></g><g class=\"ytick\"><text text-anchor=\"end\" x=\"213.6\" y=\"4.199999999999999\" style=\"font-family: 'Open Sans', verdana, arial, sans-serif; font-size: 12px; fill: rgb(42, 63, 95); fill-opacity: 1; white-space: pre; opacity: 1;\" transform=\"translate(0,247.13)\">24_sydney_hotel_room</text></g><g class=\"ytick\"><text text-anchor=\"end\" x=\"213.6\" y=\"4.199999999999999\" style=\"font-family: 'Open Sans', verdana, arial, sans-serif; font-size: 12px; fill: rgb(42, 63, 95); fill-opacity: 1; white-space: pre; opacity: 1;\" transform=\"translate(0,262.62)\">37_husband_anniversary_room</text></g><g class=\"ytick\"><text text-anchor=\"end\" x=\"213.6\" y=\"4.199999999999999\" style=\"font-family: 'Open Sans', verdana, arial, sans-serif; font-size: 12px; fill: rgb(42, 63, 95); fill-opacity: 1; white-space: pre; opacity: 1;\" transform=\"translate(0,278.11)\">38_half_stay_room</text></g><g class=\"ytick\"><text text-anchor=\"end\" x=\"213.6\" y=\"4.199999999999999\" style=\"font-family: 'Open Sans', verdana, arial, sans-serif; font-size: 12px; fill: rgb(42, 63, 95); fill-opacity: 1; white-space: pre; opacity: 1;\" transform=\"translate(0,293.6)\">8_disappointed_hotel_disapp...</text></g><g class=\"ytick\"><text text-anchor=\"end\" x=\"213.6\" y=\"4.199999999999999\" style=\"font-family: 'Open Sans', verdana, arial, sans-serif; font-size: 12px; fill: rgb(42, 63, 95); fill-opacity: 1; white-space: pre; opacity: 1;\" transform=\"translate(0,309.09000000000003)\">13_worst_hotel_stayed</text></g><g class=\"ytick\"><text text-anchor=\"end\" x=\"213.6\" y=\"4.199999999999999\" style=\"font-family: 'Open Sans', verdana, arial, sans-serif; font-size: 12px; fill: rgb(42, 63, 95); fill-opacity: 1; white-space: pre; opacity: 1;\" transform=\"translate(0,324.57)\">14_hotel_service_staff</text></g><g class=\"ytick\"><text text-anchor=\"end\" x=\"213.6\" y=\"4.199999999999999\" style=\"font-family: 'Open Sans', verdana, arial, sans-serif; font-size: 12px; fill: rgb(42, 63, 95); fill-opacity: 1; white-space: pre; opacity: 1;\" transform=\"translate(0,340.06)\">28_square_business_hotel</text></g><g class=\"ytick\"><text text-anchor=\"end\" x=\"213.6\" y=\"4.199999999999999\" style=\"font-family: 'Open Sans', verdana, arial, sans-serif; font-size: 12px; fill: rgb(42, 63, 95); fill-opacity: 1; white-space: pre; opacity: 1;\" transform=\"translate(0,355.55)\">1_hotel_rooms_room</text></g><g class=\"ytick\"><text text-anchor=\"end\" x=\"213.6\" y=\"4.199999999999999\" style=\"font-family: 'Open Sans', verdana, arial, sans-serif; font-size: 12px; fill: rgb(42, 63, 95); fill-opacity: 1; white-space: pre; opacity: 1;\" transform=\"translate(0,371.04)\">39_hotel_hilton_did</text></g><g class=\"ytick\"><text text-anchor=\"end\" x=\"213.6\" y=\"4.199999999999999\" style=\"font-family: 'Open Sans', verdana, arial, sans-serif; font-size: 12px; fill: rgb(42, 63, 95); fill-opacity: 1; white-space: pre; opacity: 1;\" transform=\"translate(0,386.52)\">25_parking_told_car</text></g><g class=\"ytick\"><text text-anchor=\"end\" x=\"213.6\" y=\"4.199999999999999\" style=\"font-family: 'Open Sans', verdana, arial, sans-serif; font-size: 12px; fill: rgb(42, 63, 95); fill-opacity: 1; white-space: pre; opacity: 1;\" transform=\"translate(0,402.01)\">12_star_hotel_not</text></g><g class=\"ytick\"><text text-anchor=\"end\" x=\"213.6\" y=\"4.199999999999999\" style=\"font-family: 'Open Sans', verdana, arial, sans-serif; font-size: 12px; fill: rgb(42, 63, 95); fill-opacity: 1; white-space: pre; opacity: 1;\" transform=\"translate(0,417.5)\">17_reservation_night_room</text></g><g class=\"ytick\"><text text-anchor=\"end\" x=\"213.6\" y=\"4.199999999999999\" style=\"font-family: 'Open Sans', verdana, arial, sans-serif; font-size: 12px; fill: rgb(42, 63, 95); fill-opacity: 1; white-space: pre; opacity: 1;\" transform=\"translate(0,432.99)\">0_resort_punta_cana</text></g><g class=\"ytick\"><text text-anchor=\"end\" x=\"213.6\" y=\"4.199999999999999\" style=\"font-family: 'Open Sans', verdana, arial, sans-serif; font-size: 12px; fill: rgb(42, 63, 95); fill-opacity: 1; white-space: pre; opacity: 1;\" transform=\"translate(0,448.48)\">7_food_service_not</text></g><g class=\"ytick\"><text text-anchor=\"end\" x=\"213.6\" y=\"4.199999999999999\" style=\"font-family: 'Open Sans', verdana, arial, sans-serif; font-size: 12px; fill: rgb(42, 63, 95); fill-opacity: 1; white-space: pre; opacity: 1;\" transform=\"translate(0,463.96)\">16_resort_beach_beautiful</text></g><g class=\"ytick\"><text text-anchor=\"end\" x=\"213.6\" y=\"4.199999999999999\" style=\"font-family: 'Open Sans', verdana, arial, sans-serif; font-size: 12px; fill: rgb(42, 63, 95); fill-opacity: 1; white-space: pre; opacity: 1;\" transform=\"translate(0,479.45)\">26_beach_food_resort</text></g><g class=\"ytick\"><text text-anchor=\"end\" x=\"213.6\" y=\"4.199999999999999\" style=\"font-family: 'Open Sans', verdana, arial, sans-serif; font-size: 12px; fill: rgb(42, 63, 95); fill-opacity: 1; white-space: pre; opacity: 1;\" transform=\"translate(0,494.94)\">30_food_sick_days</text></g><g class=\"ytick\"><text text-anchor=\"end\" x=\"213.6\" y=\"4.199999999999999\" style=\"font-family: 'Open Sans', verdana, arial, sans-serif; font-size: 12px; fill: rgb(42, 63, 95); fill-opacity: 1; white-space: pre; opacity: 1;\" transform=\"translate(0,510.43)\">32_it_room_just</text></g><g class=\"ytick\"><text text-anchor=\"end\" x=\"213.6\" y=\"4.199999999999999\" style=\"font-family: 'Open Sans', verdana, arial, sans-serif; font-size: 12px; fill: rgb(42, 63, 95); fill-opacity: 1; white-space: pre; opacity: 1;\" transform=\"translate(0,525.9100000000001)\">31_nt_kids_food</text></g><g class=\"ytick\"><text text-anchor=\"end\" x=\"213.6\" y=\"4.199999999999999\" style=\"font-family: 'Open Sans', verdana, arial, sans-serif; font-size: 12px; fill: rgb(42, 63, 95); fill-opacity: 1; white-space: pre; opacity: 1;\" transform=\"translate(0,541.4)\">36_nt_wedding_honeymoon</text></g><g class=\"ytick\"><text text-anchor=\"end\" x=\"213.6\" y=\"4.199999999999999\" style=\"font-family: 'Open Sans', verdana, arial, sans-serif; font-size: 12px; fill: rgb(42, 63, 95); fill-opacity: 1; white-space: pre; opacity: 1;\" transform=\"translate(0,556.89)\">2_juan_san_hotel</text></g><g class=\"ytick\"><text text-anchor=\"end\" x=\"213.6\" y=\"4.199999999999999\" style=\"font-family: 'Open Sans', verdana, arial, sans-serif; font-size: 12px; fill: rgb(42, 63, 95); fill-opacity: 1; white-space: pre; opacity: 1;\" transform=\"translate(0,572.38)\">22_waikiki_kahala_hotel</text></g><g class=\"ytick\"><text text-anchor=\"end\" x=\"213.6\" y=\"4.199999999999999\" style=\"font-family: 'Open Sans', verdana, arial, sans-serif; font-size: 12px; fill: rgb(42, 63, 95); fill-opacity: 1; white-space: pre; opacity: 1;\" transform=\"translate(0,587.87)\">35_kong_hong_hk</text></g><g class=\"ytick\"><text text-anchor=\"end\" x=\"213.6\" y=\"4.199999999999999\" style=\"font-family: 'Open Sans', verdana, arial, sans-serif; font-size: 12px; fill: rgb(42, 63, 95); fill-opacity: 1; white-space: pre; opacity: 1;\" transform=\"translate(0,603.35)\">20_bugs_bed_bites</text></g><g class=\"ytick\"><text text-anchor=\"end\" x=\"213.6\" y=\"4.199999999999999\" style=\"font-family: 'Open Sans', verdana, arial, sans-serif; font-size: 12px; fill: rgb(42, 63, 95); fill-opacity: 1; white-space: pre; opacity: 1;\" transform=\"translate(0,618.84)\">21_smoking_smoke_nonsmoking</text></g><g class=\"ytick\"><text text-anchor=\"end\" x=\"213.6\" y=\"4.199999999999999\" style=\"font-family: 'Open Sans', verdana, arial, sans-serif; font-size: 12px; fill: rgb(42, 63, 95); fill-opacity: 1; white-space: pre; opacity: 1;\" transform=\"translate(0,634.33)\">4_noise_noisy_hotel</text></g><g class=\"ytick\"><text text-anchor=\"end\" x=\"213.6\" y=\"4.199999999999999\" style=\"font-family: 'Open Sans', verdana, arial, sans-serif; font-size: 12px; fill: rgb(42, 63, 95); fill-opacity: 1; white-space: pre; opacity: 1;\" transform=\"translate(0,649.82)\">9_dirty_smell_shower</text></g><g class=\"ytick\"><text text-anchor=\"end\" x=\"213.6\" y=\"4.199999999999999\" style=\"font-family: 'Open Sans', verdana, arial, sans-serif; font-size: 12px; fill: rgb(42, 63, 95); fill-opacity: 1; white-space: pre; opacity: 1;\" transform=\"translate(0,665.3)\">40_dump_dirty_place</text></g><g class=\"ytick\"><text text-anchor=\"end\" x=\"213.6\" y=\"4.199999999999999\" style=\"font-family: 'Open Sans', verdana, arial, sans-serif; font-size: 12px; fill: rgb(42, 63, 95); fill-opacity: 1; white-space: pre; opacity: 1;\" transform=\"translate(0,680.79)\">10_card_credit_reservation</text></g><g class=\"ytick\"><text text-anchor=\"end\" x=\"213.6\" y=\"4.199999999999999\" style=\"font-family: 'Open Sans', verdana, arial, sans-serif; font-size: 12px; fill: rgb(42, 63, 95); fill-opacity: 1; white-space: pre; opacity: 1;\" transform=\"translate(0,696.28)\">29_stolen_theft_hotel</text></g><g class=\"ytick\"><text text-anchor=\"end\" x=\"213.6\" y=\"4.199999999999999\" style=\"font-family: 'Open Sans', verdana, arial, sans-serif; font-size: 12px; fill: rgb(42, 63, 95); fill-opacity: 1; white-space: pre; opacity: 1;\" transform=\"translate(0,711.77)\">23_ritz_carlton_club</text></g><g class=\"ytick\"><text text-anchor=\"end\" x=\"213.6\" y=\"4.199999999999999\" style=\"font-family: 'Open Sans', verdana, arial, sans-serif; font-size: 12px; fill: rgb(42, 63, 95); fill-opacity: 1; white-space: pre; opacity: 1;\" transform=\"translate(0,727.26)\">27_rude_staff_hotel</text></g></g><g class=\"overaxes-above\"/></g></g><g class=\"polarlayer\"/><g class=\"smithlayer\"/><g class=\"ternarylayer\"/><g class=\"geolayer\"/><g class=\"funnelarealayer\"/><g class=\"pielayer\"/><g class=\"iciclelayer\"/><g class=\"treemaplayer\"/><g class=\"sunburstlayer\"/><g class=\"glimages\"/><defs id=\"topdefs-246e38\"><g class=\"clips\"/></defs><g class=\"layer-above\"><g class=\"imagelayer\"/><g class=\"shapelayer\"/></g><g class=\"infolayer\"><g class=\"g-gtitle\"><text class=\"gtitle\" x=\"500\" y=\"50\" text-anchor=\"middle\" dy=\"0.7em\" style=\"font-family: 'Open Sans', verdana, arial, sans-serif; font-size: 22px; fill: rgb(0, 0, 0); opacity: 1; font-weight: normal; white-space: pre;\"><tspan style=\"font-weight:bold\">Hierarchical Clustering</tspan></text></g><g class=\"g-xtitle\"/><g class=\"g-ytitle\"/></g></svg>"
     },
     "metadata": {},
     "output_type": "display_data"
    }
   ],
   "source": [
    "import plotly.io as pio\n",
    "\n",
    "pio.renderers.default = \"svg\"\n",
    "# fig = bert_topic_label.get_dendrogram()\n",
    "# fig.show()\n",
    "bert_topic_label.get_dendrogram()"
   ]
  },
  {
   "cell_type": "markdown",
   "metadata": {},
   "source": [
    "From the dendrogram above, we could group our topics into 12 main topics (the 2 green ones, the 3 red ones, the 3 light blue ones, the 2 brown ones and the 2 yellow ones)."
   ]
  },
  {
   "cell_type": "code",
   "execution_count": 14,
   "metadata": {},
   "outputs": [],
   "source": [
    "bert_topic_label.reduce_topic_number(n_topic=12)"
   ]
  },
  {
   "cell_type": "markdown",
   "metadata": {},
   "source": [
    "We can now get the top 5 words for each topic to try to understand better what each topic is about! "
   ]
  },
  {
   "cell_type": "code",
   "execution_count": 15,
   "metadata": {},
   "outputs": [
    {
     "data": {
      "image/svg+xml": "<svg class=\"main-svg\" xmlns=\"http://www.w3.org/2000/svg\" xmlns:xlink=\"http://www.w3.org/1999/xlink\" width=\"1000\" height=\"750\" style=\"\" viewBox=\"0 0 1000 750\"><rect x=\"0\" y=\"0\" width=\"1000\" height=\"750\" style=\"fill: rgb(255, 255, 255); fill-opacity: 1;\"/><defs id=\"defs-dc8df9\"><g class=\"clips\"><clipPath id=\"clipdc8df9xyplot\" class=\"plotclip\"><rect width=\"143.85\" height=\"139.33333333333334\"/></clipPath><clipPath id=\"clipdc8df9x2y2plot\" class=\"plotclip\"><rect width=\"143.85\" height=\"139.33333333333334\"/></clipPath><clipPath id=\"clipdc8df9x3y3plot\" class=\"plotclip\"><rect width=\"143.85000000000002\" height=\"139.33333333333334\"/></clipPath><clipPath id=\"clipdc8df9x4y4plot\" class=\"plotclip\"><rect width=\"143.85000000000002\" height=\"139.33333333333334\"/></clipPath><clipPath id=\"clipdc8df9x5y5plot\" class=\"plotclip\"><rect width=\"143.85\" height=\"139.33333333333334\"/></clipPath><clipPath id=\"clipdc8df9x6y6plot\" class=\"plotclip\"><rect width=\"143.85\" height=\"139.33333333333334\"/></clipPath><clipPath id=\"clipdc8df9x7y7plot\" class=\"plotclip\"><rect width=\"143.85000000000002\" height=\"139.33333333333334\"/></clipPath><clipPath id=\"clipdc8df9x8y8plot\" class=\"plotclip\"><rect width=\"143.85000000000002\" height=\"139.33333333333334\"/></clipPath><clipPath id=\"clipdc8df9x9y9plot\" class=\"plotclip\"><rect width=\"143.85\" height=\"139.33333333333334\"/></clipPath><clipPath id=\"clipdc8df9x10y10plot\" class=\"plotclip\"><rect width=\"143.85\" height=\"139.33333333333334\"/></clipPath><clipPath id=\"clipdc8df9x11y11plot\" class=\"plotclip\"><rect width=\"143.85000000000002\" height=\"139.33333333333334\"/></clipPath><clipPath id=\"clipdc8df9x12y12plot\" class=\"plotclip\"><rect width=\"143.85000000000002\" height=\"139.33333333333334\"/></clipPath><clipPath class=\"axesclip\" id=\"clipdc8df9x\"><rect x=\"98\" y=\"0\" width=\"143.85\" height=\"750\"/></clipPath><clipPath class=\"axesclip\" id=\"clipdc8df9y\"><rect x=\"0\" y=\"100\" width=\"1000\" height=\"139.33333333333334\"/></clipPath><clipPath class=\"axesclip\" id=\"clipdc8df9xy\"><rect x=\"98\" y=\"100\" width=\"143.85\" height=\"139.33333333333334\"/></clipPath><clipPath class=\"axesclip\" id=\"clipdc8df9y2\"><rect x=\"0\" y=\"100\" width=\"1000\" height=\"139.33333333333334\"/></clipPath><clipPath class=\"axesclip\" id=\"clipdc8df9xy2\"><rect x=\"98\" y=\"100\" width=\"143.85\" height=\"139.33333333333334\"/></clipPath><clipPath class=\"axesclip\" id=\"clipdc8df9y3\"><rect x=\"0\" y=\"100\" width=\"1000\" height=\"139.33333333333334\"/></clipPath><clipPath class=\"axesclip\" id=\"clipdc8df9xy3\"><rect x=\"98\" y=\"100\" width=\"143.85\" height=\"139.33333333333334\"/></clipPath><clipPath class=\"axesclip\" id=\"clipdc8df9y4\"><rect x=\"0\" y=\"100\" width=\"1000\" height=\"139.33333333333334\"/></clipPath><clipPath class=\"axesclip\" id=\"clipdc8df9xy4\"><rect x=\"98\" y=\"100\" width=\"143.85\" height=\"139.33333333333334\"/></clipPath><clipPath class=\"axesclip\" id=\"clipdc8df9y5\"><rect x=\"0\" y=\"315.3333333333333\" width=\"1000\" height=\"139.33333333333334\"/></clipPath><clipPath class=\"axesclip\" id=\"clipdc8df9xy5\"><rect x=\"98\" y=\"315.3333333333333\" width=\"143.85\" height=\"139.33333333333334\"/></clipPath><clipPath class=\"axesclip\" id=\"clipdc8df9y6\"><rect x=\"0\" y=\"315.3333333333333\" width=\"1000\" height=\"139.33333333333334\"/></clipPath><clipPath class=\"axesclip\" id=\"clipdc8df9xy6\"><rect x=\"98\" y=\"315.3333333333333\" width=\"143.85\" height=\"139.33333333333334\"/></clipPath><clipPath class=\"axesclip\" id=\"clipdc8df9y7\"><rect x=\"0\" y=\"315.3333333333333\" width=\"1000\" height=\"139.33333333333334\"/></clipPath><clipPath class=\"axesclip\" id=\"clipdc8df9xy7\"><rect x=\"98\" y=\"315.3333333333333\" width=\"143.85\" height=\"139.33333333333334\"/></clipPath><clipPath class=\"axesclip\" id=\"clipdc8df9y8\"><rect x=\"0\" y=\"315.3333333333333\" width=\"1000\" height=\"139.33333333333334\"/></clipPath><clipPath class=\"axesclip\" id=\"clipdc8df9xy8\"><rect x=\"98\" y=\"315.3333333333333\" width=\"143.85\" height=\"139.33333333333334\"/></clipPath><clipPath class=\"axesclip\" id=\"clipdc8df9y9\"><rect x=\"0\" y=\"530.6666666666666\" width=\"1000\" height=\"139.33333333333334\"/></clipPath><clipPath class=\"axesclip\" id=\"clipdc8df9xy9\"><rect x=\"98\" y=\"530.6666666666666\" width=\"143.85\" height=\"139.33333333333334\"/></clipPath><clipPath class=\"axesclip\" id=\"clipdc8df9y10\"><rect x=\"0\" y=\"530.6666666666666\" width=\"1000\" height=\"139.33333333333334\"/></clipPath><clipPath class=\"axesclip\" id=\"clipdc8df9xy10\"><rect x=\"98\" y=\"530.6666666666666\" width=\"143.85\" height=\"139.33333333333334\"/></clipPath><clipPath class=\"axesclip\" id=\"clipdc8df9y11\"><rect x=\"0\" y=\"530.6666666666666\" width=\"1000\" height=\"139.33333333333334\"/></clipPath><clipPath class=\"axesclip\" id=\"clipdc8df9xy11\"><rect x=\"98\" y=\"530.6666666666666\" width=\"143.85\" height=\"139.33333333333334\"/></clipPath><clipPath class=\"axesclip\" id=\"clipdc8df9y12\"><rect x=\"0\" y=\"530.6666666666666\" width=\"1000\" height=\"139.33333333333334\"/></clipPath><clipPath class=\"axesclip\" id=\"clipdc8df9xy12\"><rect x=\"98\" y=\"530.6666666666666\" width=\"143.85\" height=\"139.33333333333334\"/></clipPath><clipPath class=\"axesclip\" id=\"clipdc8df9x2\"><rect x=\"324.05\" y=\"0\" width=\"143.85\" height=\"750\"/></clipPath><clipPath class=\"axesclip\" id=\"clipdc8df9x2y\"><rect x=\"324.05\" y=\"100\" width=\"143.85\" height=\"139.33333333333334\"/></clipPath><clipPath class=\"axesclip\" id=\"clipdc8df9x2y2\"><rect x=\"324.05\" y=\"100\" width=\"143.85\" height=\"139.33333333333334\"/></clipPath><clipPath class=\"axesclip\" id=\"clipdc8df9x2y3\"><rect x=\"324.05\" y=\"100\" width=\"143.85\" height=\"139.33333333333334\"/></clipPath><clipPath class=\"axesclip\" id=\"clipdc8df9x2y4\"><rect x=\"324.05\" y=\"100\" width=\"143.85\" height=\"139.33333333333334\"/></clipPath><clipPath class=\"axesclip\" id=\"clipdc8df9x2y5\"><rect x=\"324.05\" y=\"315.3333333333333\" width=\"143.85\" height=\"139.33333333333334\"/></clipPath><clipPath class=\"axesclip\" id=\"clipdc8df9x2y6\"><rect x=\"324.05\" y=\"315.3333333333333\" width=\"143.85\" height=\"139.33333333333334\"/></clipPath><clipPath class=\"axesclip\" id=\"clipdc8df9x2y7\"><rect x=\"324.05\" y=\"315.3333333333333\" width=\"143.85\" height=\"139.33333333333334\"/></clipPath><clipPath class=\"axesclip\" id=\"clipdc8df9x2y8\"><rect x=\"324.05\" y=\"315.3333333333333\" width=\"143.85\" height=\"139.33333333333334\"/></clipPath><clipPath class=\"axesclip\" id=\"clipdc8df9x2y9\"><rect x=\"324.05\" y=\"530.6666666666666\" width=\"143.85\" height=\"139.33333333333334\"/></clipPath><clipPath class=\"axesclip\" id=\"clipdc8df9x2y10\"><rect x=\"324.05\" y=\"530.6666666666666\" width=\"143.85\" height=\"139.33333333333334\"/></clipPath><clipPath class=\"axesclip\" id=\"clipdc8df9x2y11\"><rect x=\"324.05\" y=\"530.6666666666666\" width=\"143.85\" height=\"139.33333333333334\"/></clipPath><clipPath class=\"axesclip\" id=\"clipdc8df9x2y12\"><rect x=\"324.05\" y=\"530.6666666666666\" width=\"143.85\" height=\"139.33333333333334\"/></clipPath><clipPath class=\"axesclip\" id=\"clipdc8df9x3\"><rect x=\"550.1\" y=\"0\" width=\"143.85000000000002\" height=\"750\"/></clipPath><clipPath class=\"axesclip\" id=\"clipdc8df9x3y\"><rect x=\"550.1\" y=\"100\" width=\"143.85000000000002\" height=\"139.33333333333334\"/></clipPath><clipPath class=\"axesclip\" id=\"clipdc8df9x3y2\"><rect x=\"550.1\" y=\"100\" width=\"143.85000000000002\" height=\"139.33333333333334\"/></clipPath><clipPath class=\"axesclip\" id=\"clipdc8df9x3y3\"><rect x=\"550.1\" y=\"100\" width=\"143.85000000000002\" height=\"139.33333333333334\"/></clipPath><clipPath class=\"axesclip\" id=\"clipdc8df9x3y4\"><rect x=\"550.1\" y=\"100\" width=\"143.85000000000002\" height=\"139.33333333333334\"/></clipPath><clipPath class=\"axesclip\" id=\"clipdc8df9x3y5\"><rect x=\"550.1\" y=\"315.3333333333333\" width=\"143.85000000000002\" height=\"139.33333333333334\"/></clipPath><clipPath class=\"axesclip\" id=\"clipdc8df9x3y6\"><rect x=\"550.1\" y=\"315.3333333333333\" width=\"143.85000000000002\" height=\"139.33333333333334\"/></clipPath><clipPath class=\"axesclip\" id=\"clipdc8df9x3y7\"><rect x=\"550.1\" y=\"315.3333333333333\" width=\"143.85000000000002\" height=\"139.33333333333334\"/></clipPath><clipPath class=\"axesclip\" id=\"clipdc8df9x3y8\"><rect x=\"550.1\" y=\"315.3333333333333\" width=\"143.85000000000002\" height=\"139.33333333333334\"/></clipPath><clipPath class=\"axesclip\" id=\"clipdc8df9x3y9\"><rect x=\"550.1\" y=\"530.6666666666666\" width=\"143.85000000000002\" height=\"139.33333333333334\"/></clipPath><clipPath class=\"axesclip\" id=\"clipdc8df9x3y10\"><rect x=\"550.1\" y=\"530.6666666666666\" width=\"143.85000000000002\" height=\"139.33333333333334\"/></clipPath><clipPath class=\"axesclip\" id=\"clipdc8df9x3y11\"><rect x=\"550.1\" y=\"530.6666666666666\" width=\"143.85000000000002\" height=\"139.33333333333334\"/></clipPath><clipPath class=\"axesclip\" id=\"clipdc8df9x3y12\"><rect x=\"550.1\" y=\"530.6666666666666\" width=\"143.85000000000002\" height=\"139.33333333333334\"/></clipPath><clipPath class=\"axesclip\" id=\"clipdc8df9x4\"><rect x=\"776.15\" y=\"0\" width=\"143.85000000000002\" height=\"750\"/></clipPath><clipPath class=\"axesclip\" id=\"clipdc8df9x4y\"><rect x=\"776.15\" y=\"100\" width=\"143.85000000000002\" height=\"139.33333333333334\"/></clipPath><clipPath class=\"axesclip\" id=\"clipdc8df9x4y2\"><rect x=\"776.15\" y=\"100\" width=\"143.85000000000002\" height=\"139.33333333333334\"/></clipPath><clipPath class=\"axesclip\" id=\"clipdc8df9x4y3\"><rect x=\"776.15\" y=\"100\" width=\"143.85000000000002\" height=\"139.33333333333334\"/></clipPath><clipPath class=\"axesclip\" id=\"clipdc8df9x4y4\"><rect x=\"776.15\" y=\"100\" width=\"143.85000000000002\" height=\"139.33333333333334\"/></clipPath><clipPath class=\"axesclip\" id=\"clipdc8df9x4y5\"><rect x=\"776.15\" y=\"315.3333333333333\" width=\"143.85000000000002\" height=\"139.33333333333334\"/></clipPath><clipPath class=\"axesclip\" id=\"clipdc8df9x4y6\"><rect x=\"776.15\" y=\"315.3333333333333\" width=\"143.85000000000002\" height=\"139.33333333333334\"/></clipPath><clipPath class=\"axesclip\" id=\"clipdc8df9x4y7\"><rect x=\"776.15\" y=\"315.3333333333333\" width=\"143.85000000000002\" height=\"139.33333333333334\"/></clipPath><clipPath class=\"axesclip\" id=\"clipdc8df9x4y8\"><rect x=\"776.15\" y=\"315.3333333333333\" width=\"143.85000000000002\" height=\"139.33333333333334\"/></clipPath><clipPath class=\"axesclip\" id=\"clipdc8df9x4y9\"><rect x=\"776.15\" y=\"530.6666666666666\" width=\"143.85000000000002\" height=\"139.33333333333334\"/></clipPath><clipPath class=\"axesclip\" id=\"clipdc8df9x4y10\"><rect x=\"776.15\" y=\"530.6666666666666\" width=\"143.85000000000002\" height=\"139.33333333333334\"/></clipPath><clipPath class=\"axesclip\" id=\"clipdc8df9x4y11\"><rect x=\"776.15\" y=\"530.6666666666666\" width=\"143.85000000000002\" height=\"139.33333333333334\"/></clipPath><clipPath class=\"axesclip\" id=\"clipdc8df9x4y12\"><rect x=\"776.15\" y=\"530.6666666666666\" width=\"143.85000000000002\" height=\"139.33333333333334\"/></clipPath><clipPath class=\"axesclip\" id=\"clipdc8df9x5\"><rect x=\"98\" y=\"0\" width=\"143.85\" height=\"750\"/></clipPath><clipPath class=\"axesclip\" id=\"clipdc8df9x5y\"><rect x=\"98\" y=\"100\" width=\"143.85\" height=\"139.33333333333334\"/></clipPath><clipPath class=\"axesclip\" id=\"clipdc8df9x5y2\"><rect x=\"98\" y=\"100\" width=\"143.85\" height=\"139.33333333333334\"/></clipPath><clipPath class=\"axesclip\" id=\"clipdc8df9x5y3\"><rect x=\"98\" y=\"100\" width=\"143.85\" height=\"139.33333333333334\"/></clipPath><clipPath class=\"axesclip\" id=\"clipdc8df9x5y4\"><rect x=\"98\" y=\"100\" width=\"143.85\" height=\"139.33333333333334\"/></clipPath><clipPath class=\"axesclip\" id=\"clipdc8df9x5y5\"><rect x=\"98\" y=\"315.3333333333333\" width=\"143.85\" height=\"139.33333333333334\"/></clipPath><clipPath class=\"axesclip\" id=\"clipdc8df9x5y6\"><rect x=\"98\" y=\"315.3333333333333\" width=\"143.85\" height=\"139.33333333333334\"/></clipPath><clipPath class=\"axesclip\" id=\"clipdc8df9x5y7\"><rect x=\"98\" y=\"315.3333333333333\" width=\"143.85\" height=\"139.33333333333334\"/></clipPath><clipPath class=\"axesclip\" id=\"clipdc8df9x5y8\"><rect x=\"98\" y=\"315.3333333333333\" width=\"143.85\" height=\"139.33333333333334\"/></clipPath><clipPath class=\"axesclip\" id=\"clipdc8df9x5y9\"><rect x=\"98\" y=\"530.6666666666666\" width=\"143.85\" height=\"139.33333333333334\"/></clipPath><clipPath class=\"axesclip\" id=\"clipdc8df9x5y10\"><rect x=\"98\" y=\"530.6666666666666\" width=\"143.85\" height=\"139.33333333333334\"/></clipPath><clipPath class=\"axesclip\" id=\"clipdc8df9x5y11\"><rect x=\"98\" y=\"530.6666666666666\" width=\"143.85\" height=\"139.33333333333334\"/></clipPath><clipPath class=\"axesclip\" id=\"clipdc8df9x5y12\"><rect x=\"98\" y=\"530.6666666666666\" width=\"143.85\" height=\"139.33333333333334\"/></clipPath><clipPath class=\"axesclip\" id=\"clipdc8df9x6\"><rect x=\"324.05\" y=\"0\" width=\"143.85\" height=\"750\"/></clipPath><clipPath class=\"axesclip\" id=\"clipdc8df9x6y\"><rect x=\"324.05\" y=\"100\" width=\"143.85\" height=\"139.33333333333334\"/></clipPath><clipPath class=\"axesclip\" id=\"clipdc8df9x6y2\"><rect x=\"324.05\" y=\"100\" width=\"143.85\" height=\"139.33333333333334\"/></clipPath><clipPath class=\"axesclip\" id=\"clipdc8df9x6y3\"><rect x=\"324.05\" y=\"100\" width=\"143.85\" height=\"139.33333333333334\"/></clipPath><clipPath class=\"axesclip\" id=\"clipdc8df9x6y4\"><rect x=\"324.05\" y=\"100\" width=\"143.85\" height=\"139.33333333333334\"/></clipPath><clipPath class=\"axesclip\" id=\"clipdc8df9x6y5\"><rect x=\"324.05\" y=\"315.3333333333333\" width=\"143.85\" height=\"139.33333333333334\"/></clipPath><clipPath class=\"axesclip\" id=\"clipdc8df9x6y6\"><rect x=\"324.05\" y=\"315.3333333333333\" width=\"143.85\" height=\"139.33333333333334\"/></clipPath><clipPath class=\"axesclip\" id=\"clipdc8df9x6y7\"><rect x=\"324.05\" y=\"315.3333333333333\" width=\"143.85\" height=\"139.33333333333334\"/></clipPath><clipPath class=\"axesclip\" id=\"clipdc8df9x6y8\"><rect x=\"324.05\" y=\"315.3333333333333\" width=\"143.85\" height=\"139.33333333333334\"/></clipPath><clipPath class=\"axesclip\" id=\"clipdc8df9x6y9\"><rect x=\"324.05\" y=\"530.6666666666666\" width=\"143.85\" height=\"139.33333333333334\"/></clipPath><clipPath class=\"axesclip\" id=\"clipdc8df9x6y10\"><rect x=\"324.05\" y=\"530.6666666666666\" width=\"143.85\" height=\"139.33333333333334\"/></clipPath><clipPath class=\"axesclip\" id=\"clipdc8df9x6y11\"><rect x=\"324.05\" y=\"530.6666666666666\" width=\"143.85\" height=\"139.33333333333334\"/></clipPath><clipPath class=\"axesclip\" id=\"clipdc8df9x6y12\"><rect x=\"324.05\" y=\"530.6666666666666\" width=\"143.85\" height=\"139.33333333333334\"/></clipPath><clipPath class=\"axesclip\" id=\"clipdc8df9x7\"><rect x=\"550.1\" y=\"0\" width=\"143.85000000000002\" height=\"750\"/></clipPath><clipPath class=\"axesclip\" id=\"clipdc8df9x7y\"><rect x=\"550.1\" y=\"100\" width=\"143.85000000000002\" height=\"139.33333333333334\"/></clipPath><clipPath class=\"axesclip\" id=\"clipdc8df9x7y2\"><rect x=\"550.1\" y=\"100\" width=\"143.85000000000002\" height=\"139.33333333333334\"/></clipPath><clipPath class=\"axesclip\" id=\"clipdc8df9x7y3\"><rect x=\"550.1\" y=\"100\" width=\"143.85000000000002\" height=\"139.33333333333334\"/></clipPath><clipPath class=\"axesclip\" id=\"clipdc8df9x7y4\"><rect x=\"550.1\" y=\"100\" width=\"143.85000000000002\" height=\"139.33333333333334\"/></clipPath><clipPath class=\"axesclip\" id=\"clipdc8df9x7y5\"><rect x=\"550.1\" y=\"315.3333333333333\" width=\"143.85000000000002\" height=\"139.33333333333334\"/></clipPath><clipPath class=\"axesclip\" id=\"clipdc8df9x7y6\"><rect x=\"550.1\" y=\"315.3333333333333\" width=\"143.85000000000002\" height=\"139.33333333333334\"/></clipPath><clipPath class=\"axesclip\" id=\"clipdc8df9x7y7\"><rect x=\"550.1\" y=\"315.3333333333333\" width=\"143.85000000000002\" height=\"139.33333333333334\"/></clipPath><clipPath class=\"axesclip\" id=\"clipdc8df9x7y8\"><rect x=\"550.1\" y=\"315.3333333333333\" width=\"143.85000000000002\" height=\"139.33333333333334\"/></clipPath><clipPath class=\"axesclip\" id=\"clipdc8df9x7y9\"><rect x=\"550.1\" y=\"530.6666666666666\" width=\"143.85000000000002\" height=\"139.33333333333334\"/></clipPath><clipPath class=\"axesclip\" id=\"clipdc8df9x7y10\"><rect x=\"550.1\" y=\"530.6666666666666\" width=\"143.85000000000002\" height=\"139.33333333333334\"/></clipPath><clipPath class=\"axesclip\" id=\"clipdc8df9x7y11\"><rect x=\"550.1\" y=\"530.6666666666666\" width=\"143.85000000000002\" height=\"139.33333333333334\"/></clipPath><clipPath class=\"axesclip\" id=\"clipdc8df9x7y12\"><rect x=\"550.1\" y=\"530.6666666666666\" width=\"143.85000000000002\" height=\"139.33333333333334\"/></clipPath><clipPath class=\"axesclip\" id=\"clipdc8df9x8\"><rect x=\"776.15\" y=\"0\" width=\"143.85000000000002\" height=\"750\"/></clipPath><clipPath class=\"axesclip\" id=\"clipdc8df9x8y\"><rect x=\"776.15\" y=\"100\" width=\"143.85000000000002\" height=\"139.33333333333334\"/></clipPath><clipPath class=\"axesclip\" id=\"clipdc8df9x8y2\"><rect x=\"776.15\" y=\"100\" width=\"143.85000000000002\" height=\"139.33333333333334\"/></clipPath><clipPath class=\"axesclip\" id=\"clipdc8df9x8y3\"><rect x=\"776.15\" y=\"100\" width=\"143.85000000000002\" height=\"139.33333333333334\"/></clipPath><clipPath class=\"axesclip\" id=\"clipdc8df9x8y4\"><rect x=\"776.15\" y=\"100\" width=\"143.85000000000002\" height=\"139.33333333333334\"/></clipPath><clipPath class=\"axesclip\" id=\"clipdc8df9x8y5\"><rect x=\"776.15\" y=\"315.3333333333333\" width=\"143.85000000000002\" height=\"139.33333333333334\"/></clipPath><clipPath class=\"axesclip\" id=\"clipdc8df9x8y6\"><rect x=\"776.15\" y=\"315.3333333333333\" width=\"143.85000000000002\" height=\"139.33333333333334\"/></clipPath><clipPath class=\"axesclip\" id=\"clipdc8df9x8y7\"><rect x=\"776.15\" y=\"315.3333333333333\" width=\"143.85000000000002\" height=\"139.33333333333334\"/></clipPath><clipPath class=\"axesclip\" id=\"clipdc8df9x8y8\"><rect x=\"776.15\" y=\"315.3333333333333\" width=\"143.85000000000002\" height=\"139.33333333333334\"/></clipPath><clipPath class=\"axesclip\" id=\"clipdc8df9x8y9\"><rect x=\"776.15\" y=\"530.6666666666666\" width=\"143.85000000000002\" height=\"139.33333333333334\"/></clipPath><clipPath class=\"axesclip\" id=\"clipdc8df9x8y10\"><rect x=\"776.15\" y=\"530.6666666666666\" width=\"143.85000000000002\" height=\"139.33333333333334\"/></clipPath><clipPath class=\"axesclip\" id=\"clipdc8df9x8y11\"><rect x=\"776.15\" y=\"530.6666666666666\" width=\"143.85000000000002\" height=\"139.33333333333334\"/></clipPath><clipPath class=\"axesclip\" id=\"clipdc8df9x8y12\"><rect x=\"776.15\" y=\"530.6666666666666\" width=\"143.85000000000002\" height=\"139.33333333333334\"/></clipPath><clipPath class=\"axesclip\" id=\"clipdc8df9x9\"><rect x=\"98\" y=\"0\" width=\"143.85\" height=\"750\"/></clipPath><clipPath class=\"axesclip\" id=\"clipdc8df9x9y\"><rect x=\"98\" y=\"100\" width=\"143.85\" height=\"139.33333333333334\"/></clipPath><clipPath class=\"axesclip\" id=\"clipdc8df9x9y2\"><rect x=\"98\" y=\"100\" width=\"143.85\" height=\"139.33333333333334\"/></clipPath><clipPath class=\"axesclip\" id=\"clipdc8df9x9y3\"><rect x=\"98\" y=\"100\" width=\"143.85\" height=\"139.33333333333334\"/></clipPath><clipPath class=\"axesclip\" id=\"clipdc8df9x9y4\"><rect x=\"98\" y=\"100\" width=\"143.85\" height=\"139.33333333333334\"/></clipPath><clipPath class=\"axesclip\" id=\"clipdc8df9x9y5\"><rect x=\"98\" y=\"315.3333333333333\" width=\"143.85\" height=\"139.33333333333334\"/></clipPath><clipPath class=\"axesclip\" id=\"clipdc8df9x9y6\"><rect x=\"98\" y=\"315.3333333333333\" width=\"143.85\" height=\"139.33333333333334\"/></clipPath><clipPath class=\"axesclip\" id=\"clipdc8df9x9y7\"><rect x=\"98\" y=\"315.3333333333333\" width=\"143.85\" height=\"139.33333333333334\"/></clipPath><clipPath class=\"axesclip\" id=\"clipdc8df9x9y8\"><rect x=\"98\" y=\"315.3333333333333\" width=\"143.85\" height=\"139.33333333333334\"/></clipPath><clipPath class=\"axesclip\" id=\"clipdc8df9x9y9\"><rect x=\"98\" y=\"530.6666666666666\" width=\"143.85\" height=\"139.33333333333334\"/></clipPath><clipPath class=\"axesclip\" id=\"clipdc8df9x9y10\"><rect x=\"98\" y=\"530.6666666666666\" width=\"143.85\" height=\"139.33333333333334\"/></clipPath><clipPath class=\"axesclip\" id=\"clipdc8df9x9y11\"><rect x=\"98\" y=\"530.6666666666666\" width=\"143.85\" height=\"139.33333333333334\"/></clipPath><clipPath class=\"axesclip\" id=\"clipdc8df9x9y12\"><rect x=\"98\" y=\"530.6666666666666\" width=\"143.85\" height=\"139.33333333333334\"/></clipPath><clipPath class=\"axesclip\" id=\"clipdc8df9x10\"><rect x=\"324.05\" y=\"0\" width=\"143.85\" height=\"750\"/></clipPath><clipPath class=\"axesclip\" id=\"clipdc8df9x10y\"><rect x=\"324.05\" y=\"100\" width=\"143.85\" height=\"139.33333333333334\"/></clipPath><clipPath class=\"axesclip\" id=\"clipdc8df9x10y2\"><rect x=\"324.05\" y=\"100\" width=\"143.85\" height=\"139.33333333333334\"/></clipPath><clipPath class=\"axesclip\" id=\"clipdc8df9x10y3\"><rect x=\"324.05\" y=\"100\" width=\"143.85\" height=\"139.33333333333334\"/></clipPath><clipPath class=\"axesclip\" id=\"clipdc8df9x10y4\"><rect x=\"324.05\" y=\"100\" width=\"143.85\" height=\"139.33333333333334\"/></clipPath><clipPath class=\"axesclip\" id=\"clipdc8df9x10y5\"><rect x=\"324.05\" y=\"315.3333333333333\" width=\"143.85\" height=\"139.33333333333334\"/></clipPath><clipPath class=\"axesclip\" id=\"clipdc8df9x10y6\"><rect x=\"324.05\" y=\"315.3333333333333\" width=\"143.85\" height=\"139.33333333333334\"/></clipPath><clipPath class=\"axesclip\" id=\"clipdc8df9x10y7\"><rect x=\"324.05\" y=\"315.3333333333333\" width=\"143.85\" height=\"139.33333333333334\"/></clipPath><clipPath class=\"axesclip\" id=\"clipdc8df9x10y8\"><rect x=\"324.05\" y=\"315.3333333333333\" width=\"143.85\" height=\"139.33333333333334\"/></clipPath><clipPath class=\"axesclip\" id=\"clipdc8df9x10y9\"><rect x=\"324.05\" y=\"530.6666666666666\" width=\"143.85\" height=\"139.33333333333334\"/></clipPath><clipPath class=\"axesclip\" id=\"clipdc8df9x10y10\"><rect x=\"324.05\" y=\"530.6666666666666\" width=\"143.85\" height=\"139.33333333333334\"/></clipPath><clipPath class=\"axesclip\" id=\"clipdc8df9x10y11\"><rect x=\"324.05\" y=\"530.6666666666666\" width=\"143.85\" height=\"139.33333333333334\"/></clipPath><clipPath class=\"axesclip\" id=\"clipdc8df9x10y12\"><rect x=\"324.05\" y=\"530.6666666666666\" width=\"143.85\" height=\"139.33333333333334\"/></clipPath><clipPath class=\"axesclip\" id=\"clipdc8df9x11\"><rect x=\"550.1\" y=\"0\" width=\"143.85000000000002\" height=\"750\"/></clipPath><clipPath class=\"axesclip\" id=\"clipdc8df9x11y\"><rect x=\"550.1\" y=\"100\" width=\"143.85000000000002\" height=\"139.33333333333334\"/></clipPath><clipPath class=\"axesclip\" id=\"clipdc8df9x11y2\"><rect x=\"550.1\" y=\"100\" width=\"143.85000000000002\" height=\"139.33333333333334\"/></clipPath><clipPath class=\"axesclip\" id=\"clipdc8df9x11y3\"><rect x=\"550.1\" y=\"100\" width=\"143.85000000000002\" height=\"139.33333333333334\"/></clipPath><clipPath class=\"axesclip\" id=\"clipdc8df9x11y4\"><rect x=\"550.1\" y=\"100\" width=\"143.85000000000002\" height=\"139.33333333333334\"/></clipPath><clipPath class=\"axesclip\" id=\"clipdc8df9x11y5\"><rect x=\"550.1\" y=\"315.3333333333333\" width=\"143.85000000000002\" height=\"139.33333333333334\"/></clipPath><clipPath class=\"axesclip\" id=\"clipdc8df9x11y6\"><rect x=\"550.1\" y=\"315.3333333333333\" width=\"143.85000000000002\" height=\"139.33333333333334\"/></clipPath><clipPath class=\"axesclip\" id=\"clipdc8df9x11y7\"><rect x=\"550.1\" y=\"315.3333333333333\" width=\"143.85000000000002\" height=\"139.33333333333334\"/></clipPath><clipPath class=\"axesclip\" id=\"clipdc8df9x11y8\"><rect x=\"550.1\" y=\"315.3333333333333\" width=\"143.85000000000002\" height=\"139.33333333333334\"/></clipPath><clipPath class=\"axesclip\" id=\"clipdc8df9x11y9\"><rect x=\"550.1\" y=\"530.6666666666666\" width=\"143.85000000000002\" height=\"139.33333333333334\"/></clipPath><clipPath class=\"axesclip\" id=\"clipdc8df9x11y10\"><rect x=\"550.1\" y=\"530.6666666666666\" width=\"143.85000000000002\" height=\"139.33333333333334\"/></clipPath><clipPath class=\"axesclip\" id=\"clipdc8df9x11y11\"><rect x=\"550.1\" y=\"530.6666666666666\" width=\"143.85000000000002\" height=\"139.33333333333334\"/></clipPath><clipPath class=\"axesclip\" id=\"clipdc8df9x11y12\"><rect x=\"550.1\" y=\"530.6666666666666\" width=\"143.85000000000002\" height=\"139.33333333333334\"/></clipPath><clipPath class=\"axesclip\" id=\"clipdc8df9x12\"><rect x=\"776.15\" y=\"0\" width=\"143.85000000000002\" height=\"750\"/></clipPath><clipPath class=\"axesclip\" id=\"clipdc8df9x12y\"><rect x=\"776.15\" y=\"100\" width=\"143.85000000000002\" height=\"139.33333333333334\"/></clipPath><clipPath class=\"axesclip\" id=\"clipdc8df9x12y2\"><rect x=\"776.15\" y=\"100\" width=\"143.85000000000002\" height=\"139.33333333333334\"/></clipPath><clipPath class=\"axesclip\" id=\"clipdc8df9x12y3\"><rect x=\"776.15\" y=\"100\" width=\"143.85000000000002\" height=\"139.33333333333334\"/></clipPath><clipPath class=\"axesclip\" id=\"clipdc8df9x12y4\"><rect x=\"776.15\" y=\"100\" width=\"143.85000000000002\" height=\"139.33333333333334\"/></clipPath><clipPath class=\"axesclip\" id=\"clipdc8df9x12y5\"><rect x=\"776.15\" y=\"315.3333333333333\" width=\"143.85000000000002\" height=\"139.33333333333334\"/></clipPath><clipPath class=\"axesclip\" id=\"clipdc8df9x12y6\"><rect x=\"776.15\" y=\"315.3333333333333\" width=\"143.85000000000002\" height=\"139.33333333333334\"/></clipPath><clipPath class=\"axesclip\" id=\"clipdc8df9x12y7\"><rect x=\"776.15\" y=\"315.3333333333333\" width=\"143.85000000000002\" height=\"139.33333333333334\"/></clipPath><clipPath class=\"axesclip\" id=\"clipdc8df9x12y8\"><rect x=\"776.15\" y=\"315.3333333333333\" width=\"143.85000000000002\" height=\"139.33333333333334\"/></clipPath><clipPath class=\"axesclip\" id=\"clipdc8df9x12y9\"><rect x=\"776.15\" y=\"530.6666666666666\" width=\"143.85000000000002\" height=\"139.33333333333334\"/></clipPath><clipPath class=\"axesclip\" id=\"clipdc8df9x12y10\"><rect x=\"776.15\" y=\"530.6666666666666\" width=\"143.85000000000002\" height=\"139.33333333333334\"/></clipPath><clipPath class=\"axesclip\" id=\"clipdc8df9x12y11\"><rect x=\"776.15\" y=\"530.6666666666666\" width=\"143.85000000000002\" height=\"139.33333333333334\"/></clipPath><clipPath class=\"axesclip\" id=\"clipdc8df9x12y12\"><rect x=\"776.15\" y=\"530.6666666666666\" width=\"143.85000000000002\" height=\"139.33333333333334\"/></clipPath></g><g class=\"gradients\"/><g class=\"patterns\"/></defs><g class=\"bglayer\"/><g class=\"layer-below\"><g class=\"imagelayer\"/><g class=\"shapelayer\"/></g><g class=\"cartesianlayer\"><g class=\"subplot xy\"><g class=\"layer-subplot\"><g class=\"shapelayer\"/><g class=\"imagelayer\"/></g><g class=\"minor-gridlayer\"><g class=\"x\"/><g class=\"y\"/></g><g class=\"gridlayer\"><g class=\"x\"><path class=\"xgrid crisp\" transform=\"translate(137.82,0)\" d=\"M0,100v139.33333333333334\" style=\"stroke: rgb(235, 240, 248); stroke-opacity: 1; stroke-width: 1px;\"/><path class=\"xgrid crisp\" transform=\"translate(177.64,0)\" d=\"M0,100v139.33333333333334\" style=\"stroke: rgb(235, 240, 248); stroke-opacity: 1; stroke-width: 1px;\"/><path class=\"xgrid crisp\" transform=\"translate(217.45999999999998,0)\" d=\"M0,100v139.33333333333334\" style=\"stroke: rgb(235, 240, 248); stroke-opacity: 1; stroke-width: 1px;\"/></g><g class=\"y\"><path class=\"ygrid crisp\" transform=\"translate(0,225.4)\" d=\"M98,0h143.85\" style=\"stroke: rgb(235, 240, 248); stroke-opacity: 1; stroke-width: 1px;\"/><path class=\"ygrid crisp\" transform=\"translate(0,197.53)\" d=\"M98,0h143.85\" style=\"stroke: rgb(235, 240, 248); stroke-opacity: 1; stroke-width: 1px;\"/><path class=\"ygrid crisp\" transform=\"translate(0,169.67000000000002)\" d=\"M98,0h143.85\" style=\"stroke: rgb(235, 240, 248); stroke-opacity: 1; stroke-width: 1px;\"/><path class=\"ygrid crisp\" transform=\"translate(0,141.8)\" d=\"M98,0h143.85\" style=\"stroke: rgb(235, 240, 248); stroke-opacity: 1; stroke-width: 1px;\"/><path class=\"ygrid crisp\" transform=\"translate(0,113.93)\" d=\"M98,0h143.85\" style=\"stroke: rgb(235, 240, 248); stroke-opacity: 1; stroke-width: 1px;\"/></g></g><g class=\"zerolinelayer\"><path class=\"xzl zl crisp\" transform=\"translate(98,0)\" d=\"M0,100v139.33333333333334\" style=\"stroke: rgb(235, 240, 248); stroke-opacity: 1; stroke-width: 2px;\"/></g><path class=\"xlines-below\"/><path class=\"ylines-below\"/><g class=\"overlines-below\"/><g class=\"xaxislayer-below\"/><g class=\"yaxislayer-below\"/><g class=\"overaxes-below\"/><g class=\"plot\" transform=\"translate(98,100)\" clip-path=\"url(#clipdc8df9xyplot)\"><g class=\"barlayer mlayer\"><g class=\"trace bars\" style=\"opacity: 1;\"><g class=\"points\"><g class=\"point\"><path d=\"M0,136.55V114.25H97.26V136.55Z\" style=\"vector-effect: non-scaling-stroke; opacity: 1; stroke-width: 0.5px; fill: rgb(213, 94, 0); fill-opacity: 1; stroke: rgb(255, 255, 255); stroke-opacity: 1;\"/></g><g class=\"point\"><path d=\"M0,108.68V86.39H101.32V108.68Z\" style=\"vector-effect: non-scaling-stroke; opacity: 1; stroke-width: 0.5px; fill: rgb(213, 94, 0); fill-opacity: 1; stroke: rgb(255, 255, 255); stroke-opacity: 1;\"/></g><g class=\"point\"><path d=\"M0,80.81V58.52H104.2V80.81Z\" style=\"vector-effect: non-scaling-stroke; opacity: 1; stroke-width: 0.5px; fill: rgb(213, 94, 0); fill-opacity: 1; stroke: rgb(255, 255, 255); stroke-opacity: 1;\"/></g><g class=\"point\"><path d=\"M0,52.95V30.65H136.11V52.95Z\" style=\"vector-effect: non-scaling-stroke; opacity: 1; stroke-width: 0.5px; fill: rgb(213, 94, 0); fill-opacity: 1; stroke: rgb(255, 255, 255); stroke-opacity: 1;\"/></g><g class=\"point\"><path d=\"M0,25.08V2.79H136.66V25.08Z\" style=\"vector-effect: non-scaling-stroke; opacity: 1; stroke-width: 0.5px; fill: rgb(213, 94, 0); fill-opacity: 1; stroke: rgb(255, 255, 255); stroke-opacity: 1;\"/></g></g></g></g></g><g class=\"overplot\"/><path class=\"xlines-above crisp\" d=\"M0,0\" style=\"fill: none;\"/><path class=\"ylines-above crisp\" d=\"M0,0\" style=\"fill: none;\"/><g class=\"overlines-above\"/><g class=\"xaxislayer-above\"><g class=\"xtick\"><text text-anchor=\"middle\" x=\"0\" y=\"252.33333333333334\" transform=\"translate(98,0)\" style=\"font-family: 'Open Sans', verdana, arial, sans-serif; font-size: 12px; fill: rgb(42, 63, 95); fill-opacity: 1; white-space: pre; opacity: 1;\">0</text></g><g class=\"xtick\"><text text-anchor=\"middle\" x=\"0\" y=\"252.33333333333334\" style=\"font-family: 'Open Sans', verdana, arial, sans-serif; font-size: 12px; fill: rgb(42, 63, 95); fill-opacity: 1; white-space: pre; opacity: 1;\" transform=\"translate(137.82,0)\">0.01</text></g><g class=\"xtick\"><text text-anchor=\"middle\" x=\"0\" y=\"252.33333333333334\" style=\"font-family: 'Open Sans', verdana, arial, sans-serif; font-size: 12px; fill: rgb(42, 63, 95); fill-opacity: 1; white-space: pre; opacity: 1;\" transform=\"translate(177.64,0)\">0.02</text></g><g class=\"xtick\"><text text-anchor=\"middle\" x=\"0\" y=\"252.33333333333334\" style=\"font-family: 'Open Sans', verdana, arial, sans-serif; font-size: 12px; fill: rgb(42, 63, 95); fill-opacity: 1; white-space: pre; opacity: 1;\" transform=\"translate(217.45999999999998,0)\">0.03</text></g></g><g class=\"yaxislayer-above\"><g class=\"ytick\"><text text-anchor=\"end\" x=\"97\" y=\"4.199999999999999\" transform=\"translate(0,225.4)\" style=\"font-family: 'Open Sans', verdana, arial, sans-serif; font-size: 12px; fill: rgb(42, 63, 95); fill-opacity: 1; white-space: pre; opacity: 1;\">nt  </text></g><g class=\"ytick\"><text text-anchor=\"end\" x=\"97\" y=\"4.199999999999999\" transform=\"translate(0,197.53)\" style=\"font-family: 'Open Sans', verdana, arial, sans-serif; font-size: 12px; fill: rgb(42, 63, 95); fill-opacity: 1; white-space: pre; opacity: 1;\">food  </text></g><g class=\"ytick\"><text text-anchor=\"end\" x=\"97\" y=\"4.199999999999999\" transform=\"translate(0,169.67000000000002)\" style=\"font-family: 'Open Sans', verdana, arial, sans-serif; font-size: 12px; fill: rgb(42, 63, 95); fill-opacity: 1; white-space: pre; opacity: 1;\">beach  </text></g><g class=\"ytick\"><text text-anchor=\"end\" x=\"97\" y=\"4.199999999999999\" transform=\"translate(0,141.8)\" style=\"font-family: 'Open Sans', verdana, arial, sans-serif; font-size: 12px; fill: rgb(42, 63, 95); fill-opacity: 1; white-space: pre; opacity: 1;\">resort  </text></g><g class=\"ytick\"><text text-anchor=\"end\" x=\"97\" y=\"4.199999999999999\" transform=\"translate(0,113.93)\" style=\"font-family: 'Open Sans', verdana, arial, sans-serif; font-size: 12px; fill: rgb(42, 63, 95); fill-opacity: 1; white-space: pre; opacity: 1;\">not  </text></g></g><g class=\"overaxes-above\"/></g><g class=\"subplot x2y2\"><g class=\"layer-subplot\"><g class=\"shapelayer\"/><g class=\"imagelayer\"/></g><g class=\"minor-gridlayer\"><g class=\"x2\"/><g class=\"y2\"/></g><g class=\"gridlayer\"><g class=\"x2\"><path class=\"x2grid crisp\" transform=\"translate(375.09000000000003,0)\" d=\"M0,100v139.33333333333334\" style=\"stroke: rgb(235, 240, 248); stroke-opacity: 1; stroke-width: 1px;\"/><path class=\"x2grid crisp\" transform=\"translate(426.13,0)\" d=\"M0,100v139.33333333333334\" style=\"stroke: rgb(235, 240, 248); stroke-opacity: 1; stroke-width: 1px;\"/></g><g class=\"y2\"><path class=\"y2grid crisp\" transform=\"translate(0,225.4)\" d=\"M324.05,0h143.85\" style=\"stroke: rgb(235, 240, 248); stroke-opacity: 1; stroke-width: 1px;\"/><path class=\"y2grid crisp\" transform=\"translate(0,197.53)\" d=\"M324.05,0h143.85\" style=\"stroke: rgb(235, 240, 248); stroke-opacity: 1; stroke-width: 1px;\"/><path class=\"y2grid crisp\" transform=\"translate(0,169.67000000000002)\" d=\"M324.05,0h143.85\" style=\"stroke: rgb(235, 240, 248); stroke-opacity: 1; stroke-width: 1px;\"/><path class=\"y2grid crisp\" transform=\"translate(0,141.8)\" d=\"M324.05,0h143.85\" style=\"stroke: rgb(235, 240, 248); stroke-opacity: 1; stroke-width: 1px;\"/><path class=\"y2grid crisp\" transform=\"translate(0,113.93)\" d=\"M324.05,0h143.85\" style=\"stroke: rgb(235, 240, 248); stroke-opacity: 1; stroke-width: 1px;\"/></g></g><g class=\"zerolinelayer\"><path class=\"x2zl zl crisp\" transform=\"translate(324.05,0)\" d=\"M0,100v139.33333333333334\" style=\"stroke: rgb(235, 240, 248); stroke-opacity: 1; stroke-width: 2px;\"/></g><path class=\"xlines-below\"/><path class=\"ylines-below\"/><g class=\"overlines-below\"/><g class=\"xaxislayer-below\"/><g class=\"yaxislayer-below\"/><g class=\"overaxes-below\"/><g class=\"plot\" transform=\"translate(324.05,100)\" clip-path=\"url(#clipdc8df9x2y2plot)\"><g class=\"barlayer mlayer\"><g class=\"trace bars\" style=\"opacity: 1;\"><g class=\"points\"><g class=\"point\"><path d=\"M0,136.55V114.25H86.02V136.55Z\" style=\"vector-effect: non-scaling-stroke; opacity: 1; stroke-width: 0.5px; fill: rgb(0, 114, 178); fill-opacity: 1; stroke: rgb(255, 255, 255); stroke-opacity: 1;\"/></g><g class=\"point\"><path d=\"M0,108.68V86.39H101.34V108.68Z\" style=\"vector-effect: non-scaling-stroke; opacity: 1; stroke-width: 0.5px; fill: rgb(0, 114, 178); fill-opacity: 1; stroke: rgb(255, 255, 255); stroke-opacity: 1;\"/></g><g class=\"point\"><path d=\"M0,80.81V58.52H101.78V80.81Z\" style=\"vector-effect: non-scaling-stroke; opacity: 1; stroke-width: 0.5px; fill: rgb(0, 114, 178); fill-opacity: 1; stroke: rgb(255, 255, 255); stroke-opacity: 1;\"/></g><g class=\"point\"><path d=\"M0,52.95V30.65H121.34V52.95Z\" style=\"vector-effect: non-scaling-stroke; opacity: 1; stroke-width: 0.5px; fill: rgb(0, 114, 178); fill-opacity: 1; stroke: rgb(255, 255, 255); stroke-opacity: 1;\"/></g><g class=\"point\"><path d=\"M0,25.08V2.79H136.66V25.08Z\" style=\"vector-effect: non-scaling-stroke; opacity: 1; stroke-width: 0.5px; fill: rgb(0, 114, 178); fill-opacity: 1; stroke: rgb(255, 255, 255); stroke-opacity: 1;\"/></g></g></g></g></g><g class=\"overplot\"/><path class=\"xlines-above crisp\" d=\"M0,0\" style=\"fill: none;\"/><path class=\"ylines-above crisp\" d=\"M0,0\" style=\"fill: none;\"/><g class=\"overlines-above\"/><g class=\"xaxislayer-above\"><g class=\"x2tick\"><text text-anchor=\"middle\" x=\"0\" y=\"252.33333333333334\" transform=\"translate(324.05,0)\" style=\"font-family: 'Open Sans', verdana, arial, sans-serif; font-size: 12px; fill: rgb(42, 63, 95); fill-opacity: 1; white-space: pre; opacity: 1;\">0</text></g><g class=\"x2tick\"><text text-anchor=\"middle\" x=\"0\" y=\"252.33333333333334\" style=\"font-family: 'Open Sans', verdana, arial, sans-serif; font-size: 12px; fill: rgb(42, 63, 95); fill-opacity: 1; white-space: pre; opacity: 1;\" transform=\"translate(375.09000000000003,0)\">0.02</text></g><g class=\"x2tick\"><text text-anchor=\"middle\" x=\"0\" y=\"252.33333333333334\" style=\"font-family: 'Open Sans', verdana, arial, sans-serif; font-size: 12px; fill: rgb(42, 63, 95); fill-opacity: 1; white-space: pre; opacity: 1;\" transform=\"translate(426.13,0)\">0.04</text></g></g><g class=\"yaxislayer-above\"><g class=\"y2tick\"><text text-anchor=\"end\" x=\"323.05\" y=\"4.199999999999999\" transform=\"translate(0,225.4)\" style=\"font-family: 'Open Sans', verdana, arial, sans-serif; font-size: 12px; fill: rgb(42, 63, 95); fill-opacity: 1; white-space: pre; opacity: 1;\">small  </text></g><g class=\"y2tick\"><text text-anchor=\"end\" x=\"323.05\" y=\"4.199999999999999\" transform=\"translate(0,197.53)\" style=\"font-family: 'Open Sans', verdana, arial, sans-serif; font-size: 12px; fill: rgb(42, 63, 95); fill-opacity: 1; white-space: pre; opacity: 1;\">not  </text></g><g class=\"y2tick\"><text text-anchor=\"end\" x=\"323.05\" y=\"4.199999999999999\" transform=\"translate(0,169.67000000000002)\" style=\"font-family: 'Open Sans', verdana, arial, sans-serif; font-size: 12px; fill: rgb(42, 63, 95); fill-opacity: 1; white-space: pre; opacity: 1;\">rooms  </text></g><g class=\"y2tick\"><text text-anchor=\"end\" x=\"323.05\" y=\"4.199999999999999\" transform=\"translate(0,141.8)\" style=\"font-family: 'Open Sans', verdana, arial, sans-serif; font-size: 12px; fill: rgb(42, 63, 95); fill-opacity: 1; white-space: pre; opacity: 1;\">room  </text></g><g class=\"y2tick\"><text text-anchor=\"end\" x=\"323.05\" y=\"4.199999999999999\" transform=\"translate(0,113.93)\" style=\"font-family: 'Open Sans', verdana, arial, sans-serif; font-size: 12px; fill: rgb(42, 63, 95); fill-opacity: 1; white-space: pre; opacity: 1;\">hotel  </text></g></g><g class=\"overaxes-above\"/></g><g class=\"subplot x3y3\"><g class=\"layer-subplot\"><g class=\"shapelayer\"/><g class=\"imagelayer\"/></g><g class=\"minor-gridlayer\"><g class=\"x3\"/><g class=\"y3\"/></g><g class=\"gridlayer\"><g class=\"x3\"><path class=\"x3grid crisp\" transform=\"translate(605.53,0)\" d=\"M0,100v139.33333333333334\" style=\"stroke: rgb(235, 240, 248); stroke-opacity: 1; stroke-width: 1px;\"/><path class=\"x3grid crisp\" transform=\"translate(660.95,0)\" d=\"M0,100v139.33333333333334\" style=\"stroke: rgb(235, 240, 248); stroke-opacity: 1; stroke-width: 1px;\"/></g><g class=\"y3\"><path class=\"y3grid crisp\" transform=\"translate(0,225.4)\" d=\"M550.1,0h143.85000000000002\" style=\"stroke: rgb(235, 240, 248); stroke-opacity: 1; stroke-width: 1px;\"/><path class=\"y3grid crisp\" transform=\"translate(0,197.53)\" d=\"M550.1,0h143.85000000000002\" style=\"stroke: rgb(235, 240, 248); stroke-opacity: 1; stroke-width: 1px;\"/><path class=\"y3grid crisp\" transform=\"translate(0,169.67000000000002)\" d=\"M550.1,0h143.85000000000002\" style=\"stroke: rgb(235, 240, 248); stroke-opacity: 1; stroke-width: 1px;\"/><path class=\"y3grid crisp\" transform=\"translate(0,141.8)\" d=\"M550.1,0h143.85000000000002\" style=\"stroke: rgb(235, 240, 248); stroke-opacity: 1; stroke-width: 1px;\"/><path class=\"y3grid crisp\" transform=\"translate(0,113.93)\" d=\"M550.1,0h143.85000000000002\" style=\"stroke: rgb(235, 240, 248); stroke-opacity: 1; stroke-width: 1px;\"/></g></g><g class=\"zerolinelayer\"><path class=\"x3zl zl crisp\" transform=\"translate(550.1,0)\" d=\"M0,100v139.33333333333334\" style=\"stroke: rgb(235, 240, 248); stroke-opacity: 1; stroke-width: 2px;\"/></g><path class=\"xlines-below\"/><path class=\"ylines-below\"/><g class=\"overlines-below\"/><g class=\"xaxislayer-below\"/><g class=\"yaxislayer-below\"/><g class=\"overaxes-below\"/><g class=\"plot\" transform=\"translate(550.1,100)\" clip-path=\"url(#clipdc8df9x3y3plot)\"><g class=\"barlayer mlayer\"><g class=\"trace bars\" style=\"opacity: 1;\"><g class=\"points\"><g class=\"point\"><path d=\"M0,136.55V114.25H67.93V136.55Z\" style=\"vector-effect: non-scaling-stroke; opacity: 1; stroke-width: 0.5px; fill: rgb(204, 121, 167); fill-opacity: 1; stroke: rgb(255, 255, 255); stroke-opacity: 1;\"/></g><g class=\"point\"><path d=\"M0,108.68V86.39H81.23V108.68Z\" style=\"vector-effect: non-scaling-stroke; opacity: 1; stroke-width: 0.5px; fill: rgb(204, 121, 167); fill-opacity: 1; stroke: rgb(255, 255, 255); stroke-opacity: 1;\"/></g><g class=\"point\"><path d=\"M0,80.81V58.52H105.74V80.81Z\" style=\"vector-effect: non-scaling-stroke; opacity: 1; stroke-width: 0.5px; fill: rgb(204, 121, 167); fill-opacity: 1; stroke: rgb(255, 255, 255); stroke-opacity: 1;\"/></g><g class=\"point\"><path d=\"M0,52.95V30.65H130.93V52.95Z\" style=\"vector-effect: non-scaling-stroke; opacity: 1; stroke-width: 0.5px; fill: rgb(204, 121, 167); fill-opacity: 1; stroke: rgb(255, 255, 255); stroke-opacity: 1;\"/></g><g class=\"point\"><path d=\"M0,25.08V2.79H136.66V25.08Z\" style=\"vector-effect: non-scaling-stroke; opacity: 1; stroke-width: 0.5px; fill: rgb(204, 121, 167); fill-opacity: 1; stroke: rgb(255, 255, 255); stroke-opacity: 1;\"/></g></g></g></g></g><g class=\"overplot\"/><path class=\"xlines-above crisp\" d=\"M0,0\" style=\"fill: none;\"/><path class=\"ylines-above crisp\" d=\"M0,0\" style=\"fill: none;\"/><g class=\"overlines-above\"/><g class=\"xaxislayer-above\"><g class=\"x3tick\"><text text-anchor=\"middle\" x=\"0\" y=\"252.33333333333334\" transform=\"translate(550.1,0)\" style=\"font-family: 'Open Sans', verdana, arial, sans-serif; font-size: 12px; fill: rgb(42, 63, 95); fill-opacity: 1; white-space: pre; opacity: 1;\">0</text></g><g class=\"x3tick\"><text text-anchor=\"middle\" x=\"0\" y=\"252.33333333333334\" style=\"font-family: 'Open Sans', verdana, arial, sans-serif; font-size: 12px; fill: rgb(42, 63, 95); fill-opacity: 1; white-space: pre; opacity: 1;\" transform=\"translate(605.53,0)\">0.02</text></g><g class=\"x3tick\"><text text-anchor=\"middle\" x=\"0\" y=\"252.33333333333334\" style=\"font-family: 'Open Sans', verdana, arial, sans-serif; font-size: 12px; fill: rgb(42, 63, 95); fill-opacity: 1; white-space: pre; opacity: 1;\" transform=\"translate(660.95,0)\">0.04</text></g></g><g class=\"yaxislayer-above\"><g class=\"y3tick\"><text text-anchor=\"end\" x=\"549.1\" y=\"4.199999999999999\" transform=\"translate(0,225.4)\" style=\"font-family: 'Open Sans', verdana, arial, sans-serif; font-size: 12px; fill: rgb(42, 63, 95); fill-opacity: 1; white-space: pre; opacity: 1;\">room  </text></g><g class=\"y3tick\"><text text-anchor=\"end\" x=\"549.1\" y=\"4.199999999999999\" transform=\"translate(0,197.53)\" style=\"font-family: 'Open Sans', verdana, arial, sans-serif; font-size: 12px; fill: rgb(42, 63, 95); fill-opacity: 1; white-space: pre; opacity: 1;\">not  </text></g><g class=\"y3tick\"><text text-anchor=\"end\" x=\"549.1\" y=\"4.199999999999999\" transform=\"translate(0,169.67000000000002)\" style=\"font-family: 'Open Sans', verdana, arial, sans-serif; font-size: 12px; fill: rgb(42, 63, 95); fill-opacity: 1; white-space: pre; opacity: 1;\">hotel  </text></g><g class=\"y3tick\"><text text-anchor=\"end\" x=\"549.1\" y=\"4.199999999999999\" transform=\"translate(0,141.8)\" style=\"font-family: 'Open Sans', verdana, arial, sans-serif; font-size: 12px; fill: rgb(42, 63, 95); fill-opacity: 1; white-space: pre; opacity: 1;\">san  </text></g><g class=\"y3tick\"><text text-anchor=\"end\" x=\"549.1\" y=\"4.199999999999999\" transform=\"translate(0,113.93)\" style=\"font-family: 'Open Sans', verdana, arial, sans-serif; font-size: 12px; fill: rgb(42, 63, 95); fill-opacity: 1; white-space: pre; opacity: 1;\">juan  </text></g></g><g class=\"overaxes-above\"/></g><g class=\"subplot x4y4\"><g class=\"layer-subplot\"><g class=\"shapelayer\"/><g class=\"imagelayer\"/></g><g class=\"minor-gridlayer\"><g class=\"x4\"/><g class=\"y4\"/></g><g class=\"gridlayer\"><g class=\"x4\"><path class=\"x4grid crisp\" transform=\"translate(815.41,0)\" d=\"M0,100v139.33333333333334\" style=\"stroke: rgb(235, 240, 248); stroke-opacity: 1; stroke-width: 1px;\"/><path class=\"x4grid crisp\" transform=\"translate(854.67,0)\" d=\"M0,100v139.33333333333334\" style=\"stroke: rgb(235, 240, 248); stroke-opacity: 1; stroke-width: 1px;\"/><path class=\"x4grid crisp\" transform=\"translate(893.93,0)\" d=\"M0,100v139.33333333333334\" style=\"stroke: rgb(235, 240, 248); stroke-opacity: 1; stroke-width: 1px;\"/></g><g class=\"y4\"><path class=\"y4grid crisp\" transform=\"translate(0,225.4)\" d=\"M776.15,0h143.85000000000002\" style=\"stroke: rgb(235, 240, 248); stroke-opacity: 1; stroke-width: 1px;\"/><path class=\"y4grid crisp\" transform=\"translate(0,197.53)\" d=\"M776.15,0h143.85000000000002\" style=\"stroke: rgb(235, 240, 248); stroke-opacity: 1; stroke-width: 1px;\"/><path class=\"y4grid crisp\" transform=\"translate(0,169.67000000000002)\" d=\"M776.15,0h143.85000000000002\" style=\"stroke: rgb(235, 240, 248); stroke-opacity: 1; stroke-width: 1px;\"/><path class=\"y4grid crisp\" transform=\"translate(0,141.8)\" d=\"M776.15,0h143.85000000000002\" style=\"stroke: rgb(235, 240, 248); stroke-opacity: 1; stroke-width: 1px;\"/><path class=\"y4grid crisp\" transform=\"translate(0,113.93)\" d=\"M776.15,0h143.85000000000002\" style=\"stroke: rgb(235, 240, 248); stroke-opacity: 1; stroke-width: 1px;\"/></g></g><g class=\"zerolinelayer\"><path class=\"x4zl zl crisp\" transform=\"translate(776.15,0)\" d=\"M0,100v139.33333333333334\" style=\"stroke: rgb(235, 240, 248); stroke-opacity: 1; stroke-width: 2px;\"/></g><path class=\"xlines-below\"/><path class=\"ylines-below\"/><g class=\"overlines-below\"/><g class=\"xaxislayer-below\"/><g class=\"yaxislayer-below\"/><g class=\"overaxes-below\"/><g class=\"plot\" transform=\"translate(776.15,100)\" clip-path=\"url(#clipdc8df9x4y4plot)\"><g class=\"barlayer mlayer\"><g class=\"trace bars\" style=\"opacity: 1;\"><g class=\"points\"><g class=\"point\"><path d=\"M0,136.55V114.25H49.15V136.55Z\" style=\"vector-effect: non-scaling-stroke; opacity: 1; stroke-width: 0.5px; fill: rgb(230, 159, 0); fill-opacity: 1; stroke: rgb(255, 255, 255); stroke-opacity: 1;\"/></g><g class=\"point\"><path d=\"M0,108.68V86.39H62.52V108.68Z\" style=\"vector-effect: non-scaling-stroke; opacity: 1; stroke-width: 0.5px; fill: rgb(230, 159, 0); fill-opacity: 1; stroke: rgb(255, 255, 255); stroke-opacity: 1;\"/></g><g class=\"point\"><path d=\"M0,80.81V58.52H80.03V80.81Z\" style=\"vector-effect: non-scaling-stroke; opacity: 1; stroke-width: 0.5px; fill: rgb(230, 159, 0); fill-opacity: 1; stroke: rgb(255, 255, 255); stroke-opacity: 1;\"/></g><g class=\"point\"><path d=\"M0,52.95V30.65H87.32V52.95Z\" style=\"vector-effect: non-scaling-stroke; opacity: 1; stroke-width: 0.5px; fill: rgb(230, 159, 0); fill-opacity: 1; stroke: rgb(255, 255, 255); stroke-opacity: 1;\"/></g><g class=\"point\"><path d=\"M0,25.08V2.79H136.66V25.08Z\" style=\"vector-effect: non-scaling-stroke; opacity: 1; stroke-width: 0.5px; fill: rgb(230, 159, 0); fill-opacity: 1; stroke: rgb(255, 255, 255); stroke-opacity: 1;\"/></g></g></g></g></g><g class=\"overplot\"/><path class=\"xlines-above crisp\" d=\"M0,0\" style=\"fill: none;\"/><path class=\"ylines-above crisp\" d=\"M0,0\" style=\"fill: none;\"/><g class=\"overlines-above\"/><g class=\"xaxislayer-above\"><g class=\"x4tick\"><text text-anchor=\"middle\" x=\"0\" y=\"252.33333333333334\" transform=\"translate(776.15,0)\" style=\"font-family: 'Open Sans', verdana, arial, sans-serif; font-size: 12px; fill: rgb(42, 63, 95); fill-opacity: 1; white-space: pre; opacity: 1;\">0</text></g><g class=\"x4tick\"><text text-anchor=\"middle\" x=\"0\" y=\"252.33333333333334\" style=\"font-family: 'Open Sans', verdana, arial, sans-serif; font-size: 12px; fill: rgb(42, 63, 95); fill-opacity: 1; white-space: pre; opacity: 1;\" transform=\"translate(815.41,0)\">0.02</text></g><g class=\"x4tick\"><text text-anchor=\"middle\" x=\"0\" y=\"252.33333333333334\" style=\"font-family: 'Open Sans', verdana, arial, sans-serif; font-size: 12px; fill: rgb(42, 63, 95); fill-opacity: 1; white-space: pre; opacity: 1;\" transform=\"translate(854.67,0)\">0.04</text></g><g class=\"x4tick\"><text text-anchor=\"middle\" x=\"0\" y=\"252.33333333333334\" style=\"font-family: 'Open Sans', verdana, arial, sans-serif; font-size: 12px; fill: rgb(42, 63, 95); fill-opacity: 1; white-space: pre; opacity: 1;\" transform=\"translate(893.93,0)\">0.06</text></g></g><g class=\"yaxislayer-above\"><g class=\"y4tick\"><text text-anchor=\"end\" x=\"775.15\" y=\"4.199999999999999\" transform=\"translate(0,225.4)\" style=\"font-family: 'Open Sans', verdana, arial, sans-serif; font-size: 12px; fill: rgb(42, 63, 95); fill-opacity: 1; white-space: pre; opacity: 1;\">location  </text></g><g class=\"y4tick\"><text text-anchor=\"end\" x=\"775.15\" y=\"4.199999999999999\" transform=\"translate(0,197.53)\" style=\"font-family: 'Open Sans', verdana, arial, sans-serif; font-size: 12px; fill: rgb(42, 63, 95); fill-opacity: 1; white-space: pre; opacity: 1;\">not  </text></g><g class=\"y4tick\"><text text-anchor=\"end\" x=\"775.15\" y=\"4.199999999999999\" transform=\"translate(0,169.67000000000002)\" style=\"font-family: 'Open Sans', verdana, arial, sans-serif; font-size: 12px; fill: rgb(42, 63, 95); fill-opacity: 1; white-space: pre; opacity: 1;\">hotel  </text></g><g class=\"y4tick\"><text text-anchor=\"end\" x=\"775.15\" y=\"4.199999999999999\" transform=\"translate(0,141.8)\" style=\"font-family: 'Open Sans', verdana, arial, sans-serif; font-size: 12px; fill: rgb(42, 63, 95); fill-opacity: 1; white-space: pre; opacity: 1;\">room  </text></g><g class=\"y4tick\"><text text-anchor=\"end\" x=\"775.15\" y=\"4.199999999999999\" transform=\"translate(0,113.93)\" style=\"font-family: 'Open Sans', verdana, arial, sans-serif; font-size: 12px; fill: rgb(42, 63, 95); fill-opacity: 1; white-space: pre; opacity: 1;\">amsterdam  </text></g></g><g class=\"overaxes-above\"/></g><g class=\"subplot x5y5\"><g class=\"layer-subplot\"><g class=\"shapelayer\"/><g class=\"imagelayer\"/></g><g class=\"minor-gridlayer\"><g class=\"x5\"/><g class=\"y5\"/></g><g class=\"gridlayer\"><g class=\"x5\"><path class=\"x5grid crisp\" transform=\"translate(137.16,0)\" d=\"M0,315.3333333333333v139.33333333333334\" style=\"stroke: rgb(235, 240, 248); stroke-opacity: 1; stroke-width: 1px;\"/><path class=\"x5grid crisp\" transform=\"translate(176.32,0)\" d=\"M0,315.3333333333333v139.33333333333334\" style=\"stroke: rgb(235, 240, 248); stroke-opacity: 1; stroke-width: 1px;\"/><path class=\"x5grid crisp\" transform=\"translate(215.49,0)\" d=\"M0,315.3333333333333v139.33333333333334\" style=\"stroke: rgb(235, 240, 248); stroke-opacity: 1; stroke-width: 1px;\"/></g><g class=\"y5\"><path class=\"y5grid crisp\" transform=\"translate(0,440.73333333333335)\" d=\"M98,0h143.85\" style=\"stroke: rgb(235, 240, 248); stroke-opacity: 1; stroke-width: 1px;\"/><path class=\"y5grid crisp\" transform=\"translate(0,412.86333333333334)\" d=\"M98,0h143.85\" style=\"stroke: rgb(235, 240, 248); stroke-opacity: 1; stroke-width: 1px;\"/><path class=\"y5grid crisp\" transform=\"translate(0,385.00333333333333)\" d=\"M98,0h143.85\" style=\"stroke: rgb(235, 240, 248); stroke-opacity: 1; stroke-width: 1px;\"/><path class=\"y5grid crisp\" transform=\"translate(0,357.1333333333333)\" d=\"M98,0h143.85\" style=\"stroke: rgb(235, 240, 248); stroke-opacity: 1; stroke-width: 1px;\"/><path class=\"y5grid crisp\" transform=\"translate(0,329.2633333333333)\" d=\"M98,0h143.85\" style=\"stroke: rgb(235, 240, 248); stroke-opacity: 1; stroke-width: 1px;\"/></g></g><g class=\"zerolinelayer\"><path class=\"x5zl zl crisp\" transform=\"translate(98,0)\" d=\"M0,315.3333333333333v139.33333333333334\" style=\"stroke: rgb(235, 240, 248); stroke-opacity: 1; stroke-width: 2px;\"/></g><path class=\"xlines-below\"/><path class=\"ylines-below\"/><g class=\"overlines-below\"/><g class=\"xaxislayer-below\"/><g class=\"yaxislayer-below\"/><g class=\"overaxes-below\"/><g class=\"plot\" transform=\"translate(98,315.3333333333333)\" clip-path=\"url(#clipdc8df9x5y5plot)\"><g class=\"barlayer mlayer\"><g class=\"trace bars\" style=\"opacity: 1;\"><g class=\"points\"><g class=\"point\"><path d=\"M0,136.55V114.25H66.49V136.55Z\" style=\"vector-effect: non-scaling-stroke; opacity: 1; stroke-width: 0.5px; fill: rgb(86, 180, 233); fill-opacity: 1; stroke: rgb(255, 255, 255); stroke-opacity: 1;\"/></g><g class=\"point\"><path d=\"M0,108.68V86.39H79.94V108.68Z\" style=\"vector-effect: non-scaling-stroke; opacity: 1; stroke-width: 0.5px; fill: rgb(86, 180, 233); fill-opacity: 1; stroke: rgb(255, 255, 255); stroke-opacity: 1;\"/></g><g class=\"point\"><path d=\"M0,80.81V58.52H89.76V80.81Z\" style=\"vector-effect: non-scaling-stroke; opacity: 1; stroke-width: 0.5px; fill: rgb(86, 180, 233); fill-opacity: 1; stroke: rgb(255, 255, 255); stroke-opacity: 1;\"/></g><g class=\"point\"><path d=\"M0,52.95V30.65H97.51V52.95Z\" style=\"vector-effect: non-scaling-stroke; opacity: 1; stroke-width: 0.5px; fill: rgb(86, 180, 233); fill-opacity: 1; stroke: rgb(255, 255, 255); stroke-opacity: 1;\"/></g><g class=\"point\"><path d=\"M0,25.08V2.79H136.66V25.08Z\" style=\"vector-effect: non-scaling-stroke; opacity: 1; stroke-width: 0.5px; fill: rgb(86, 180, 233); fill-opacity: 1; stroke: rgb(255, 255, 255); stroke-opacity: 1;\"/></g></g></g></g></g><g class=\"overplot\"/><path class=\"xlines-above crisp\" d=\"M0,0\" style=\"fill: none;\"/><path class=\"ylines-above crisp\" d=\"M0,0\" style=\"fill: none;\"/><g class=\"overlines-above\"/><g class=\"xaxislayer-above\"><g class=\"x5tick\"><text text-anchor=\"middle\" x=\"0\" y=\"467.66666666666663\" transform=\"translate(98,0)\" style=\"font-family: 'Open Sans', verdana, arial, sans-serif; font-size: 12px; fill: rgb(42, 63, 95); fill-opacity: 1; white-space: pre; opacity: 1;\">0</text></g><g class=\"x5tick\"><text text-anchor=\"middle\" x=\"0\" y=\"467.66666666666663\" style=\"font-family: 'Open Sans', verdana, arial, sans-serif; font-size: 12px; fill: rgb(42, 63, 95); fill-opacity: 1; white-space: pre; opacity: 1;\" transform=\"translate(137.16,0)\">0.02</text></g><g class=\"x5tick\"><text text-anchor=\"middle\" x=\"0\" y=\"467.66666666666663\" style=\"font-family: 'Open Sans', verdana, arial, sans-serif; font-size: 12px; fill: rgb(42, 63, 95); fill-opacity: 1; white-space: pre; opacity: 1;\" transform=\"translate(176.32,0)\">0.04</text></g><g class=\"x5tick\"><text text-anchor=\"middle\" x=\"0\" y=\"467.66666666666663\" style=\"font-family: 'Open Sans', verdana, arial, sans-serif; font-size: 12px; fill: rgb(42, 63, 95); fill-opacity: 1; white-space: pre; opacity: 1;\" transform=\"translate(215.49,0)\">0.06</text></g></g><g class=\"yaxislayer-above\"><g class=\"y5tick\"><text text-anchor=\"end\" x=\"97\" y=\"4.199999999999999\" transform=\"translate(0,440.73333333333335)\" style=\"font-family: 'Open Sans', verdana, arial, sans-serif; font-size: 12px; fill: rgb(42, 63, 95); fill-opacity: 1; white-space: pre; opacity: 1;\">rooms  </text></g><g class=\"y5tick\"><text text-anchor=\"end\" x=\"97\" y=\"4.199999999999999\" transform=\"translate(0,412.86333333333334)\" style=\"font-family: 'Open Sans', verdana, arial, sans-serif; font-size: 12px; fill: rgb(42, 63, 95); fill-opacity: 1; white-space: pre; opacity: 1;\">room  </text></g><g class=\"y5tick\"><text text-anchor=\"end\" x=\"97\" y=\"4.199999999999999\" transform=\"translate(0,385.00333333333333)\" style=\"font-family: 'Open Sans', verdana, arial, sans-serif; font-size: 12px; fill: rgb(42, 63, 95); fill-opacity: 1; white-space: pre; opacity: 1;\">noisy  </text></g><g class=\"y5tick\"><text text-anchor=\"end\" x=\"97\" y=\"4.199999999999999\" transform=\"translate(0,357.1333333333333)\" style=\"font-family: 'Open Sans', verdana, arial, sans-serif; font-size: 12px; fill: rgb(42, 63, 95); fill-opacity: 1; white-space: pre; opacity: 1;\">hotel  </text></g><g class=\"y5tick\"><text text-anchor=\"end\" x=\"97\" y=\"4.199999999999999\" transform=\"translate(0,329.2633333333333)\" style=\"font-family: 'Open Sans', verdana, arial, sans-serif; font-size: 12px; fill: rgb(42, 63, 95); fill-opacity: 1; white-space: pre; opacity: 1;\">noise  </text></g></g><g class=\"overaxes-above\"/></g><g class=\"subplot x6y6\"><g class=\"layer-subplot\"><g class=\"shapelayer\"/><g class=\"imagelayer\"/></g><g class=\"minor-gridlayer\"><g class=\"x6\"/><g class=\"y6\"/></g><g class=\"gridlayer\"><g class=\"x6\"><path class=\"x6grid crisp\" transform=\"translate(369.74,0)\" d=\"M0,315.3333333333333v139.33333333333334\" style=\"stroke: rgb(235, 240, 248); stroke-opacity: 1; stroke-width: 1px;\"/><path class=\"x6grid crisp\" transform=\"translate(415.43,0)\" d=\"M0,315.3333333333333v139.33333333333334\" style=\"stroke: rgb(235, 240, 248); stroke-opacity: 1; stroke-width: 1px;\"/><path class=\"x6grid crisp\" transform=\"translate(461.12,0)\" d=\"M0,315.3333333333333v139.33333333333334\" style=\"stroke: rgb(235, 240, 248); stroke-opacity: 1; stroke-width: 1px;\"/></g><g class=\"y6\"><path class=\"y6grid crisp\" transform=\"translate(0,440.73333333333335)\" d=\"M324.05,0h143.85\" style=\"stroke: rgb(235, 240, 248); stroke-opacity: 1; stroke-width: 1px;\"/><path class=\"y6grid crisp\" transform=\"translate(0,412.86333333333334)\" d=\"M324.05,0h143.85\" style=\"stroke: rgb(235, 240, 248); stroke-opacity: 1; stroke-width: 1px;\"/><path class=\"y6grid crisp\" transform=\"translate(0,385.00333333333333)\" d=\"M324.05,0h143.85\" style=\"stroke: rgb(235, 240, 248); stroke-opacity: 1; stroke-width: 1px;\"/><path class=\"y6grid crisp\" transform=\"translate(0,357.1333333333333)\" d=\"M324.05,0h143.85\" style=\"stroke: rgb(235, 240, 248); stroke-opacity: 1; stroke-width: 1px;\"/><path class=\"y6grid crisp\" transform=\"translate(0,329.2633333333333)\" d=\"M324.05,0h143.85\" style=\"stroke: rgb(235, 240, 248); stroke-opacity: 1; stroke-width: 1px;\"/></g></g><g class=\"zerolinelayer\"><path class=\"x6zl zl crisp\" transform=\"translate(324.05,0)\" d=\"M0,315.3333333333333v139.33333333333334\" style=\"stroke: rgb(235, 240, 248); stroke-opacity: 1; stroke-width: 2px;\"/></g><path class=\"xlines-below\"/><path class=\"ylines-below\"/><g class=\"overlines-below\"/><g class=\"xaxislayer-below\"/><g class=\"yaxislayer-below\"/><g class=\"overaxes-below\"/><g class=\"plot\" transform=\"translate(324.05,315.3333333333333)\" clip-path=\"url(#clipdc8df9x6y6plot)\"><g class=\"barlayer mlayer\"><g class=\"trace bars\" style=\"opacity: 1;\"><g class=\"points\"><g class=\"point\"><path d=\"M0,136.55V114.25H47.79V136.55Z\" style=\"vector-effect: non-scaling-stroke; opacity: 1; stroke-width: 0.5px; fill: rgb(0, 158, 115); fill-opacity: 1; stroke: rgb(255, 255, 255); stroke-opacity: 1;\"/></g><g class=\"point\"><path d=\"M0,108.68V86.39H84.26V108.68Z\" style=\"vector-effect: non-scaling-stroke; opacity: 1; stroke-width: 0.5px; fill: rgb(0, 158, 115); fill-opacity: 1; stroke: rgb(255, 255, 255); stroke-opacity: 1;\"/></g><g class=\"point\"><path d=\"M0,80.81V58.52H84.99V80.81Z\" style=\"vector-effect: non-scaling-stroke; opacity: 1; stroke-width: 0.5px; fill: rgb(0, 158, 115); fill-opacity: 1; stroke: rgb(255, 255, 255); stroke-opacity: 1;\"/></g><g class=\"point\"><path d=\"M0,52.95V30.65H124.01V52.95Z\" style=\"vector-effect: non-scaling-stroke; opacity: 1; stroke-width: 0.5px; fill: rgb(0, 158, 115); fill-opacity: 1; stroke: rgb(255, 255, 255); stroke-opacity: 1;\"/></g><g class=\"point\"><path d=\"M0,25.08V2.79H136.66V25.08Z\" style=\"vector-effect: non-scaling-stroke; opacity: 1; stroke-width: 0.5px; fill: rgb(0, 158, 115); fill-opacity: 1; stroke: rgb(255, 255, 255); stroke-opacity: 1;\"/></g></g></g></g></g><g class=\"overplot\"/><path class=\"xlines-above crisp\" d=\"M0,0\" style=\"fill: none;\"/><path class=\"ylines-above crisp\" d=\"M0,0\" style=\"fill: none;\"/><g class=\"overlines-above\"/><g class=\"xaxislayer-above\"><g class=\"x6tick\"><text text-anchor=\"middle\" x=\"0\" y=\"467.66666666666663\" transform=\"translate(324.05,0)\" style=\"font-family: 'Open Sans', verdana, arial, sans-serif; font-size: 12px; fill: rgb(42, 63, 95); fill-opacity: 1; white-space: pre; opacity: 1;\">0</text></g><g class=\"x6tick\"><text text-anchor=\"middle\" x=\"0\" y=\"467.66666666666663\" style=\"font-family: 'Open Sans', verdana, arial, sans-serif; font-size: 12px; fill: rgb(42, 63, 95); fill-opacity: 1; white-space: pre; opacity: 1;\" transform=\"translate(369.74,0)\">0.02</text></g><g class=\"x6tick\"><text text-anchor=\"middle\" x=\"0\" y=\"467.66666666666663\" style=\"font-family: 'Open Sans', verdana, arial, sans-serif; font-size: 12px; fill: rgb(42, 63, 95); fill-opacity: 1; white-space: pre; opacity: 1;\" transform=\"translate(415.43,0)\">0.04</text></g><g class=\"x6tick\"><text text-anchor=\"middle\" x=\"0\" y=\"467.66666666666663\" style=\"font-family: 'Open Sans', verdana, arial, sans-serif; font-size: 12px; fill: rgb(42, 63, 95); fill-opacity: 1; white-space: pre; opacity: 1;\" transform=\"translate(461.12,0)\">0.06</text></g></g><g class=\"yaxislayer-above\"><g class=\"y6tick\"><text text-anchor=\"end\" x=\"323.05\" y=\"4.199999999999999\" transform=\"translate(0,440.73333333333335)\" style=\"font-family: 'Open Sans', verdana, arial, sans-serif; font-size: 12px; fill: rgb(42, 63, 95); fill-opacity: 1; white-space: pre; opacity: 1;\">no  </text></g><g class=\"y6tick\"><text text-anchor=\"end\" x=\"323.05\" y=\"4.199999999999999\" transform=\"translate(0,412.86333333333334)\" style=\"font-family: 'Open Sans', verdana, arial, sans-serif; font-size: 12px; fill: rgb(42, 63, 95); fill-opacity: 1; white-space: pre; opacity: 1;\">not  </text></g><g class=\"y6tick\"><text text-anchor=\"end\" x=\"323.05\" y=\"4.199999999999999\" transform=\"translate(0,385.00333333333333)\" style=\"font-family: 'Open Sans', verdana, arial, sans-serif; font-size: 12px; fill: rgb(42, 63, 95); fill-opacity: 1; white-space: pre; opacity: 1;\">room  </text></g><g class=\"y6tick\"><text text-anchor=\"end\" x=\"323.05\" y=\"4.199999999999999\" transform=\"translate(0,357.1333333333333)\" style=\"font-family: 'Open Sans', verdana, arial, sans-serif; font-size: 12px; fill: rgb(42, 63, 95); fill-opacity: 1; white-space: pre; opacity: 1;\">barcelona  </text></g><g class=\"y6tick\"><text text-anchor=\"end\" x=\"323.05\" y=\"4.199999999999999\" transform=\"translate(0,329.2633333333333)\" style=\"font-family: 'Open Sans', verdana, arial, sans-serif; font-size: 12px; fill: rgb(42, 63, 95); fill-opacity: 1; white-space: pre; opacity: 1;\">hotel  </text></g></g><g class=\"overaxes-above\"/></g><g class=\"subplot x7y7\"><g class=\"layer-subplot\"><g class=\"shapelayer\"/><g class=\"imagelayer\"/></g><g class=\"minor-gridlayer\"><g class=\"x7\"/><g class=\"y7\"/></g><g class=\"gridlayer\"><g class=\"x7\"><path class=\"x7grid crisp\" transform=\"translate(592.1600000000001,0)\" d=\"M0,315.3333333333333v139.33333333333334\" style=\"stroke: rgb(235, 240, 248); stroke-opacity: 1; stroke-width: 1px;\"/><path class=\"x7grid crisp\" transform=\"translate(634.21,0)\" d=\"M0,315.3333333333333v139.33333333333334\" style=\"stroke: rgb(235, 240, 248); stroke-opacity: 1; stroke-width: 1px;\"/><path class=\"x7grid crisp\" transform=\"translate(676.27,0)\" d=\"M0,315.3333333333333v139.33333333333334\" style=\"stroke: rgb(235, 240, 248); stroke-opacity: 1; stroke-width: 1px;\"/></g><g class=\"y7\"><path class=\"y7grid crisp\" transform=\"translate(0,440.73333333333335)\" d=\"M550.1,0h143.85000000000002\" style=\"stroke: rgb(235, 240, 248); stroke-opacity: 1; stroke-width: 1px;\"/><path class=\"y7grid crisp\" transform=\"translate(0,412.86333333333334)\" d=\"M550.1,0h143.85000000000002\" style=\"stroke: rgb(235, 240, 248); stroke-opacity: 1; stroke-width: 1px;\"/><path class=\"y7grid crisp\" transform=\"translate(0,385.00333333333333)\" d=\"M550.1,0h143.85000000000002\" style=\"stroke: rgb(235, 240, 248); stroke-opacity: 1; stroke-width: 1px;\"/><path class=\"y7grid crisp\" transform=\"translate(0,357.1333333333333)\" d=\"M550.1,0h143.85000000000002\" style=\"stroke: rgb(235, 240, 248); stroke-opacity: 1; stroke-width: 1px;\"/><path class=\"y7grid crisp\" transform=\"translate(0,329.2633333333333)\" d=\"M550.1,0h143.85000000000002\" style=\"stroke: rgb(235, 240, 248); stroke-opacity: 1; stroke-width: 1px;\"/></g></g><g class=\"zerolinelayer\"><path class=\"x7zl zl crisp\" transform=\"translate(550.1,0)\" d=\"M0,315.3333333333333v139.33333333333334\" style=\"stroke: rgb(235, 240, 248); stroke-opacity: 1; stroke-width: 2px;\"/></g><path class=\"xlines-below\"/><path class=\"ylines-below\"/><g class=\"overlines-below\"/><g class=\"xaxislayer-below\"/><g class=\"yaxislayer-below\"/><g class=\"overaxes-below\"/><g class=\"plot\" transform=\"translate(550.1,315.3333333333333)\" clip-path=\"url(#clipdc8df9x7y7plot)\"><g class=\"barlayer mlayer\"><g class=\"trace bars\" style=\"opacity: 1;\"><g class=\"points\"><g class=\"point\"><path d=\"M0,136.55V114.25H51.39V136.55Z\" style=\"vector-effect: non-scaling-stroke; opacity: 1; stroke-width: 0.5px; fill: rgb(240, 228, 66); fill-opacity: 1; stroke: rgb(255, 255, 255); stroke-opacity: 1;\"/></g><g class=\"point\"><path d=\"M0,108.68V86.39H61.92V108.68Z\" style=\"vector-effect: non-scaling-stroke; opacity: 1; stroke-width: 0.5px; fill: rgb(240, 228, 66); fill-opacity: 1; stroke: rgb(255, 255, 255); stroke-opacity: 1;\"/></g><g class=\"point\"><path d=\"M0,80.81V58.52H70.57V80.81Z\" style=\"vector-effect: non-scaling-stroke; opacity: 1; stroke-width: 0.5px; fill: rgb(240, 228, 66); fill-opacity: 1; stroke: rgb(255, 255, 255); stroke-opacity: 1;\"/></g><g class=\"point\"><path d=\"M0,52.95V30.65H72.57V52.95Z\" style=\"vector-effect: non-scaling-stroke; opacity: 1; stroke-width: 0.5px; fill: rgb(240, 228, 66); fill-opacity: 1; stroke: rgb(255, 255, 255); stroke-opacity: 1;\"/></g><g class=\"point\"><path d=\"M0,25.08V2.79H136.66V25.08Z\" style=\"vector-effect: non-scaling-stroke; opacity: 1; stroke-width: 0.5px; fill: rgb(240, 228, 66); fill-opacity: 1; stroke: rgb(255, 255, 255); stroke-opacity: 1;\"/></g></g></g></g></g><g class=\"overplot\"/><path class=\"xlines-above crisp\" d=\"M0,0\" style=\"fill: none;\"/><path class=\"ylines-above crisp\" d=\"M0,0\" style=\"fill: none;\"/><g class=\"overlines-above\"/><g class=\"xaxislayer-above\"><g class=\"x7tick\"><text text-anchor=\"middle\" x=\"0\" y=\"467.66666666666663\" transform=\"translate(550.1,0)\" style=\"font-family: 'Open Sans', verdana, arial, sans-serif; font-size: 12px; fill: rgb(42, 63, 95); fill-opacity: 1; white-space: pre; opacity: 1;\">0</text></g><g class=\"x7tick\"><text text-anchor=\"middle\" x=\"0\" y=\"467.66666666666663\" style=\"font-family: 'Open Sans', verdana, arial, sans-serif; font-size: 12px; fill: rgb(42, 63, 95); fill-opacity: 1; white-space: pre; opacity: 1;\" transform=\"translate(592.1600000000001,0)\">0.02</text></g><g class=\"x7tick\"><text text-anchor=\"middle\" x=\"0\" y=\"467.66666666666663\" style=\"font-family: 'Open Sans', verdana, arial, sans-serif; font-size: 12px; fill: rgb(42, 63, 95); fill-opacity: 1; white-space: pre; opacity: 1;\" transform=\"translate(634.21,0)\">0.04</text></g><g class=\"x7tick\"><text text-anchor=\"middle\" x=\"0\" y=\"467.66666666666663\" style=\"font-family: 'Open Sans', verdana, arial, sans-serif; font-size: 12px; fill: rgb(42, 63, 95); fill-opacity: 1; white-space: pre; opacity: 1;\" transform=\"translate(676.27,0)\">0.06</text></g></g><g class=\"yaxislayer-above\"><g class=\"y7tick\"><text text-anchor=\"end\" x=\"549.1\" y=\"4.199999999999999\" transform=\"translate(0,440.73333333333335)\" style=\"font-family: 'Open Sans', verdana, arial, sans-serif; font-size: 12px; fill: rgb(42, 63, 95); fill-opacity: 1; white-space: pre; opacity: 1;\">westin  </text></g><g class=\"y7tick\"><text text-anchor=\"end\" x=\"549.1\" y=\"4.199999999999999\" transform=\"translate(0,412.86333333333334)\" style=\"font-family: 'Open Sans', verdana, arial, sans-serif; font-size: 12px; fill: rgb(42, 63, 95); fill-opacity: 1; white-space: pre; opacity: 1;\">not  </text></g><g class=\"y7tick\"><text text-anchor=\"end\" x=\"549.1\" y=\"4.199999999999999\" transform=\"translate(0,385.00333333333333)\" style=\"font-family: 'Open Sans', verdana, arial, sans-serif; font-size: 12px; fill: rgb(42, 63, 95); fill-opacity: 1; white-space: pre; opacity: 1;\">room  </text></g><g class=\"y7tick\"><text text-anchor=\"end\" x=\"549.1\" y=\"4.199999999999999\" transform=\"translate(0,357.1333333333333)\" style=\"font-family: 'Open Sans', verdana, arial, sans-serif; font-size: 12px; fill: rgb(42, 63, 95); fill-opacity: 1; white-space: pre; opacity: 1;\">hotel  </text></g><g class=\"y7tick\"><text text-anchor=\"end\" x=\"549.1\" y=\"4.199999999999999\" transform=\"translate(0,329.2633333333333)\" style=\"font-family: 'Open Sans', verdana, arial, sans-serif; font-size: 12px; fill: rgb(42, 63, 95); fill-opacity: 1; white-space: pre; opacity: 1;\">seattle  </text></g></g><g class=\"overaxes-above\"/></g><g class=\"subplot x8y8\"><g class=\"layer-subplot\"><g class=\"shapelayer\"/><g class=\"imagelayer\"/></g><g class=\"minor-gridlayer\"><g class=\"x8\"/><g class=\"y8\"/></g><g class=\"gridlayer\"><g class=\"x8\"><path class=\"x8grid crisp\" transform=\"translate(813.61,0)\" d=\"M0,315.3333333333333v139.33333333333334\" style=\"stroke: rgb(235, 240, 248); stroke-opacity: 1; stroke-width: 1px;\"/><path class=\"x8grid crisp\" transform=\"translate(851.0699999999999,0)\" d=\"M0,315.3333333333333v139.33333333333334\" style=\"stroke: rgb(235, 240, 248); stroke-opacity: 1; stroke-width: 1px;\"/><path class=\"x8grid crisp\" transform=\"translate(888.54,0)\" d=\"M0,315.3333333333333v139.33333333333334\" style=\"stroke: rgb(235, 240, 248); stroke-opacity: 1; stroke-width: 1px;\"/></g><g class=\"y8\"><path class=\"y8grid crisp\" transform=\"translate(0,440.73333333333335)\" d=\"M776.15,0h143.85000000000002\" style=\"stroke: rgb(235, 240, 248); stroke-opacity: 1; stroke-width: 1px;\"/><path class=\"y8grid crisp\" transform=\"translate(0,412.86333333333334)\" d=\"M776.15,0h143.85000000000002\" style=\"stroke: rgb(235, 240, 248); stroke-opacity: 1; stroke-width: 1px;\"/><path class=\"y8grid crisp\" transform=\"translate(0,385.00333333333333)\" d=\"M776.15,0h143.85000000000002\" style=\"stroke: rgb(235, 240, 248); stroke-opacity: 1; stroke-width: 1px;\"/><path class=\"y8grid crisp\" transform=\"translate(0,357.1333333333333)\" d=\"M776.15,0h143.85000000000002\" style=\"stroke: rgb(235, 240, 248); stroke-opacity: 1; stroke-width: 1px;\"/><path class=\"y8grid crisp\" transform=\"translate(0,329.2633333333333)\" d=\"M776.15,0h143.85000000000002\" style=\"stroke: rgb(235, 240, 248); stroke-opacity: 1; stroke-width: 1px;\"/></g></g><g class=\"zerolinelayer\"><path class=\"x8zl zl crisp\" transform=\"translate(776.15,0)\" d=\"M0,315.3333333333333v139.33333333333334\" style=\"stroke: rgb(235, 240, 248); stroke-opacity: 1; stroke-width: 2px;\"/></g><path class=\"xlines-below\"/><path class=\"ylines-below\"/><g class=\"overlines-below\"/><g class=\"xaxislayer-below\"/><g class=\"yaxislayer-below\"/><g class=\"overaxes-below\"/><g class=\"plot\" transform=\"translate(776.15,315.3333333333333)\" clip-path=\"url(#clipdc8df9x8y8plot)\"><g class=\"barlayer mlayer\"><g class=\"trace bars\" style=\"opacity: 1;\"><g class=\"points\"><g class=\"point\"><path d=\"M0,136.55V114.25H89.67V136.55Z\" style=\"vector-effect: non-scaling-stroke; opacity: 1; stroke-width: 0.5px; fill: rgb(213, 94, 0); fill-opacity: 1; stroke: rgb(255, 255, 255); stroke-opacity: 1;\"/></g><g class=\"point\"><path d=\"M0,108.68V86.39H95.21V108.68Z\" style=\"vector-effect: non-scaling-stroke; opacity: 1; stroke-width: 0.5px; fill: rgb(213, 94, 0); fill-opacity: 1; stroke: rgb(255, 255, 255); stroke-opacity: 1;\"/></g><g class=\"point\"><path d=\"M0,80.81V58.52H99.85V80.81Z\" style=\"vector-effect: non-scaling-stroke; opacity: 1; stroke-width: 0.5px; fill: rgb(213, 94, 0); fill-opacity: 1; stroke: rgb(255, 255, 255); stroke-opacity: 1;\"/></g><g class=\"point\"><path d=\"M0,52.95V30.65H121.39V52.95Z\" style=\"vector-effect: non-scaling-stroke; opacity: 1; stroke-width: 0.5px; fill: rgb(213, 94, 0); fill-opacity: 1; stroke: rgb(255, 255, 255); stroke-opacity: 1;\"/></g><g class=\"point\"><path d=\"M0,25.08V2.79H136.66V25.08Z\" style=\"vector-effect: non-scaling-stroke; opacity: 1; stroke-width: 0.5px; fill: rgb(213, 94, 0); fill-opacity: 1; stroke: rgb(255, 255, 255); stroke-opacity: 1;\"/></g></g></g></g></g><g class=\"overplot\"/><path class=\"xlines-above crisp\" d=\"M0,0\" style=\"fill: none;\"/><path class=\"ylines-above crisp\" d=\"M0,0\" style=\"fill: none;\"/><g class=\"overlines-above\"/><g class=\"xaxislayer-above\"><g class=\"x8tick\"><text text-anchor=\"middle\" x=\"0\" y=\"467.66666666666663\" transform=\"translate(776.15,0)\" style=\"font-family: 'Open Sans', verdana, arial, sans-serif; font-size: 12px; fill: rgb(42, 63, 95); fill-opacity: 1; white-space: pre; opacity: 1;\">0</text></g><g class=\"x8tick\"><text text-anchor=\"middle\" x=\"0\" y=\"467.66666666666663\" style=\"font-family: 'Open Sans', verdana, arial, sans-serif; font-size: 12px; fill: rgb(42, 63, 95); fill-opacity: 1; white-space: pre; opacity: 1;\" transform=\"translate(813.61,0)\">0.01</text></g><g class=\"x8tick\"><text text-anchor=\"middle\" x=\"0\" y=\"467.66666666666663\" style=\"font-family: 'Open Sans', verdana, arial, sans-serif; font-size: 12px; fill: rgb(42, 63, 95); fill-opacity: 1; white-space: pre; opacity: 1;\" transform=\"translate(851.0699999999999,0)\">0.02</text></g><g class=\"x8tick\"><text text-anchor=\"middle\" x=\"0\" y=\"467.66666666666663\" style=\"font-family: 'Open Sans', verdana, arial, sans-serif; font-size: 12px; fill: rgb(42, 63, 95); fill-opacity: 1; white-space: pre; opacity: 1;\" transform=\"translate(888.54,0)\">0.03</text></g></g><g class=\"yaxislayer-above\"><g class=\"y8tick\"><text text-anchor=\"end\" x=\"775.15\" y=\"4.199999999999999\" transform=\"translate(0,440.73333333333335)\" style=\"font-family: 'Open Sans', verdana, arial, sans-serif; font-size: 12px; fill: rgb(42, 63, 95); fill-opacity: 1; white-space: pre; opacity: 1;\">resort  </text></g><g class=\"y8tick\"><text text-anchor=\"end\" x=\"775.15\" y=\"4.199999999999999\" transform=\"translate(0,412.86333333333334)\" style=\"font-family: 'Open Sans', verdana, arial, sans-serif; font-size: 12px; fill: rgb(42, 63, 95); fill-opacity: 1; white-space: pre; opacity: 1;\">no  </text></g><g class=\"y8tick\"><text text-anchor=\"end\" x=\"775.15\" y=\"4.199999999999999\" transform=\"translate(0,385.00333333333333)\" style=\"font-family: 'Open Sans', verdana, arial, sans-serif; font-size: 12px; fill: rgb(42, 63, 95); fill-opacity: 1; white-space: pre; opacity: 1;\">service  </text></g><g class=\"y8tick\"><text text-anchor=\"end\" x=\"775.15\" y=\"4.199999999999999\" transform=\"translate(0,357.1333333333333)\" style=\"font-family: 'Open Sans', verdana, arial, sans-serif; font-size: 12px; fill: rgb(42, 63, 95); fill-opacity: 1; white-space: pre; opacity: 1;\">not  </text></g><g class=\"y8tick\"><text text-anchor=\"end\" x=\"775.15\" y=\"4.199999999999999\" transform=\"translate(0,329.2633333333333)\" style=\"font-family: 'Open Sans', verdana, arial, sans-serif; font-size: 12px; fill: rgb(42, 63, 95); fill-opacity: 1; white-space: pre; opacity: 1;\">food  </text></g></g><g class=\"overaxes-above\"/></g><g class=\"subplot x9y9\"><g class=\"layer-subplot\"><g class=\"shapelayer\"/><g class=\"imagelayer\"/></g><g class=\"minor-gridlayer\"><g class=\"x9\"/><g class=\"y9\"/></g><g class=\"gridlayer\"><g class=\"x9\"><path class=\"x9grid crisp\" transform=\"translate(153.7,0)\" d=\"M0,530.6666666666666v139.33333333333334\" style=\"stroke: rgb(235, 240, 248); stroke-opacity: 1; stroke-width: 1px;\"/><path class=\"x9grid crisp\" transform=\"translate(209.39,0)\" d=\"M0,530.6666666666666v139.33333333333334\" style=\"stroke: rgb(235, 240, 248); stroke-opacity: 1; stroke-width: 1px;\"/></g><g class=\"y9\"><path class=\"y9grid crisp\" transform=\"translate(0,656.0666666666666)\" d=\"M98,0h143.85\" style=\"stroke: rgb(235, 240, 248); stroke-opacity: 1; stroke-width: 1px;\"/><path class=\"y9grid crisp\" transform=\"translate(0,628.1966666666666)\" d=\"M98,0h143.85\" style=\"stroke: rgb(235, 240, 248); stroke-opacity: 1; stroke-width: 1px;\"/><path class=\"y9grid crisp\" transform=\"translate(0,600.3366666666666)\" d=\"M98,0h143.85\" style=\"stroke: rgb(235, 240, 248); stroke-opacity: 1; stroke-width: 1px;\"/><path class=\"y9grid crisp\" transform=\"translate(0,572.4666666666666)\" d=\"M98,0h143.85\" style=\"stroke: rgb(235, 240, 248); stroke-opacity: 1; stroke-width: 1px;\"/><path class=\"y9grid crisp\" transform=\"translate(0,544.5966666666666)\" d=\"M98,0h143.85\" style=\"stroke: rgb(235, 240, 248); stroke-opacity: 1; stroke-width: 1px;\"/></g></g><g class=\"zerolinelayer\"><path class=\"x9zl zl crisp\" transform=\"translate(98,0)\" d=\"M0,530.6666666666666v139.33333333333334\" style=\"stroke: rgb(235, 240, 248); stroke-opacity: 1; stroke-width: 2px;\"/></g><path class=\"xlines-below\"/><path class=\"ylines-below\"/><g class=\"overlines-below\"/><g class=\"xaxislayer-below\"/><g class=\"yaxislayer-below\"/><g class=\"overaxes-below\"/><g class=\"plot\" transform=\"translate(98,530.6666666666666)\" clip-path=\"url(#clipdc8df9x9y9plot)\"><g class=\"barlayer mlayer\"><g class=\"trace bars\" style=\"opacity: 1;\"><g class=\"points\"><g class=\"point\"><path d=\"M0,136.55V114.25H79.12V136.55Z\" style=\"vector-effect: non-scaling-stroke; opacity: 1; stroke-width: 0.5px; fill: rgb(0, 114, 178); fill-opacity: 1; stroke: rgb(255, 255, 255); stroke-opacity: 1;\"/></g><g class=\"point\"><path d=\"M0,108.68V86.39H106.9V108.68Z\" style=\"vector-effect: non-scaling-stroke; opacity: 1; stroke-width: 0.5px; fill: rgb(0, 114, 178); fill-opacity: 1; stroke: rgb(255, 255, 255); stroke-opacity: 1;\"/></g><g class=\"point\"><path d=\"M0,80.81V58.52H111.73V80.81Z\" style=\"vector-effect: non-scaling-stroke; opacity: 1; stroke-width: 0.5px; fill: rgb(0, 114, 178); fill-opacity: 1; stroke: rgb(255, 255, 255); stroke-opacity: 1;\"/></g><g class=\"point\"><path d=\"M0,52.95V30.65H130.16V52.95Z\" style=\"vector-effect: non-scaling-stroke; opacity: 1; stroke-width: 0.5px; fill: rgb(0, 114, 178); fill-opacity: 1; stroke: rgb(255, 255, 255); stroke-opacity: 1;\"/></g><g class=\"point\"><path d=\"M0,25.08V2.79H136.66V25.08Z\" style=\"vector-effect: non-scaling-stroke; opacity: 1; stroke-width: 0.5px; fill: rgb(0, 114, 178); fill-opacity: 1; stroke: rgb(255, 255, 255); stroke-opacity: 1;\"/></g></g></g></g></g><g class=\"overplot\"/><path class=\"xlines-above crisp\" d=\"M0,0\" style=\"fill: none;\"/><path class=\"ylines-above crisp\" d=\"M0,0\" style=\"fill: none;\"/><g class=\"overlines-above\"/><g class=\"xaxislayer-above\"><g class=\"x9tick\"><text text-anchor=\"middle\" x=\"0\" y=\"683\" transform=\"translate(98,0)\" style=\"font-family: 'Open Sans', verdana, arial, sans-serif; font-size: 12px; fill: rgb(42, 63, 95); fill-opacity: 1; white-space: pre; opacity: 1;\">0</text></g><g class=\"x9tick\"><text text-anchor=\"middle\" x=\"0\" y=\"683\" style=\"font-family: 'Open Sans', verdana, arial, sans-serif; font-size: 12px; fill: rgb(42, 63, 95); fill-opacity: 1; white-space: pre; opacity: 1;\" transform=\"translate(153.7,0)\">0.02</text></g><g class=\"x9tick\"><text text-anchor=\"middle\" x=\"0\" y=\"683\" style=\"font-family: 'Open Sans', verdana, arial, sans-serif; font-size: 12px; fill: rgb(42, 63, 95); fill-opacity: 1; white-space: pre; opacity: 1;\" transform=\"translate(209.39,0)\">0.04</text></g></g><g class=\"yaxislayer-above\"><g class=\"y9tick\"><text text-anchor=\"end\" x=\"97\" y=\"4.199999999999999\" transform=\"translate(0,656.0666666666666)\" style=\"font-family: 'Open Sans', verdana, arial, sans-serif; font-size: 12px; fill: rgb(42, 63, 95); fill-opacity: 1; white-space: pre; opacity: 1;\">staff  </text></g><g class=\"y9tick\"><text text-anchor=\"end\" x=\"97\" y=\"4.199999999999999\" transform=\"translate(0,628.1966666666666)\" style=\"font-family: 'Open Sans', verdana, arial, sans-serif; font-size: 12px; fill: rgb(42, 63, 95); fill-opacity: 1; white-space: pre; opacity: 1;\">room  </text></g><g class=\"y9tick\"><text text-anchor=\"end\" x=\"97\" y=\"4.199999999999999\" transform=\"translate(0,600.3366666666666)\" style=\"font-family: 'Open Sans', verdana, arial, sans-serif; font-size: 12px; fill: rgb(42, 63, 95); fill-opacity: 1; white-space: pre; opacity: 1;\">not  </text></g><g class=\"y9tick\"><text text-anchor=\"end\" x=\"97\" y=\"4.199999999999999\" transform=\"translate(0,572.4666666666666)\" style=\"font-family: 'Open Sans', verdana, arial, sans-serif; font-size: 12px; fill: rgb(42, 63, 95); fill-opacity: 1; white-space: pre; opacity: 1;\">disappointed  </text></g><g class=\"y9tick\"><text text-anchor=\"end\" x=\"97\" y=\"4.199999999999999\" transform=\"translate(0,544.5966666666666)\" style=\"font-family: 'Open Sans', verdana, arial, sans-serif; font-size: 12px; fill: rgb(42, 63, 95); fill-opacity: 1; white-space: pre; opacity: 1;\">hotel  </text></g></g><g class=\"overaxes-above\"/></g><g class=\"subplot x10y10\"><g class=\"layer-subplot\"><g class=\"shapelayer\"/><g class=\"imagelayer\"/></g><g class=\"minor-gridlayer\"><g class=\"x10\"/><g class=\"y10\"/></g><g class=\"gridlayer\"><g class=\"x10\"><path class=\"x10grid crisp\" transform=\"translate(371.08000000000004,0)\" d=\"M0,530.6666666666666v139.33333333333334\" style=\"stroke: rgb(235, 240, 248); stroke-opacity: 1; stroke-width: 1px;\"/><path class=\"x10grid crisp\" transform=\"translate(418.12,0)\" d=\"M0,530.6666666666666v139.33333333333334\" style=\"stroke: rgb(235, 240, 248); stroke-opacity: 1; stroke-width: 1px;\"/><path class=\"x10grid crisp\" transform=\"translate(465.15,0)\" d=\"M0,530.6666666666666v139.33333333333334\" style=\"stroke: rgb(235, 240, 248); stroke-opacity: 1; stroke-width: 1px;\"/></g><g class=\"y10\"><path class=\"y10grid crisp\" transform=\"translate(0,656.0666666666666)\" d=\"M324.05,0h143.85\" style=\"stroke: rgb(235, 240, 248); stroke-opacity: 1; stroke-width: 1px;\"/><path class=\"y10grid crisp\" transform=\"translate(0,628.1966666666666)\" d=\"M324.05,0h143.85\" style=\"stroke: rgb(235, 240, 248); stroke-opacity: 1; stroke-width: 1px;\"/><path class=\"y10grid crisp\" transform=\"translate(0,600.3366666666666)\" d=\"M324.05,0h143.85\" style=\"stroke: rgb(235, 240, 248); stroke-opacity: 1; stroke-width: 1px;\"/><path class=\"y10grid crisp\" transform=\"translate(0,572.4666666666666)\" d=\"M324.05,0h143.85\" style=\"stroke: rgb(235, 240, 248); stroke-opacity: 1; stroke-width: 1px;\"/><path class=\"y10grid crisp\" transform=\"translate(0,544.5966666666666)\" d=\"M324.05,0h143.85\" style=\"stroke: rgb(235, 240, 248); stroke-opacity: 1; stroke-width: 1px;\"/></g></g><g class=\"zerolinelayer\"><path class=\"x10zl zl crisp\" transform=\"translate(324.05,0)\" d=\"M0,530.6666666666666v139.33333333333334\" style=\"stroke: rgb(235, 240, 248); stroke-opacity: 1; stroke-width: 2px;\"/></g><path class=\"xlines-below\"/><path class=\"ylines-below\"/><g class=\"overlines-below\"/><g class=\"xaxislayer-below\"/><g class=\"yaxislayer-below\"/><g class=\"overaxes-below\"/><g class=\"plot\" transform=\"translate(324.05,530.6666666666666)\" clip-path=\"url(#clipdc8df9x10y10plot)\"><g class=\"barlayer mlayer\"><g class=\"trace bars\" style=\"opacity: 1;\"><g class=\"points\"><g class=\"point\"><path d=\"M0,136.55V114.25H84.08V136.55Z\" style=\"vector-effect: non-scaling-stroke; opacity: 1; stroke-width: 0.5px; fill: rgb(204, 121, 167); fill-opacity: 1; stroke: rgb(255, 255, 255); stroke-opacity: 1;\"/></g><g class=\"point\"><path d=\"M0,108.68V86.39H87.31V108.68Z\" style=\"vector-effect: non-scaling-stroke; opacity: 1; stroke-width: 0.5px; fill: rgb(204, 121, 167); fill-opacity: 1; stroke: rgb(255, 255, 255); stroke-opacity: 1;\"/></g><g class=\"point\"><path d=\"M0,80.81V58.52H95.14V80.81Z\" style=\"vector-effect: non-scaling-stroke; opacity: 1; stroke-width: 0.5px; fill: rgb(204, 121, 167); fill-opacity: 1; stroke: rgb(255, 255, 255); stroke-opacity: 1;\"/></g><g class=\"point\"><path d=\"M0,52.95V30.65H120.28V52.95Z\" style=\"vector-effect: non-scaling-stroke; opacity: 1; stroke-width: 0.5px; fill: rgb(204, 121, 167); fill-opacity: 1; stroke: rgb(255, 255, 255); stroke-opacity: 1;\"/></g><g class=\"point\"><path d=\"M0,25.08V2.79H136.66V25.08Z\" style=\"vector-effect: non-scaling-stroke; opacity: 1; stroke-width: 0.5px; fill: rgb(204, 121, 167); fill-opacity: 1; stroke: rgb(255, 255, 255); stroke-opacity: 1;\"/></g></g></g></g></g><g class=\"overplot\"/><path class=\"xlines-above crisp\" d=\"M0,0\" style=\"fill: none;\"/><path class=\"ylines-above crisp\" d=\"M0,0\" style=\"fill: none;\"/><g class=\"overlines-above\"/><g class=\"xaxislayer-above\"><g class=\"x10tick\"><text text-anchor=\"middle\" x=\"0\" y=\"683\" transform=\"translate(324.05,0)\" style=\"font-family: 'Open Sans', verdana, arial, sans-serif; font-size: 12px; fill: rgb(42, 63, 95); fill-opacity: 1; white-space: pre; opacity: 1;\">0</text></g><g class=\"x10tick\"><text text-anchor=\"middle\" x=\"0\" y=\"683\" style=\"font-family: 'Open Sans', verdana, arial, sans-serif; font-size: 12px; fill: rgb(42, 63, 95); fill-opacity: 1; white-space: pre; opacity: 1;\" transform=\"translate(371.08000000000004,0)\">0.02</text></g><g class=\"x10tick\"><text text-anchor=\"middle\" x=\"0\" y=\"683\" style=\"font-family: 'Open Sans', verdana, arial, sans-serif; font-size: 12px; fill: rgb(42, 63, 95); fill-opacity: 1; white-space: pre; opacity: 1;\" transform=\"translate(418.12,0)\">0.04</text></g><g class=\"x10tick\"><text text-anchor=\"middle\" x=\"0\" y=\"683\" style=\"font-family: 'Open Sans', verdana, arial, sans-serif; font-size: 12px; fill: rgb(42, 63, 95); fill-opacity: 1; white-space: pre; opacity: 1;\" transform=\"translate(465.15,0)\">0.06</text></g></g><g class=\"yaxislayer-above\"><g class=\"y10tick\"><text text-anchor=\"end\" x=\"323.05\" y=\"4.199999999999999\" transform=\"translate(0,656.0666666666666)\" style=\"font-family: 'Open Sans', verdana, arial, sans-serif; font-size: 12px; fill: rgb(42, 63, 95); fill-opacity: 1; white-space: pre; opacity: 1;\">not  </text></g><g class=\"y10tick\"><text text-anchor=\"end\" x=\"323.05\" y=\"4.199999999999999\" transform=\"translate(0,628.1966666666666)\" style=\"font-family: 'Open Sans', verdana, arial, sans-serif; font-size: 12px; fill: rgb(42, 63, 95); fill-opacity: 1; white-space: pre; opacity: 1;\">shower  </text></g><g class=\"y10tick\"><text text-anchor=\"end\" x=\"323.05\" y=\"4.199999999999999\" transform=\"translate(0,600.3366666666666)\" style=\"font-family: 'Open Sans', verdana, arial, sans-serif; font-size: 12px; fill: rgb(42, 63, 95); fill-opacity: 1; white-space: pre; opacity: 1;\">smell  </text></g><g class=\"y10tick\"><text text-anchor=\"end\" x=\"323.05\" y=\"4.199999999999999\" transform=\"translate(0,572.4666666666666)\" style=\"font-family: 'Open Sans', verdana, arial, sans-serif; font-size: 12px; fill: rgb(42, 63, 95); fill-opacity: 1; white-space: pre; opacity: 1;\">room  </text></g><g class=\"y10tick\"><text text-anchor=\"end\" x=\"323.05\" y=\"4.199999999999999\" transform=\"translate(0,544.5966666666666)\" style=\"font-family: 'Open Sans', verdana, arial, sans-serif; font-size: 12px; fill: rgb(42, 63, 95); fill-opacity: 1; white-space: pre; opacity: 1;\">dirty  </text></g></g><g class=\"overaxes-above\"/></g><g class=\"subplot x11y11\"><g class=\"layer-subplot\"><g class=\"shapelayer\"/><g class=\"imagelayer\"/></g><g class=\"minor-gridlayer\"><g class=\"x11\"/><g class=\"y11\"/></g><g class=\"gridlayer\"><g class=\"x11\"><path class=\"x11grid crisp\" transform=\"translate(581.3100000000001,0)\" d=\"M0,530.6666666666666v139.33333333333334\" style=\"stroke: rgb(235, 240, 248); stroke-opacity: 1; stroke-width: 1px;\"/><path class=\"x11grid crisp\" transform=\"translate(612.52,0)\" d=\"M0,530.6666666666666v139.33333333333334\" style=\"stroke: rgb(235, 240, 248); stroke-opacity: 1; stroke-width: 1px;\"/><path class=\"x11grid crisp\" transform=\"translate(643.73,0)\" d=\"M0,530.6666666666666v139.33333333333334\" style=\"stroke: rgb(235, 240, 248); stroke-opacity: 1; stroke-width: 1px;\"/><path class=\"x11grid crisp\" transform=\"translate(674.95,0)\" d=\"M0,530.6666666666666v139.33333333333334\" style=\"stroke: rgb(235, 240, 248); stroke-opacity: 1; stroke-width: 1px;\"/></g><g class=\"y11\"><path class=\"y11grid crisp\" transform=\"translate(0,656.0666666666666)\" d=\"M550.1,0h143.85000000000002\" style=\"stroke: rgb(235, 240, 248); stroke-opacity: 1; stroke-width: 1px;\"/><path class=\"y11grid crisp\" transform=\"translate(0,628.1966666666666)\" d=\"M550.1,0h143.85000000000002\" style=\"stroke: rgb(235, 240, 248); stroke-opacity: 1; stroke-width: 1px;\"/><path class=\"y11grid crisp\" transform=\"translate(0,600.3366666666666)\" d=\"M550.1,0h143.85000000000002\" style=\"stroke: rgb(235, 240, 248); stroke-opacity: 1; stroke-width: 1px;\"/><path class=\"y11grid crisp\" transform=\"translate(0,572.4666666666666)\" d=\"M550.1,0h143.85000000000002\" style=\"stroke: rgb(235, 240, 248); stroke-opacity: 1; stroke-width: 1px;\"/><path class=\"y11grid crisp\" transform=\"translate(0,544.5966666666666)\" d=\"M550.1,0h143.85000000000002\" style=\"stroke: rgb(235, 240, 248); stroke-opacity: 1; stroke-width: 1px;\"/></g></g><g class=\"zerolinelayer\"><path class=\"x11zl zl crisp\" transform=\"translate(550.1,0)\" d=\"M0,530.6666666666666v139.33333333333334\" style=\"stroke: rgb(235, 240, 248); stroke-opacity: 1; stroke-width: 2px;\"/></g><path class=\"xlines-below\"/><path class=\"ylines-below\"/><g class=\"overlines-below\"/><g class=\"xaxislayer-below\"/><g class=\"yaxislayer-below\"/><g class=\"overaxes-below\"/><g class=\"plot\" transform=\"translate(550.1,530.6666666666666)\" clip-path=\"url(#clipdc8df9x11y11plot)\"><g class=\"barlayer mlayer\"><g class=\"trace bars\" style=\"opacity: 1;\"><g class=\"points\"><g class=\"point\"><path d=\"M0,136.55V114.25H66.85V136.55Z\" style=\"vector-effect: non-scaling-stroke; opacity: 1; stroke-width: 0.5px; fill: rgb(230, 159, 0); fill-opacity: 1; stroke: rgb(255, 255, 255); stroke-opacity: 1;\"/></g><g class=\"point\"><path d=\"M0,108.68V86.39H69.88V108.68Z\" style=\"vector-effect: non-scaling-stroke; opacity: 1; stroke-width: 0.5px; fill: rgb(230, 159, 0); fill-opacity: 1; stroke: rgb(255, 255, 255); stroke-opacity: 1;\"/></g><g class=\"point\"><path d=\"M0,80.81V58.52H95.29V80.81Z\" style=\"vector-effect: non-scaling-stroke; opacity: 1; stroke-width: 0.5px; fill: rgb(230, 159, 0); fill-opacity: 1; stroke: rgb(255, 255, 255); stroke-opacity: 1;\"/></g><g class=\"point\"><path d=\"M0,52.95V30.65H110.99V52.95Z\" style=\"vector-effect: non-scaling-stroke; opacity: 1; stroke-width: 0.5px; fill: rgb(230, 159, 0); fill-opacity: 1; stroke: rgb(255, 255, 255); stroke-opacity: 1;\"/></g><g class=\"point\"><path d=\"M0,25.08V2.79H136.66V25.08Z\" style=\"vector-effect: non-scaling-stroke; opacity: 1; stroke-width: 0.5px; fill: rgb(230, 159, 0); fill-opacity: 1; stroke: rgb(255, 255, 255); stroke-opacity: 1;\"/></g></g></g></g></g><g class=\"overplot\"/><path class=\"xlines-above crisp\" d=\"M0,0\" style=\"fill: none;\"/><path class=\"ylines-above crisp\" d=\"M0,0\" style=\"fill: none;\"/><g class=\"overlines-above\"/><g class=\"xaxislayer-above\"><g class=\"x11tick\"><text text-anchor=\"middle\" x=\"0\" y=\"683\" transform=\"translate(550.1,0)\" style=\"font-family: 'Open Sans', verdana, arial, sans-serif; font-size: 12px; fill: rgb(42, 63, 95); fill-opacity: 1; white-space: pre; opacity: 1;\">0</text></g><g class=\"x11tick\"><text text-anchor=\"middle\" x=\"0\" y=\"683\" style=\"font-family: 'Open Sans', verdana, arial, sans-serif; font-size: 12px; fill: rgb(42, 63, 95); fill-opacity: 1; white-space: pre; opacity: 1;\" transform=\"translate(581.3100000000001,0)\">0.02</text></g><g class=\"x11tick\"><text text-anchor=\"middle\" x=\"0\" y=\"683\" style=\"font-family: 'Open Sans', verdana, arial, sans-serif; font-size: 12px; fill: rgb(42, 63, 95); fill-opacity: 1; white-space: pre; opacity: 1;\" transform=\"translate(612.52,0)\">0.04</text></g><g class=\"x11tick\"><text text-anchor=\"middle\" x=\"0\" y=\"683\" style=\"font-family: 'Open Sans', verdana, arial, sans-serif; font-size: 12px; fill: rgb(42, 63, 95); fill-opacity: 1; white-space: pre; opacity: 1;\" transform=\"translate(643.73,0)\">0.06</text></g><g class=\"x11tick\"><text text-anchor=\"middle\" x=\"0\" y=\"683\" style=\"font-family: 'Open Sans', verdana, arial, sans-serif; font-size: 12px; fill: rgb(42, 63, 95); fill-opacity: 1; white-space: pre; opacity: 1;\" transform=\"translate(674.95,0)\">0.08</text></g></g><g class=\"yaxislayer-above\"><g class=\"y11tick\"><text text-anchor=\"end\" x=\"549.1\" y=\"4.199999999999999\" transform=\"translate(0,656.0666666666666)\" style=\"font-family: 'Open Sans', verdana, arial, sans-serif; font-size: 12px; fill: rgb(42, 63, 95); fill-opacity: 1; white-space: pre; opacity: 1;\">charged  </text></g><g class=\"y11tick\"><text text-anchor=\"end\" x=\"549.1\" y=\"4.199999999999999\" transform=\"translate(0,628.1966666666666)\" style=\"font-family: 'Open Sans', verdana, arial, sans-serif; font-size: 12px; fill: rgb(42, 63, 95); fill-opacity: 1; white-space: pre; opacity: 1;\">reservation  </text></g><g class=\"y11tick\"><text text-anchor=\"end\" x=\"549.1\" y=\"4.199999999999999\" transform=\"translate(0,600.3366666666666)\" style=\"font-family: 'Open Sans', verdana, arial, sans-serif; font-size: 12px; fill: rgb(42, 63, 95); fill-opacity: 1; white-space: pre; opacity: 1;\">hotel  </text></g><g class=\"y11tick\"><text text-anchor=\"end\" x=\"549.1\" y=\"4.199999999999999\" transform=\"translate(0,572.4666666666666)\" style=\"font-family: 'Open Sans', verdana, arial, sans-serif; font-size: 12px; fill: rgb(42, 63, 95); fill-opacity: 1; white-space: pre; opacity: 1;\">credit  </text></g><g class=\"y11tick\"><text text-anchor=\"end\" x=\"549.1\" y=\"4.199999999999999\" transform=\"translate(0,544.5966666666666)\" style=\"font-family: 'Open Sans', verdana, arial, sans-serif; font-size: 12px; fill: rgb(42, 63, 95); fill-opacity: 1; white-space: pre; opacity: 1;\">card  </text></g></g><g class=\"overaxes-above\"/></g><g class=\"subplot x12y12\"><g class=\"layer-subplot\"><g class=\"shapelayer\"/><g class=\"imagelayer\"/></g><g class=\"minor-gridlayer\"><g class=\"x12\"/><g class=\"y12\"/></g><g class=\"gridlayer\"><g class=\"x12\"><path class=\"x12grid crisp\" transform=\"translate(810.97,0)\" d=\"M0,530.6666666666666v139.33333333333334\" style=\"stroke: rgb(235, 240, 248); stroke-opacity: 1; stroke-width: 1px;\"/><path class=\"x12grid crisp\" transform=\"translate(845.79,0)\" d=\"M0,530.6666666666666v139.33333333333334\" style=\"stroke: rgb(235, 240, 248); stroke-opacity: 1; stroke-width: 1px;\"/><path class=\"x12grid crisp\" transform=\"translate(880.61,0)\" d=\"M0,530.6666666666666v139.33333333333334\" style=\"stroke: rgb(235, 240, 248); stroke-opacity: 1; stroke-width: 1px;\"/><path class=\"x12grid crisp\" transform=\"translate(915.43,0)\" d=\"M0,530.6666666666666v139.33333333333334\" style=\"stroke: rgb(235, 240, 248); stroke-opacity: 1; stroke-width: 1px;\"/></g><g class=\"y12\"><path class=\"y12grid crisp\" transform=\"translate(0,656.0666666666666)\" d=\"M776.15,0h143.85000000000002\" style=\"stroke: rgb(235, 240, 248); stroke-opacity: 1; stroke-width: 1px;\"/><path class=\"y12grid crisp\" transform=\"translate(0,628.1966666666666)\" d=\"M776.15,0h143.85000000000002\" style=\"stroke: rgb(235, 240, 248); stroke-opacity: 1; stroke-width: 1px;\"/><path class=\"y12grid crisp\" transform=\"translate(0,600.3366666666666)\" d=\"M776.15,0h143.85000000000002\" style=\"stroke: rgb(235, 240, 248); stroke-opacity: 1; stroke-width: 1px;\"/><path class=\"y12grid crisp\" transform=\"translate(0,572.4666666666666)\" d=\"M776.15,0h143.85000000000002\" style=\"stroke: rgb(235, 240, 248); stroke-opacity: 1; stroke-width: 1px;\"/><path class=\"y12grid crisp\" transform=\"translate(0,544.5966666666666)\" d=\"M776.15,0h143.85000000000002\" style=\"stroke: rgb(235, 240, 248); stroke-opacity: 1; stroke-width: 1px;\"/></g></g><g class=\"zerolinelayer\"><path class=\"x12zl zl crisp\" transform=\"translate(776.15,0)\" d=\"M0,530.6666666666666v139.33333333333334\" style=\"stroke: rgb(235, 240, 248); stroke-opacity: 1; stroke-width: 2px;\"/></g><path class=\"xlines-below\"/><path class=\"ylines-below\"/><g class=\"overlines-below\"/><g class=\"xaxislayer-below\"/><g class=\"yaxislayer-below\"/><g class=\"overaxes-below\"/><g class=\"plot\" transform=\"translate(776.15,530.6666666666666)\" clip-path=\"url(#clipdc8df9x12y12plot)\"><g class=\"barlayer mlayer\"><g class=\"trace bars\" style=\"opacity: 1;\"><g class=\"points\"><g class=\"point\"><path d=\"M0,136.55V114.25H46.31V136.55Z\" style=\"vector-effect: non-scaling-stroke; opacity: 1; stroke-width: 0.5px; fill: rgb(86, 180, 233); fill-opacity: 1; stroke: rgb(255, 255, 255); stroke-opacity: 1;\"/></g><g class=\"point\"><path d=\"M0,108.68V86.39H52.73V108.68Z\" style=\"vector-effect: non-scaling-stroke; opacity: 1; stroke-width: 0.5px; fill: rgb(86, 180, 233); fill-opacity: 1; stroke: rgb(255, 255, 255); stroke-opacity: 1;\"/></g><g class=\"point\"><path d=\"M0,80.81V58.52H65.41V80.81Z\" style=\"vector-effect: non-scaling-stroke; opacity: 1; stroke-width: 0.5px; fill: rgb(86, 180, 233); fill-opacity: 1; stroke: rgb(255, 255, 255); stroke-opacity: 1;\"/></g><g class=\"point\"><path d=\"M0,52.95V30.65H71.49V52.95Z\" style=\"vector-effect: non-scaling-stroke; opacity: 1; stroke-width: 0.5px; fill: rgb(86, 180, 233); fill-opacity: 1; stroke: rgb(255, 255, 255); stroke-opacity: 1;\"/></g><g class=\"point\"><path d=\"M0,25.08V2.79H136.66V25.08Z\" style=\"vector-effect: non-scaling-stroke; opacity: 1; stroke-width: 0.5px; fill: rgb(86, 180, 233); fill-opacity: 1; stroke: rgb(255, 255, 255); stroke-opacity: 1;\"/></g></g></g></g></g><g class=\"overplot\"/><path class=\"xlines-above crisp\" d=\"M0,0\" style=\"fill: none;\"/><path class=\"ylines-above crisp\" d=\"M0,0\" style=\"fill: none;\"/><g class=\"overlines-above\"/><g class=\"xaxislayer-above\"><g class=\"x12tick\"><text text-anchor=\"middle\" x=\"0\" y=\"683\" transform=\"translate(776.15,0)\" style=\"font-family: 'Open Sans', verdana, arial, sans-serif; font-size: 12px; fill: rgb(42, 63, 95); fill-opacity: 1; white-space: pre; opacity: 1;\">0</text></g><g class=\"x12tick\"><text text-anchor=\"middle\" x=\"0\" y=\"683\" style=\"font-family: 'Open Sans', verdana, arial, sans-serif; font-size: 12px; fill: rgb(42, 63, 95); fill-opacity: 1; white-space: pre; opacity: 1;\" transform=\"translate(810.97,0)\">0.02</text></g><g class=\"x12tick\"><text text-anchor=\"middle\" x=\"0\" y=\"683\" style=\"font-family: 'Open Sans', verdana, arial, sans-serif; font-size: 12px; fill: rgb(42, 63, 95); fill-opacity: 1; white-space: pre; opacity: 1;\" transform=\"translate(845.79,0)\">0.04</text></g><g class=\"x12tick\"><text text-anchor=\"middle\" x=\"0\" y=\"683\" style=\"font-family: 'Open Sans', verdana, arial, sans-serif; font-size: 12px; fill: rgb(42, 63, 95); fill-opacity: 1; white-space: pre; opacity: 1;\" transform=\"translate(880.61,0)\">0.06</text></g><g class=\"x12tick\"><text text-anchor=\"middle\" x=\"0\" y=\"683\" style=\"font-family: 'Open Sans', verdana, arial, sans-serif; font-size: 12px; fill: rgb(42, 63, 95); fill-opacity: 1; white-space: pre; opacity: 1;\" transform=\"translate(915.43,0)\">0.08</text></g></g><g class=\"yaxislayer-above\"><g class=\"y12tick\"><text text-anchor=\"end\" x=\"775.15\" y=\"4.199999999999999\" transform=\"translate(0,656.0666666666666)\" style=\"font-family: 'Open Sans', verdana, arial, sans-serif; font-size: 12px; fill: rgb(42, 63, 95); fill-opacity: 1; white-space: pre; opacity: 1;\">room  </text></g><g class=\"y12tick\"><text text-anchor=\"end\" x=\"775.15\" y=\"4.199999999999999\" transform=\"translate(0,628.1966666666666)\" style=\"font-family: 'Open Sans', verdana, arial, sans-serif; font-size: 12px; fill: rgb(42, 63, 95); fill-opacity: 1; white-space: pre; opacity: 1;\">pool  </text></g><g class=\"y12tick\"><text text-anchor=\"end\" x=\"775.15\" y=\"4.199999999999999\" transform=\"translate(0,600.3366666666666)\" style=\"font-family: 'Open Sans', verdana, arial, sans-serif; font-size: 12px; fill: rgb(42, 63, 95); fill-opacity: 1; white-space: pre; opacity: 1;\">not  </text></g><g class=\"y12tick\"><text text-anchor=\"end\" x=\"775.15\" y=\"4.199999999999999\" transform=\"translate(0,572.4666666666666)\" style=\"font-family: 'Open Sans', verdana, arial, sans-serif; font-size: 12px; fill: rgb(42, 63, 95); fill-opacity: 1; white-space: pre; opacity: 1;\">hotel  </text></g><g class=\"y12tick\"><text text-anchor=\"end\" x=\"775.15\" y=\"4.199999999999999\" transform=\"translate(0,544.5966666666666)\" style=\"font-family: 'Open Sans', verdana, arial, sans-serif; font-size: 12px; fill: rgb(42, 63, 95); fill-opacity: 1; white-space: pre; opacity: 1;\">bali  </text></g></g><g class=\"overaxes-above\"/></g></g><g class=\"polarlayer\"/><g class=\"smithlayer\"/><g class=\"ternarylayer\"/><g class=\"geolayer\"/><g class=\"funnelarealayer\"/><g class=\"pielayer\"/><g class=\"iciclelayer\"/><g class=\"treemaplayer\"/><g class=\"sunburstlayer\"/><g class=\"glimages\"/><defs id=\"topdefs-dc8df9\"><g class=\"clips\"/></defs><g class=\"layer-above\"><g class=\"imagelayer\"/><g class=\"shapelayer\"/></g><g class=\"infolayer\"><g class=\"g-gtitle\"><text class=\"gtitle\" x=\"500\" y=\"50\" text-anchor=\"middle\" dy=\"0.7em\" style=\"font-family: 'Open Sans', verdana, arial, sans-serif; font-size: 22px; fill: rgb(0, 0, 0); opacity: 1; font-weight: normal; white-space: pre;\"><tspan style=\"font-weight:bold\">Topic Word Scores</tspan></text></g><g class=\"g-xtitle\"/><g class=\"g-x2title\"/><g class=\"g-x3title\"/><g class=\"g-x4title\"/><g class=\"g-x5title\"/><g class=\"g-x6title\"/><g class=\"g-x7title\"/><g class=\"g-x8title\"/><g class=\"g-x9title\"/><g class=\"g-x10title\"/><g class=\"g-x11title\"/><g class=\"g-x12title\"/><g class=\"g-ytitle\"/><g class=\"g-y2title\"/><g class=\"g-y3title\"/><g class=\"g-y4title\"/><g class=\"g-y5title\"/><g class=\"g-y6title\"/><g class=\"g-y7title\"/><g class=\"g-y8title\"/><g class=\"g-y9title\"/><g class=\"g-y10title\"/><g class=\"g-y11title\"/><g class=\"g-y12title\"/><g class=\"annotation\" data-index=\"0\" style=\"opacity: 1;\"><g class=\"annotation-text-g\" transform=\"rotate(0,169.925,88)\"><g class=\"cursor-pointer\" transform=\"translate(139,76)\"><rect class=\"bg\" x=\"0.5\" y=\"0.5\" width=\"61\" height=\"23\" style=\"stroke-width: 1px; stroke: rgb(0, 0, 0); stroke-opacity: 0; fill: rgb(0, 0, 0); fill-opacity: 0;\"/><text class=\"annotation-text\" text-anchor=\"middle\" x=\"31.03125\" y=\"18\" style=\"font-family: 'Open Sans', verdana, arial, sans-serif; font-size: 16px; fill: rgb(42, 63, 95); fill-opacity: 1; white-space: pre;\">Topic 0</text></g></g></g><g class=\"annotation\" data-index=\"1\" style=\"opacity: 1;\"><g class=\"annotation-text-g\" transform=\"rotate(0,395.975,88)\"><g class=\"cursor-pointer\" transform=\"translate(365,76)\"><rect class=\"bg\" x=\"0.5\" y=\"0.5\" width=\"61\" height=\"23\" style=\"stroke-width: 1px; stroke: rgb(0, 0, 0); stroke-opacity: 0; fill: rgb(0, 0, 0); fill-opacity: 0;\"/><text class=\"annotation-text\" text-anchor=\"middle\" x=\"31.03125\" y=\"18\" style=\"font-family: 'Open Sans', verdana, arial, sans-serif; font-size: 16px; fill: rgb(42, 63, 95); fill-opacity: 1; white-space: pre;\">Topic 1</text></g></g></g><g class=\"annotation\" data-index=\"2\" style=\"opacity: 1;\"><g class=\"annotation-text-g\" transform=\"rotate(0,622.0250000000001,88)\"><g class=\"cursor-pointer\" transform=\"translate(591,76)\"><rect class=\"bg\" x=\"0.5\" y=\"0.5\" width=\"61\" height=\"23\" style=\"stroke-width: 1px; stroke: rgb(0, 0, 0); stroke-opacity: 0; fill: rgb(0, 0, 0); fill-opacity: 0;\"/><text class=\"annotation-text\" text-anchor=\"middle\" x=\"31.03125\" y=\"18\" style=\"font-family: 'Open Sans', verdana, arial, sans-serif; font-size: 16px; fill: rgb(42, 63, 95); fill-opacity: 1; white-space: pre;\">Topic 2</text></g></g></g><g class=\"annotation\" data-index=\"3\" style=\"opacity: 1;\"><g class=\"annotation-text-g\" transform=\"rotate(0,848.0749999999999,88)\"><g class=\"cursor-pointer\" transform=\"translate(817,76)\"><rect class=\"bg\" x=\"0.5\" y=\"0.5\" width=\"61\" height=\"23\" style=\"stroke-width: 1px; stroke: rgb(0, 0, 0); stroke-opacity: 0; fill: rgb(0, 0, 0); fill-opacity: 0;\"/><text class=\"annotation-text\" text-anchor=\"middle\" x=\"31.03125\" y=\"18\" style=\"font-family: 'Open Sans', verdana, arial, sans-serif; font-size: 16px; fill: rgb(42, 63, 95); fill-opacity: 1; white-space: pre;\">Topic 3</text></g></g></g><g class=\"annotation\" data-index=\"4\" style=\"opacity: 1;\"><g class=\"annotation-text-g\" transform=\"rotate(0,169.925,303.3333333333333)\"><g class=\"cursor-pointer\" transform=\"translate(139,291)\"><rect class=\"bg\" x=\"0.5\" y=\"0.5\" width=\"61\" height=\"23\" style=\"stroke-width: 1px; stroke: rgb(0, 0, 0); stroke-opacity: 0; fill: rgb(0, 0, 0); fill-opacity: 0;\"/><text class=\"annotation-text\" text-anchor=\"middle\" x=\"31.03125\" y=\"18\" style=\"font-family: 'Open Sans', verdana, arial, sans-serif; font-size: 16px; fill: rgb(42, 63, 95); fill-opacity: 1; white-space: pre;\">Topic 4</text></g></g></g><g class=\"annotation\" data-index=\"5\" style=\"opacity: 1;\"><g class=\"annotation-text-g\" transform=\"rotate(0,395.975,303.3333333333333)\"><g class=\"cursor-pointer\" transform=\"translate(365,291)\"><rect class=\"bg\" x=\"0.5\" y=\"0.5\" width=\"61\" height=\"23\" style=\"stroke-width: 1px; stroke: rgb(0, 0, 0); stroke-opacity: 0; fill: rgb(0, 0, 0); fill-opacity: 0;\"/><text class=\"annotation-text\" text-anchor=\"middle\" x=\"31.03125\" y=\"18\" style=\"font-family: 'Open Sans', verdana, arial, sans-serif; font-size: 16px; fill: rgb(42, 63, 95); fill-opacity: 1; white-space: pre;\">Topic 5</text></g></g></g><g class=\"annotation\" data-index=\"6\" style=\"opacity: 1;\"><g class=\"annotation-text-g\" transform=\"rotate(0,622.0250000000001,303.3333333333333)\"><g class=\"cursor-pointer\" transform=\"translate(591,291)\"><rect class=\"bg\" x=\"0.5\" y=\"0.5\" width=\"61\" height=\"23\" style=\"stroke-width: 1px; stroke: rgb(0, 0, 0); stroke-opacity: 0; fill: rgb(0, 0, 0); fill-opacity: 0;\"/><text class=\"annotation-text\" text-anchor=\"middle\" x=\"31.03125\" y=\"18\" style=\"font-family: 'Open Sans', verdana, arial, sans-serif; font-size: 16px; fill: rgb(42, 63, 95); fill-opacity: 1; white-space: pre;\">Topic 6</text></g></g></g><g class=\"annotation\" data-index=\"7\" style=\"opacity: 1;\"><g class=\"annotation-text-g\" transform=\"rotate(0,848.0749999999999,303.3333333333333)\"><g class=\"cursor-pointer\" transform=\"translate(817,291)\"><rect class=\"bg\" x=\"0.5\" y=\"0.5\" width=\"61\" height=\"23\" style=\"stroke-width: 1px; stroke: rgb(0, 0, 0); stroke-opacity: 0; fill: rgb(0, 0, 0); fill-opacity: 0;\"/><text class=\"annotation-text\" text-anchor=\"middle\" x=\"31.03125\" y=\"18\" style=\"font-family: 'Open Sans', verdana, arial, sans-serif; font-size: 16px; fill: rgb(42, 63, 95); fill-opacity: 1; white-space: pre;\">Topic 7</text></g></g></g><g class=\"annotation\" data-index=\"8\" style=\"opacity: 1;\"><g class=\"annotation-text-g\" transform=\"rotate(0,169.925,518.6666666666666)\"><g class=\"cursor-pointer\" transform=\"translate(139,507)\"><rect class=\"bg\" x=\"0.5\" y=\"0.5\" width=\"61\" height=\"23\" style=\"stroke-width: 1px; stroke: rgb(0, 0, 0); stroke-opacity: 0; fill: rgb(0, 0, 0); fill-opacity: 0;\"/><text class=\"annotation-text\" text-anchor=\"middle\" x=\"31.03125\" y=\"18\" style=\"font-family: 'Open Sans', verdana, arial, sans-serif; font-size: 16px; fill: rgb(42, 63, 95); fill-opacity: 1; white-space: pre;\">Topic 8</text></g></g></g><g class=\"annotation\" data-index=\"9\" style=\"opacity: 1;\"><g class=\"annotation-text-g\" transform=\"rotate(0,395.975,518.6666666666666)\"><g class=\"cursor-pointer\" transform=\"translate(365,507)\"><rect class=\"bg\" x=\"0.5\" y=\"0.5\" width=\"61\" height=\"23\" style=\"stroke-width: 1px; stroke: rgb(0, 0, 0); stroke-opacity: 0; fill: rgb(0, 0, 0); fill-opacity: 0;\"/><text class=\"annotation-text\" text-anchor=\"middle\" x=\"31.03125\" y=\"18\" style=\"font-family: 'Open Sans', verdana, arial, sans-serif; font-size: 16px; fill: rgb(42, 63, 95); fill-opacity: 1; white-space: pre;\">Topic 9</text></g></g></g><g class=\"annotation\" data-index=\"10\" style=\"opacity: 1;\"><g class=\"annotation-text-g\" transform=\"rotate(0,622.0250000000001,518.6666666666666)\"><g class=\"cursor-pointer\" transform=\"translate(586,507)\"><rect class=\"bg\" x=\"0.5\" y=\"0.5\" width=\"71\" height=\"23\" style=\"stroke-width: 1px; stroke: rgb(0, 0, 0); stroke-opacity: 0; fill: rgb(0, 0, 0); fill-opacity: 0;\"/><text class=\"annotation-text\" text-anchor=\"middle\" x=\"36.125\" y=\"18\" style=\"font-family: 'Open Sans', verdana, arial, sans-serif; font-size: 16px; fill: rgb(42, 63, 95); fill-opacity: 1; white-space: pre;\">Topic 10</text></g></g></g><g class=\"annotation\" data-index=\"11\" style=\"opacity: 1;\"><g class=\"annotation-text-g\" transform=\"rotate(0,848.0749999999999,518.6666666666666)\"><g class=\"cursor-pointer\" transform=\"translate(812,507)\"><rect class=\"bg\" x=\"0.5\" y=\"0.5\" width=\"71\" height=\"23\" style=\"stroke-width: 1px; stroke: rgb(0, 0, 0); stroke-opacity: 0; fill: rgb(0, 0, 0); fill-opacity: 0;\"/><text class=\"annotation-text\" text-anchor=\"middle\" x=\"36.125\" y=\"18\" style=\"font-family: 'Open Sans', verdana, arial, sans-serif; font-size: 16px; fill: rgb(42, 63, 95); fill-opacity: 1; white-space: pre;\">Topic 11</text></g></g></g></g></svg>"
     },
     "metadata": {},
     "output_type": "display_data"
    }
   ],
   "source": [
    "bert_topic_label.get_barchart_top5words_by_topic()"
   ]
  },
  {
   "cell_type": "markdown",
   "metadata": {},
   "source": [
    "It seems that a lot of reviews were clustered by location (Amsterdam, Barcelona, etc.). \n",
    "\n",
    "We can try to give a name to each topic although it is not always clear from the top 5 words what it is really about. Looking at few examples from each topic could help.\n",
    "- Topic 0: Room & Location\n",
    "- Topic 1: Food & Beach\n",
    "- Topic 2: San Juan & Room \n",
    "- Topic 3: Amsterdam & Room & Location\n",
    "- Topic 4: Noise & Room\n",
    "- Topic 5: Barcelona & Room\n",
    "- Topic 6: Westin Seattle & Room\n",
    "- Topic 7: Singapore & Hong Kong & Room\n",
    "- Topic 8: Room & Disappointment\n",
    "- Topic 9: Dirt & Smell & Room & Bathroom & Shower\n",
    "- Topic 10: Food & Service\n",
    "- Topic 11: Price & Booking"
   ]
  },
  {
   "cell_type": "code",
   "execution_count": 15,
   "metadata": {},
   "outputs": [
    {
     "name": "stderr",
     "output_type": "stream",
     "text": [
      "Batches: 100%|██████████| 101/101 [02:56<00:00,  1.75s/it]\n"
     ]
    }
   ],
   "source": [
    "negative_reviews_predicted_topic = bert_topic_label.get_topic_review()"
   ]
  },
  {
   "cell_type": "code",
   "execution_count": 16,
   "metadata": {},
   "outputs": [
    {
     "name": "stdout",
     "output_type": "stream",
     "text": [
      "bali garden o.k, family stayed bali garden hotel 7 days sure cremation site pool construction fine cheap holiday want pay right ahead, bali garden convenient staff friendly sure not standard oz not fussy just want great time,  \n",
      "\n",
      "not good experience just recently 10 days holidays bali, stayed 4 nights villa puri ayu, spending 5 nights 2 villas seminyak say dissaponted villa puri ayu understatement, stayed emerald wing, granted price good soon enter room mosquitos buzzing room amazing, hundreds, everytime moved curtain 10 mosquitos fly, fumigate room emptying big bottle baygon left room couple hours, did trick night evidenced dead mosquitos floor morning mosquitos buzzing, everytime left room trip sprayed baygon rid mosquitos.water major problem, no hot water basin bathroom, trickle water showering hand held shower does n't work toilet got blocked second night, quick reception engineering team turned spent 45min unblocking toilet, finished left left piece s**t lying bathroom floor.other niggles asked extra pillow told hotel no spare.towel provided bathroom old worn towel areas t-shirt, towels provided pool better shame ca n't rooms.location ok appearance ok experience dissapointing, liked pool apart nothing good,  \n",
      "\n",
      "disappointed stayed honeymoon week end july, chosen hotel carefully asked relaxing not busy, unfortunately hotel busy couple occasions n't sunbed, pool guys create beds lawn pool, suite big having paid deluxe ocean view suite thought getting, trees covering view balcony hugely disappointing, fix room twice air conditioning packed lights n't working toilets did n't flush.the plus hotel amazing beach staff excellent friendly helpful, overpriced restaurant n't great, having read great reviews site thought fantastic bad experience, not need honeymoon, spent night oberoi bali peaceful relaxing kicking not spent week, lot cheaper, legian looked like busy hotel moment got standard european hotel architecture.we not returning legian,  \n"
     ]
    }
   ],
   "source": [
    "bert_topic_label.get_sample_reviews_for_topic(\n",
    "    topic_review_df=negative_reviews_predicted_topic, topic_nb=11, nb_reviews=3\n",
    ")"
   ]
  },
  {
   "cell_type": "markdown",
   "metadata": {},
   "source": [
    "## 2.2. Getting the topics for positive reviews"
   ]
  },
  {
   "cell_type": "code",
   "execution_count": 17,
   "metadata": {},
   "outputs": [],
   "source": [
    "bert_topic_label = BERTopicLabel(label=\"positive\", data=df)"
   ]
  },
  {
   "cell_type": "code",
   "execution_count": 18,
   "metadata": {},
   "outputs": [
    {
     "data": {
      "text/plain": [
       "'The total number of topics for the positive reviews is\\n        98 for a total number of 15093 reviews.'"
      ]
     },
     "execution_count": 18,
     "metadata": {},
     "output_type": "execute_result"
    }
   ],
   "source": [
    "bert_topic_label.get_number_topic()"
   ]
  },
  {
   "cell_type": "code",
   "execution_count": 19,
   "metadata": {},
   "outputs": [
    {
     "data": {
      "text/html": [
       "<div>\n",
       "<style scoped>\n",
       "    .dataframe tbody tr th:only-of-type {\n",
       "        vertical-align: middle;\n",
       "    }\n",
       "\n",
       "    .dataframe tbody tr th {\n",
       "        vertical-align: top;\n",
       "    }\n",
       "\n",
       "    .dataframe thead th {\n",
       "        text-align: right;\n",
       "    }\n",
       "</style>\n",
       "<table border=\"1\" class=\"dataframe\">\n",
       "  <thead>\n",
       "    <tr style=\"text-align: right;\">\n",
       "      <th></th>\n",
       "      <th>Topic</th>\n",
       "      <th>Count</th>\n",
       "      <th>Name</th>\n",
       "    </tr>\n",
       "  </thead>\n",
       "  <tbody>\n",
       "    <tr>\n",
       "      <th>0</th>\n",
       "      <td>-1</td>\n",
       "      <td>4007</td>\n",
       "      <td>-1_not_resort_beach_room</td>\n",
       "    </tr>\n",
       "    <tr>\n",
       "      <th>1</th>\n",
       "      <td>0</td>\n",
       "      <td>1695</td>\n",
       "      <td>0_room_hotel_location_great</td>\n",
       "    </tr>\n",
       "    <tr>\n",
       "      <th>2</th>\n",
       "      <td>1</td>\n",
       "      <td>717</td>\n",
       "      <td>1_paris_metro_eiffel_hotel</td>\n",
       "    </tr>\n",
       "    <tr>\n",
       "      <th>3</th>\n",
       "      <td>2</td>\n",
       "      <td>717</td>\n",
       "      <td>2_barcelona_ramblas_hotel_metro</td>\n",
       "    </tr>\n",
       "    <tr>\n",
       "      <th>4</th>\n",
       "      <td>3</td>\n",
       "      <td>492</td>\n",
       "      <td>3_amsterdam_hotel_tram_canal</td>\n",
       "    </tr>\n",
       "    <tr>\n",
       "      <th>5</th>\n",
       "      <td>4</td>\n",
       "      <td>485</td>\n",
       "      <td>4_florence_hotel_italy_duomo</td>\n",
       "    </tr>\n",
       "    <tr>\n",
       "      <th>6</th>\n",
       "      <td>5</td>\n",
       "      <td>467</td>\n",
       "      <td>5_punta_cana_resort_beach</td>\n",
       "    </tr>\n",
       "    <tr>\n",
       "      <th>7</th>\n",
       "      <td>6</td>\n",
       "      <td>344</td>\n",
       "      <td>6_york_nyc_new_square</td>\n",
       "    </tr>\n",
       "    <tr>\n",
       "      <th>8</th>\n",
       "      <td>7</td>\n",
       "      <td>342</td>\n",
       "      <td>7_francisco_san_sf_union</td>\n",
       "    </tr>\n",
       "    <tr>\n",
       "      <th>9</th>\n",
       "      <td>8</td>\n",
       "      <td>338</td>\n",
       "      <td>8_seattle_downtown_pike_needle</td>\n",
       "    </tr>\n",
       "  </tbody>\n",
       "</table>\n",
       "</div>"
      ],
      "text/plain": [
       "   Topic  Count                             Name\n",
       "0     -1   4007         -1_not_resort_beach_room\n",
       "1      0   1695      0_room_hotel_location_great\n",
       "2      1    717       1_paris_metro_eiffel_hotel\n",
       "3      2    717  2_barcelona_ramblas_hotel_metro\n",
       "4      3    492     3_amsterdam_hotel_tram_canal\n",
       "5      4    485     4_florence_hotel_italy_duomo\n",
       "6      5    467        5_punta_cana_resort_beach\n",
       "7      6    344            6_york_nyc_new_square\n",
       "8      7    342         7_francisco_san_sf_union\n",
       "9      8    338   8_seattle_downtown_pike_needle"
      ]
     },
     "execution_count": 19,
     "metadata": {},
     "output_type": "execute_result"
    }
   ],
   "source": [
    "bert_topic_label.get_topn_topic_info(n_topic=10)"
   ]
  },
  {
   "cell_type": "code",
   "execution_count": 20,
   "metadata": {},
   "outputs": [
    {
     "data": {
      "application/vnd.plotly.v1+json": {
       "config": {
        "plotlyServerURL": "https://plot.ly"
       },
       "data": [
        {
         "hoverinfo": "text",
         "marker": {
          "color": "rgb(61,153,112)"
         },
         "mode": "lines",
         "type": "scatter",
         "x": [
          0,
          0.5462299665595738,
          0.5462299665595738,
          0
         ],
         "xaxis": "x",
         "y": [
          -5,
          -5,
          -15,
          -15
         ],
         "yaxis": "y"
        },
        {
         "hoverinfo": "text",
         "marker": {
          "color": "rgb(61,153,112)"
         },
         "mode": "lines",
         "type": "scatter",
         "x": [
          0,
          0.6652060299019639,
          0.6652060299019639,
          0
         ],
         "xaxis": "x",
         "y": [
          -25,
          -25,
          -35,
          -35
         ],
         "yaxis": "y"
        },
        {
         "hoverinfo": "text",
         "marker": {
          "color": "rgb(61,153,112)"
         },
         "mode": "lines",
         "type": "scatter",
         "x": [
          0.5462299665595738,
          0.8234604146062116,
          0.8234604146062116,
          0.6652060299019639
         ],
         "xaxis": "x",
         "y": [
          -10,
          -10,
          -30,
          -30
         ],
         "yaxis": "y"
        },
        {
         "hoverinfo": "text",
         "marker": {
          "color": "rgb(255,65,54)"
         },
         "mode": "lines",
         "type": "scatter",
         "x": [
          0,
          0.8215864953974366,
          0.8215864953974366,
          0
         ],
         "xaxis": "x",
         "y": [
          -45,
          -45,
          -55,
          -55
         ],
         "yaxis": "y"
        },
        {
         "hoverinfo": "text",
         "marker": {
          "color": "rgb(35,205,205)"
         },
         "mode": "lines",
         "type": "scatter",
         "x": [
          0,
          0.7078004153992505,
          0.7078004153992505,
          0
         ],
         "xaxis": "x",
         "y": [
          -65,
          -65,
          -75,
          -75
         ],
         "yaxis": "y"
        },
        {
         "hoverinfo": "text",
         "marker": {
          "color": "rgb(35,205,205)"
         },
         "mode": "lines",
         "type": "scatter",
         "x": [
          0,
          0.6696319528387221,
          0.6696319528387221,
          0
         ],
         "xaxis": "x",
         "y": [
          -105,
          -105,
          -115,
          -115
         ],
         "yaxis": "y"
        },
        {
         "hoverinfo": "text",
         "marker": {
          "color": "rgb(35,205,205)"
         },
         "mode": "lines",
         "type": "scatter",
         "x": [
          0,
          0.7959543220515921,
          0.7959543220515921,
          0.6696319528387221
         ],
         "xaxis": "x",
         "y": [
          -95,
          -95,
          -110,
          -110
         ],
         "yaxis": "y"
        },
        {
         "hoverinfo": "text",
         "marker": {
          "color": "rgb(35,205,205)"
         },
         "mode": "lines",
         "type": "scatter",
         "x": [
          0,
          0.8435397499125076,
          0.8435397499125076,
          0.7959543220515921
         ],
         "xaxis": "x",
         "y": [
          -85,
          -85,
          -102.5,
          -102.5
         ],
         "yaxis": "y"
        },
        {
         "hoverinfo": "text",
         "marker": {
          "color": "rgb(35,205,205)"
         },
         "mode": "lines",
         "type": "scatter",
         "x": [
          0.7078004153992505,
          0.8592648924466773,
          0.8592648924466773,
          0.8435397499125076
         ],
         "xaxis": "x",
         "y": [
          -70,
          -70,
          -93.75,
          -93.75
         ],
         "yaxis": "y"
        },
        {
         "hoverinfo": "text",
         "marker": {
          "color": "rgb(0,116,217)"
         },
         "mode": "lines",
         "type": "scatter",
         "x": [
          0.8215864953974366,
          1.0552688969197923,
          1.0552688969197923,
          0.8592648924466773
         ],
         "xaxis": "x",
         "y": [
          -50,
          -50,
          -81.875,
          -81.875
         ],
         "yaxis": "y"
        },
        {
         "hoverinfo": "text",
         "marker": {
          "color": "rgb(0,116,217)"
         },
         "mode": "lines",
         "type": "scatter",
         "x": [
          0.8234604146062116,
          1.2172186857176475,
          1.2172186857176475,
          1.0552688969197923
         ],
         "xaxis": "x",
         "y": [
          -20,
          -20,
          -65.9375,
          -65.9375
         ],
         "yaxis": "y"
        },
        {
         "hoverinfo": "text",
         "marker": {
          "color": "rgb(133,20,75)"
         },
         "mode": "lines",
         "type": "scatter",
         "x": [
          0,
          0.6755420127177777,
          0.6755420127177777,
          0
         ],
         "xaxis": "x",
         "y": [
          -125,
          -125,
          -135,
          -135
         ],
         "yaxis": "y"
        },
        {
         "hoverinfo": "text",
         "marker": {
          "color": "rgb(133,20,75)"
         },
         "mode": "lines",
         "type": "scatter",
         "x": [
          0,
          0.6227949288906635,
          0.6227949288906635,
          0
         ],
         "xaxis": "x",
         "y": [
          -145,
          -145,
          -155,
          -155
         ],
         "yaxis": "y"
        },
        {
         "hoverinfo": "text",
         "marker": {
          "color": "rgb(133,20,75)"
         },
         "mode": "lines",
         "type": "scatter",
         "x": [
          0,
          0.6449734192921741,
          0.6449734192921741,
          0
         ],
         "xaxis": "x",
         "y": [
          -165,
          -165,
          -175,
          -175
         ],
         "yaxis": "y"
        },
        {
         "hoverinfo": "text",
         "marker": {
          "color": "rgb(133,20,75)"
         },
         "mode": "lines",
         "type": "scatter",
         "x": [
          0.6227949288906635,
          0.7857078416593732,
          0.7857078416593732,
          0.6449734192921741
         ],
         "xaxis": "x",
         "y": [
          -150,
          -150,
          -170,
          -170
         ],
         "yaxis": "y"
        },
        {
         "hoverinfo": "text",
         "marker": {
          "color": "rgb(133,20,75)"
         },
         "mode": "lines",
         "type": "scatter",
         "x": [
          0.6755420127177777,
          0.9320795617110355,
          0.9320795617110355,
          0.7857078416593732
         ],
         "xaxis": "x",
         "y": [
          -130,
          -130,
          -160,
          -160
         ],
         "yaxis": "y"
        },
        {
         "hoverinfo": "text",
         "marker": {
          "color": "rgb(255,220,0)"
         },
         "mode": "lines",
         "type": "scatter",
         "x": [
          0,
          0.6703246601850368,
          0.6703246601850368,
          0
         ],
         "xaxis": "x",
         "y": [
          -195,
          -195,
          -205,
          -205
         ],
         "yaxis": "y"
        },
        {
         "hoverinfo": "text",
         "marker": {
          "color": "rgb(255,220,0)"
         },
         "mode": "lines",
         "type": "scatter",
         "x": [
          0,
          0.6674694865148503,
          0.6674694865148503,
          0
         ],
         "xaxis": "x",
         "y": [
          -225,
          -225,
          -235,
          -235
         ],
         "yaxis": "y"
        },
        {
         "hoverinfo": "text",
         "marker": {
          "color": "rgb(255,220,0)"
         },
         "mode": "lines",
         "type": "scatter",
         "x": [
          0,
          0.6887442227786499,
          0.6887442227786499,
          0.6674694865148503
         ],
         "xaxis": "x",
         "y": [
          -215,
          -215,
          -230,
          -230
         ],
         "yaxis": "y"
        },
        {
         "hoverinfo": "text",
         "marker": {
          "color": "rgb(255,220,0)"
         },
         "mode": "lines",
         "type": "scatter",
         "x": [
          0.6703246601850368,
          0.753652804140246,
          0.753652804140246,
          0.6887442227786499
         ],
         "xaxis": "x",
         "y": [
          -200,
          -200,
          -222.5,
          -222.5
         ],
         "yaxis": "y"
        },
        {
         "hoverinfo": "text",
         "marker": {
          "color": "rgb(0,116,217)"
         },
         "mode": "lines",
         "type": "scatter",
         "x": [
          0,
          1.06121403495233,
          1.06121403495233,
          0.753652804140246
         ],
         "xaxis": "x",
         "y": [
          -185,
          -185,
          -211.25,
          -211.25
         ],
         "yaxis": "y"
        },
        {
         "hoverinfo": "text",
         "marker": {
          "color": "rgb(0,116,217)"
         },
         "mode": "lines",
         "type": "scatter",
         "x": [
          0.9320795617110355,
          1.3078707419718558,
          1.3078707419718558,
          1.06121403495233
         ],
         "xaxis": "x",
         "y": [
          -145,
          -145,
          -198.125,
          -198.125
         ],
         "yaxis": "y"
        },
        {
         "hoverinfo": "text",
         "marker": {
          "color": "rgb(0,116,217)"
         },
         "mode": "lines",
         "type": "scatter",
         "x": [
          1.2172186857176475,
          1.618561469146779,
          1.618561469146779,
          1.3078707419718558
         ],
         "xaxis": "x",
         "y": [
          -42.96875,
          -42.96875,
          -171.5625,
          -171.5625
         ],
         "yaxis": "y"
        },
        {
         "hoverinfo": "text",
         "marker": {
          "color": "rgb(40,35,35)"
         },
         "mode": "lines",
         "type": "scatter",
         "x": [
          0,
          0.36120446092778313,
          0.36120446092778313,
          0
         ],
         "xaxis": "x",
         "y": [
          -245,
          -245,
          -255,
          -255
         ],
         "yaxis": "y"
        },
        {
         "hoverinfo": "text",
         "marker": {
          "color": "rgb(40,35,35)"
         },
         "mode": "lines",
         "type": "scatter",
         "x": [
          0,
          0.40992301163787703,
          0.40992301163787703,
          0
         ],
         "xaxis": "x",
         "y": [
          -265,
          -265,
          -275,
          -275
         ],
         "yaxis": "y"
        },
        {
         "hoverinfo": "text",
         "marker": {
          "color": "rgb(40,35,35)"
         },
         "mode": "lines",
         "type": "scatter",
         "x": [
          0.36120446092778313,
          0.660905809646268,
          0.660905809646268,
          0.40992301163787703
         ],
         "xaxis": "x",
         "y": [
          -250,
          -250,
          -270,
          -270
         ],
         "yaxis": "y"
        },
        {
         "hoverinfo": "text",
         "marker": {
          "color": "rgb(40,35,35)"
         },
         "mode": "lines",
         "type": "scatter",
         "x": [
          0,
          0.5065807501310347,
          0.5065807501310347,
          0
         ],
         "xaxis": "x",
         "y": [
          -285,
          -285,
          -295,
          -295
         ],
         "yaxis": "y"
        },
        {
         "hoverinfo": "text",
         "marker": {
          "color": "rgb(40,35,35)"
         },
         "mode": "lines",
         "type": "scatter",
         "x": [
          0,
          0.635969864030636,
          0.635969864030636,
          0
         ],
         "xaxis": "x",
         "y": [
          -305,
          -305,
          -315,
          -315
         ],
         "yaxis": "y"
        },
        {
         "hoverinfo": "text",
         "marker": {
          "color": "rgb(40,35,35)"
         },
         "mode": "lines",
         "type": "scatter",
         "x": [
          0.5065807501310347,
          0.8324574237758371,
          0.8324574237758371,
          0.635969864030636
         ],
         "xaxis": "x",
         "y": [
          -290,
          -290,
          -310,
          -310
         ],
         "yaxis": "y"
        },
        {
         "hoverinfo": "text",
         "marker": {
          "color": "rgb(40,35,35)"
         },
         "mode": "lines",
         "type": "scatter",
         "x": [
          0.660905809646268,
          0.9130792308331973,
          0.9130792308331973,
          0.8324574237758371
         ],
         "xaxis": "x",
         "y": [
          -260,
          -260,
          -300,
          -300
         ],
         "yaxis": "y"
        },
        {
         "hoverinfo": "text",
         "marker": {
          "color": "rgb(61,153,112)"
         },
         "mode": "lines",
         "type": "scatter",
         "x": [
          0,
          0.44715227234452265,
          0.44715227234452265,
          0
         ],
         "xaxis": "x",
         "y": [
          -335,
          -335,
          -345,
          -345
         ],
         "yaxis": "y"
        },
        {
         "hoverinfo": "text",
         "marker": {
          "color": "rgb(61,153,112)"
         },
         "mode": "lines",
         "type": "scatter",
         "x": [
          0,
          0.5544291280654386,
          0.5544291280654386,
          0.44715227234452265
         ],
         "xaxis": "x",
         "y": [
          -325,
          -325,
          -340,
          -340
         ],
         "yaxis": "y"
        },
        {
         "hoverinfo": "text",
         "marker": {
          "color": "rgb(61,153,112)"
         },
         "mode": "lines",
         "type": "scatter",
         "x": [
          0,
          0.35782625539134505,
          0.35782625539134505,
          0
         ],
         "xaxis": "x",
         "y": [
          -355,
          -355,
          -365,
          -365
         ],
         "yaxis": "y"
        },
        {
         "hoverinfo": "text",
         "marker": {
          "color": "rgb(61,153,112)"
         },
         "mode": "lines",
         "type": "scatter",
         "x": [
          0,
          0.4140018928036937,
          0.4140018928036937,
          0
         ],
         "xaxis": "x",
         "y": [
          -375,
          -375,
          -385,
          -385
         ],
         "yaxis": "y"
        },
        {
         "hoverinfo": "text",
         "marker": {
          "color": "rgb(61,153,112)"
         },
         "mode": "lines",
         "type": "scatter",
         "x": [
          0.35782625539134505,
          0.6303464867459964,
          0.6303464867459964,
          0.4140018928036937
         ],
         "xaxis": "x",
         "y": [
          -360,
          -360,
          -380,
          -380
         ],
         "yaxis": "y"
        },
        {
         "hoverinfo": "text",
         "marker": {
          "color": "rgb(61,153,112)"
         },
         "mode": "lines",
         "type": "scatter",
         "x": [
          0.5544291280654386,
          0.7550886046725076,
          0.7550886046725076,
          0.6303464867459964
         ],
         "xaxis": "x",
         "y": [
          -332.5,
          -332.5,
          -370,
          -370
         ],
         "yaxis": "y"
        },
        {
         "hoverinfo": "text",
         "marker": {
          "color": "rgb(255,65,54)"
         },
         "mode": "lines",
         "type": "scatter",
         "x": [
          0,
          0.4543664377552255,
          0.4543664377552255,
          0
         ],
         "xaxis": "x",
         "y": [
          -405,
          -405,
          -415,
          -415
         ],
         "yaxis": "y"
        },
        {
         "hoverinfo": "text",
         "marker": {
          "color": "rgb(255,65,54)"
         },
         "mode": "lines",
         "type": "scatter",
         "x": [
          0,
          0.4855721225668898,
          0.4855721225668898,
          0.4543664377552255
         ],
         "xaxis": "x",
         "y": [
          -395,
          -395,
          -410,
          -410
         ],
         "yaxis": "y"
        },
        {
         "hoverinfo": "text",
         "marker": {
          "color": "rgb(255,65,54)"
         },
         "mode": "lines",
         "type": "scatter",
         "x": [
          0,
          0.5670482644851521,
          0.5670482644851521,
          0
         ],
         "xaxis": "x",
         "y": [
          -425,
          -425,
          -435,
          -435
         ],
         "yaxis": "y"
        },
        {
         "hoverinfo": "text",
         "marker": {
          "color": "rgb(255,65,54)"
         },
         "mode": "lines",
         "type": "scatter",
         "x": [
          0.4855721225668898,
          0.7147556804538547,
          0.7147556804538547,
          0.5670482644851521
         ],
         "xaxis": "x",
         "y": [
          -402.5,
          -402.5,
          -430,
          -430
         ],
         "yaxis": "y"
        },
        {
         "hoverinfo": "text",
         "marker": {
          "color": "rgb(35,205,205)"
         },
         "mode": "lines",
         "type": "scatter",
         "x": [
          0,
          0.31513781629750925,
          0.31513781629750925,
          0
         ],
         "xaxis": "x",
         "y": [
          -455,
          -455,
          -465,
          -465
         ],
         "yaxis": "y"
        },
        {
         "hoverinfo": "text",
         "marker": {
          "color": "rgb(35,205,205)"
         },
         "mode": "lines",
         "type": "scatter",
         "x": [
          0,
          0.39789368187243235,
          0.39789368187243235,
          0
         ],
         "xaxis": "x",
         "y": [
          -485,
          -485,
          -495,
          -495
         ],
         "yaxis": "y"
        },
        {
         "hoverinfo": "text",
         "marker": {
          "color": "rgb(35,205,205)"
         },
         "mode": "lines",
         "type": "scatter",
         "x": [
          0,
          0.4370742534863071,
          0.4370742534863071,
          0.39789368187243235
         ],
         "xaxis": "x",
         "y": [
          -475,
          -475,
          -490,
          -490
         ],
         "yaxis": "y"
        },
        {
         "hoverinfo": "text",
         "marker": {
          "color": "rgb(35,205,205)"
         },
         "mode": "lines",
         "type": "scatter",
         "x": [
          0.31513781629750925,
          0.6136564823764056,
          0.6136564823764056,
          0.4370742534863071
         ],
         "xaxis": "x",
         "y": [
          -460,
          -460,
          -482.5,
          -482.5
         ],
         "yaxis": "y"
        },
        {
         "hoverinfo": "text",
         "marker": {
          "color": "rgb(35,205,205)"
         },
         "mode": "lines",
         "type": "scatter",
         "x": [
          0,
          0.7235986043133206,
          0.7235986043133206,
          0.6136564823764056
         ],
         "xaxis": "x",
         "y": [
          -445,
          -445,
          -471.25,
          -471.25
         ],
         "yaxis": "y"
        },
        {
         "hoverinfo": "text",
         "marker": {
          "color": "rgb(0,116,217)"
         },
         "mode": "lines",
         "type": "scatter",
         "x": [
          0.7147556804538547,
          1.0087425134681072,
          1.0087425134681072,
          0.7235986043133206
         ],
         "xaxis": "x",
         "y": [
          -416.25,
          -416.25,
          -458.125,
          -458.125
         ],
         "yaxis": "y"
        },
        {
         "hoverinfo": "text",
         "marker": {
          "color": "rgb(0,116,217)"
         },
         "mode": "lines",
         "type": "scatter",
         "x": [
          0.7550886046725076,
          1.2776771900795483,
          1.2776771900795483,
          1.0087425134681072
         ],
         "xaxis": "x",
         "y": [
          -351.25,
          -351.25,
          -437.1875,
          -437.1875
         ],
         "yaxis": "y"
        },
        {
         "hoverinfo": "text",
         "marker": {
          "color": "rgb(0,116,217)"
         },
         "mode": "lines",
         "type": "scatter",
         "x": [
          0.9130792308331973,
          1.6720040921196266,
          1.6720040921196266,
          1.2776771900795483
         ],
         "xaxis": "x",
         "y": [
          -280,
          -280,
          -394.21875,
          -394.21875
         ],
         "yaxis": "y"
        },
        {
         "hoverinfo": "text",
         "marker": {
          "color": "rgb(61,153,112)"
         },
         "mode": "lines",
         "type": "scatter",
         "x": [
          0,
          0.517398481928499,
          0.517398481928499,
          0
         ],
         "xaxis": "x",
         "y": [
          -505,
          -505,
          -515,
          -515
         ],
         "yaxis": "y"
        },
        {
         "hoverinfo": "text",
         "marker": {
          "color": "rgb(61,153,112)"
         },
         "mode": "lines",
         "type": "scatter",
         "x": [
          0,
          0.42613883976484423,
          0.42613883976484423,
          0
         ],
         "xaxis": "x",
         "y": [
          -525,
          -525,
          -535,
          -535
         ],
         "yaxis": "y"
        },
        {
         "hoverinfo": "text",
         "marker": {
          "color": "rgb(61,153,112)"
         },
         "mode": "lines",
         "type": "scatter",
         "x": [
          0,
          0.43986899180745215,
          0.43986899180745215,
          0
         ],
         "xaxis": "x",
         "y": [
          -545,
          -545,
          -555,
          -555
         ],
         "yaxis": "y"
        },
        {
         "hoverinfo": "text",
         "marker": {
          "color": "rgb(61,153,112)"
         },
         "mode": "lines",
         "type": "scatter",
         "x": [
          0.42613883976484423,
          0.6758103531297489,
          0.6758103531297489,
          0.43986899180745215
         ],
         "xaxis": "x",
         "y": [
          -530,
          -530,
          -550,
          -550
         ],
         "yaxis": "y"
        },
        {
         "hoverinfo": "text",
         "marker": {
          "color": "rgb(61,153,112)"
         },
         "mode": "lines",
         "type": "scatter",
         "x": [
          0.517398481928499,
          0.800978055725739,
          0.800978055725739,
          0.6758103531297489
         ],
         "xaxis": "x",
         "y": [
          -510,
          -510,
          -540,
          -540
         ],
         "yaxis": "y"
        },
        {
         "hoverinfo": "text",
         "marker": {
          "color": "rgb(255,65,54)"
         },
         "mode": "lines",
         "type": "scatter",
         "x": [
          0,
          0.34054309503439184,
          0.34054309503439184,
          0
         ],
         "xaxis": "x",
         "y": [
          -565,
          -565,
          -575,
          -575
         ],
         "yaxis": "y"
        },
        {
         "hoverinfo": "text",
         "marker": {
          "color": "rgb(255,65,54)"
         },
         "mode": "lines",
         "type": "scatter",
         "x": [
          0,
          0.5676689880421112,
          0.5676689880421112,
          0
         ],
         "xaxis": "x",
         "y": [
          -585,
          -585,
          -595,
          -595
         ],
         "yaxis": "y"
        },
        {
         "hoverinfo": "text",
         "marker": {
          "color": "rgb(255,65,54)"
         },
         "mode": "lines",
         "type": "scatter",
         "x": [
          0,
          0.535472618919997,
          0.535472618919997,
          0
         ],
         "xaxis": "x",
         "y": [
          -615,
          -615,
          -625,
          -625
         ],
         "yaxis": "y"
        },
        {
         "hoverinfo": "text",
         "marker": {
          "color": "rgb(255,65,54)"
         },
         "mode": "lines",
         "type": "scatter",
         "x": [
          0,
          0.585023902266093,
          0.585023902266093,
          0.535472618919997
         ],
         "xaxis": "x",
         "y": [
          -605,
          -605,
          -620,
          -620
         ],
         "yaxis": "y"
        },
        {
         "hoverinfo": "text",
         "marker": {
          "color": "rgb(255,65,54)"
         },
         "mode": "lines",
         "type": "scatter",
         "x": [
          0.5676689880421112,
          0.773777653037471,
          0.773777653037471,
          0.585023902266093
         ],
         "xaxis": "x",
         "y": [
          -590,
          -590,
          -612.5,
          -612.5
         ],
         "yaxis": "y"
        },
        {
         "hoverinfo": "text",
         "marker": {
          "color": "rgb(255,65,54)"
         },
         "mode": "lines",
         "type": "scatter",
         "x": [
          0.34054309503439184,
          0.9744787578501543,
          0.9744787578501543,
          0.773777653037471
         ],
         "xaxis": "x",
         "y": [
          -570,
          -570,
          -601.25,
          -601.25
         ],
         "yaxis": "y"
        },
        {
         "hoverinfo": "text",
         "marker": {
          "color": "rgb(0,116,217)"
         },
         "mode": "lines",
         "type": "scatter",
         "x": [
          0.800978055725739,
          1.1454105192755093,
          1.1454105192755093,
          0.9744787578501543
         ],
         "xaxis": "x",
         "y": [
          -525,
          -525,
          -585.625,
          -585.625
         ],
         "yaxis": "y"
        },
        {
         "hoverinfo": "text",
         "marker": {
          "color": "rgb(35,205,205)"
         },
         "mode": "lines",
         "type": "scatter",
         "x": [
          0,
          0.5652567829827854,
          0.5652567829827854,
          0
         ],
         "xaxis": "x",
         "y": [
          -635,
          -635,
          -645,
          -645
         ],
         "yaxis": "y"
        },
        {
         "hoverinfo": "text",
         "marker": {
          "color": "rgb(35,205,205)"
         },
         "mode": "lines",
         "type": "scatter",
         "x": [
          0,
          0.5339764252810254,
          0.5339764252810254,
          0
         ],
         "xaxis": "x",
         "y": [
          -655,
          -655,
          -665,
          -665
         ],
         "yaxis": "y"
        },
        {
         "hoverinfo": "text",
         "marker": {
          "color": "rgb(35,205,205)"
         },
         "mode": "lines",
         "type": "scatter",
         "x": [
          0,
          0.5679387054584369,
          0.5679387054584369,
          0
         ],
         "xaxis": "x",
         "y": [
          -675,
          -675,
          -685,
          -685
         ],
         "yaxis": "y"
        },
        {
         "hoverinfo": "text",
         "marker": {
          "color": "rgb(35,205,205)"
         },
         "mode": "lines",
         "type": "scatter",
         "x": [
          0.5339764252810254,
          0.6777469418541523,
          0.6777469418541523,
          0.5679387054584369
         ],
         "xaxis": "x",
         "y": [
          -660,
          -660,
          -680,
          -680
         ],
         "yaxis": "y"
        },
        {
         "hoverinfo": "text",
         "marker": {
          "color": "rgb(35,205,205)"
         },
         "mode": "lines",
         "type": "scatter",
         "x": [
          0.5652567829827854,
          0.7624476202393645,
          0.7624476202393645,
          0.6777469418541523
         ],
         "xaxis": "x",
         "y": [
          -640,
          -640,
          -670,
          -670
         ],
         "yaxis": "y"
        },
        {
         "hoverinfo": "text",
         "marker": {
          "color": "rgb(133,20,75)"
         },
         "mode": "lines",
         "type": "scatter",
         "x": [
          0,
          0.6193976954422064,
          0.6193976954422064,
          0
         ],
         "xaxis": "x",
         "y": [
          -705,
          -705,
          -715,
          -715
         ],
         "yaxis": "y"
        },
        {
         "hoverinfo": "text",
         "marker": {
          "color": "rgb(133,20,75)"
         },
         "mode": "lines",
         "type": "scatter",
         "x": [
          0,
          0.7716526385961741,
          0.7716526385961741,
          0.6193976954422064
         ],
         "xaxis": "x",
         "y": [
          -695,
          -695,
          -710,
          -710
         ],
         "yaxis": "y"
        },
        {
         "hoverinfo": "text",
         "marker": {
          "color": "rgb(0,116,217)"
         },
         "mode": "lines",
         "type": "scatter",
         "x": [
          0.7624476202393645,
          1.0407900301989352,
          1.0407900301989352,
          0.7716526385961741
         ],
         "xaxis": "x",
         "y": [
          -655,
          -655,
          -702.5,
          -702.5
         ],
         "yaxis": "y"
        },
        {
         "hoverinfo": "text",
         "marker": {
          "color": "rgb(255,220,0)"
         },
         "mode": "lines",
         "type": "scatter",
         "x": [
          0,
          0.6630435029569963,
          0.6630435029569963,
          0
         ],
         "xaxis": "x",
         "y": [
          -725,
          -725,
          -735,
          -735
         ],
         "yaxis": "y"
        },
        {
         "hoverinfo": "text",
         "marker": {
          "color": "rgb(255,220,0)"
         },
         "mode": "lines",
         "type": "scatter",
         "x": [
          0,
          0.680263296697539,
          0.680263296697539,
          0
         ],
         "xaxis": "x",
         "y": [
          -745,
          -745,
          -755,
          -755
         ],
         "yaxis": "y"
        },
        {
         "hoverinfo": "text",
         "marker": {
          "color": "rgb(255,220,0)"
         },
         "mode": "lines",
         "type": "scatter",
         "x": [
          0.6630435029569963,
          0.9106340593914154,
          0.9106340593914154,
          0.680263296697539
         ],
         "xaxis": "x",
         "y": [
          -730,
          -730,
          -750,
          -750
         ],
         "yaxis": "y"
        },
        {
         "hoverinfo": "text",
         "marker": {
          "color": "rgb(40,35,35)"
         },
         "mode": "lines",
         "type": "scatter",
         "x": [
          0,
          0.42765553133051243,
          0.42765553133051243,
          0
         ],
         "xaxis": "x",
         "y": [
          -765,
          -765,
          -775,
          -775
         ],
         "yaxis": "y"
        },
        {
         "hoverinfo": "text",
         "marker": {
          "color": "rgb(61,153,112)"
         },
         "mode": "lines",
         "type": "scatter",
         "x": [
          0,
          0.49342554180766285,
          0.49342554180766285,
          0
         ],
         "xaxis": "x",
         "y": [
          -785,
          -785,
          -795,
          -795
         ],
         "yaxis": "y"
        },
        {
         "hoverinfo": "text",
         "marker": {
          "color": "rgb(0,116,217)"
         },
         "mode": "lines",
         "type": "scatter",
         "x": [
          0.42765553133051243,
          1.0315104697204809,
          1.0315104697204809,
          0.49342554180766285
         ],
         "xaxis": "x",
         "y": [
          -770,
          -770,
          -790,
          -790
         ],
         "yaxis": "y"
        },
        {
         "hoverinfo": "text",
         "marker": {
          "color": "rgb(0,116,217)"
         },
         "mode": "lines",
         "type": "scatter",
         "x": [
          0.9106340593914154,
          1.1241709561063682,
          1.1241709561063682,
          1.0315104697204809
         ],
         "xaxis": "x",
         "y": [
          -740,
          -740,
          -780,
          -780
         ],
         "yaxis": "y"
        },
        {
         "hoverinfo": "text",
         "marker": {
          "color": "rgb(255,65,54)"
         },
         "mode": "lines",
         "type": "scatter",
         "x": [
          0,
          0.38583033135195516,
          0.38583033135195516,
          0
         ],
         "xaxis": "x",
         "y": [
          -815,
          -815,
          -825,
          -825
         ],
         "yaxis": "y"
        },
        {
         "hoverinfo": "text",
         "marker": {
          "color": "rgb(255,65,54)"
         },
         "mode": "lines",
         "type": "scatter",
         "x": [
          0,
          0.6302290305682091,
          0.6302290305682091,
          0.38583033135195516
         ],
         "xaxis": "x",
         "y": [
          -805,
          -805,
          -820,
          -820
         ],
         "yaxis": "y"
        },
        {
         "hoverinfo": "text",
         "marker": {
          "color": "rgb(35,205,205)"
         },
         "mode": "lines",
         "type": "scatter",
         "x": [
          0,
          0.5481530993808972,
          0.5481530993808972,
          0
         ],
         "xaxis": "x",
         "y": [
          -835,
          -835,
          -845,
          -845
         ],
         "yaxis": "y"
        },
        {
         "hoverinfo": "text",
         "marker": {
          "color": "rgb(35,205,205)"
         },
         "mode": "lines",
         "type": "scatter",
         "x": [
          0,
          0.6797601309911042,
          0.6797601309911042,
          0
         ],
         "xaxis": "x",
         "y": [
          -855,
          -855,
          -865,
          -865
         ],
         "yaxis": "y"
        },
        {
         "hoverinfo": "text",
         "marker": {
          "color": "rgb(35,205,205)"
         },
         "mode": "lines",
         "type": "scatter",
         "x": [
          0.5481530993808972,
          0.699216268709963,
          0.699216268709963,
          0.6797601309911042
         ],
         "xaxis": "x",
         "y": [
          -840,
          -840,
          -860,
          -860
         ],
         "yaxis": "y"
        },
        {
         "hoverinfo": "text",
         "marker": {
          "color": "rgb(61,153,112)"
         },
         "mode": "lines",
         "type": "scatter",
         "x": [
          0,
          0.5209063962590188,
          0.5209063962590188,
          0
         ],
         "xaxis": "x",
         "y": [
          -875,
          -875,
          -885,
          -885
         ],
         "yaxis": "y"
        },
        {
         "hoverinfo": "text",
         "marker": {
          "color": "rgb(61,153,112)"
         },
         "mode": "lines",
         "type": "scatter",
         "x": [
          0,
          0.5908869407601155,
          0.5908869407601155,
          0
         ],
         "xaxis": "x",
         "y": [
          -905,
          -905,
          -915,
          -915
         ],
         "yaxis": "y"
        },
        {
         "hoverinfo": "text",
         "marker": {
          "color": "rgb(61,153,112)"
         },
         "mode": "lines",
         "type": "scatter",
         "x": [
          0,
          0.6415496658330636,
          0.6415496658330636,
          0.5908869407601155
         ],
         "xaxis": "x",
         "y": [
          -895,
          -895,
          -910,
          -910
         ],
         "yaxis": "y"
        },
        {
         "hoverinfo": "text",
         "marker": {
          "color": "rgb(61,153,112)"
         },
         "mode": "lines",
         "type": "scatter",
         "x": [
          0,
          0.5585577740681734,
          0.5585577740681734,
          0
         ],
         "xaxis": "x",
         "y": [
          -935,
          -935,
          -945,
          -945
         ],
         "yaxis": "y"
        },
        {
         "hoverinfo": "text",
         "marker": {
          "color": "rgb(61,153,112)"
         },
         "mode": "lines",
         "type": "scatter",
         "x": [
          0,
          0.5953398921402749,
          0.5953398921402749,
          0.5585577740681734
         ],
         "xaxis": "x",
         "y": [
          -925,
          -925,
          -940,
          -940
         ],
         "yaxis": "y"
        },
        {
         "hoverinfo": "text",
         "marker": {
          "color": "rgb(61,153,112)"
         },
         "mode": "lines",
         "type": "scatter",
         "x": [
          0,
          0.6097465619832525,
          0.6097465619832525,
          0
         ],
         "xaxis": "x",
         "y": [
          -955,
          -955,
          -965,
          -965
         ],
         "yaxis": "y"
        },
        {
         "hoverinfo": "text",
         "marker": {
          "color": "rgb(61,153,112)"
         },
         "mode": "lines",
         "type": "scatter",
         "x": [
          0.5953398921402749,
          0.7508348089101208,
          0.7508348089101208,
          0.6097465619832525
         ],
         "xaxis": "x",
         "y": [
          -932.5,
          -932.5,
          -960,
          -960
         ],
         "yaxis": "y"
        },
        {
         "hoverinfo": "text",
         "marker": {
          "color": "rgb(61,153,112)"
         },
         "mode": "lines",
         "type": "scatter",
         "x": [
          0.6415496658330636,
          0.8932156599568644,
          0.8932156599568644,
          0.7508348089101208
         ],
         "xaxis": "x",
         "y": [
          -902.5,
          -902.5,
          -946.25,
          -946.25
         ],
         "yaxis": "y"
        },
        {
         "hoverinfo": "text",
         "marker": {
          "color": "rgb(61,153,112)"
         },
         "mode": "lines",
         "type": "scatter",
         "x": [
          0.5209063962590188,
          0.9294659698840584,
          0.9294659698840584,
          0.8932156599568644
         ],
         "xaxis": "x",
         "y": [
          -880,
          -880,
          -924.375,
          -924.375
         ],
         "yaxis": "y"
        },
        {
         "hoverinfo": "text",
         "marker": {
          "color": "rgb(0,116,217)"
         },
         "mode": "lines",
         "type": "scatter",
         "x": [
          0.699216268709963,
          1.1079234173139056,
          1.1079234173139056,
          0.9294659698840584
         ],
         "xaxis": "x",
         "y": [
          -850,
          -850,
          -902.1875,
          -902.1875
         ],
         "yaxis": "y"
        },
        {
         "hoverinfo": "text",
         "marker": {
          "color": "rgb(0,116,217)"
         },
         "mode": "lines",
         "type": "scatter",
         "x": [
          0.6302290305682091,
          1.2537069182530096,
          1.2537069182530096,
          1.1079234173139056
         ],
         "xaxis": "x",
         "y": [
          -812.5,
          -812.5,
          -876.09375,
          -876.09375
         ],
         "yaxis": "y"
        },
        {
         "hoverinfo": "text",
         "marker": {
          "color": "rgb(0,116,217)"
         },
         "mode": "lines",
         "type": "scatter",
         "x": [
          1.1241709561063682,
          1.4357902502301556,
          1.4357902502301556,
          1.2537069182530096
         ],
         "xaxis": "x",
         "y": [
          -760,
          -760,
          -844.296875,
          -844.296875
         ],
         "yaxis": "y"
        },
        {
         "hoverinfo": "text",
         "marker": {
          "color": "rgb(0,116,217)"
         },
         "mode": "lines",
         "type": "scatter",
         "x": [
          1.0407900301989352,
          2.0210151197321395,
          2.0210151197321395,
          1.4357902502301556
         ],
         "xaxis": "x",
         "y": [
          -678.75,
          -678.75,
          -802.1484375,
          -802.1484375
         ],
         "yaxis": "y"
        },
        {
         "hoverinfo": "text",
         "marker": {
          "color": "rgb(0,116,217)"
         },
         "mode": "lines",
         "type": "scatter",
         "x": [
          1.1454105192755093,
          2.3549271286436713,
          2.3549271286436713,
          2.0210151197321395
         ],
         "xaxis": "x",
         "y": [
          -555.3125,
          -555.3125,
          -740.44921875,
          -740.44921875
         ],
         "yaxis": "y"
        },
        {
         "hoverinfo": "text",
         "marker": {
          "color": "rgb(0,116,217)"
         },
         "mode": "lines",
         "type": "scatter",
         "x": [
          1.6720040921196266,
          2.9155561292888947,
          2.9155561292888947,
          2.3549271286436713
         ],
         "xaxis": "x",
         "y": [
          -337.109375,
          -337.109375,
          -647.880859375,
          -647.880859375
         ],
         "yaxis": "y"
        },
        {
         "hoverinfo": "text",
         "marker": {
          "color": "rgb(0,116,217)"
         },
         "mode": "lines",
         "type": "scatter",
         "x": [
          1.618561469146779,
          3.7398419388188016,
          3.7398419388188016,
          2.9155561292888947
         ],
         "xaxis": "x",
         "y": [
          -107.265625,
          -107.265625,
          -492.4951171875,
          -492.4951171875
         ],
         "yaxis": "y"
        }
       ],
       "layout": {
        "autosize": false,
        "height": 1655,
        "hoverlabel": {
         "bgcolor": "white",
         "font": {
          "family": "Rockwell",
          "size": 16
         }
        },
        "hovermode": "closest",
        "plot_bgcolor": "#ECEFF1",
        "showlegend": false,
        "template": {
         "data": {
          "bar": [
           {
            "error_x": {
             "color": "#2a3f5f"
            },
            "error_y": {
             "color": "#2a3f5f"
            },
            "marker": {
             "line": {
              "color": "white",
              "width": 0.5
             },
             "pattern": {
              "fillmode": "overlay",
              "size": 10,
              "solidity": 0.2
             }
            },
            "type": "bar"
           }
          ],
          "barpolar": [
           {
            "marker": {
             "line": {
              "color": "white",
              "width": 0.5
             },
             "pattern": {
              "fillmode": "overlay",
              "size": 10,
              "solidity": 0.2
             }
            },
            "type": "barpolar"
           }
          ],
          "carpet": [
           {
            "aaxis": {
             "endlinecolor": "#2a3f5f",
             "gridcolor": "#C8D4E3",
             "linecolor": "#C8D4E3",
             "minorgridcolor": "#C8D4E3",
             "startlinecolor": "#2a3f5f"
            },
            "baxis": {
             "endlinecolor": "#2a3f5f",
             "gridcolor": "#C8D4E3",
             "linecolor": "#C8D4E3",
             "minorgridcolor": "#C8D4E3",
             "startlinecolor": "#2a3f5f"
            },
            "type": "carpet"
           }
          ],
          "choropleth": [
           {
            "colorbar": {
             "outlinewidth": 0,
             "ticks": ""
            },
            "type": "choropleth"
           }
          ],
          "contour": [
           {
            "colorbar": {
             "outlinewidth": 0,
             "ticks": ""
            },
            "colorscale": [
             [
              0,
              "#0d0887"
             ],
             [
              0.1111111111111111,
              "#46039f"
             ],
             [
              0.2222222222222222,
              "#7201a8"
             ],
             [
              0.3333333333333333,
              "#9c179e"
             ],
             [
              0.4444444444444444,
              "#bd3786"
             ],
             [
              0.5555555555555556,
              "#d8576b"
             ],
             [
              0.6666666666666666,
              "#ed7953"
             ],
             [
              0.7777777777777778,
              "#fb9f3a"
             ],
             [
              0.8888888888888888,
              "#fdca26"
             ],
             [
              1,
              "#f0f921"
             ]
            ],
            "type": "contour"
           }
          ],
          "contourcarpet": [
           {
            "colorbar": {
             "outlinewidth": 0,
             "ticks": ""
            },
            "type": "contourcarpet"
           }
          ],
          "heatmap": [
           {
            "colorbar": {
             "outlinewidth": 0,
             "ticks": ""
            },
            "colorscale": [
             [
              0,
              "#0d0887"
             ],
             [
              0.1111111111111111,
              "#46039f"
             ],
             [
              0.2222222222222222,
              "#7201a8"
             ],
             [
              0.3333333333333333,
              "#9c179e"
             ],
             [
              0.4444444444444444,
              "#bd3786"
             ],
             [
              0.5555555555555556,
              "#d8576b"
             ],
             [
              0.6666666666666666,
              "#ed7953"
             ],
             [
              0.7777777777777778,
              "#fb9f3a"
             ],
             [
              0.8888888888888888,
              "#fdca26"
             ],
             [
              1,
              "#f0f921"
             ]
            ],
            "type": "heatmap"
           }
          ],
          "heatmapgl": [
           {
            "colorbar": {
             "outlinewidth": 0,
             "ticks": ""
            },
            "colorscale": [
             [
              0,
              "#0d0887"
             ],
             [
              0.1111111111111111,
              "#46039f"
             ],
             [
              0.2222222222222222,
              "#7201a8"
             ],
             [
              0.3333333333333333,
              "#9c179e"
             ],
             [
              0.4444444444444444,
              "#bd3786"
             ],
             [
              0.5555555555555556,
              "#d8576b"
             ],
             [
              0.6666666666666666,
              "#ed7953"
             ],
             [
              0.7777777777777778,
              "#fb9f3a"
             ],
             [
              0.8888888888888888,
              "#fdca26"
             ],
             [
              1,
              "#f0f921"
             ]
            ],
            "type": "heatmapgl"
           }
          ],
          "histogram": [
           {
            "marker": {
             "pattern": {
              "fillmode": "overlay",
              "size": 10,
              "solidity": 0.2
             }
            },
            "type": "histogram"
           }
          ],
          "histogram2d": [
           {
            "colorbar": {
             "outlinewidth": 0,
             "ticks": ""
            },
            "colorscale": [
             [
              0,
              "#0d0887"
             ],
             [
              0.1111111111111111,
              "#46039f"
             ],
             [
              0.2222222222222222,
              "#7201a8"
             ],
             [
              0.3333333333333333,
              "#9c179e"
             ],
             [
              0.4444444444444444,
              "#bd3786"
             ],
             [
              0.5555555555555556,
              "#d8576b"
             ],
             [
              0.6666666666666666,
              "#ed7953"
             ],
             [
              0.7777777777777778,
              "#fb9f3a"
             ],
             [
              0.8888888888888888,
              "#fdca26"
             ],
             [
              1,
              "#f0f921"
             ]
            ],
            "type": "histogram2d"
           }
          ],
          "histogram2dcontour": [
           {
            "colorbar": {
             "outlinewidth": 0,
             "ticks": ""
            },
            "colorscale": [
             [
              0,
              "#0d0887"
             ],
             [
              0.1111111111111111,
              "#46039f"
             ],
             [
              0.2222222222222222,
              "#7201a8"
             ],
             [
              0.3333333333333333,
              "#9c179e"
             ],
             [
              0.4444444444444444,
              "#bd3786"
             ],
             [
              0.5555555555555556,
              "#d8576b"
             ],
             [
              0.6666666666666666,
              "#ed7953"
             ],
             [
              0.7777777777777778,
              "#fb9f3a"
             ],
             [
              0.8888888888888888,
              "#fdca26"
             ],
             [
              1,
              "#f0f921"
             ]
            ],
            "type": "histogram2dcontour"
           }
          ],
          "mesh3d": [
           {
            "colorbar": {
             "outlinewidth": 0,
             "ticks": ""
            },
            "type": "mesh3d"
           }
          ],
          "parcoords": [
           {
            "line": {
             "colorbar": {
              "outlinewidth": 0,
              "ticks": ""
             }
            },
            "type": "parcoords"
           }
          ],
          "pie": [
           {
            "automargin": true,
            "type": "pie"
           }
          ],
          "scatter": [
           {
            "fillpattern": {
             "fillmode": "overlay",
             "size": 10,
             "solidity": 0.2
            },
            "type": "scatter"
           }
          ],
          "scatter3d": [
           {
            "line": {
             "colorbar": {
              "outlinewidth": 0,
              "ticks": ""
             }
            },
            "marker": {
             "colorbar": {
              "outlinewidth": 0,
              "ticks": ""
             }
            },
            "type": "scatter3d"
           }
          ],
          "scattercarpet": [
           {
            "marker": {
             "colorbar": {
              "outlinewidth": 0,
              "ticks": ""
             }
            },
            "type": "scattercarpet"
           }
          ],
          "scattergeo": [
           {
            "marker": {
             "colorbar": {
              "outlinewidth": 0,
              "ticks": ""
             }
            },
            "type": "scattergeo"
           }
          ],
          "scattergl": [
           {
            "marker": {
             "colorbar": {
              "outlinewidth": 0,
              "ticks": ""
             }
            },
            "type": "scattergl"
           }
          ],
          "scattermapbox": [
           {
            "marker": {
             "colorbar": {
              "outlinewidth": 0,
              "ticks": ""
             }
            },
            "type": "scattermapbox"
           }
          ],
          "scatterpolar": [
           {
            "marker": {
             "colorbar": {
              "outlinewidth": 0,
              "ticks": ""
             }
            },
            "type": "scatterpolar"
           }
          ],
          "scatterpolargl": [
           {
            "marker": {
             "colorbar": {
              "outlinewidth": 0,
              "ticks": ""
             }
            },
            "type": "scatterpolargl"
           }
          ],
          "scatterternary": [
           {
            "marker": {
             "colorbar": {
              "outlinewidth": 0,
              "ticks": ""
             }
            },
            "type": "scatterternary"
           }
          ],
          "surface": [
           {
            "colorbar": {
             "outlinewidth": 0,
             "ticks": ""
            },
            "colorscale": [
             [
              0,
              "#0d0887"
             ],
             [
              0.1111111111111111,
              "#46039f"
             ],
             [
              0.2222222222222222,
              "#7201a8"
             ],
             [
              0.3333333333333333,
              "#9c179e"
             ],
             [
              0.4444444444444444,
              "#bd3786"
             ],
             [
              0.5555555555555556,
              "#d8576b"
             ],
             [
              0.6666666666666666,
              "#ed7953"
             ],
             [
              0.7777777777777778,
              "#fb9f3a"
             ],
             [
              0.8888888888888888,
              "#fdca26"
             ],
             [
              1,
              "#f0f921"
             ]
            ],
            "type": "surface"
           }
          ],
          "table": [
           {
            "cells": {
             "fill": {
              "color": "#EBF0F8"
             },
             "line": {
              "color": "white"
             }
            },
            "header": {
             "fill": {
              "color": "#C8D4E3"
             },
             "line": {
              "color": "white"
             }
            },
            "type": "table"
           }
          ]
         },
         "layout": {
          "annotationdefaults": {
           "arrowcolor": "#2a3f5f",
           "arrowhead": 0,
           "arrowwidth": 1
          },
          "autotypenumbers": "strict",
          "coloraxis": {
           "colorbar": {
            "outlinewidth": 0,
            "ticks": ""
           }
          },
          "colorscale": {
           "diverging": [
            [
             0,
             "#8e0152"
            ],
            [
             0.1,
             "#c51b7d"
            ],
            [
             0.2,
             "#de77ae"
            ],
            [
             0.3,
             "#f1b6da"
            ],
            [
             0.4,
             "#fde0ef"
            ],
            [
             0.5,
             "#f7f7f7"
            ],
            [
             0.6,
             "#e6f5d0"
            ],
            [
             0.7,
             "#b8e186"
            ],
            [
             0.8,
             "#7fbc41"
            ],
            [
             0.9,
             "#4d9221"
            ],
            [
             1,
             "#276419"
            ]
           ],
           "sequential": [
            [
             0,
             "#0d0887"
            ],
            [
             0.1111111111111111,
             "#46039f"
            ],
            [
             0.2222222222222222,
             "#7201a8"
            ],
            [
             0.3333333333333333,
             "#9c179e"
            ],
            [
             0.4444444444444444,
             "#bd3786"
            ],
            [
             0.5555555555555556,
             "#d8576b"
            ],
            [
             0.6666666666666666,
             "#ed7953"
            ],
            [
             0.7777777777777778,
             "#fb9f3a"
            ],
            [
             0.8888888888888888,
             "#fdca26"
            ],
            [
             1,
             "#f0f921"
            ]
           ],
           "sequentialminus": [
            [
             0,
             "#0d0887"
            ],
            [
             0.1111111111111111,
             "#46039f"
            ],
            [
             0.2222222222222222,
             "#7201a8"
            ],
            [
             0.3333333333333333,
             "#9c179e"
            ],
            [
             0.4444444444444444,
             "#bd3786"
            ],
            [
             0.5555555555555556,
             "#d8576b"
            ],
            [
             0.6666666666666666,
             "#ed7953"
            ],
            [
             0.7777777777777778,
             "#fb9f3a"
            ],
            [
             0.8888888888888888,
             "#fdca26"
            ],
            [
             1,
             "#f0f921"
            ]
           ]
          },
          "colorway": [
           "#636efa",
           "#EF553B",
           "#00cc96",
           "#ab63fa",
           "#FFA15A",
           "#19d3f3",
           "#FF6692",
           "#B6E880",
           "#FF97FF",
           "#FECB52"
          ],
          "font": {
           "color": "#2a3f5f"
          },
          "geo": {
           "bgcolor": "white",
           "lakecolor": "white",
           "landcolor": "white",
           "showlakes": true,
           "showland": true,
           "subunitcolor": "#C8D4E3"
          },
          "hoverlabel": {
           "align": "left"
          },
          "hovermode": "closest",
          "mapbox": {
           "style": "light"
          },
          "paper_bgcolor": "white",
          "plot_bgcolor": "white",
          "polar": {
           "angularaxis": {
            "gridcolor": "#EBF0F8",
            "linecolor": "#EBF0F8",
            "ticks": ""
           },
           "bgcolor": "white",
           "radialaxis": {
            "gridcolor": "#EBF0F8",
            "linecolor": "#EBF0F8",
            "ticks": ""
           }
          },
          "scene": {
           "xaxis": {
            "backgroundcolor": "white",
            "gridcolor": "#DFE8F3",
            "gridwidth": 2,
            "linecolor": "#EBF0F8",
            "showbackground": true,
            "ticks": "",
            "zerolinecolor": "#EBF0F8"
           },
           "yaxis": {
            "backgroundcolor": "white",
            "gridcolor": "#DFE8F3",
            "gridwidth": 2,
            "linecolor": "#EBF0F8",
            "showbackground": true,
            "ticks": "",
            "zerolinecolor": "#EBF0F8"
           },
           "zaxis": {
            "backgroundcolor": "white",
            "gridcolor": "#DFE8F3",
            "gridwidth": 2,
            "linecolor": "#EBF0F8",
            "showbackground": true,
            "ticks": "",
            "zerolinecolor": "#EBF0F8"
           }
          },
          "shapedefaults": {
           "line": {
            "color": "#2a3f5f"
           }
          },
          "ternary": {
           "aaxis": {
            "gridcolor": "#DFE8F3",
            "linecolor": "#A2B1C6",
            "ticks": ""
           },
           "baxis": {
            "gridcolor": "#DFE8F3",
            "linecolor": "#A2B1C6",
            "ticks": ""
           },
           "bgcolor": "white",
           "caxis": {
            "gridcolor": "#DFE8F3",
            "linecolor": "#A2B1C6",
            "ticks": ""
           }
          },
          "title": {
           "x": 0.05
          },
          "xaxis": {
           "automargin": true,
           "gridcolor": "#EBF0F8",
           "linecolor": "#EBF0F8",
           "ticks": "",
           "title": {
            "standoff": 15
           },
           "zerolinecolor": "#EBF0F8",
           "zerolinewidth": 2
          },
          "yaxis": {
           "automargin": true,
           "gridcolor": "#EBF0F8",
           "linecolor": "#EBF0F8",
           "ticks": "",
           "title": {
            "standoff": 15
           },
           "zerolinecolor": "#EBF0F8",
           "zerolinewidth": 2
          }
         }
        },
        "title": {
         "font": {
          "color": "Black",
          "size": 22
         },
         "text": "<b>Hierarchical Clustering",
         "x": 0.5,
         "xanchor": "center",
         "yanchor": "top"
        },
        "width": 1000,
        "xaxis": {
         "mirror": "allticks",
         "rangemode": "tozero",
         "showgrid": false,
         "showline": true,
         "showticklabels": true,
         "ticks": "outside",
         "type": "linear",
         "zeroline": false
        },
        "yaxis": {
         "mirror": "allticks",
         "range": [
          -970,
          0
         ],
         "rangemode": "tozero",
         "showgrid": false,
         "showline": true,
         "showticklabels": true,
         "tickmode": "array",
         "ticks": "outside",
         "ticktext": [
          "50_nadia_amsterdam_osam",
          "80_alessandra_florence_andrea",
          "54_casci_florence_paolo",
          "95_perseo_il_laura",
          "60_rex_francisco_san",
          "65_adagio_union_cortez",
          "42_argonaut_wharf_nautical",
          "47_orchard_union_francisco",
          "61_jurys_boston_jury",
          "90_kimpton_monaco_hotels",
          "45_chancellor_francisco_san",
          "87_regis_st_shades",
          "39_sofitel_york_new",
          "67_muse_york_times",
          "72_benjamin_york_nyc",
          "76_hoxton_london_tube",
          "71_library_york_new",
          "74_cambridge_suites_toronto",
          "55_honeymoon_ubud_alila",
          "35_gem_little_hotel",
          "62_fab_hotel_city",
          "64_noise_noisy_hostal",
          "30_ritz_carlton_ritzcarlton",
          "57_jazz_reviews_stayed",
          "23_ramblas_las_catalunya",
          "86_euros_rambla_la",
          "2_barcelona_ramblas_hotel",
          "22_madrid_plaza_mayor",
          "4_florence_hotel_italy",
          "94_florence_gem_florentine",
          "69_royal_service_club",
          "77_castle_chinatown_inn",
          "58_time_great_beach",
          "27_secrets_honeymoon_resort",
          "92_vacation_rum_pool",
          "48_kids_family_location",
          "84_kids_club_family",
          "0_room_hotel_location",
          "18_husband_room_hotel",
          "28_riu_bambu_palace",
          "44_bavaro_princess_beach",
          "59_bahia_principe_gran",
          "73_paradisus_royal_resort",
          "81_villa_villas_pool",
          "25_miami_beach_south",
          "20_beach_resort_people",
          "63_beach_pool_did",
          "36_dominican_republic_people",
          "5_punta_cana_resort",
          "79_resort_beach_serviced",
          "17_london_tube_bridge",
          "96_soho_london_dayalthough",
          "6_york_nyc_new",
          "75_palace_york_new",
          "1_paris_metro_eiffel",
          "3_amsterdam_hotel_tram",
          "11_berlin_ubahn_hotel",
          "32_frankfurt_station_airport",
          "24_boston_charlesmark_hotel",
          "85_fairmont_copley_boston",
          "8_seattle_downtown_pike",
          "33_toronto_gladstone_eaton",
          "49_dallas_adolphus_downtown",
          "15_tokyo_shinjuku_station",
          "19_beijing_china_chinese",
          "21_singapore_raffles_mrt",
          "53_shangrila_wing_valley",
          "14_hong_kong_hk",
          "83_mandarin_oriental_miami",
          "10_waikiki_hawaii_beach",
          "12_bali_ubud_kuta",
          "46_phoenix_scottsdale_desert",
          "34_hollywood_beverly_elan",
          "89_disney_disneyland_castle",
          "38_airport_shuttle_seatac",
          "51_cruise_marriott_shuttle",
          "40_majestic_colonial_animat...",
          "78_majestic_colonial_cana",
          "52_melia_caribe_tropical",
          "70_mela_nyc_york",
          "41_mexico_city_polanco",
          "9_juan_san_puerto",
          "43_casitas_conquistador_el",
          "26_venice_canal_ponte",
          "37_europa_florence_gassim",
          "56_luna_simone_london",
          "93_altamont_alan_sydney",
          "13_sydney_harbour_darling",
          "66_darling_circular_harbour",
          "68_mate_mario_madrid",
          "82_hix_vieques_island",
          "91_fita_hans_amsterdam",
          "88_modern_hotel_letras",
          "16_orleans_quarter_new",
          "31_casablanca_rick_cheese",
          "7_francisco_san_sf",
          "29_affinia_dumont_50"
         ],
         "tickvals": [
          -5,
          -15,
          -25,
          -35,
          -45,
          -55,
          -65,
          -75,
          -85,
          -95,
          -105,
          -115,
          -125,
          -135,
          -145,
          -155,
          -165,
          -175,
          -185,
          -195,
          -205,
          -215,
          -225,
          -235,
          -245,
          -255,
          -265,
          -275,
          -285,
          -295,
          -305,
          -315,
          -325,
          -335,
          -345,
          -355,
          -365,
          -375,
          -385,
          -395,
          -405,
          -415,
          -425,
          -435,
          -445,
          -455,
          -465,
          -475,
          -485,
          -495,
          -505,
          -515,
          -525,
          -535,
          -545,
          -555,
          -565,
          -575,
          -585,
          -595,
          -605,
          -615,
          -625,
          -635,
          -645,
          -655,
          -665,
          -675,
          -685,
          -695,
          -705,
          -715,
          -725,
          -735,
          -745,
          -755,
          -765,
          -775,
          -785,
          -795,
          -805,
          -815,
          -825,
          -835,
          -845,
          -855,
          -865,
          -875,
          -885,
          -895,
          -905,
          -915,
          -925,
          -935,
          -945,
          -955,
          -965
         ],
         "type": "linear",
         "zeroline": false
        }
       }
      },
      "text/html": [
       "<div>                            <div id=\"4f7346d7-e074-45b5-9544-990843c35fe2\" class=\"plotly-graph-div\" style=\"height:1655px; width:1000px;\"></div>            <script type=\"text/javascript\">                require([\"plotly\"], function(Plotly) {                    window.PLOTLYENV=window.PLOTLYENV || {};                                    if (document.getElementById(\"4f7346d7-e074-45b5-9544-990843c35fe2\")) {                    Plotly.newPlot(                        \"4f7346d7-e074-45b5-9544-990843c35fe2\",                        [{\"hoverinfo\":\"text\",\"marker\":{\"color\":\"rgb(61,153,112)\"},\"mode\":\"lines\",\"x\":[0.0,0.5462299665595738,0.5462299665595738,0.0],\"xaxis\":\"x\",\"y\":[-5.0,-5.0,-15.0,-15.0],\"yaxis\":\"y\",\"type\":\"scatter\"},{\"hoverinfo\":\"text\",\"marker\":{\"color\":\"rgb(61,153,112)\"},\"mode\":\"lines\",\"x\":[0.0,0.6652060299019639,0.6652060299019639,0.0],\"xaxis\":\"x\",\"y\":[-25.0,-25.0,-35.0,-35.0],\"yaxis\":\"y\",\"type\":\"scatter\"},{\"hoverinfo\":\"text\",\"marker\":{\"color\":\"rgb(61,153,112)\"},\"mode\":\"lines\",\"x\":[0.5462299665595738,0.8234604146062116,0.8234604146062116,0.6652060299019639],\"xaxis\":\"x\",\"y\":[-10.0,-10.0,-30.0,-30.0],\"yaxis\":\"y\",\"type\":\"scatter\"},{\"hoverinfo\":\"text\",\"marker\":{\"color\":\"rgb(255,65,54)\"},\"mode\":\"lines\",\"x\":[0.0,0.8215864953974366,0.8215864953974366,0.0],\"xaxis\":\"x\",\"y\":[-45.0,-45.0,-55.0,-55.0],\"yaxis\":\"y\",\"type\":\"scatter\"},{\"hoverinfo\":\"text\",\"marker\":{\"color\":\"rgb(35,205,205)\"},\"mode\":\"lines\",\"x\":[0.0,0.7078004153992505,0.7078004153992505,0.0],\"xaxis\":\"x\",\"y\":[-65.0,-65.0,-75.0,-75.0],\"yaxis\":\"y\",\"type\":\"scatter\"},{\"hoverinfo\":\"text\",\"marker\":{\"color\":\"rgb(35,205,205)\"},\"mode\":\"lines\",\"x\":[0.0,0.6696319528387221,0.6696319528387221,0.0],\"xaxis\":\"x\",\"y\":[-105.0,-105.0,-115.0,-115.0],\"yaxis\":\"y\",\"type\":\"scatter\"},{\"hoverinfo\":\"text\",\"marker\":{\"color\":\"rgb(35,205,205)\"},\"mode\":\"lines\",\"x\":[0.0,0.7959543220515921,0.7959543220515921,0.6696319528387221],\"xaxis\":\"x\",\"y\":[-95.0,-95.0,-110.0,-110.0],\"yaxis\":\"y\",\"type\":\"scatter\"},{\"hoverinfo\":\"text\",\"marker\":{\"color\":\"rgb(35,205,205)\"},\"mode\":\"lines\",\"x\":[0.0,0.8435397499125076,0.8435397499125076,0.7959543220515921],\"xaxis\":\"x\",\"y\":[-85.0,-85.0,-102.5,-102.5],\"yaxis\":\"y\",\"type\":\"scatter\"},{\"hoverinfo\":\"text\",\"marker\":{\"color\":\"rgb(35,205,205)\"},\"mode\":\"lines\",\"x\":[0.7078004153992505,0.8592648924466773,0.8592648924466773,0.8435397499125076],\"xaxis\":\"x\",\"y\":[-70.0,-70.0,-93.75,-93.75],\"yaxis\":\"y\",\"type\":\"scatter\"},{\"hoverinfo\":\"text\",\"marker\":{\"color\":\"rgb(0,116,217)\"},\"mode\":\"lines\",\"x\":[0.8215864953974366,1.0552688969197923,1.0552688969197923,0.8592648924466773],\"xaxis\":\"x\",\"y\":[-50.0,-50.0,-81.875,-81.875],\"yaxis\":\"y\",\"type\":\"scatter\"},{\"hoverinfo\":\"text\",\"marker\":{\"color\":\"rgb(0,116,217)\"},\"mode\":\"lines\",\"x\":[0.8234604146062116,1.2172186857176475,1.2172186857176475,1.0552688969197923],\"xaxis\":\"x\",\"y\":[-20.0,-20.0,-65.9375,-65.9375],\"yaxis\":\"y\",\"type\":\"scatter\"},{\"hoverinfo\":\"text\",\"marker\":{\"color\":\"rgb(133,20,75)\"},\"mode\":\"lines\",\"x\":[0.0,0.6755420127177777,0.6755420127177777,0.0],\"xaxis\":\"x\",\"y\":[-125.0,-125.0,-135.0,-135.0],\"yaxis\":\"y\",\"type\":\"scatter\"},{\"hoverinfo\":\"text\",\"marker\":{\"color\":\"rgb(133,20,75)\"},\"mode\":\"lines\",\"x\":[0.0,0.6227949288906635,0.6227949288906635,0.0],\"xaxis\":\"x\",\"y\":[-145.0,-145.0,-155.0,-155.0],\"yaxis\":\"y\",\"type\":\"scatter\"},{\"hoverinfo\":\"text\",\"marker\":{\"color\":\"rgb(133,20,75)\"},\"mode\":\"lines\",\"x\":[0.0,0.6449734192921741,0.6449734192921741,0.0],\"xaxis\":\"x\",\"y\":[-165.0,-165.0,-175.0,-175.0],\"yaxis\":\"y\",\"type\":\"scatter\"},{\"hoverinfo\":\"text\",\"marker\":{\"color\":\"rgb(133,20,75)\"},\"mode\":\"lines\",\"x\":[0.6227949288906635,0.7857078416593732,0.7857078416593732,0.6449734192921741],\"xaxis\":\"x\",\"y\":[-150.0,-150.0,-170.0,-170.0],\"yaxis\":\"y\",\"type\":\"scatter\"},{\"hoverinfo\":\"text\",\"marker\":{\"color\":\"rgb(133,20,75)\"},\"mode\":\"lines\",\"x\":[0.6755420127177777,0.9320795617110355,0.9320795617110355,0.7857078416593732],\"xaxis\":\"x\",\"y\":[-130.0,-130.0,-160.0,-160.0],\"yaxis\":\"y\",\"type\":\"scatter\"},{\"hoverinfo\":\"text\",\"marker\":{\"color\":\"rgb(255,220,0)\"},\"mode\":\"lines\",\"x\":[0.0,0.6703246601850368,0.6703246601850368,0.0],\"xaxis\":\"x\",\"y\":[-195.0,-195.0,-205.0,-205.0],\"yaxis\":\"y\",\"type\":\"scatter\"},{\"hoverinfo\":\"text\",\"marker\":{\"color\":\"rgb(255,220,0)\"},\"mode\":\"lines\",\"x\":[0.0,0.6674694865148503,0.6674694865148503,0.0],\"xaxis\":\"x\",\"y\":[-225.0,-225.0,-235.0,-235.0],\"yaxis\":\"y\",\"type\":\"scatter\"},{\"hoverinfo\":\"text\",\"marker\":{\"color\":\"rgb(255,220,0)\"},\"mode\":\"lines\",\"x\":[0.0,0.6887442227786499,0.6887442227786499,0.6674694865148503],\"xaxis\":\"x\",\"y\":[-215.0,-215.0,-230.0,-230.0],\"yaxis\":\"y\",\"type\":\"scatter\"},{\"hoverinfo\":\"text\",\"marker\":{\"color\":\"rgb(255,220,0)\"},\"mode\":\"lines\",\"x\":[0.6703246601850368,0.753652804140246,0.753652804140246,0.6887442227786499],\"xaxis\":\"x\",\"y\":[-200.0,-200.0,-222.5,-222.5],\"yaxis\":\"y\",\"type\":\"scatter\"},{\"hoverinfo\":\"text\",\"marker\":{\"color\":\"rgb(0,116,217)\"},\"mode\":\"lines\",\"x\":[0.0,1.06121403495233,1.06121403495233,0.753652804140246],\"xaxis\":\"x\",\"y\":[-185.0,-185.0,-211.25,-211.25],\"yaxis\":\"y\",\"type\":\"scatter\"},{\"hoverinfo\":\"text\",\"marker\":{\"color\":\"rgb(0,116,217)\"},\"mode\":\"lines\",\"x\":[0.9320795617110355,1.3078707419718558,1.3078707419718558,1.06121403495233],\"xaxis\":\"x\",\"y\":[-145.0,-145.0,-198.125,-198.125],\"yaxis\":\"y\",\"type\":\"scatter\"},{\"hoverinfo\":\"text\",\"marker\":{\"color\":\"rgb(0,116,217)\"},\"mode\":\"lines\",\"x\":[1.2172186857176475,1.618561469146779,1.618561469146779,1.3078707419718558],\"xaxis\":\"x\",\"y\":[-42.96875,-42.96875,-171.5625,-171.5625],\"yaxis\":\"y\",\"type\":\"scatter\"},{\"hoverinfo\":\"text\",\"marker\":{\"color\":\"rgb(40,35,35)\"},\"mode\":\"lines\",\"x\":[0.0,0.36120446092778313,0.36120446092778313,0.0],\"xaxis\":\"x\",\"y\":[-245.0,-245.0,-255.0,-255.0],\"yaxis\":\"y\",\"type\":\"scatter\"},{\"hoverinfo\":\"text\",\"marker\":{\"color\":\"rgb(40,35,35)\"},\"mode\":\"lines\",\"x\":[0.0,0.40992301163787703,0.40992301163787703,0.0],\"xaxis\":\"x\",\"y\":[-265.0,-265.0,-275.0,-275.0],\"yaxis\":\"y\",\"type\":\"scatter\"},{\"hoverinfo\":\"text\",\"marker\":{\"color\":\"rgb(40,35,35)\"},\"mode\":\"lines\",\"x\":[0.36120446092778313,0.660905809646268,0.660905809646268,0.40992301163787703],\"xaxis\":\"x\",\"y\":[-250.0,-250.0,-270.0,-270.0],\"yaxis\":\"y\",\"type\":\"scatter\"},{\"hoverinfo\":\"text\",\"marker\":{\"color\":\"rgb(40,35,35)\"},\"mode\":\"lines\",\"x\":[0.0,0.5065807501310347,0.5065807501310347,0.0],\"xaxis\":\"x\",\"y\":[-285.0,-285.0,-295.0,-295.0],\"yaxis\":\"y\",\"type\":\"scatter\"},{\"hoverinfo\":\"text\",\"marker\":{\"color\":\"rgb(40,35,35)\"},\"mode\":\"lines\",\"x\":[0.0,0.635969864030636,0.635969864030636,0.0],\"xaxis\":\"x\",\"y\":[-305.0,-305.0,-315.0,-315.0],\"yaxis\":\"y\",\"type\":\"scatter\"},{\"hoverinfo\":\"text\",\"marker\":{\"color\":\"rgb(40,35,35)\"},\"mode\":\"lines\",\"x\":[0.5065807501310347,0.8324574237758371,0.8324574237758371,0.635969864030636],\"xaxis\":\"x\",\"y\":[-290.0,-290.0,-310.0,-310.0],\"yaxis\":\"y\",\"type\":\"scatter\"},{\"hoverinfo\":\"text\",\"marker\":{\"color\":\"rgb(40,35,35)\"},\"mode\":\"lines\",\"x\":[0.660905809646268,0.9130792308331973,0.9130792308331973,0.8324574237758371],\"xaxis\":\"x\",\"y\":[-260.0,-260.0,-300.0,-300.0],\"yaxis\":\"y\",\"type\":\"scatter\"},{\"hoverinfo\":\"text\",\"marker\":{\"color\":\"rgb(61,153,112)\"},\"mode\":\"lines\",\"x\":[0.0,0.44715227234452265,0.44715227234452265,0.0],\"xaxis\":\"x\",\"y\":[-335.0,-335.0,-345.0,-345.0],\"yaxis\":\"y\",\"type\":\"scatter\"},{\"hoverinfo\":\"text\",\"marker\":{\"color\":\"rgb(61,153,112)\"},\"mode\":\"lines\",\"x\":[0.0,0.5544291280654386,0.5544291280654386,0.44715227234452265],\"xaxis\":\"x\",\"y\":[-325.0,-325.0,-340.0,-340.0],\"yaxis\":\"y\",\"type\":\"scatter\"},{\"hoverinfo\":\"text\",\"marker\":{\"color\":\"rgb(61,153,112)\"},\"mode\":\"lines\",\"x\":[0.0,0.35782625539134505,0.35782625539134505,0.0],\"xaxis\":\"x\",\"y\":[-355.0,-355.0,-365.0,-365.0],\"yaxis\":\"y\",\"type\":\"scatter\"},{\"hoverinfo\":\"text\",\"marker\":{\"color\":\"rgb(61,153,112)\"},\"mode\":\"lines\",\"x\":[0.0,0.4140018928036937,0.4140018928036937,0.0],\"xaxis\":\"x\",\"y\":[-375.0,-375.0,-385.0,-385.0],\"yaxis\":\"y\",\"type\":\"scatter\"},{\"hoverinfo\":\"text\",\"marker\":{\"color\":\"rgb(61,153,112)\"},\"mode\":\"lines\",\"x\":[0.35782625539134505,0.6303464867459964,0.6303464867459964,0.4140018928036937],\"xaxis\":\"x\",\"y\":[-360.0,-360.0,-380.0,-380.0],\"yaxis\":\"y\",\"type\":\"scatter\"},{\"hoverinfo\":\"text\",\"marker\":{\"color\":\"rgb(61,153,112)\"},\"mode\":\"lines\",\"x\":[0.5544291280654386,0.7550886046725076,0.7550886046725076,0.6303464867459964],\"xaxis\":\"x\",\"y\":[-332.5,-332.5,-370.0,-370.0],\"yaxis\":\"y\",\"type\":\"scatter\"},{\"hoverinfo\":\"text\",\"marker\":{\"color\":\"rgb(255,65,54)\"},\"mode\":\"lines\",\"x\":[0.0,0.4543664377552255,0.4543664377552255,0.0],\"xaxis\":\"x\",\"y\":[-405.0,-405.0,-415.0,-415.0],\"yaxis\":\"y\",\"type\":\"scatter\"},{\"hoverinfo\":\"text\",\"marker\":{\"color\":\"rgb(255,65,54)\"},\"mode\":\"lines\",\"x\":[0.0,0.4855721225668898,0.4855721225668898,0.4543664377552255],\"xaxis\":\"x\",\"y\":[-395.0,-395.0,-410.0,-410.0],\"yaxis\":\"y\",\"type\":\"scatter\"},{\"hoverinfo\":\"text\",\"marker\":{\"color\":\"rgb(255,65,54)\"},\"mode\":\"lines\",\"x\":[0.0,0.5670482644851521,0.5670482644851521,0.0],\"xaxis\":\"x\",\"y\":[-425.0,-425.0,-435.0,-435.0],\"yaxis\":\"y\",\"type\":\"scatter\"},{\"hoverinfo\":\"text\",\"marker\":{\"color\":\"rgb(255,65,54)\"},\"mode\":\"lines\",\"x\":[0.4855721225668898,0.7147556804538547,0.7147556804538547,0.5670482644851521],\"xaxis\":\"x\",\"y\":[-402.5,-402.5,-430.0,-430.0],\"yaxis\":\"y\",\"type\":\"scatter\"},{\"hoverinfo\":\"text\",\"marker\":{\"color\":\"rgb(35,205,205)\"},\"mode\":\"lines\",\"x\":[0.0,0.31513781629750925,0.31513781629750925,0.0],\"xaxis\":\"x\",\"y\":[-455.0,-455.0,-465.0,-465.0],\"yaxis\":\"y\",\"type\":\"scatter\"},{\"hoverinfo\":\"text\",\"marker\":{\"color\":\"rgb(35,205,205)\"},\"mode\":\"lines\",\"x\":[0.0,0.39789368187243235,0.39789368187243235,0.0],\"xaxis\":\"x\",\"y\":[-485.0,-485.0,-495.0,-495.0],\"yaxis\":\"y\",\"type\":\"scatter\"},{\"hoverinfo\":\"text\",\"marker\":{\"color\":\"rgb(35,205,205)\"},\"mode\":\"lines\",\"x\":[0.0,0.4370742534863071,0.4370742534863071,0.39789368187243235],\"xaxis\":\"x\",\"y\":[-475.0,-475.0,-490.0,-490.0],\"yaxis\":\"y\",\"type\":\"scatter\"},{\"hoverinfo\":\"text\",\"marker\":{\"color\":\"rgb(35,205,205)\"},\"mode\":\"lines\",\"x\":[0.31513781629750925,0.6136564823764056,0.6136564823764056,0.4370742534863071],\"xaxis\":\"x\",\"y\":[-460.0,-460.0,-482.5,-482.5],\"yaxis\":\"y\",\"type\":\"scatter\"},{\"hoverinfo\":\"text\",\"marker\":{\"color\":\"rgb(35,205,205)\"},\"mode\":\"lines\",\"x\":[0.0,0.7235986043133206,0.7235986043133206,0.6136564823764056],\"xaxis\":\"x\",\"y\":[-445.0,-445.0,-471.25,-471.25],\"yaxis\":\"y\",\"type\":\"scatter\"},{\"hoverinfo\":\"text\",\"marker\":{\"color\":\"rgb(0,116,217)\"},\"mode\":\"lines\",\"x\":[0.7147556804538547,1.0087425134681072,1.0087425134681072,0.7235986043133206],\"xaxis\":\"x\",\"y\":[-416.25,-416.25,-458.125,-458.125],\"yaxis\":\"y\",\"type\":\"scatter\"},{\"hoverinfo\":\"text\",\"marker\":{\"color\":\"rgb(0,116,217)\"},\"mode\":\"lines\",\"x\":[0.7550886046725076,1.2776771900795483,1.2776771900795483,1.0087425134681072],\"xaxis\":\"x\",\"y\":[-351.25,-351.25,-437.1875,-437.1875],\"yaxis\":\"y\",\"type\":\"scatter\"},{\"hoverinfo\":\"text\",\"marker\":{\"color\":\"rgb(0,116,217)\"},\"mode\":\"lines\",\"x\":[0.9130792308331973,1.6720040921196266,1.6720040921196266,1.2776771900795483],\"xaxis\":\"x\",\"y\":[-280.0,-280.0,-394.21875,-394.21875],\"yaxis\":\"y\",\"type\":\"scatter\"},{\"hoverinfo\":\"text\",\"marker\":{\"color\":\"rgb(61,153,112)\"},\"mode\":\"lines\",\"x\":[0.0,0.517398481928499,0.517398481928499,0.0],\"xaxis\":\"x\",\"y\":[-505.0,-505.0,-515.0,-515.0],\"yaxis\":\"y\",\"type\":\"scatter\"},{\"hoverinfo\":\"text\",\"marker\":{\"color\":\"rgb(61,153,112)\"},\"mode\":\"lines\",\"x\":[0.0,0.42613883976484423,0.42613883976484423,0.0],\"xaxis\":\"x\",\"y\":[-525.0,-525.0,-535.0,-535.0],\"yaxis\":\"y\",\"type\":\"scatter\"},{\"hoverinfo\":\"text\",\"marker\":{\"color\":\"rgb(61,153,112)\"},\"mode\":\"lines\",\"x\":[0.0,0.43986899180745215,0.43986899180745215,0.0],\"xaxis\":\"x\",\"y\":[-545.0,-545.0,-555.0,-555.0],\"yaxis\":\"y\",\"type\":\"scatter\"},{\"hoverinfo\":\"text\",\"marker\":{\"color\":\"rgb(61,153,112)\"},\"mode\":\"lines\",\"x\":[0.42613883976484423,0.6758103531297489,0.6758103531297489,0.43986899180745215],\"xaxis\":\"x\",\"y\":[-530.0,-530.0,-550.0,-550.0],\"yaxis\":\"y\",\"type\":\"scatter\"},{\"hoverinfo\":\"text\",\"marker\":{\"color\":\"rgb(61,153,112)\"},\"mode\":\"lines\",\"x\":[0.517398481928499,0.800978055725739,0.800978055725739,0.6758103531297489],\"xaxis\":\"x\",\"y\":[-510.0,-510.0,-540.0,-540.0],\"yaxis\":\"y\",\"type\":\"scatter\"},{\"hoverinfo\":\"text\",\"marker\":{\"color\":\"rgb(255,65,54)\"},\"mode\":\"lines\",\"x\":[0.0,0.34054309503439184,0.34054309503439184,0.0],\"xaxis\":\"x\",\"y\":[-565.0,-565.0,-575.0,-575.0],\"yaxis\":\"y\",\"type\":\"scatter\"},{\"hoverinfo\":\"text\",\"marker\":{\"color\":\"rgb(255,65,54)\"},\"mode\":\"lines\",\"x\":[0.0,0.5676689880421112,0.5676689880421112,0.0],\"xaxis\":\"x\",\"y\":[-585.0,-585.0,-595.0,-595.0],\"yaxis\":\"y\",\"type\":\"scatter\"},{\"hoverinfo\":\"text\",\"marker\":{\"color\":\"rgb(255,65,54)\"},\"mode\":\"lines\",\"x\":[0.0,0.535472618919997,0.535472618919997,0.0],\"xaxis\":\"x\",\"y\":[-615.0,-615.0,-625.0,-625.0],\"yaxis\":\"y\",\"type\":\"scatter\"},{\"hoverinfo\":\"text\",\"marker\":{\"color\":\"rgb(255,65,54)\"},\"mode\":\"lines\",\"x\":[0.0,0.585023902266093,0.585023902266093,0.535472618919997],\"xaxis\":\"x\",\"y\":[-605.0,-605.0,-620.0,-620.0],\"yaxis\":\"y\",\"type\":\"scatter\"},{\"hoverinfo\":\"text\",\"marker\":{\"color\":\"rgb(255,65,54)\"},\"mode\":\"lines\",\"x\":[0.5676689880421112,0.773777653037471,0.773777653037471,0.585023902266093],\"xaxis\":\"x\",\"y\":[-590.0,-590.0,-612.5,-612.5],\"yaxis\":\"y\",\"type\":\"scatter\"},{\"hoverinfo\":\"text\",\"marker\":{\"color\":\"rgb(255,65,54)\"},\"mode\":\"lines\",\"x\":[0.34054309503439184,0.9744787578501543,0.9744787578501543,0.773777653037471],\"xaxis\":\"x\",\"y\":[-570.0,-570.0,-601.25,-601.25],\"yaxis\":\"y\",\"type\":\"scatter\"},{\"hoverinfo\":\"text\",\"marker\":{\"color\":\"rgb(0,116,217)\"},\"mode\":\"lines\",\"x\":[0.800978055725739,1.1454105192755093,1.1454105192755093,0.9744787578501543],\"xaxis\":\"x\",\"y\":[-525.0,-525.0,-585.625,-585.625],\"yaxis\":\"y\",\"type\":\"scatter\"},{\"hoverinfo\":\"text\",\"marker\":{\"color\":\"rgb(35,205,205)\"},\"mode\":\"lines\",\"x\":[0.0,0.5652567829827854,0.5652567829827854,0.0],\"xaxis\":\"x\",\"y\":[-635.0,-635.0,-645.0,-645.0],\"yaxis\":\"y\",\"type\":\"scatter\"},{\"hoverinfo\":\"text\",\"marker\":{\"color\":\"rgb(35,205,205)\"},\"mode\":\"lines\",\"x\":[0.0,0.5339764252810254,0.5339764252810254,0.0],\"xaxis\":\"x\",\"y\":[-655.0,-655.0,-665.0,-665.0],\"yaxis\":\"y\",\"type\":\"scatter\"},{\"hoverinfo\":\"text\",\"marker\":{\"color\":\"rgb(35,205,205)\"},\"mode\":\"lines\",\"x\":[0.0,0.5679387054584369,0.5679387054584369,0.0],\"xaxis\":\"x\",\"y\":[-675.0,-675.0,-685.0,-685.0],\"yaxis\":\"y\",\"type\":\"scatter\"},{\"hoverinfo\":\"text\",\"marker\":{\"color\":\"rgb(35,205,205)\"},\"mode\":\"lines\",\"x\":[0.5339764252810254,0.6777469418541523,0.6777469418541523,0.5679387054584369],\"xaxis\":\"x\",\"y\":[-660.0,-660.0,-680.0,-680.0],\"yaxis\":\"y\",\"type\":\"scatter\"},{\"hoverinfo\":\"text\",\"marker\":{\"color\":\"rgb(35,205,205)\"},\"mode\":\"lines\",\"x\":[0.5652567829827854,0.7624476202393645,0.7624476202393645,0.6777469418541523],\"xaxis\":\"x\",\"y\":[-640.0,-640.0,-670.0,-670.0],\"yaxis\":\"y\",\"type\":\"scatter\"},{\"hoverinfo\":\"text\",\"marker\":{\"color\":\"rgb(133,20,75)\"},\"mode\":\"lines\",\"x\":[0.0,0.6193976954422064,0.6193976954422064,0.0],\"xaxis\":\"x\",\"y\":[-705.0,-705.0,-715.0,-715.0],\"yaxis\":\"y\",\"type\":\"scatter\"},{\"hoverinfo\":\"text\",\"marker\":{\"color\":\"rgb(133,20,75)\"},\"mode\":\"lines\",\"x\":[0.0,0.7716526385961741,0.7716526385961741,0.6193976954422064],\"xaxis\":\"x\",\"y\":[-695.0,-695.0,-710.0,-710.0],\"yaxis\":\"y\",\"type\":\"scatter\"},{\"hoverinfo\":\"text\",\"marker\":{\"color\":\"rgb(0,116,217)\"},\"mode\":\"lines\",\"x\":[0.7624476202393645,1.0407900301989352,1.0407900301989352,0.7716526385961741],\"xaxis\":\"x\",\"y\":[-655.0,-655.0,-702.5,-702.5],\"yaxis\":\"y\",\"type\":\"scatter\"},{\"hoverinfo\":\"text\",\"marker\":{\"color\":\"rgb(255,220,0)\"},\"mode\":\"lines\",\"x\":[0.0,0.6630435029569963,0.6630435029569963,0.0],\"xaxis\":\"x\",\"y\":[-725.0,-725.0,-735.0,-735.0],\"yaxis\":\"y\",\"type\":\"scatter\"},{\"hoverinfo\":\"text\",\"marker\":{\"color\":\"rgb(255,220,0)\"},\"mode\":\"lines\",\"x\":[0.0,0.680263296697539,0.680263296697539,0.0],\"xaxis\":\"x\",\"y\":[-745.0,-745.0,-755.0,-755.0],\"yaxis\":\"y\",\"type\":\"scatter\"},{\"hoverinfo\":\"text\",\"marker\":{\"color\":\"rgb(255,220,0)\"},\"mode\":\"lines\",\"x\":[0.6630435029569963,0.9106340593914154,0.9106340593914154,0.680263296697539],\"xaxis\":\"x\",\"y\":[-730.0,-730.0,-750.0,-750.0],\"yaxis\":\"y\",\"type\":\"scatter\"},{\"hoverinfo\":\"text\",\"marker\":{\"color\":\"rgb(40,35,35)\"},\"mode\":\"lines\",\"x\":[0.0,0.42765553133051243,0.42765553133051243,0.0],\"xaxis\":\"x\",\"y\":[-765.0,-765.0,-775.0,-775.0],\"yaxis\":\"y\",\"type\":\"scatter\"},{\"hoverinfo\":\"text\",\"marker\":{\"color\":\"rgb(61,153,112)\"},\"mode\":\"lines\",\"x\":[0.0,0.49342554180766285,0.49342554180766285,0.0],\"xaxis\":\"x\",\"y\":[-785.0,-785.0,-795.0,-795.0],\"yaxis\":\"y\",\"type\":\"scatter\"},{\"hoverinfo\":\"text\",\"marker\":{\"color\":\"rgb(0,116,217)\"},\"mode\":\"lines\",\"x\":[0.42765553133051243,1.0315104697204809,1.0315104697204809,0.49342554180766285],\"xaxis\":\"x\",\"y\":[-770.0,-770.0,-790.0,-790.0],\"yaxis\":\"y\",\"type\":\"scatter\"},{\"hoverinfo\":\"text\",\"marker\":{\"color\":\"rgb(0,116,217)\"},\"mode\":\"lines\",\"x\":[0.9106340593914154,1.1241709561063682,1.1241709561063682,1.0315104697204809],\"xaxis\":\"x\",\"y\":[-740.0,-740.0,-780.0,-780.0],\"yaxis\":\"y\",\"type\":\"scatter\"},{\"hoverinfo\":\"text\",\"marker\":{\"color\":\"rgb(255,65,54)\"},\"mode\":\"lines\",\"x\":[0.0,0.38583033135195516,0.38583033135195516,0.0],\"xaxis\":\"x\",\"y\":[-815.0,-815.0,-825.0,-825.0],\"yaxis\":\"y\",\"type\":\"scatter\"},{\"hoverinfo\":\"text\",\"marker\":{\"color\":\"rgb(255,65,54)\"},\"mode\":\"lines\",\"x\":[0.0,0.6302290305682091,0.6302290305682091,0.38583033135195516],\"xaxis\":\"x\",\"y\":[-805.0,-805.0,-820.0,-820.0],\"yaxis\":\"y\",\"type\":\"scatter\"},{\"hoverinfo\":\"text\",\"marker\":{\"color\":\"rgb(35,205,205)\"},\"mode\":\"lines\",\"x\":[0.0,0.5481530993808972,0.5481530993808972,0.0],\"xaxis\":\"x\",\"y\":[-835.0,-835.0,-845.0,-845.0],\"yaxis\":\"y\",\"type\":\"scatter\"},{\"hoverinfo\":\"text\",\"marker\":{\"color\":\"rgb(35,205,205)\"},\"mode\":\"lines\",\"x\":[0.0,0.6797601309911042,0.6797601309911042,0.0],\"xaxis\":\"x\",\"y\":[-855.0,-855.0,-865.0,-865.0],\"yaxis\":\"y\",\"type\":\"scatter\"},{\"hoverinfo\":\"text\",\"marker\":{\"color\":\"rgb(35,205,205)\"},\"mode\":\"lines\",\"x\":[0.5481530993808972,0.699216268709963,0.699216268709963,0.6797601309911042],\"xaxis\":\"x\",\"y\":[-840.0,-840.0,-860.0,-860.0],\"yaxis\":\"y\",\"type\":\"scatter\"},{\"hoverinfo\":\"text\",\"marker\":{\"color\":\"rgb(61,153,112)\"},\"mode\":\"lines\",\"x\":[0.0,0.5209063962590188,0.5209063962590188,0.0],\"xaxis\":\"x\",\"y\":[-875.0,-875.0,-885.0,-885.0],\"yaxis\":\"y\",\"type\":\"scatter\"},{\"hoverinfo\":\"text\",\"marker\":{\"color\":\"rgb(61,153,112)\"},\"mode\":\"lines\",\"x\":[0.0,0.5908869407601155,0.5908869407601155,0.0],\"xaxis\":\"x\",\"y\":[-905.0,-905.0,-915.0,-915.0],\"yaxis\":\"y\",\"type\":\"scatter\"},{\"hoverinfo\":\"text\",\"marker\":{\"color\":\"rgb(61,153,112)\"},\"mode\":\"lines\",\"x\":[0.0,0.6415496658330636,0.6415496658330636,0.5908869407601155],\"xaxis\":\"x\",\"y\":[-895.0,-895.0,-910.0,-910.0],\"yaxis\":\"y\",\"type\":\"scatter\"},{\"hoverinfo\":\"text\",\"marker\":{\"color\":\"rgb(61,153,112)\"},\"mode\":\"lines\",\"x\":[0.0,0.5585577740681734,0.5585577740681734,0.0],\"xaxis\":\"x\",\"y\":[-935.0,-935.0,-945.0,-945.0],\"yaxis\":\"y\",\"type\":\"scatter\"},{\"hoverinfo\":\"text\",\"marker\":{\"color\":\"rgb(61,153,112)\"},\"mode\":\"lines\",\"x\":[0.0,0.5953398921402749,0.5953398921402749,0.5585577740681734],\"xaxis\":\"x\",\"y\":[-925.0,-925.0,-940.0,-940.0],\"yaxis\":\"y\",\"type\":\"scatter\"},{\"hoverinfo\":\"text\",\"marker\":{\"color\":\"rgb(61,153,112)\"},\"mode\":\"lines\",\"x\":[0.0,0.6097465619832525,0.6097465619832525,0.0],\"xaxis\":\"x\",\"y\":[-955.0,-955.0,-965.0,-965.0],\"yaxis\":\"y\",\"type\":\"scatter\"},{\"hoverinfo\":\"text\",\"marker\":{\"color\":\"rgb(61,153,112)\"},\"mode\":\"lines\",\"x\":[0.5953398921402749,0.7508348089101208,0.7508348089101208,0.6097465619832525],\"xaxis\":\"x\",\"y\":[-932.5,-932.5,-960.0,-960.0],\"yaxis\":\"y\",\"type\":\"scatter\"},{\"hoverinfo\":\"text\",\"marker\":{\"color\":\"rgb(61,153,112)\"},\"mode\":\"lines\",\"x\":[0.6415496658330636,0.8932156599568644,0.8932156599568644,0.7508348089101208],\"xaxis\":\"x\",\"y\":[-902.5,-902.5,-946.25,-946.25],\"yaxis\":\"y\",\"type\":\"scatter\"},{\"hoverinfo\":\"text\",\"marker\":{\"color\":\"rgb(61,153,112)\"},\"mode\":\"lines\",\"x\":[0.5209063962590188,0.9294659698840584,0.9294659698840584,0.8932156599568644],\"xaxis\":\"x\",\"y\":[-880.0,-880.0,-924.375,-924.375],\"yaxis\":\"y\",\"type\":\"scatter\"},{\"hoverinfo\":\"text\",\"marker\":{\"color\":\"rgb(0,116,217)\"},\"mode\":\"lines\",\"x\":[0.699216268709963,1.1079234173139056,1.1079234173139056,0.9294659698840584],\"xaxis\":\"x\",\"y\":[-850.0,-850.0,-902.1875,-902.1875],\"yaxis\":\"y\",\"type\":\"scatter\"},{\"hoverinfo\":\"text\",\"marker\":{\"color\":\"rgb(0,116,217)\"},\"mode\":\"lines\",\"x\":[0.6302290305682091,1.2537069182530096,1.2537069182530096,1.1079234173139056],\"xaxis\":\"x\",\"y\":[-812.5,-812.5,-876.09375,-876.09375],\"yaxis\":\"y\",\"type\":\"scatter\"},{\"hoverinfo\":\"text\",\"marker\":{\"color\":\"rgb(0,116,217)\"},\"mode\":\"lines\",\"x\":[1.1241709561063682,1.4357902502301556,1.4357902502301556,1.2537069182530096],\"xaxis\":\"x\",\"y\":[-760.0,-760.0,-844.296875,-844.296875],\"yaxis\":\"y\",\"type\":\"scatter\"},{\"hoverinfo\":\"text\",\"marker\":{\"color\":\"rgb(0,116,217)\"},\"mode\":\"lines\",\"x\":[1.0407900301989352,2.0210151197321395,2.0210151197321395,1.4357902502301556],\"xaxis\":\"x\",\"y\":[-678.75,-678.75,-802.1484375,-802.1484375],\"yaxis\":\"y\",\"type\":\"scatter\"},{\"hoverinfo\":\"text\",\"marker\":{\"color\":\"rgb(0,116,217)\"},\"mode\":\"lines\",\"x\":[1.1454105192755093,2.3549271286436713,2.3549271286436713,2.0210151197321395],\"xaxis\":\"x\",\"y\":[-555.3125,-555.3125,-740.44921875,-740.44921875],\"yaxis\":\"y\",\"type\":\"scatter\"},{\"hoverinfo\":\"text\",\"marker\":{\"color\":\"rgb(0,116,217)\"},\"mode\":\"lines\",\"x\":[1.6720040921196266,2.9155561292888947,2.9155561292888947,2.3549271286436713],\"xaxis\":\"x\",\"y\":[-337.109375,-337.109375,-647.880859375,-647.880859375],\"yaxis\":\"y\",\"type\":\"scatter\"},{\"hoverinfo\":\"text\",\"marker\":{\"color\":\"rgb(0,116,217)\"},\"mode\":\"lines\",\"x\":[1.618561469146779,3.7398419388188016,3.7398419388188016,2.9155561292888947],\"xaxis\":\"x\",\"y\":[-107.265625,-107.265625,-492.4951171875,-492.4951171875],\"yaxis\":\"y\",\"type\":\"scatter\"}],                        {\"autosize\":false,\"height\":1655,\"hovermode\":\"closest\",\"showlegend\":false,\"width\":1000,\"xaxis\":{\"mirror\":\"allticks\",\"rangemode\":\"tozero\",\"showgrid\":false,\"showline\":true,\"showticklabels\":true,\"ticks\":\"outside\",\"type\":\"linear\",\"zeroline\":false},\"yaxis\":{\"mirror\":\"allticks\",\"rangemode\":\"tozero\",\"showgrid\":false,\"showline\":true,\"showticklabels\":true,\"tickmode\":\"array\",\"ticks\":\"outside\",\"ticktext\":[\"50_nadia_amsterdam_osam\",\"80_alessandra_florence_andrea\",\"54_casci_florence_paolo\",\"95_perseo_il_laura\",\"60_rex_francisco_san\",\"65_adagio_union_cortez\",\"42_argonaut_wharf_nautical\",\"47_orchard_union_francisco\",\"61_jurys_boston_jury\",\"90_kimpton_monaco_hotels\",\"45_chancellor_francisco_san\",\"87_regis_st_shades\",\"39_sofitel_york_new\",\"67_muse_york_times\",\"72_benjamin_york_nyc\",\"76_hoxton_london_tube\",\"71_library_york_new\",\"74_cambridge_suites_toronto\",\"55_honeymoon_ubud_alila\",\"35_gem_little_hotel\",\"62_fab_hotel_city\",\"64_noise_noisy_hostal\",\"30_ritz_carlton_ritzcarlton\",\"57_jazz_reviews_stayed\",\"23_ramblas_las_catalunya\",\"86_euros_rambla_la\",\"2_barcelona_ramblas_hotel\",\"22_madrid_plaza_mayor\",\"4_florence_hotel_italy\",\"94_florence_gem_florentine\",\"69_royal_service_club\",\"77_castle_chinatown_inn\",\"58_time_great_beach\",\"27_secrets_honeymoon_resort\",\"92_vacation_rum_pool\",\"48_kids_family_location\",\"84_kids_club_family\",\"0_room_hotel_location\",\"18_husband_room_hotel\",\"28_riu_bambu_palace\",\"44_bavaro_princess_beach\",\"59_bahia_principe_gran\",\"73_paradisus_royal_resort\",\"81_villa_villas_pool\",\"25_miami_beach_south\",\"20_beach_resort_people\",\"63_beach_pool_did\",\"36_dominican_republic_people\",\"5_punta_cana_resort\",\"79_resort_beach_serviced\",\"17_london_tube_bridge\",\"96_soho_london_dayalthough\",\"6_york_nyc_new\",\"75_palace_york_new\",\"1_paris_metro_eiffel\",\"3_amsterdam_hotel_tram\",\"11_berlin_ubahn_hotel\",\"32_frankfurt_station_airport\",\"24_boston_charlesmark_hotel\",\"85_fairmont_copley_boston\",\"8_seattle_downtown_pike\",\"33_toronto_gladstone_eaton\",\"49_dallas_adolphus_downtown\",\"15_tokyo_shinjuku_station\",\"19_beijing_china_chinese\",\"21_singapore_raffles_mrt\",\"53_shangrila_wing_valley\",\"14_hong_kong_hk\",\"83_mandarin_oriental_miami\",\"10_waikiki_hawaii_beach\",\"12_bali_ubud_kuta\",\"46_phoenix_scottsdale_desert\",\"34_hollywood_beverly_elan\",\"89_disney_disneyland_castle\",\"38_airport_shuttle_seatac\",\"51_cruise_marriott_shuttle\",\"40_majestic_colonial_animat...\",\"78_majestic_colonial_cana\",\"52_melia_caribe_tropical\",\"70_mela_nyc_york\",\"41_mexico_city_polanco\",\"9_juan_san_puerto\",\"43_casitas_conquistador_el\",\"26_venice_canal_ponte\",\"37_europa_florence_gassim\",\"56_luna_simone_london\",\"93_altamont_alan_sydney\",\"13_sydney_harbour_darling\",\"66_darling_circular_harbour\",\"68_mate_mario_madrid\",\"82_hix_vieques_island\",\"91_fita_hans_amsterdam\",\"88_modern_hotel_letras\",\"16_orleans_quarter_new\",\"31_casablanca_rick_cheese\",\"7_francisco_san_sf\",\"29_affinia_dumont_50\"],\"tickvals\":[-5.0,-15.0,-25.0,-35.0,-45.0,-55.0,-65.0,-75.0,-85.0,-95.0,-105.0,-115.0,-125.0,-135.0,-145.0,-155.0,-165.0,-175.0,-185.0,-195.0,-205.0,-215.0,-225.0,-235.0,-245.0,-255.0,-265.0,-275.0,-285.0,-295.0,-305.0,-315.0,-325.0,-335.0,-345.0,-355.0,-365.0,-375.0,-385.0,-395.0,-405.0,-415.0,-425.0,-435.0,-445.0,-455.0,-465.0,-475.0,-485.0,-495.0,-505.0,-515.0,-525.0,-535.0,-545.0,-555.0,-565.0,-575.0,-585.0,-595.0,-605.0,-615.0,-625.0,-635.0,-645.0,-655.0,-665.0,-675.0,-685.0,-695.0,-705.0,-715.0,-725.0,-735.0,-745.0,-755.0,-765.0,-775.0,-785.0,-795.0,-805.0,-815.0,-825.0,-835.0,-845.0,-855.0,-865.0,-875.0,-885.0,-895.0,-905.0,-915.0,-925.0,-935.0,-945.0,-955.0,-965.0],\"type\":\"linear\",\"zeroline\":false,\"range\":[-970.0,0.0]},\"template\":{\"data\":{\"barpolar\":[{\"marker\":{\"line\":{\"color\":\"white\",\"width\":0.5},\"pattern\":{\"fillmode\":\"overlay\",\"size\":10,\"solidity\":0.2}},\"type\":\"barpolar\"}],\"bar\":[{\"error_x\":{\"color\":\"#2a3f5f\"},\"error_y\":{\"color\":\"#2a3f5f\"},\"marker\":{\"line\":{\"color\":\"white\",\"width\":0.5},\"pattern\":{\"fillmode\":\"overlay\",\"size\":10,\"solidity\":0.2}},\"type\":\"bar\"}],\"carpet\":[{\"aaxis\":{\"endlinecolor\":\"#2a3f5f\",\"gridcolor\":\"#C8D4E3\",\"linecolor\":\"#C8D4E3\",\"minorgridcolor\":\"#C8D4E3\",\"startlinecolor\":\"#2a3f5f\"},\"baxis\":{\"endlinecolor\":\"#2a3f5f\",\"gridcolor\":\"#C8D4E3\",\"linecolor\":\"#C8D4E3\",\"minorgridcolor\":\"#C8D4E3\",\"startlinecolor\":\"#2a3f5f\"},\"type\":\"carpet\"}],\"choropleth\":[{\"colorbar\":{\"outlinewidth\":0,\"ticks\":\"\"},\"type\":\"choropleth\"}],\"contourcarpet\":[{\"colorbar\":{\"outlinewidth\":0,\"ticks\":\"\"},\"type\":\"contourcarpet\"}],\"contour\":[{\"colorbar\":{\"outlinewidth\":0,\"ticks\":\"\"},\"colorscale\":[[0.0,\"#0d0887\"],[0.1111111111111111,\"#46039f\"],[0.2222222222222222,\"#7201a8\"],[0.3333333333333333,\"#9c179e\"],[0.4444444444444444,\"#bd3786\"],[0.5555555555555556,\"#d8576b\"],[0.6666666666666666,\"#ed7953\"],[0.7777777777777778,\"#fb9f3a\"],[0.8888888888888888,\"#fdca26\"],[1.0,\"#f0f921\"]],\"type\":\"contour\"}],\"heatmapgl\":[{\"colorbar\":{\"outlinewidth\":0,\"ticks\":\"\"},\"colorscale\":[[0.0,\"#0d0887\"],[0.1111111111111111,\"#46039f\"],[0.2222222222222222,\"#7201a8\"],[0.3333333333333333,\"#9c179e\"],[0.4444444444444444,\"#bd3786\"],[0.5555555555555556,\"#d8576b\"],[0.6666666666666666,\"#ed7953\"],[0.7777777777777778,\"#fb9f3a\"],[0.8888888888888888,\"#fdca26\"],[1.0,\"#f0f921\"]],\"type\":\"heatmapgl\"}],\"heatmap\":[{\"colorbar\":{\"outlinewidth\":0,\"ticks\":\"\"},\"colorscale\":[[0.0,\"#0d0887\"],[0.1111111111111111,\"#46039f\"],[0.2222222222222222,\"#7201a8\"],[0.3333333333333333,\"#9c179e\"],[0.4444444444444444,\"#bd3786\"],[0.5555555555555556,\"#d8576b\"],[0.6666666666666666,\"#ed7953\"],[0.7777777777777778,\"#fb9f3a\"],[0.8888888888888888,\"#fdca26\"],[1.0,\"#f0f921\"]],\"type\":\"heatmap\"}],\"histogram2dcontour\":[{\"colorbar\":{\"outlinewidth\":0,\"ticks\":\"\"},\"colorscale\":[[0.0,\"#0d0887\"],[0.1111111111111111,\"#46039f\"],[0.2222222222222222,\"#7201a8\"],[0.3333333333333333,\"#9c179e\"],[0.4444444444444444,\"#bd3786\"],[0.5555555555555556,\"#d8576b\"],[0.6666666666666666,\"#ed7953\"],[0.7777777777777778,\"#fb9f3a\"],[0.8888888888888888,\"#fdca26\"],[1.0,\"#f0f921\"]],\"type\":\"histogram2dcontour\"}],\"histogram2d\":[{\"colorbar\":{\"outlinewidth\":0,\"ticks\":\"\"},\"colorscale\":[[0.0,\"#0d0887\"],[0.1111111111111111,\"#46039f\"],[0.2222222222222222,\"#7201a8\"],[0.3333333333333333,\"#9c179e\"],[0.4444444444444444,\"#bd3786\"],[0.5555555555555556,\"#d8576b\"],[0.6666666666666666,\"#ed7953\"],[0.7777777777777778,\"#fb9f3a\"],[0.8888888888888888,\"#fdca26\"],[1.0,\"#f0f921\"]],\"type\":\"histogram2d\"}],\"histogram\":[{\"marker\":{\"pattern\":{\"fillmode\":\"overlay\",\"size\":10,\"solidity\":0.2}},\"type\":\"histogram\"}],\"mesh3d\":[{\"colorbar\":{\"outlinewidth\":0,\"ticks\":\"\"},\"type\":\"mesh3d\"}],\"parcoords\":[{\"line\":{\"colorbar\":{\"outlinewidth\":0,\"ticks\":\"\"}},\"type\":\"parcoords\"}],\"pie\":[{\"automargin\":true,\"type\":\"pie\"}],\"scatter3d\":[{\"line\":{\"colorbar\":{\"outlinewidth\":0,\"ticks\":\"\"}},\"marker\":{\"colorbar\":{\"outlinewidth\":0,\"ticks\":\"\"}},\"type\":\"scatter3d\"}],\"scattercarpet\":[{\"marker\":{\"colorbar\":{\"outlinewidth\":0,\"ticks\":\"\"}},\"type\":\"scattercarpet\"}],\"scattergeo\":[{\"marker\":{\"colorbar\":{\"outlinewidth\":0,\"ticks\":\"\"}},\"type\":\"scattergeo\"}],\"scattergl\":[{\"marker\":{\"colorbar\":{\"outlinewidth\":0,\"ticks\":\"\"}},\"type\":\"scattergl\"}],\"scattermapbox\":[{\"marker\":{\"colorbar\":{\"outlinewidth\":0,\"ticks\":\"\"}},\"type\":\"scattermapbox\"}],\"scatterpolargl\":[{\"marker\":{\"colorbar\":{\"outlinewidth\":0,\"ticks\":\"\"}},\"type\":\"scatterpolargl\"}],\"scatterpolar\":[{\"marker\":{\"colorbar\":{\"outlinewidth\":0,\"ticks\":\"\"}},\"type\":\"scatterpolar\"}],\"scatter\":[{\"fillpattern\":{\"fillmode\":\"overlay\",\"size\":10,\"solidity\":0.2},\"type\":\"scatter\"}],\"scatterternary\":[{\"marker\":{\"colorbar\":{\"outlinewidth\":0,\"ticks\":\"\"}},\"type\":\"scatterternary\"}],\"surface\":[{\"colorbar\":{\"outlinewidth\":0,\"ticks\":\"\"},\"colorscale\":[[0.0,\"#0d0887\"],[0.1111111111111111,\"#46039f\"],[0.2222222222222222,\"#7201a8\"],[0.3333333333333333,\"#9c179e\"],[0.4444444444444444,\"#bd3786\"],[0.5555555555555556,\"#d8576b\"],[0.6666666666666666,\"#ed7953\"],[0.7777777777777778,\"#fb9f3a\"],[0.8888888888888888,\"#fdca26\"],[1.0,\"#f0f921\"]],\"type\":\"surface\"}],\"table\":[{\"cells\":{\"fill\":{\"color\":\"#EBF0F8\"},\"line\":{\"color\":\"white\"}},\"header\":{\"fill\":{\"color\":\"#C8D4E3\"},\"line\":{\"color\":\"white\"}},\"type\":\"table\"}]},\"layout\":{\"annotationdefaults\":{\"arrowcolor\":\"#2a3f5f\",\"arrowhead\":0,\"arrowwidth\":1},\"autotypenumbers\":\"strict\",\"coloraxis\":{\"colorbar\":{\"outlinewidth\":0,\"ticks\":\"\"}},\"colorscale\":{\"diverging\":[[0,\"#8e0152\"],[0.1,\"#c51b7d\"],[0.2,\"#de77ae\"],[0.3,\"#f1b6da\"],[0.4,\"#fde0ef\"],[0.5,\"#f7f7f7\"],[0.6,\"#e6f5d0\"],[0.7,\"#b8e186\"],[0.8,\"#7fbc41\"],[0.9,\"#4d9221\"],[1,\"#276419\"]],\"sequential\":[[0.0,\"#0d0887\"],[0.1111111111111111,\"#46039f\"],[0.2222222222222222,\"#7201a8\"],[0.3333333333333333,\"#9c179e\"],[0.4444444444444444,\"#bd3786\"],[0.5555555555555556,\"#d8576b\"],[0.6666666666666666,\"#ed7953\"],[0.7777777777777778,\"#fb9f3a\"],[0.8888888888888888,\"#fdca26\"],[1.0,\"#f0f921\"]],\"sequentialminus\":[[0.0,\"#0d0887\"],[0.1111111111111111,\"#46039f\"],[0.2222222222222222,\"#7201a8\"],[0.3333333333333333,\"#9c179e\"],[0.4444444444444444,\"#bd3786\"],[0.5555555555555556,\"#d8576b\"],[0.6666666666666666,\"#ed7953\"],[0.7777777777777778,\"#fb9f3a\"],[0.8888888888888888,\"#fdca26\"],[1.0,\"#f0f921\"]]},\"colorway\":[\"#636efa\",\"#EF553B\",\"#00cc96\",\"#ab63fa\",\"#FFA15A\",\"#19d3f3\",\"#FF6692\",\"#B6E880\",\"#FF97FF\",\"#FECB52\"],\"font\":{\"color\":\"#2a3f5f\"},\"geo\":{\"bgcolor\":\"white\",\"lakecolor\":\"white\",\"landcolor\":\"white\",\"showlakes\":true,\"showland\":true,\"subunitcolor\":\"#C8D4E3\"},\"hoverlabel\":{\"align\":\"left\"},\"hovermode\":\"closest\",\"mapbox\":{\"style\":\"light\"},\"paper_bgcolor\":\"white\",\"plot_bgcolor\":\"white\",\"polar\":{\"angularaxis\":{\"gridcolor\":\"#EBF0F8\",\"linecolor\":\"#EBF0F8\",\"ticks\":\"\"},\"bgcolor\":\"white\",\"radialaxis\":{\"gridcolor\":\"#EBF0F8\",\"linecolor\":\"#EBF0F8\",\"ticks\":\"\"}},\"scene\":{\"xaxis\":{\"backgroundcolor\":\"white\",\"gridcolor\":\"#DFE8F3\",\"gridwidth\":2,\"linecolor\":\"#EBF0F8\",\"showbackground\":true,\"ticks\":\"\",\"zerolinecolor\":\"#EBF0F8\"},\"yaxis\":{\"backgroundcolor\":\"white\",\"gridcolor\":\"#DFE8F3\",\"gridwidth\":2,\"linecolor\":\"#EBF0F8\",\"showbackground\":true,\"ticks\":\"\",\"zerolinecolor\":\"#EBF0F8\"},\"zaxis\":{\"backgroundcolor\":\"white\",\"gridcolor\":\"#DFE8F3\",\"gridwidth\":2,\"linecolor\":\"#EBF0F8\",\"showbackground\":true,\"ticks\":\"\",\"zerolinecolor\":\"#EBF0F8\"}},\"shapedefaults\":{\"line\":{\"color\":\"#2a3f5f\"}},\"ternary\":{\"aaxis\":{\"gridcolor\":\"#DFE8F3\",\"linecolor\":\"#A2B1C6\",\"ticks\":\"\"},\"baxis\":{\"gridcolor\":\"#DFE8F3\",\"linecolor\":\"#A2B1C6\",\"ticks\":\"\"},\"bgcolor\":\"white\",\"caxis\":{\"gridcolor\":\"#DFE8F3\",\"linecolor\":\"#A2B1C6\",\"ticks\":\"\"}},\"title\":{\"x\":0.05},\"xaxis\":{\"automargin\":true,\"gridcolor\":\"#EBF0F8\",\"linecolor\":\"#EBF0F8\",\"ticks\":\"\",\"title\":{\"standoff\":15},\"zerolinecolor\":\"#EBF0F8\",\"zerolinewidth\":2},\"yaxis\":{\"automargin\":true,\"gridcolor\":\"#EBF0F8\",\"linecolor\":\"#EBF0F8\",\"ticks\":\"\",\"title\":{\"standoff\":15},\"zerolinecolor\":\"#EBF0F8\",\"zerolinewidth\":2}}},\"title\":{\"font\":{\"size\":22,\"color\":\"Black\"},\"text\":\"<b>Hierarchical Clustering\",\"x\":0.5,\"xanchor\":\"center\",\"yanchor\":\"top\"},\"hoverlabel\":{\"font\":{\"size\":16,\"family\":\"Rockwell\"},\"bgcolor\":\"white\"},\"plot_bgcolor\":\"#ECEFF1\"},                        {\"responsive\": true}                    ).then(function(){\n",
       "                            \n",
       "var gd = document.getElementById('4f7346d7-e074-45b5-9544-990843c35fe2');\n",
       "var x = new MutationObserver(function (mutations, observer) {{\n",
       "        var display = window.getComputedStyle(gd).display;\n",
       "        if (!display || display === 'none') {{\n",
       "            console.log([gd, 'removed!']);\n",
       "            Plotly.purge(gd);\n",
       "            observer.disconnect();\n",
       "        }}\n",
       "}});\n",
       "\n",
       "// Listen for the removal of the full notebook cells\n",
       "var notebookContainer = gd.closest('#notebook-container');\n",
       "if (notebookContainer) {{\n",
       "    x.observe(notebookContainer, {childList: true});\n",
       "}}\n",
       "\n",
       "// Listen for the clearing of the current output cell\n",
       "var outputEl = gd.closest('.output');\n",
       "if (outputEl) {{\n",
       "    x.observe(outputEl, {childList: true});\n",
       "}}\n",
       "\n",
       "                        })                };                });            </script>        </div>"
      ]
     },
     "metadata": {},
     "output_type": "display_data"
    }
   ],
   "source": [
    "bert_topic_label.get_dendrogram()"
   ]
  },
  {
   "cell_type": "code",
   "execution_count": 21,
   "metadata": {},
   "outputs": [],
   "source": [
    "bert_topic_label.reduce_topic_number(n_topic=13)"
   ]
  },
  {
   "cell_type": "code",
   "execution_count": 22,
   "metadata": {},
   "outputs": [
    {
     "data": {
      "application/vnd.plotly.v1+json": {
       "config": {
        "plotlyServerURL": "https://plot.ly"
       },
       "data": [
        {
         "marker": {
          "color": "#D55E00"
         },
         "orientation": "h",
         "type": "bar",
         "x": [
          0.02264155370221791,
          0.022696226712863574,
          0.026307342927976315,
          0.03358910212751606,
          0.04620582639723325
         ],
         "xaxis": "x",
         "y": [
          "stay  ",
          "location  ",
          "great  ",
          "room  ",
          "hotel  "
         ],
         "yaxis": "y"
        },
        {
         "marker": {
          "color": "#0072B2"
         },
         "orientation": "h",
         "type": "bar",
         "x": [
          0.023160644401934206,
          0.026844092685725834,
          0.027223438542971243,
          0.052347027959189545,
          0.058809876661115534
         ],
         "xaxis": "x2",
         "y": [
          "great  ",
          "ramblas  ",
          "room  ",
          "hotel  ",
          "barcelona  "
         ],
         "yaxis": "y2"
        },
        {
         "marker": {
          "color": "#CC79A7"
         },
         "orientation": "h",
         "type": "bar",
         "x": [
          0.022158167901882814,
          0.02231764005031717,
          0.02808101373028011,
          0.03108924649252308,
          0.03271389753238263
         ],
         "xaxis": "x3",
         "y": [
          "nt  ",
          "food  ",
          "not  ",
          "resort  ",
          "beach  "
         ],
         "yaxis": "y3"
        },
        {
         "marker": {
          "color": "#E69F00"
         },
         "orientation": "h",
         "type": "bar",
         "x": [
          0.026311160793997562,
          0.030275265100923848,
          0.03184029246080306,
          0.052557977321214394,
          0.08055458312341143
         ],
         "xaxis": "x4",
         "y": [
          "staff  ",
          "metro  ",
          "room  ",
          "hotel  ",
          "paris  "
         ],
         "yaxis": "y4"
        },
        {
         "marker": {
          "color": "#56B4E9"
         },
         "orientation": "h",
         "type": "bar",
         "x": [
          0.03132775143529703,
          0.034046887808044005,
          0.036489664430359864,
          0.0395318873943828,
          0.04212249037066683
         ],
         "xaxis": "x5",
         "y": [
          "nyc  ",
          "new  ",
          "room  ",
          "york  ",
          "hotel  "
         ],
         "yaxis": "y5"
        },
        {
         "marker": {
          "color": "#009E73"
         },
         "orientation": "h",
         "type": "bar",
         "x": [
          0.025477828787847885,
          0.026953269083121303,
          0.028895015478871466,
          0.05824007462955805,
          0.08412807182579166
         ],
         "xaxis": "x6",
         "y": [
          "great  ",
          "stay  ",
          "room  ",
          "hotel  ",
          "florence  "
         ],
         "yaxis": "y6"
        },
        {
         "marker": {
          "color": "#F0E442"
         },
         "orientation": "h",
         "type": "bar",
         "x": [
          0.024343663431121546,
          0.02480025744694733,
          0.033786033210887315,
          0.0533868129490846,
          0.08321357961911682
         ],
         "xaxis": "x7",
         "y": [
          "location  ",
          "stay  ",
          "room  ",
          "hotel  ",
          "amsterdam  "
         ],
         "yaxis": "y7"
        },
        {
         "marker": {
          "color": "#D55E00"
         },
         "orientation": "h",
         "type": "bar",
         "x": [
          0.028756713867427286,
          0.0295726180791605,
          0.03855733454894883,
          0.046127895125603086,
          0.0483833731977482
         ],
         "xaxis": "x8",
         "y": [
          "room  ",
          "great  ",
          "hotel  ",
          "san  ",
          "francisco  "
         ],
         "yaxis": "y8"
        },
        {
         "marker": {
          "color": "#0072B2"
         },
         "orientation": "h",
         "type": "bar",
         "x": [
          0.026957847687217276,
          0.032365580769626014,
          0.03675035839874694,
          0.0394212785067891,
          0.0830865160075186
         ],
         "xaxis": "x9",
         "y": [
          "stay  ",
          "room  ",
          "downtown  ",
          "hotel  ",
          "seattle  "
         ],
         "yaxis": "y9"
        },
        {
         "marker": {
          "color": "#CC79A7"
         },
         "orientation": "h",
         "type": "bar",
         "x": [
          0.028382328905237612,
          0.02891018876591498,
          0.032010019788413314,
          0.05816810984130246,
          0.06669021154584422
         ],
         "xaxis": "x10",
         "y": [
          "old  ",
          "beach  ",
          "hotel  ",
          "san  ",
          "juan  "
         ],
         "yaxis": "y10"
        },
        {
         "marker": {
          "color": "#E69F00"
         },
         "orientation": "h",
         "type": "bar",
         "x": [
          0.02609621241450607,
          0.030409120751177673,
          0.034919976311145254,
          0.03675605758721879,
          0.07075229767947556
         ],
         "xaxis": "x11",
         "y": [
          "view  ",
          "room  ",
          "hotel  ",
          "beach  ",
          "waikiki  "
         ],
         "yaxis": "y11"
        },
        {
         "marker": {
          "color": "#56B4E9"
         },
         "orientation": "h",
         "type": "bar",
         "x": [
          0.031435194228213996,
          0.03185556650894058,
          0.03528997782910657,
          0.04366541389115359,
          0.08662968308233099
         ],
         "xaxis": "x12",
         "y": [
          "room  ",
          "darling  ",
          "hotel  ",
          "harbour  ",
          "sydney  "
         ],
         "yaxis": "y12"
        },
        {
         "marker": {
          "color": "#009E73"
         },
         "orientation": "h",
         "type": "bar",
         "x": [
          0.025665064050797402,
          0.027396946146480902,
          0.0274112155726928,
          0.049724096026828465,
          0.09057096065990732
         ],
         "xaxis": "x13",
         "y": [
          "location  ",
          "breakfast  ",
          "room  ",
          "hotel  ",
          "berlin  "
         ],
         "yaxis": "y13"
        }
       ],
       "layout": {
        "annotations": [
         {
          "font": {
           "size": 16
          },
          "showarrow": false,
          "text": "Topic 0",
          "x": 0.0875,
          "xanchor": "center",
          "xref": "paper",
          "y": 1,
          "yanchor": "bottom",
          "yref": "paper"
         },
         {
          "font": {
           "size": 16
          },
          "showarrow": false,
          "text": "Topic 1",
          "x": 0.36250000000000004,
          "xanchor": "center",
          "xref": "paper",
          "y": 1,
          "yanchor": "bottom",
          "yref": "paper"
         },
         {
          "font": {
           "size": 16
          },
          "showarrow": false,
          "text": "Topic 2",
          "x": 0.6375000000000001,
          "xanchor": "center",
          "xref": "paper",
          "y": 1,
          "yanchor": "bottom",
          "yref": "paper"
         },
         {
          "font": {
           "size": 16
          },
          "showarrow": false,
          "text": "Topic 3",
          "x": 0.9125,
          "xanchor": "center",
          "xref": "paper",
          "y": 1,
          "yanchor": "bottom",
          "yref": "paper"
         },
         {
          "font": {
           "size": 16
          },
          "showarrow": false,
          "text": "Topic 4",
          "x": 0.0875,
          "xanchor": "center",
          "xref": "paper",
          "y": 0.7250000000000001,
          "yanchor": "bottom",
          "yref": "paper"
         },
         {
          "font": {
           "size": 16
          },
          "showarrow": false,
          "text": "Topic 5",
          "x": 0.36250000000000004,
          "xanchor": "center",
          "xref": "paper",
          "y": 0.7250000000000001,
          "yanchor": "bottom",
          "yref": "paper"
         },
         {
          "font": {
           "size": 16
          },
          "showarrow": false,
          "text": "Topic 6",
          "x": 0.6375000000000001,
          "xanchor": "center",
          "xref": "paper",
          "y": 0.7250000000000001,
          "yanchor": "bottom",
          "yref": "paper"
         },
         {
          "font": {
           "size": 16
          },
          "showarrow": false,
          "text": "Topic 7",
          "x": 0.9125,
          "xanchor": "center",
          "xref": "paper",
          "y": 0.7250000000000001,
          "yanchor": "bottom",
          "yref": "paper"
         },
         {
          "font": {
           "size": 16
          },
          "showarrow": false,
          "text": "Topic 8",
          "x": 0.0875,
          "xanchor": "center",
          "xref": "paper",
          "y": 0.45,
          "yanchor": "bottom",
          "yref": "paper"
         },
         {
          "font": {
           "size": 16
          },
          "showarrow": false,
          "text": "Topic 9",
          "x": 0.36250000000000004,
          "xanchor": "center",
          "xref": "paper",
          "y": 0.45,
          "yanchor": "bottom",
          "yref": "paper"
         },
         {
          "font": {
           "size": 16
          },
          "showarrow": false,
          "text": "Topic 10",
          "x": 0.6375000000000001,
          "xanchor": "center",
          "xref": "paper",
          "y": 0.45,
          "yanchor": "bottom",
          "yref": "paper"
         },
         {
          "font": {
           "size": 16
          },
          "showarrow": false,
          "text": "Topic 11",
          "x": 0.9125,
          "xanchor": "center",
          "xref": "paper",
          "y": 0.45,
          "yanchor": "bottom",
          "yref": "paper"
         },
         {
          "font": {
           "size": 16
          },
          "showarrow": false,
          "text": "Topic 12",
          "x": 0.0875,
          "xanchor": "center",
          "xref": "paper",
          "y": 0.175,
          "yanchor": "bottom",
          "yref": "paper"
         }
        ],
        "height": 1000,
        "hoverlabel": {
         "bgcolor": "white",
         "font": {
          "family": "Rockwell",
          "size": 16
         }
        },
        "showlegend": false,
        "template": {
         "data": {
          "bar": [
           {
            "error_x": {
             "color": "#2a3f5f"
            },
            "error_y": {
             "color": "#2a3f5f"
            },
            "marker": {
             "line": {
              "color": "white",
              "width": 0.5
             },
             "pattern": {
              "fillmode": "overlay",
              "size": 10,
              "solidity": 0.2
             }
            },
            "type": "bar"
           }
          ],
          "barpolar": [
           {
            "marker": {
             "line": {
              "color": "white",
              "width": 0.5
             },
             "pattern": {
              "fillmode": "overlay",
              "size": 10,
              "solidity": 0.2
             }
            },
            "type": "barpolar"
           }
          ],
          "carpet": [
           {
            "aaxis": {
             "endlinecolor": "#2a3f5f",
             "gridcolor": "#C8D4E3",
             "linecolor": "#C8D4E3",
             "minorgridcolor": "#C8D4E3",
             "startlinecolor": "#2a3f5f"
            },
            "baxis": {
             "endlinecolor": "#2a3f5f",
             "gridcolor": "#C8D4E3",
             "linecolor": "#C8D4E3",
             "minorgridcolor": "#C8D4E3",
             "startlinecolor": "#2a3f5f"
            },
            "type": "carpet"
           }
          ],
          "choropleth": [
           {
            "colorbar": {
             "outlinewidth": 0,
             "ticks": ""
            },
            "type": "choropleth"
           }
          ],
          "contour": [
           {
            "colorbar": {
             "outlinewidth": 0,
             "ticks": ""
            },
            "colorscale": [
             [
              0,
              "#0d0887"
             ],
             [
              0.1111111111111111,
              "#46039f"
             ],
             [
              0.2222222222222222,
              "#7201a8"
             ],
             [
              0.3333333333333333,
              "#9c179e"
             ],
             [
              0.4444444444444444,
              "#bd3786"
             ],
             [
              0.5555555555555556,
              "#d8576b"
             ],
             [
              0.6666666666666666,
              "#ed7953"
             ],
             [
              0.7777777777777778,
              "#fb9f3a"
             ],
             [
              0.8888888888888888,
              "#fdca26"
             ],
             [
              1,
              "#f0f921"
             ]
            ],
            "type": "contour"
           }
          ],
          "contourcarpet": [
           {
            "colorbar": {
             "outlinewidth": 0,
             "ticks": ""
            },
            "type": "contourcarpet"
           }
          ],
          "heatmap": [
           {
            "colorbar": {
             "outlinewidth": 0,
             "ticks": ""
            },
            "colorscale": [
             [
              0,
              "#0d0887"
             ],
             [
              0.1111111111111111,
              "#46039f"
             ],
             [
              0.2222222222222222,
              "#7201a8"
             ],
             [
              0.3333333333333333,
              "#9c179e"
             ],
             [
              0.4444444444444444,
              "#bd3786"
             ],
             [
              0.5555555555555556,
              "#d8576b"
             ],
             [
              0.6666666666666666,
              "#ed7953"
             ],
             [
              0.7777777777777778,
              "#fb9f3a"
             ],
             [
              0.8888888888888888,
              "#fdca26"
             ],
             [
              1,
              "#f0f921"
             ]
            ],
            "type": "heatmap"
           }
          ],
          "heatmapgl": [
           {
            "colorbar": {
             "outlinewidth": 0,
             "ticks": ""
            },
            "colorscale": [
             [
              0,
              "#0d0887"
             ],
             [
              0.1111111111111111,
              "#46039f"
             ],
             [
              0.2222222222222222,
              "#7201a8"
             ],
             [
              0.3333333333333333,
              "#9c179e"
             ],
             [
              0.4444444444444444,
              "#bd3786"
             ],
             [
              0.5555555555555556,
              "#d8576b"
             ],
             [
              0.6666666666666666,
              "#ed7953"
             ],
             [
              0.7777777777777778,
              "#fb9f3a"
             ],
             [
              0.8888888888888888,
              "#fdca26"
             ],
             [
              1,
              "#f0f921"
             ]
            ],
            "type": "heatmapgl"
           }
          ],
          "histogram": [
           {
            "marker": {
             "pattern": {
              "fillmode": "overlay",
              "size": 10,
              "solidity": 0.2
             }
            },
            "type": "histogram"
           }
          ],
          "histogram2d": [
           {
            "colorbar": {
             "outlinewidth": 0,
             "ticks": ""
            },
            "colorscale": [
             [
              0,
              "#0d0887"
             ],
             [
              0.1111111111111111,
              "#46039f"
             ],
             [
              0.2222222222222222,
              "#7201a8"
             ],
             [
              0.3333333333333333,
              "#9c179e"
             ],
             [
              0.4444444444444444,
              "#bd3786"
             ],
             [
              0.5555555555555556,
              "#d8576b"
             ],
             [
              0.6666666666666666,
              "#ed7953"
             ],
             [
              0.7777777777777778,
              "#fb9f3a"
             ],
             [
              0.8888888888888888,
              "#fdca26"
             ],
             [
              1,
              "#f0f921"
             ]
            ],
            "type": "histogram2d"
           }
          ],
          "histogram2dcontour": [
           {
            "colorbar": {
             "outlinewidth": 0,
             "ticks": ""
            },
            "colorscale": [
             [
              0,
              "#0d0887"
             ],
             [
              0.1111111111111111,
              "#46039f"
             ],
             [
              0.2222222222222222,
              "#7201a8"
             ],
             [
              0.3333333333333333,
              "#9c179e"
             ],
             [
              0.4444444444444444,
              "#bd3786"
             ],
             [
              0.5555555555555556,
              "#d8576b"
             ],
             [
              0.6666666666666666,
              "#ed7953"
             ],
             [
              0.7777777777777778,
              "#fb9f3a"
             ],
             [
              0.8888888888888888,
              "#fdca26"
             ],
             [
              1,
              "#f0f921"
             ]
            ],
            "type": "histogram2dcontour"
           }
          ],
          "mesh3d": [
           {
            "colorbar": {
             "outlinewidth": 0,
             "ticks": ""
            },
            "type": "mesh3d"
           }
          ],
          "parcoords": [
           {
            "line": {
             "colorbar": {
              "outlinewidth": 0,
              "ticks": ""
             }
            },
            "type": "parcoords"
           }
          ],
          "pie": [
           {
            "automargin": true,
            "type": "pie"
           }
          ],
          "scatter": [
           {
            "fillpattern": {
             "fillmode": "overlay",
             "size": 10,
             "solidity": 0.2
            },
            "type": "scatter"
           }
          ],
          "scatter3d": [
           {
            "line": {
             "colorbar": {
              "outlinewidth": 0,
              "ticks": ""
             }
            },
            "marker": {
             "colorbar": {
              "outlinewidth": 0,
              "ticks": ""
             }
            },
            "type": "scatter3d"
           }
          ],
          "scattercarpet": [
           {
            "marker": {
             "colorbar": {
              "outlinewidth": 0,
              "ticks": ""
             }
            },
            "type": "scattercarpet"
           }
          ],
          "scattergeo": [
           {
            "marker": {
             "colorbar": {
              "outlinewidth": 0,
              "ticks": ""
             }
            },
            "type": "scattergeo"
           }
          ],
          "scattergl": [
           {
            "marker": {
             "colorbar": {
              "outlinewidth": 0,
              "ticks": ""
             }
            },
            "type": "scattergl"
           }
          ],
          "scattermapbox": [
           {
            "marker": {
             "colorbar": {
              "outlinewidth": 0,
              "ticks": ""
             }
            },
            "type": "scattermapbox"
           }
          ],
          "scatterpolar": [
           {
            "marker": {
             "colorbar": {
              "outlinewidth": 0,
              "ticks": ""
             }
            },
            "type": "scatterpolar"
           }
          ],
          "scatterpolargl": [
           {
            "marker": {
             "colorbar": {
              "outlinewidth": 0,
              "ticks": ""
             }
            },
            "type": "scatterpolargl"
           }
          ],
          "scatterternary": [
           {
            "marker": {
             "colorbar": {
              "outlinewidth": 0,
              "ticks": ""
             }
            },
            "type": "scatterternary"
           }
          ],
          "surface": [
           {
            "colorbar": {
             "outlinewidth": 0,
             "ticks": ""
            },
            "colorscale": [
             [
              0,
              "#0d0887"
             ],
             [
              0.1111111111111111,
              "#46039f"
             ],
             [
              0.2222222222222222,
              "#7201a8"
             ],
             [
              0.3333333333333333,
              "#9c179e"
             ],
             [
              0.4444444444444444,
              "#bd3786"
             ],
             [
              0.5555555555555556,
              "#d8576b"
             ],
             [
              0.6666666666666666,
              "#ed7953"
             ],
             [
              0.7777777777777778,
              "#fb9f3a"
             ],
             [
              0.8888888888888888,
              "#fdca26"
             ],
             [
              1,
              "#f0f921"
             ]
            ],
            "type": "surface"
           }
          ],
          "table": [
           {
            "cells": {
             "fill": {
              "color": "#EBF0F8"
             },
             "line": {
              "color": "white"
             }
            },
            "header": {
             "fill": {
              "color": "#C8D4E3"
             },
             "line": {
              "color": "white"
             }
            },
            "type": "table"
           }
          ]
         },
         "layout": {
          "annotationdefaults": {
           "arrowcolor": "#2a3f5f",
           "arrowhead": 0,
           "arrowwidth": 1
          },
          "autotypenumbers": "strict",
          "coloraxis": {
           "colorbar": {
            "outlinewidth": 0,
            "ticks": ""
           }
          },
          "colorscale": {
           "diverging": [
            [
             0,
             "#8e0152"
            ],
            [
             0.1,
             "#c51b7d"
            ],
            [
             0.2,
             "#de77ae"
            ],
            [
             0.3,
             "#f1b6da"
            ],
            [
             0.4,
             "#fde0ef"
            ],
            [
             0.5,
             "#f7f7f7"
            ],
            [
             0.6,
             "#e6f5d0"
            ],
            [
             0.7,
             "#b8e186"
            ],
            [
             0.8,
             "#7fbc41"
            ],
            [
             0.9,
             "#4d9221"
            ],
            [
             1,
             "#276419"
            ]
           ],
           "sequential": [
            [
             0,
             "#0d0887"
            ],
            [
             0.1111111111111111,
             "#46039f"
            ],
            [
             0.2222222222222222,
             "#7201a8"
            ],
            [
             0.3333333333333333,
             "#9c179e"
            ],
            [
             0.4444444444444444,
             "#bd3786"
            ],
            [
             0.5555555555555556,
             "#d8576b"
            ],
            [
             0.6666666666666666,
             "#ed7953"
            ],
            [
             0.7777777777777778,
             "#fb9f3a"
            ],
            [
             0.8888888888888888,
             "#fdca26"
            ],
            [
             1,
             "#f0f921"
            ]
           ],
           "sequentialminus": [
            [
             0,
             "#0d0887"
            ],
            [
             0.1111111111111111,
             "#46039f"
            ],
            [
             0.2222222222222222,
             "#7201a8"
            ],
            [
             0.3333333333333333,
             "#9c179e"
            ],
            [
             0.4444444444444444,
             "#bd3786"
            ],
            [
             0.5555555555555556,
             "#d8576b"
            ],
            [
             0.6666666666666666,
             "#ed7953"
            ],
            [
             0.7777777777777778,
             "#fb9f3a"
            ],
            [
             0.8888888888888888,
             "#fdca26"
            ],
            [
             1,
             "#f0f921"
            ]
           ]
          },
          "colorway": [
           "#636efa",
           "#EF553B",
           "#00cc96",
           "#ab63fa",
           "#FFA15A",
           "#19d3f3",
           "#FF6692",
           "#B6E880",
           "#FF97FF",
           "#FECB52"
          ],
          "font": {
           "color": "#2a3f5f"
          },
          "geo": {
           "bgcolor": "white",
           "lakecolor": "white",
           "landcolor": "white",
           "showlakes": true,
           "showland": true,
           "subunitcolor": "#C8D4E3"
          },
          "hoverlabel": {
           "align": "left"
          },
          "hovermode": "closest",
          "mapbox": {
           "style": "light"
          },
          "paper_bgcolor": "white",
          "plot_bgcolor": "white",
          "polar": {
           "angularaxis": {
            "gridcolor": "#EBF0F8",
            "linecolor": "#EBF0F8",
            "ticks": ""
           },
           "bgcolor": "white",
           "radialaxis": {
            "gridcolor": "#EBF0F8",
            "linecolor": "#EBF0F8",
            "ticks": ""
           }
          },
          "scene": {
           "xaxis": {
            "backgroundcolor": "white",
            "gridcolor": "#DFE8F3",
            "gridwidth": 2,
            "linecolor": "#EBF0F8",
            "showbackground": true,
            "ticks": "",
            "zerolinecolor": "#EBF0F8"
           },
           "yaxis": {
            "backgroundcolor": "white",
            "gridcolor": "#DFE8F3",
            "gridwidth": 2,
            "linecolor": "#EBF0F8",
            "showbackground": true,
            "ticks": "",
            "zerolinecolor": "#EBF0F8"
           },
           "zaxis": {
            "backgroundcolor": "white",
            "gridcolor": "#DFE8F3",
            "gridwidth": 2,
            "linecolor": "#EBF0F8",
            "showbackground": true,
            "ticks": "",
            "zerolinecolor": "#EBF0F8"
           }
          },
          "shapedefaults": {
           "line": {
            "color": "#2a3f5f"
           }
          },
          "ternary": {
           "aaxis": {
            "gridcolor": "#DFE8F3",
            "linecolor": "#A2B1C6",
            "ticks": ""
           },
           "baxis": {
            "gridcolor": "#DFE8F3",
            "linecolor": "#A2B1C6",
            "ticks": ""
           },
           "bgcolor": "white",
           "caxis": {
            "gridcolor": "#DFE8F3",
            "linecolor": "#A2B1C6",
            "ticks": ""
           }
          },
          "title": {
           "x": 0.05
          },
          "xaxis": {
           "automargin": true,
           "gridcolor": "#EBF0F8",
           "linecolor": "#EBF0F8",
           "ticks": "",
           "title": {
            "standoff": 15
           },
           "zerolinecolor": "#EBF0F8",
           "zerolinewidth": 2
          },
          "yaxis": {
           "automargin": true,
           "gridcolor": "#EBF0F8",
           "linecolor": "#EBF0F8",
           "ticks": "",
           "title": {
            "standoff": 15
           },
           "zerolinecolor": "#EBF0F8",
           "zerolinewidth": 2
          }
         }
        },
        "title": {
         "font": {
          "color": "Black",
          "size": 22
         },
         "text": "<b>Topic Word Scores",
         "x": 0.5,
         "xanchor": "center",
         "yanchor": "top"
        },
        "width": 1000,
        "xaxis": {
         "anchor": "y",
         "domain": [
          0,
          0.175
         ],
         "showgrid": true
        },
        "xaxis10": {
         "anchor": "y10",
         "domain": [
          0.275,
          0.45
         ],
         "showgrid": true
        },
        "xaxis11": {
         "anchor": "y11",
         "domain": [
          0.55,
          0.7250000000000001
         ],
         "showgrid": true
        },
        "xaxis12": {
         "anchor": "y12",
         "domain": [
          0.825,
          1
         ],
         "showgrid": true
        },
        "xaxis13": {
         "anchor": "y13",
         "domain": [
          0,
          0.175
         ],
         "showgrid": true
        },
        "xaxis14": {
         "anchor": "y14",
         "domain": [
          0.275,
          0.45
         ],
         "showgrid": true
        },
        "xaxis15": {
         "anchor": "y15",
         "domain": [
          0.55,
          0.7250000000000001
         ],
         "showgrid": true
        },
        "xaxis16": {
         "anchor": "y16",
         "domain": [
          0.825,
          1
         ],
         "showgrid": true
        },
        "xaxis2": {
         "anchor": "y2",
         "domain": [
          0.275,
          0.45
         ],
         "showgrid": true
        },
        "xaxis3": {
         "anchor": "y3",
         "domain": [
          0.55,
          0.7250000000000001
         ],
         "showgrid": true
        },
        "xaxis4": {
         "anchor": "y4",
         "domain": [
          0.825,
          1
         ],
         "showgrid": true
        },
        "xaxis5": {
         "anchor": "y5",
         "domain": [
          0,
          0.175
         ],
         "showgrid": true
        },
        "xaxis6": {
         "anchor": "y6",
         "domain": [
          0.275,
          0.45
         ],
         "showgrid": true
        },
        "xaxis7": {
         "anchor": "y7",
         "domain": [
          0.55,
          0.7250000000000001
         ],
         "showgrid": true
        },
        "xaxis8": {
         "anchor": "y8",
         "domain": [
          0.825,
          1
         ],
         "showgrid": true
        },
        "xaxis9": {
         "anchor": "y9",
         "domain": [
          0,
          0.175
         ],
         "showgrid": true
        },
        "yaxis": {
         "anchor": "x",
         "domain": [
          0.825,
          1
         ],
         "showgrid": true
        },
        "yaxis10": {
         "anchor": "x10",
         "domain": [
          0.275,
          0.45
         ],
         "showgrid": true
        },
        "yaxis11": {
         "anchor": "x11",
         "domain": [
          0.275,
          0.45
         ],
         "showgrid": true
        },
        "yaxis12": {
         "anchor": "x12",
         "domain": [
          0.275,
          0.45
         ],
         "showgrid": true
        },
        "yaxis13": {
         "anchor": "x13",
         "domain": [
          0,
          0.175
         ],
         "showgrid": true
        },
        "yaxis14": {
         "anchor": "x14",
         "domain": [
          0,
          0.175
         ],
         "showgrid": true
        },
        "yaxis15": {
         "anchor": "x15",
         "domain": [
          0,
          0.175
         ],
         "showgrid": true
        },
        "yaxis16": {
         "anchor": "x16",
         "domain": [
          0,
          0.175
         ],
         "showgrid": true
        },
        "yaxis2": {
         "anchor": "x2",
         "domain": [
          0.825,
          1
         ],
         "showgrid": true
        },
        "yaxis3": {
         "anchor": "x3",
         "domain": [
          0.825,
          1
         ],
         "showgrid": true
        },
        "yaxis4": {
         "anchor": "x4",
         "domain": [
          0.825,
          1
         ],
         "showgrid": true
        },
        "yaxis5": {
         "anchor": "x5",
         "domain": [
          0.55,
          0.7250000000000001
         ],
         "showgrid": true
        },
        "yaxis6": {
         "anchor": "x6",
         "domain": [
          0.55,
          0.7250000000000001
         ],
         "showgrid": true
        },
        "yaxis7": {
         "anchor": "x7",
         "domain": [
          0.55,
          0.7250000000000001
         ],
         "showgrid": true
        },
        "yaxis8": {
         "anchor": "x8",
         "domain": [
          0.55,
          0.7250000000000001
         ],
         "showgrid": true
        },
        "yaxis9": {
         "anchor": "x9",
         "domain": [
          0.275,
          0.45
         ],
         "showgrid": true
        }
       }
      },
      "text/html": [
       "<div>                            <div id=\"e11c9a25-7547-402e-b9e1-a74837063412\" class=\"plotly-graph-div\" style=\"height:1000px; width:1000px;\"></div>            <script type=\"text/javascript\">                require([\"plotly\"], function(Plotly) {                    window.PLOTLYENV=window.PLOTLYENV || {};                                    if (document.getElementById(\"e11c9a25-7547-402e-b9e1-a74837063412\")) {                    Plotly.newPlot(                        \"e11c9a25-7547-402e-b9e1-a74837063412\",                        [{\"marker\":{\"color\":\"#D55E00\"},\"orientation\":\"h\",\"x\":[0.02264155370221791,0.022696226712863574,0.026307342927976315,0.03358910212751606,0.04620582639723325],\"y\":[\"stay  \",\"location  \",\"great  \",\"room  \",\"hotel  \"],\"type\":\"bar\",\"xaxis\":\"x\",\"yaxis\":\"y\"},{\"marker\":{\"color\":\"#0072B2\"},\"orientation\":\"h\",\"x\":[0.023160644401934206,0.026844092685725834,0.027223438542971243,0.052347027959189545,0.058809876661115534],\"y\":[\"great  \",\"ramblas  \",\"room  \",\"hotel  \",\"barcelona  \"],\"type\":\"bar\",\"xaxis\":\"x2\",\"yaxis\":\"y2\"},{\"marker\":{\"color\":\"#CC79A7\"},\"orientation\":\"h\",\"x\":[0.022158167901882814,0.02231764005031717,0.02808101373028011,0.03108924649252308,0.03271389753238263],\"y\":[\"nt  \",\"food  \",\"not  \",\"resort  \",\"beach  \"],\"type\":\"bar\",\"xaxis\":\"x3\",\"yaxis\":\"y3\"},{\"marker\":{\"color\":\"#E69F00\"},\"orientation\":\"h\",\"x\":[0.026311160793997562,0.030275265100923848,0.03184029246080306,0.052557977321214394,0.08055458312341143],\"y\":[\"staff  \",\"metro  \",\"room  \",\"hotel  \",\"paris  \"],\"type\":\"bar\",\"xaxis\":\"x4\",\"yaxis\":\"y4\"},{\"marker\":{\"color\":\"#56B4E9\"},\"orientation\":\"h\",\"x\":[0.03132775143529703,0.034046887808044005,0.036489664430359864,0.0395318873943828,0.04212249037066683],\"y\":[\"nyc  \",\"new  \",\"room  \",\"york  \",\"hotel  \"],\"type\":\"bar\",\"xaxis\":\"x5\",\"yaxis\":\"y5\"},{\"marker\":{\"color\":\"#009E73\"},\"orientation\":\"h\",\"x\":[0.025477828787847885,0.026953269083121303,0.028895015478871466,0.05824007462955805,0.08412807182579166],\"y\":[\"great  \",\"stay  \",\"room  \",\"hotel  \",\"florence  \"],\"type\":\"bar\",\"xaxis\":\"x6\",\"yaxis\":\"y6\"},{\"marker\":{\"color\":\"#F0E442\"},\"orientation\":\"h\",\"x\":[0.024343663431121546,0.02480025744694733,0.033786033210887315,0.0533868129490846,0.08321357961911682],\"y\":[\"location  \",\"stay  \",\"room  \",\"hotel  \",\"amsterdam  \"],\"type\":\"bar\",\"xaxis\":\"x7\",\"yaxis\":\"y7\"},{\"marker\":{\"color\":\"#D55E00\"},\"orientation\":\"h\",\"x\":[0.028756713867427286,0.0295726180791605,0.03855733454894883,0.046127895125603086,0.0483833731977482],\"y\":[\"room  \",\"great  \",\"hotel  \",\"san  \",\"francisco  \"],\"type\":\"bar\",\"xaxis\":\"x8\",\"yaxis\":\"y8\"},{\"marker\":{\"color\":\"#0072B2\"},\"orientation\":\"h\",\"x\":[0.026957847687217276,0.032365580769626014,0.03675035839874694,0.0394212785067891,0.0830865160075186],\"y\":[\"stay  \",\"room  \",\"downtown  \",\"hotel  \",\"seattle  \"],\"type\":\"bar\",\"xaxis\":\"x9\",\"yaxis\":\"y9\"},{\"marker\":{\"color\":\"#CC79A7\"},\"orientation\":\"h\",\"x\":[0.028382328905237612,0.02891018876591498,0.032010019788413314,0.05816810984130246,0.06669021154584422],\"y\":[\"old  \",\"beach  \",\"hotel  \",\"san  \",\"juan  \"],\"type\":\"bar\",\"xaxis\":\"x10\",\"yaxis\":\"y10\"},{\"marker\":{\"color\":\"#E69F00\"},\"orientation\":\"h\",\"x\":[0.02609621241450607,0.030409120751177673,0.034919976311145254,0.03675605758721879,0.07075229767947556],\"y\":[\"view  \",\"room  \",\"hotel  \",\"beach  \",\"waikiki  \"],\"type\":\"bar\",\"xaxis\":\"x11\",\"yaxis\":\"y11\"},{\"marker\":{\"color\":\"#56B4E9\"},\"orientation\":\"h\",\"x\":[0.031435194228213996,0.03185556650894058,0.03528997782910657,0.04366541389115359,0.08662968308233099],\"y\":[\"room  \",\"darling  \",\"hotel  \",\"harbour  \",\"sydney  \"],\"type\":\"bar\",\"xaxis\":\"x12\",\"yaxis\":\"y12\"},{\"marker\":{\"color\":\"#009E73\"},\"orientation\":\"h\",\"x\":[0.025665064050797402,0.027396946146480902,0.0274112155726928,0.049724096026828465,0.09057096065990732],\"y\":[\"location  \",\"breakfast  \",\"room  \",\"hotel  \",\"berlin  \"],\"type\":\"bar\",\"xaxis\":\"x13\",\"yaxis\":\"y13\"}],                        {\"template\":{\"data\":{\"barpolar\":[{\"marker\":{\"line\":{\"color\":\"white\",\"width\":0.5},\"pattern\":{\"fillmode\":\"overlay\",\"size\":10,\"solidity\":0.2}},\"type\":\"barpolar\"}],\"bar\":[{\"error_x\":{\"color\":\"#2a3f5f\"},\"error_y\":{\"color\":\"#2a3f5f\"},\"marker\":{\"line\":{\"color\":\"white\",\"width\":0.5},\"pattern\":{\"fillmode\":\"overlay\",\"size\":10,\"solidity\":0.2}},\"type\":\"bar\"}],\"carpet\":[{\"aaxis\":{\"endlinecolor\":\"#2a3f5f\",\"gridcolor\":\"#C8D4E3\",\"linecolor\":\"#C8D4E3\",\"minorgridcolor\":\"#C8D4E3\",\"startlinecolor\":\"#2a3f5f\"},\"baxis\":{\"endlinecolor\":\"#2a3f5f\",\"gridcolor\":\"#C8D4E3\",\"linecolor\":\"#C8D4E3\",\"minorgridcolor\":\"#C8D4E3\",\"startlinecolor\":\"#2a3f5f\"},\"type\":\"carpet\"}],\"choropleth\":[{\"colorbar\":{\"outlinewidth\":0,\"ticks\":\"\"},\"type\":\"choropleth\"}],\"contourcarpet\":[{\"colorbar\":{\"outlinewidth\":0,\"ticks\":\"\"},\"type\":\"contourcarpet\"}],\"contour\":[{\"colorbar\":{\"outlinewidth\":0,\"ticks\":\"\"},\"colorscale\":[[0.0,\"#0d0887\"],[0.1111111111111111,\"#46039f\"],[0.2222222222222222,\"#7201a8\"],[0.3333333333333333,\"#9c179e\"],[0.4444444444444444,\"#bd3786\"],[0.5555555555555556,\"#d8576b\"],[0.6666666666666666,\"#ed7953\"],[0.7777777777777778,\"#fb9f3a\"],[0.8888888888888888,\"#fdca26\"],[1.0,\"#f0f921\"]],\"type\":\"contour\"}],\"heatmapgl\":[{\"colorbar\":{\"outlinewidth\":0,\"ticks\":\"\"},\"colorscale\":[[0.0,\"#0d0887\"],[0.1111111111111111,\"#46039f\"],[0.2222222222222222,\"#7201a8\"],[0.3333333333333333,\"#9c179e\"],[0.4444444444444444,\"#bd3786\"],[0.5555555555555556,\"#d8576b\"],[0.6666666666666666,\"#ed7953\"],[0.7777777777777778,\"#fb9f3a\"],[0.8888888888888888,\"#fdca26\"],[1.0,\"#f0f921\"]],\"type\":\"heatmapgl\"}],\"heatmap\":[{\"colorbar\":{\"outlinewidth\":0,\"ticks\":\"\"},\"colorscale\":[[0.0,\"#0d0887\"],[0.1111111111111111,\"#46039f\"],[0.2222222222222222,\"#7201a8\"],[0.3333333333333333,\"#9c179e\"],[0.4444444444444444,\"#bd3786\"],[0.5555555555555556,\"#d8576b\"],[0.6666666666666666,\"#ed7953\"],[0.7777777777777778,\"#fb9f3a\"],[0.8888888888888888,\"#fdca26\"],[1.0,\"#f0f921\"]],\"type\":\"heatmap\"}],\"histogram2dcontour\":[{\"colorbar\":{\"outlinewidth\":0,\"ticks\":\"\"},\"colorscale\":[[0.0,\"#0d0887\"],[0.1111111111111111,\"#46039f\"],[0.2222222222222222,\"#7201a8\"],[0.3333333333333333,\"#9c179e\"],[0.4444444444444444,\"#bd3786\"],[0.5555555555555556,\"#d8576b\"],[0.6666666666666666,\"#ed7953\"],[0.7777777777777778,\"#fb9f3a\"],[0.8888888888888888,\"#fdca26\"],[1.0,\"#f0f921\"]],\"type\":\"histogram2dcontour\"}],\"histogram2d\":[{\"colorbar\":{\"outlinewidth\":0,\"ticks\":\"\"},\"colorscale\":[[0.0,\"#0d0887\"],[0.1111111111111111,\"#46039f\"],[0.2222222222222222,\"#7201a8\"],[0.3333333333333333,\"#9c179e\"],[0.4444444444444444,\"#bd3786\"],[0.5555555555555556,\"#d8576b\"],[0.6666666666666666,\"#ed7953\"],[0.7777777777777778,\"#fb9f3a\"],[0.8888888888888888,\"#fdca26\"],[1.0,\"#f0f921\"]],\"type\":\"histogram2d\"}],\"histogram\":[{\"marker\":{\"pattern\":{\"fillmode\":\"overlay\",\"size\":10,\"solidity\":0.2}},\"type\":\"histogram\"}],\"mesh3d\":[{\"colorbar\":{\"outlinewidth\":0,\"ticks\":\"\"},\"type\":\"mesh3d\"}],\"parcoords\":[{\"line\":{\"colorbar\":{\"outlinewidth\":0,\"ticks\":\"\"}},\"type\":\"parcoords\"}],\"pie\":[{\"automargin\":true,\"type\":\"pie\"}],\"scatter3d\":[{\"line\":{\"colorbar\":{\"outlinewidth\":0,\"ticks\":\"\"}},\"marker\":{\"colorbar\":{\"outlinewidth\":0,\"ticks\":\"\"}},\"type\":\"scatter3d\"}],\"scattercarpet\":[{\"marker\":{\"colorbar\":{\"outlinewidth\":0,\"ticks\":\"\"}},\"type\":\"scattercarpet\"}],\"scattergeo\":[{\"marker\":{\"colorbar\":{\"outlinewidth\":0,\"ticks\":\"\"}},\"type\":\"scattergeo\"}],\"scattergl\":[{\"marker\":{\"colorbar\":{\"outlinewidth\":0,\"ticks\":\"\"}},\"type\":\"scattergl\"}],\"scattermapbox\":[{\"marker\":{\"colorbar\":{\"outlinewidth\":0,\"ticks\":\"\"}},\"type\":\"scattermapbox\"}],\"scatterpolargl\":[{\"marker\":{\"colorbar\":{\"outlinewidth\":0,\"ticks\":\"\"}},\"type\":\"scatterpolargl\"}],\"scatterpolar\":[{\"marker\":{\"colorbar\":{\"outlinewidth\":0,\"ticks\":\"\"}},\"type\":\"scatterpolar\"}],\"scatter\":[{\"fillpattern\":{\"fillmode\":\"overlay\",\"size\":10,\"solidity\":0.2},\"type\":\"scatter\"}],\"scatterternary\":[{\"marker\":{\"colorbar\":{\"outlinewidth\":0,\"ticks\":\"\"}},\"type\":\"scatterternary\"}],\"surface\":[{\"colorbar\":{\"outlinewidth\":0,\"ticks\":\"\"},\"colorscale\":[[0.0,\"#0d0887\"],[0.1111111111111111,\"#46039f\"],[0.2222222222222222,\"#7201a8\"],[0.3333333333333333,\"#9c179e\"],[0.4444444444444444,\"#bd3786\"],[0.5555555555555556,\"#d8576b\"],[0.6666666666666666,\"#ed7953\"],[0.7777777777777778,\"#fb9f3a\"],[0.8888888888888888,\"#fdca26\"],[1.0,\"#f0f921\"]],\"type\":\"surface\"}],\"table\":[{\"cells\":{\"fill\":{\"color\":\"#EBF0F8\"},\"line\":{\"color\":\"white\"}},\"header\":{\"fill\":{\"color\":\"#C8D4E3\"},\"line\":{\"color\":\"white\"}},\"type\":\"table\"}]},\"layout\":{\"annotationdefaults\":{\"arrowcolor\":\"#2a3f5f\",\"arrowhead\":0,\"arrowwidth\":1},\"autotypenumbers\":\"strict\",\"coloraxis\":{\"colorbar\":{\"outlinewidth\":0,\"ticks\":\"\"}},\"colorscale\":{\"diverging\":[[0,\"#8e0152\"],[0.1,\"#c51b7d\"],[0.2,\"#de77ae\"],[0.3,\"#f1b6da\"],[0.4,\"#fde0ef\"],[0.5,\"#f7f7f7\"],[0.6,\"#e6f5d0\"],[0.7,\"#b8e186\"],[0.8,\"#7fbc41\"],[0.9,\"#4d9221\"],[1,\"#276419\"]],\"sequential\":[[0.0,\"#0d0887\"],[0.1111111111111111,\"#46039f\"],[0.2222222222222222,\"#7201a8\"],[0.3333333333333333,\"#9c179e\"],[0.4444444444444444,\"#bd3786\"],[0.5555555555555556,\"#d8576b\"],[0.6666666666666666,\"#ed7953\"],[0.7777777777777778,\"#fb9f3a\"],[0.8888888888888888,\"#fdca26\"],[1.0,\"#f0f921\"]],\"sequentialminus\":[[0.0,\"#0d0887\"],[0.1111111111111111,\"#46039f\"],[0.2222222222222222,\"#7201a8\"],[0.3333333333333333,\"#9c179e\"],[0.4444444444444444,\"#bd3786\"],[0.5555555555555556,\"#d8576b\"],[0.6666666666666666,\"#ed7953\"],[0.7777777777777778,\"#fb9f3a\"],[0.8888888888888888,\"#fdca26\"],[1.0,\"#f0f921\"]]},\"colorway\":[\"#636efa\",\"#EF553B\",\"#00cc96\",\"#ab63fa\",\"#FFA15A\",\"#19d3f3\",\"#FF6692\",\"#B6E880\",\"#FF97FF\",\"#FECB52\"],\"font\":{\"color\":\"#2a3f5f\"},\"geo\":{\"bgcolor\":\"white\",\"lakecolor\":\"white\",\"landcolor\":\"white\",\"showlakes\":true,\"showland\":true,\"subunitcolor\":\"#C8D4E3\"},\"hoverlabel\":{\"align\":\"left\"},\"hovermode\":\"closest\",\"mapbox\":{\"style\":\"light\"},\"paper_bgcolor\":\"white\",\"plot_bgcolor\":\"white\",\"polar\":{\"angularaxis\":{\"gridcolor\":\"#EBF0F8\",\"linecolor\":\"#EBF0F8\",\"ticks\":\"\"},\"bgcolor\":\"white\",\"radialaxis\":{\"gridcolor\":\"#EBF0F8\",\"linecolor\":\"#EBF0F8\",\"ticks\":\"\"}},\"scene\":{\"xaxis\":{\"backgroundcolor\":\"white\",\"gridcolor\":\"#DFE8F3\",\"gridwidth\":2,\"linecolor\":\"#EBF0F8\",\"showbackground\":true,\"ticks\":\"\",\"zerolinecolor\":\"#EBF0F8\"},\"yaxis\":{\"backgroundcolor\":\"white\",\"gridcolor\":\"#DFE8F3\",\"gridwidth\":2,\"linecolor\":\"#EBF0F8\",\"showbackground\":true,\"ticks\":\"\",\"zerolinecolor\":\"#EBF0F8\"},\"zaxis\":{\"backgroundcolor\":\"white\",\"gridcolor\":\"#DFE8F3\",\"gridwidth\":2,\"linecolor\":\"#EBF0F8\",\"showbackground\":true,\"ticks\":\"\",\"zerolinecolor\":\"#EBF0F8\"}},\"shapedefaults\":{\"line\":{\"color\":\"#2a3f5f\"}},\"ternary\":{\"aaxis\":{\"gridcolor\":\"#DFE8F3\",\"linecolor\":\"#A2B1C6\",\"ticks\":\"\"},\"baxis\":{\"gridcolor\":\"#DFE8F3\",\"linecolor\":\"#A2B1C6\",\"ticks\":\"\"},\"bgcolor\":\"white\",\"caxis\":{\"gridcolor\":\"#DFE8F3\",\"linecolor\":\"#A2B1C6\",\"ticks\":\"\"}},\"title\":{\"x\":0.05},\"xaxis\":{\"automargin\":true,\"gridcolor\":\"#EBF0F8\",\"linecolor\":\"#EBF0F8\",\"ticks\":\"\",\"title\":{\"standoff\":15},\"zerolinecolor\":\"#EBF0F8\",\"zerolinewidth\":2},\"yaxis\":{\"automargin\":true,\"gridcolor\":\"#EBF0F8\",\"linecolor\":\"#EBF0F8\",\"ticks\":\"\",\"title\":{\"standoff\":15},\"zerolinecolor\":\"#EBF0F8\",\"zerolinewidth\":2}}},\"xaxis\":{\"anchor\":\"y\",\"domain\":[0.0,0.175],\"showgrid\":true},\"yaxis\":{\"anchor\":\"x\",\"domain\":[0.825,1.0],\"showgrid\":true},\"xaxis2\":{\"anchor\":\"y2\",\"domain\":[0.275,0.45],\"showgrid\":true},\"yaxis2\":{\"anchor\":\"x2\",\"domain\":[0.825,1.0],\"showgrid\":true},\"xaxis3\":{\"anchor\":\"y3\",\"domain\":[0.55,0.7250000000000001],\"showgrid\":true},\"yaxis3\":{\"anchor\":\"x3\",\"domain\":[0.825,1.0],\"showgrid\":true},\"xaxis4\":{\"anchor\":\"y4\",\"domain\":[0.825,1.0],\"showgrid\":true},\"yaxis4\":{\"anchor\":\"x4\",\"domain\":[0.825,1.0],\"showgrid\":true},\"xaxis5\":{\"anchor\":\"y5\",\"domain\":[0.0,0.175],\"showgrid\":true},\"yaxis5\":{\"anchor\":\"x5\",\"domain\":[0.55,0.7250000000000001],\"showgrid\":true},\"xaxis6\":{\"anchor\":\"y6\",\"domain\":[0.275,0.45],\"showgrid\":true},\"yaxis6\":{\"anchor\":\"x6\",\"domain\":[0.55,0.7250000000000001],\"showgrid\":true},\"xaxis7\":{\"anchor\":\"y7\",\"domain\":[0.55,0.7250000000000001],\"showgrid\":true},\"yaxis7\":{\"anchor\":\"x7\",\"domain\":[0.55,0.7250000000000001],\"showgrid\":true},\"xaxis8\":{\"anchor\":\"y8\",\"domain\":[0.825,1.0],\"showgrid\":true},\"yaxis8\":{\"anchor\":\"x8\",\"domain\":[0.55,0.7250000000000001],\"showgrid\":true},\"xaxis9\":{\"anchor\":\"y9\",\"domain\":[0.0,0.175],\"showgrid\":true},\"yaxis9\":{\"anchor\":\"x9\",\"domain\":[0.275,0.45],\"showgrid\":true},\"xaxis10\":{\"anchor\":\"y10\",\"domain\":[0.275,0.45],\"showgrid\":true},\"yaxis10\":{\"anchor\":\"x10\",\"domain\":[0.275,0.45],\"showgrid\":true},\"xaxis11\":{\"anchor\":\"y11\",\"domain\":[0.55,0.7250000000000001],\"showgrid\":true},\"yaxis11\":{\"anchor\":\"x11\",\"domain\":[0.275,0.45],\"showgrid\":true},\"xaxis12\":{\"anchor\":\"y12\",\"domain\":[0.825,1.0],\"showgrid\":true},\"yaxis12\":{\"anchor\":\"x12\",\"domain\":[0.275,0.45],\"showgrid\":true},\"xaxis13\":{\"anchor\":\"y13\",\"domain\":[0.0,0.175],\"showgrid\":true},\"yaxis13\":{\"anchor\":\"x13\",\"domain\":[0.0,0.175],\"showgrid\":true},\"xaxis14\":{\"anchor\":\"y14\",\"domain\":[0.275,0.45],\"showgrid\":true},\"yaxis14\":{\"anchor\":\"x14\",\"domain\":[0.0,0.175],\"showgrid\":true},\"xaxis15\":{\"anchor\":\"y15\",\"domain\":[0.55,0.7250000000000001],\"showgrid\":true},\"yaxis15\":{\"anchor\":\"x15\",\"domain\":[0.0,0.175],\"showgrid\":true},\"xaxis16\":{\"anchor\":\"y16\",\"domain\":[0.825,1.0],\"showgrid\":true},\"yaxis16\":{\"anchor\":\"x16\",\"domain\":[0.0,0.175],\"showgrid\":true},\"annotations\":[{\"font\":{\"size\":16},\"showarrow\":false,\"text\":\"Topic 0\",\"x\":0.0875,\"xanchor\":\"center\",\"xref\":\"paper\",\"y\":1.0,\"yanchor\":\"bottom\",\"yref\":\"paper\"},{\"font\":{\"size\":16},\"showarrow\":false,\"text\":\"Topic 1\",\"x\":0.36250000000000004,\"xanchor\":\"center\",\"xref\":\"paper\",\"y\":1.0,\"yanchor\":\"bottom\",\"yref\":\"paper\"},{\"font\":{\"size\":16},\"showarrow\":false,\"text\":\"Topic 2\",\"x\":0.6375000000000001,\"xanchor\":\"center\",\"xref\":\"paper\",\"y\":1.0,\"yanchor\":\"bottom\",\"yref\":\"paper\"},{\"font\":{\"size\":16},\"showarrow\":false,\"text\":\"Topic 3\",\"x\":0.9125,\"xanchor\":\"center\",\"xref\":\"paper\",\"y\":1.0,\"yanchor\":\"bottom\",\"yref\":\"paper\"},{\"font\":{\"size\":16},\"showarrow\":false,\"text\":\"Topic 4\",\"x\":0.0875,\"xanchor\":\"center\",\"xref\":\"paper\",\"y\":0.7250000000000001,\"yanchor\":\"bottom\",\"yref\":\"paper\"},{\"font\":{\"size\":16},\"showarrow\":false,\"text\":\"Topic 5\",\"x\":0.36250000000000004,\"xanchor\":\"center\",\"xref\":\"paper\",\"y\":0.7250000000000001,\"yanchor\":\"bottom\",\"yref\":\"paper\"},{\"font\":{\"size\":16},\"showarrow\":false,\"text\":\"Topic 6\",\"x\":0.6375000000000001,\"xanchor\":\"center\",\"xref\":\"paper\",\"y\":0.7250000000000001,\"yanchor\":\"bottom\",\"yref\":\"paper\"},{\"font\":{\"size\":16},\"showarrow\":false,\"text\":\"Topic 7\",\"x\":0.9125,\"xanchor\":\"center\",\"xref\":\"paper\",\"y\":0.7250000000000001,\"yanchor\":\"bottom\",\"yref\":\"paper\"},{\"font\":{\"size\":16},\"showarrow\":false,\"text\":\"Topic 8\",\"x\":0.0875,\"xanchor\":\"center\",\"xref\":\"paper\",\"y\":0.45,\"yanchor\":\"bottom\",\"yref\":\"paper\"},{\"font\":{\"size\":16},\"showarrow\":false,\"text\":\"Topic 9\",\"x\":0.36250000000000004,\"xanchor\":\"center\",\"xref\":\"paper\",\"y\":0.45,\"yanchor\":\"bottom\",\"yref\":\"paper\"},{\"font\":{\"size\":16},\"showarrow\":false,\"text\":\"Topic 10\",\"x\":0.6375000000000001,\"xanchor\":\"center\",\"xref\":\"paper\",\"y\":0.45,\"yanchor\":\"bottom\",\"yref\":\"paper\"},{\"font\":{\"size\":16},\"showarrow\":false,\"text\":\"Topic 11\",\"x\":0.9125,\"xanchor\":\"center\",\"xref\":\"paper\",\"y\":0.45,\"yanchor\":\"bottom\",\"yref\":\"paper\"},{\"font\":{\"size\":16},\"showarrow\":false,\"text\":\"Topic 12\",\"x\":0.0875,\"xanchor\":\"center\",\"xref\":\"paper\",\"y\":0.175,\"yanchor\":\"bottom\",\"yref\":\"paper\"}],\"title\":{\"font\":{\"size\":22,\"color\":\"Black\"},\"text\":\"<b>Topic Word Scores\",\"x\":0.5,\"xanchor\":\"center\",\"yanchor\":\"top\"},\"hoverlabel\":{\"font\":{\"size\":16,\"family\":\"Rockwell\"},\"bgcolor\":\"white\"},\"showlegend\":false,\"width\":1000,\"height\":1000},                        {\"responsive\": true}                    ).then(function(){\n",
       "                            \n",
       "var gd = document.getElementById('e11c9a25-7547-402e-b9e1-a74837063412');\n",
       "var x = new MutationObserver(function (mutations, observer) {{\n",
       "        var display = window.getComputedStyle(gd).display;\n",
       "        if (!display || display === 'none') {{\n",
       "            console.log([gd, 'removed!']);\n",
       "            Plotly.purge(gd);\n",
       "            observer.disconnect();\n",
       "        }}\n",
       "}});\n",
       "\n",
       "// Listen for the removal of the full notebook cells\n",
       "var notebookContainer = gd.closest('#notebook-container');\n",
       "if (notebookContainer) {{\n",
       "    x.observe(notebookContainer, {childList: true});\n",
       "}}\n",
       "\n",
       "// Listen for the clearing of the current output cell\n",
       "var outputEl = gd.closest('.output');\n",
       "if (outputEl) {{\n",
       "    x.observe(outputEl, {childList: true});\n",
       "}}\n",
       "\n",
       "                        })                };                });            </script>        </div>"
      ]
     },
     "metadata": {},
     "output_type": "display_data"
    }
   ],
   "source": [
    "bert_topic_label.get_barchart_top5words_by_topic()"
   ]
  },
  {
   "cell_type": "markdown",
   "metadata": {},
   "source": [
    "As for the negative reviews it seems that a lot of reviews were clustered by location (Barcelona, Paris, etc.). \n",
    "\n",
    "We can try to give a name to each topic although it is not always clear from the top 5 words what it is really about. Looking at few examples from each topic could help.\n",
    "- Topic 0: Beach & Food\n",
    "- Topic 1: Barcelona & Ramblas & Food\n",
    "- Topic 2: Paris & Metro & Staff\n",
    "- Topic 3: Florence & Breakfast\n",
    "- Topic 4: NYC\n",
    "- Topic 5: Amsterdam & Location\n",
    "- Topic 6: New Orleans\n",
    "- Topic 7: Location & Staff\n",
    "- Topic 8: Seattle downtown\n",
    "- Topic 9: San Francisco & Location\n",
    "- Topic 10: Sydney & Harbour\n",
    "- Topic 11: London & Tube & Breakfast\n",
    "- Topic 12: Waikiki & Beach view"
   ]
  },
  {
   "cell_type": "code",
   "execution_count": 23,
   "metadata": {},
   "outputs": [
    {
     "name": "stderr",
     "output_type": "stream",
     "text": [
      "Batches: 100%|██████████| 472/472 [11:29<00:00,  1.46s/it]\n"
     ]
    }
   ],
   "source": [
    "positive_reviews_predicted_topic = bert_topic_label.get_topic_review()"
   ]
  },
  {
   "cell_type": "code",
   "execution_count": 24,
   "metadata": {},
   "outputs": [
    {
     "name": "stdout",
     "output_type": "stream",
     "text": [
      "nice buffet amazing, hotel pretty far old ghurka camp location travel hk nimps,  \n",
      "\n",
      "love, just returned days happy report loved, parking real plus garage right hotel entrance elevators, able fetch things left car store things picked day no problem, valet gentlemen nice friendly accommodating- especially cuba, appreciated filtered water spout bathroom daily times-picayune not generic usa today paper marvelous breakfast- recently added make-your-own fresh waffles great, complaint fairly petty- place use little freshening up- paint scrapes elevators worn stained carpets really important plenty brand-new generic chain hotels, bayona literally street arnaud broussard just corner ca n't beat location, definitely return,  \n",
      "\n",
      "friendly clean excellent small boutique hotel minutes walk eiffel tour, wonderful breakfast decent prices minibar items, extremely clean safe enviroment updated rooms, lots shops markets 2 block radius, stayed 2 year olds week staff n't friendly boys, price amazing quality hotel,  \n"
     ]
    }
   ],
   "source": [
    "bert_topic_label.get_sample_reviews_for_topic(\n",
    "    topic_review_df=positive_reviews_predicted_topic, topic_nb=0, nb_reviews=3\n",
    ")"
   ]
  }
 ],
 "metadata": {
  "kernelspec": {
   "display_name": "Python 3.9.12 ('tripadvisor-hotel-reviews-topic-modeling-VksP-CQw-py3.9')",
   "language": "python",
   "name": "python3"
  },
  "language_info": {
   "codemirror_mode": {
    "name": "ipython",
    "version": 3
   },
   "file_extension": ".py",
   "mimetype": "text/x-python",
   "name": "python",
   "nbconvert_exporter": "python",
   "pygments_lexer": "ipython3",
   "version": "3.9.12"
  },
  "orig_nbformat": 4,
  "vscode": {
   "interpreter": {
    "hash": "26cbd5b9630dcde87e7501177eba94c03da3ad7c83ad604e21e2e408d400f1e6"
   }
  }
 },
 "nbformat": 4,
 "nbformat_minor": 2
}
